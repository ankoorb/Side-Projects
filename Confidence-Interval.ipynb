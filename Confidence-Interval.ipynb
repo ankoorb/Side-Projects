{
 "cells": [
  {
   "cell_type": "markdown",
   "metadata": {},
   "source": [
    "### Bootstrap Confidence Intervals\n",
    "\n",
    "- Bootstrap: Resample (with replacement) the data a number of times and calculate the statistic of interest"
   ]
  },
  {
   "cell_type": "code",
   "execution_count": 58,
   "metadata": {},
   "outputs": [],
   "source": [
    "import numpy as np\n",
    "import pandas as pd\n",
    "\n",
    "from scipy.stats import norm\n",
    "from sklearn.utils import resample\n",
    "from sklearn.metrics import accuracy_score\n",
    "from sklearn.tree import DecisionTreeClassifier\n",
    "\n",
    "# Using statsmodel\n",
    "from statsmodels.stats.proportion import proportion_confint\n",
    "from statsmodels.stats.proportion import multinomial_proportions_confint"
   ]
  },
  {
   "cell_type": "code",
   "execution_count": 3,
   "metadata": {},
   "outputs": [],
   "source": [
    "df = pd.read_csv('./pima-indians-diabetes.txt', header=None)\n",
    "values = df.values"
   ]
  },
  {
   "cell_type": "code",
   "execution_count": 31,
   "metadata": {},
   "outputs": [
    {
     "name": "stdout",
     "output_type": "stream",
     "text": [
      "99.0 Empirical C.I. for accuracy: 63.73296032787641 - 74.13435444271605\n"
     ]
    }
   ],
   "source": [
    "# Bootstrap\n",
    "n_iterations = 100\n",
    "n_size = int(len(df) * 0.5)\n",
    "\n",
    "stats = []\n",
    "for i in range(n_iterations):\n",
    "    train = resample(values, n_samples=n_size)\n",
    "    test = np.array([x for x in values if x.tolist() not in train.tolist()])\n",
    "    model = DecisionTreeClassifier()\n",
    "    model.fit(train[:,:-1], train[:,-1])\n",
    "    pred = model.predict(test[:,:-1])\n",
    "    acc = accuracy_score(test[:,-1], pred)\n",
    "    stats.append(acc)\n",
    "    \n",
    "# Calculate accuracy C.I.\n",
    "alpha = 0.99\n",
    "p = ((1.0 - alpha) / 2) * 100\n",
    "lower = max(0.0, np.percentile(stats, p))\n",
    "p = (alpha + (1 - alpha) / 2) * 100\n",
    "upper = min(1.0, np.percentile(stats, p))\n",
    "print('{} Empirical C.I. for accuracy: {} - {}'.format(alpha*100, lower*100, upper*100))"
   ]
  },
  {
   "cell_type": "markdown",
   "metadata": {},
   "source": [
    "### Annotation Error\n",
    "\n",
    "- Consider a user with an error of 0.2 on HoneyPot dataset with 100 examples\n",
    "- Z score values when using 95% C.I. are -1.96 and 1.96. The associated p-value with 95% C.I. is 0.05\n",
    "\n",
    "$$\\widehat{p} \\pm z \\sqrt{\\frac{\\widehat{p}(1-\\widehat{p})}{n}}$$"
   ]
  },
  {
   "cell_type": "code",
   "execution_count": 86,
   "metadata": {},
   "outputs": [
    {
     "name": "stdout",
     "output_type": "stream",
     "text": [
      "95% C.I.:  (0.7216014406183979, 0.8783985593816022)\n",
      "\n",
      "n_sample: 100 -> lower: 0.7216014406183979 and upper: 0.8783985593816022\n",
      "n_sample: 75 -> lower: 0.7094731412739064 and upper: 0.8905268587260937\n",
      "n_sample: 50 -> lower: 0.6891276940520258 and upper: 0.9108723059479743\n",
      "n_sample: 30 -> lower: 0.6568644685026275 and upper: 0.9431355314973726\n",
      "n_sample: 25 -> lower: 0.6432028812367957 and upper: 0.9567971187632044\n",
      "n_sample: 20 -> lower: 0.6246954918846838 and upper: 0.9753045081153163\n",
      "n_sample: 15 -> lower: 0.5975757900989345 and upper: 1.0\n",
      "n_sample: 10 -> lower: 0.5520819870781755 and upper: 1.0\n"
     ]
    }
   ],
   "source": [
    "alpha = 0.95\n",
    "n_sample = 100\n",
    "z_score = norm.ppf(1-(1-alpha)/2)  # Incorporating ignored lower tail\n",
    "accuracy = 0.8\n",
    "\n",
    "def confidence_interval(accuracy, n_sample, z_score):\n",
    "    std_error = z_score * np.sqrt((accuracy * (1.0 - accuracy)) / n_sample)\n",
    "    lower = max(0.0, accuracy - std_error)\n",
    "    upper = min(1.0, accuracy + std_error)\n",
    "    return lower, upper\n",
    "\n",
    "print('95% C.I.: ', confidence_interval(accuracy, n_sample, z_score))\n",
    "print()\n",
    "\n",
    "for n in [100, 75, 50, 30, 25, 20, 15, 10]:\n",
    "    l, u = confidence_interval(accuracy, n, z_score)\n",
    "    print('n_sample: {} -> lower: {} and upper: {}'.format(n, l, u))"
   ]
  },
  {
   "cell_type": "code",
   "execution_count": 61,
   "metadata": {},
   "outputs": [
    {
     "name": "stdout",
     "output_type": "stream",
     "text": [
      "0.7685216189135128 1.0\n"
     ]
    }
   ],
   "source": [
    "# Statsmodel: It is one-liner\n",
    "alpha = 0.05  # Level of significance: 1.0 - 0.95 \n",
    "correct = 18\n",
    "n_observations = 20\n",
    "\n",
    "lower, upper = proportion_confint(correct, n_observations, alpha=alpha)\n",
    "print(lower, upper)  # NOTE: default method = 'normal'"
   ]
  },
  {
   "cell_type": "markdown",
   "metadata": {},
   "source": [
    "#### Wilson Score Interval\n",
    "\n",
    "$$\\frac{\\widehat{p} + \\frac{z^2}{2n}}{1+\\frac{z^2}{n}} \\pm \\frac{z}{1+\\frac{z^2}{n}}\\sqrt{\\frac{\\widehat{p}(1-\\widehat{p})}{n}+\\frac{z^2}{4n^2}}$$\n"
   ]
  },
  {
   "cell_type": "code",
   "execution_count": 62,
   "metadata": {},
   "outputs": [
    {
     "name": "stdout",
     "output_type": "stream",
     "text": [
      "0.6989663547715127 0.9721335187862318\n"
     ]
    }
   ],
   "source": [
    "def wilson_score_interval(accuracy, n_sample, z_score):\n",
    "    pass\n",
    "\n",
    "alpha = 0.05  # Level of significance: 1.0 - 0.95 \n",
    "correct = 18\n",
    "n_observations = 20\n",
    "\n",
    "lower, upper = proportion_confint(correct, n_observations, alpha=alpha, method='wilson')\n",
    "print(lower, upper)  "
   ]
  },
  {
   "cell_type": "code",
   "execution_count": 63,
   "metadata": {},
   "outputs": [
    {
     "name": "stdout",
     "output_type": "stream",
     "text": [
      "0.6867561125596074 0.984343760998137\n"
     ]
    }
   ],
   "source": [
    "# Agresti-Coull interval\n",
    "\n",
    "alpha = 0.05  # Level of significance: 1.0 - 0.95 \n",
    "correct = 18\n",
    "n_observations = 20\n",
    "\n",
    "lower, upper = proportion_confint(correct, n_observations, alpha=alpha, method='agresti_coull')\n",
    "print(lower, upper) "
   ]
  },
  {
   "cell_type": "markdown",
   "metadata": {},
   "source": [
    "### A user annotates 75 images with 3 classes (25 images in each class) out of total 150 HoneyPot images. Find `Confidence Interval` of accuracy for each class"
   ]
  },
  {
   "cell_type": "code",
   "execution_count": 155,
   "metadata": {},
   "outputs": [
    {
     "name": "stdout",
     "output_type": "stream",
     "text": [
      "Class-0 accuracy C.I.: 0.9023088670895956 and 0.9360911329104045\n",
      "Class-1 accuracy C.I.: 0.6947133702534037 and 0.7502199630799294\n",
      "Class-2 accuracy C.I.: 0.6558679838820715 and 0.7134653494512618\n"
     ]
    }
   ],
   "source": [
    "# User annotations\n",
    "class_1 = np.random.choice([0, 1], size=25, p=[0.2, 0.8])  # 80 % correct\n",
    "class_2 = np.random.choice([0, 1], size=25, p=[0.17, 0.83])  # 83 % correct\n",
    "class_3 = np.random.choice([0, 1], size=25, p=[0.3, 0.7])  # 70 % correct\n",
    "\n",
    "# Bootstrap\n",
    "def bootstrap(annotation, n_iterations=1000, n_samples=15):\n",
    "    stats = []\n",
    "    correct = []\n",
    "    for i in range(n_iterations):\n",
    "        temp = resample(annotation, n_samples=n_samples)\n",
    "        accuracy = np.sum(temp)/float(n_samples)\n",
    "        stats.append(accuracy)\n",
    "        correct.append(np.sum(temp))\n",
    "    return np.array(stats), np.array(correct)\n",
    "\n",
    "class_1_bs, correct_1 = bootstrap(class_1)\n",
    "class_2_bs, correct_2 = bootstrap(class_2)\n",
    "class_3_bs, correct_3 = bootstrap(class_3)\n",
    "\n",
    "# Calculate mean accuracy\n",
    "class_1_acc = np.mean(class_1_bs)\n",
    "class_2_acc = np.mean(class_2_bs)\n",
    "class_3_acc = np.mean(class_3_bs)\n",
    "\n",
    "alpha = 0.95\n",
    "n_sample = 1000  # It should be equal to n_iterations\n",
    "z_score = norm.ppf(1-(1-alpha)/2)\n",
    "for i, acc in enumerate([class_1_acc, class_2_acc, class_3_acc]):\n",
    "    lower, upper = confidence_interval(acc, n_sample, z_score)\n",
    "    print('Class-{} accuracy C.I.: {} and {}'.format(i, lower, upper))"
   ]
  },
  {
   "cell_type": "code",
   "execution_count": 156,
   "metadata": {},
   "outputs": [
    {
     "name": "stdout",
     "output_type": "stream",
     "text": [
      "Method: \"normal\" Class-0 accuracy C.I.: 0.9148387282359618 and 0.9235612717640382\n",
      "Method: \"wilson\" Class-0 accuracy C.I.: 0.9147306374845545 and 0.9234547055501536\n",
      "Method: \"agresti_coull\" Class-0 accuracy C.I.: 0.9147293176058364 and 0.9234560254288717\n",
      "Method: \"beta\" Class-0 accuracy C.I.: 0.9147236114531655 and 0.9235129977659319\n",
      "Method: \"jeffreys\" Class-0 accuracy C.I.: 0.914757758550864 and 0.9234804912757516\n",
      "Method: \"binom_test\" Class-0 accuracy C.I.: 0.9147082353114473 and 0.9234748002179807\n",
      "\n",
      "Method: \"normal\" Class-1 accuracy C.I.: 0.7153007963459384 and 0.729632536987395\n",
      "Method: \"wilson\" Class-1 accuracy C.I.: 0.715244528838758 and 0.7295748874632174\n",
      "Method: \"agresti_coull\" Class-1 accuracy C.I.: 0.7152443025087176 and 0.7295751137932578\n",
      "Method: \"beta\" Class-1 accuracy C.I.: 0.7152247851262975 and 0.7296221762305688\n",
      "Method: \"jeffreys\" Class-1 accuracy C.I.: 0.7152583769773079 and 0.7295891143265029\n",
      "Method: \"binom_test\" Class-1 accuracy C.I.: 0.715237414571519 and 0.729604433461255\n",
      "\n",
      "Method: \"normal\" Class-2 accuracy C.I.: 0.6772308787455035 and 0.6921024545878298\n",
      "Method: \"wilson\" Class-2 accuracy C.I.: 0.6771843998526332 and 0.6920543724447812\n",
      "Method: \"agresti_coull\" Class-2 accuracy C.I.: 0.6771842495596565 and 0.6920545227377579\n",
      "Method: \"beta\" Class-2 accuracy C.I.: 0.6771622608214186 and 0.6920993921525309\n",
      "Method: \"jeffreys\" Class-2 accuracy C.I.: 0.6771957996692297 and 0.6920662772400819\n",
      "Method: \"binom_test\" Class-2 accuracy C.I.: 0.677170050752163 and 0.6920703132349114\n",
      "\n"
     ]
    }
   ],
   "source": [
    "n_observations = 1000 * 15\n",
    "alpha = 0.05  # Level of significance: 1.0 - 0.95\n",
    "\n",
    "for i, corr in enumerate([correct_1, correct_2, correct_3]):\n",
    "    for m in ['normal', 'wilson', 'agresti_coull', 'beta', 'jeffreys', 'binom_test']:\n",
    "        lower, upper = proportion_confint(np.sum(corr), n_observations, alpha=alpha, method=m)\n",
    "        print('Method: \"{}\" Class-{} accuracy C.I.: {} and {}'.format(m, i, lower, upper))\n",
    "    print()"
   ]
  },
  {
   "cell_type": "markdown",
   "metadata": {},
   "source": [
    "### Multinomial Proportions Confint"
   ]
  },
  {
   "cell_type": "code",
   "execution_count": 65,
   "metadata": {},
   "outputs": [
    {
     "data": {
      "text/plain": [
       "array([[0.11133872, 0.44973797],\n",
       "       [0.15300691, 0.51134585],\n",
       "       [0.26961394, 0.652929  ]])"
      ]
     },
     "execution_count": 65,
     "metadata": {},
     "output_type": "execute_result"
    }
   ],
   "source": [
    "# Problem: A vector of positive integers representing the number of occurrences of \n",
    "# each class. The total number of samples equals the sum of such elements.\n",
    "\n",
    "correct = np.array([8, 10, 15])  \n",
    "alpha = 0.05\n",
    "conf_int = multinomial_proportions_confint(correct, alpha=alpha)\n",
    "conf_int"
   ]
  },
  {
   "cell_type": "code",
   "execution_count": null,
   "metadata": {},
   "outputs": [],
   "source": []
  }
 ],
 "metadata": {
  "kernelspec": {
   "display_name": "Python 3",
   "language": "python",
   "name": "python3"
  },
  "language_info": {
   "codemirror_mode": {
    "name": "ipython",
    "version": 3
   },
   "file_extension": ".py",
   "mimetype": "text/x-python",
   "name": "python",
   "nbconvert_exporter": "python",
   "pygments_lexer": "ipython3",
   "version": "3.6.5"
  }
 },
 "nbformat": 4,
 "nbformat_minor": 2
}
