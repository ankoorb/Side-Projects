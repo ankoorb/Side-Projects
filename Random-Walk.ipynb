{
 "cells": [
  {
   "cell_type": "markdown",
   "metadata": {},
   "source": [
    "## Random Walk Monte Carlo Simulation\n",
    "\n",
    "There is a lost tourist in NYC. The streets in NYC run east to west and go from ..., S. 2nd St., S. 1st St., Broadway St., N. 1st St., N. 2nd St., ...   The avenues run north to south and go from ..., E. 2nd Ave., E. 1st Ave., Broadway Ave., W. 1st Ave., W. 2nd Ave., ...  These streets form a square block grid. The tourist starts at the intersection of Broadway St. and Broadway Avenue (origin) and moves one block in each of the four cardinal directions with equal probability.\n",
    "\n",
    "---\n",
    "\n",
    "1. What is the probability that the tourist is at least \"n\" blocks from origin after \"m\" moves\n",
    "2. What is the probability that the tourist is \"ever\" at least \"n\" blocks from origin within \"m\" moves"
   ]
  },
  {
   "cell_type": "code",
   "execution_count": 2,
   "metadata": {
    "collapsed": true
   },
   "outputs": [],
   "source": [
    "import random\n",
    "import numpy as np"
   ]
  },
  {
   "cell_type": "code",
   "execution_count": 1,
   "metadata": {
    "collapsed": false
   },
   "outputs": [
    {
     "name": "stdout",
     "output_type": "stream",
     "text": [
      "Probability that tourist is at least 3 blocks from origin after 10 moves is 0.4574\n",
      "Probability that tourist is at least 10 blocks from origin after 60 moves is 0.2035\n"
     ]
    }
   ],
   "source": [
    "## What is the probability that the tourist is at least \"n\" blocks from origin after \"m\" moves\n",
    "def simulate_random_walk(n_sim, n_moves, n_blocks):\n",
    "    distance = []\n",
    "    for i in range(n_sim):\n",
    "        moves = ['N', 'S', 'E', 'W'] \n",
    "        path = []\n",
    "        for j in range(n_moves):\n",
    "            path.append(random.choice(moves)) # Randomly pick a direction move from moves and append to path list\n",
    "        # Calculate distance between tourists location at n_moves and origin \n",
    "        x = path.count('E') + (path.count('W') * -1) # Calculate x coordinate\n",
    "        y = path.count('N') + (path.count('S') * -1) # Calculate y coordinate \n",
    "        d = np.sqrt(x**2 + y**2) # Calculate distance\n",
    "        # Check condition: if distance >= n_blocks\n",
    "        if d >= n_blocks:\n",
    "            distance.append(d)\n",
    "    \n",
    "    prob = len(distance)/float(n_sim)\n",
    "    print 'Probability that tourist is at least {} blocks from origin after {} moves is {}'.format(n_blocks, n_moves, prob)\n",
    "    \n",
    "simulate_random_walk(10000, 10, 3)\n",
    "simulate_random_walk(10000, 60, 10)"
   ]
  },
  {
   "cell_type": "code",
   "execution_count": 51,
   "metadata": {
    "collapsed": false
   },
   "outputs": [
    {
     "name": "stdout",
     "output_type": "stream",
     "text": [
      "Probability that tourist is ever at least 5 blocks from origin within 10 moves is 0.1325\n",
      "Probability that tourist is ever at least 10 blocks from origin within 60 moves is 0.3234\n"
     ]
    }
   ],
   "source": [
    "## What is the probability that the tourist is \"ever\" at least \"n\" blocks from origin within \"m\" moves\n",
    "# If tourist leaves \"n\" blocks radius and returns within the radius within \"m\" moves: do not count this event\n",
    "# If tourist leaves \"n\" blocks radius and remains outside \"n\" blocks radius at the end \"m\" moves: count this event\n",
    "\n",
    "def simulate_random_walk_ever(n_sim, n_moves, n_blocks):\n",
    "    count = []\n",
    "    for i in range(n_sim):\n",
    "        moves = ['N', 'S', 'E', 'W'] \n",
    "        path = []\n",
    "        for j in range(n_moves):\n",
    "            path.append(random.choice(moves)) # Randomly pick a direction move from moves and append to path list\n",
    "            # Calculate distance between tourists location at n_moves and origin \n",
    "            x = path.count('E') + (path.count('W') * -1) # Calculate x coordinate\n",
    "            y = path.count('N') + (path.count('S') * -1) # Calculate y coordinate \n",
    "            d = np.sqrt(x**2 + y**2) # Calculate distance\n",
    "            # Check condition: if distance >= n_blocks\n",
    "            if d >= n_blocks:\n",
    "                count.append(i) # Only i's when distance >= n_blocks are appended\n",
    "\n",
    "    prob = len(set(count))/float(n_sim)\n",
    "    print 'Probability that tourist is ever at least {} blocks from origin within {} moves is {}'.format(n_blocks, n_moves, prob)\n",
    "\n",
    "simulate_random_walk_ever(10000, 10, 5)\n",
    "simulate_random_walk_ever(10000, 60, 10)"
   ]
  }
 ],
 "metadata": {
  "kernelspec": {
   "display_name": "Python 2",
   "language": "python",
   "name": "python2"
  },
  "language_info": {
   "codemirror_mode": {
    "name": "ipython",
    "version": 2
   },
   "file_extension": ".py",
   "mimetype": "text/x-python",
   "name": "python",
   "nbconvert_exporter": "python",
   "pygments_lexer": "ipython2",
   "version": "2.7.11"
  }
 },
 "nbformat": 4,
 "nbformat_minor": 0
}
