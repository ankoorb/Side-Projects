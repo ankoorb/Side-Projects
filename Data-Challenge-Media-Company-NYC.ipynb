{
 "cells": [
  {
   "cell_type": "markdown",
   "metadata": {},
   "source": [
    "### Answers\n",
    "\n",
    "> **1. Summary**\n",
    "\n",
    "The (initial) exploration of data indicates that the likelihood (click rate) of a user viewing a link they receive has not changed over the three months. And to increase revenue the internet media company should send out more personalized daily digest emails between 9 AM and 11 AM, because users are most active during this 2 hour window.\n",
    "\n",
    "> **2. Detailed Assessment**\n",
    "\n",
    "- Calculated Link Click Rate defined as follows: \n",
    "$$\\text{Click Rate}_{timeperiod} = \\frac{\\text{Number of Article Links Clicked}_{timeperiod}}{\\text{Number of Articles Sent}_{timeperiod}}$$\n",
    "\n",
    "- Montly Link Click Rate did not change over the 3 months as shown below:\n",
    "    - January Link Click Rate = 0.165758\n",
    "    - February Link Click Rate = 0.164100\n",
    "    - March Link Click Rate = 0.164709\n",
    "    \n",
    "- Calculated Link Click Rate by Day. Then Performed a two-sided test for the null hypothesis that 2 independent samples (here I have assumed that the 2 samples are independent) have identical expected rate ($E[\\text{Click Rate}]$), i.e. $E[\\text{Click Rate}_{January}] = E[\\text{Click Rate}_{March}]$\n",
    "    - t-test statistic = 0.752735291122\n",
    "    - p-value = 0.45620901575\n",
    "    - $\\text{p-value} > \\alpha = 0.05$, thus this suggests that the two click rates (January click rate and March click rate) have identical expected rate. i.e. $E[\\text{Click Rate}_{January}] = E[\\text{Click Rate}_{March}]$\n",
    "    - *The test suggests that the likelihood (or fraction or rate) of a user viewing a link they receive has not changed over the three months. However this result is based on aggregating rates of all users. A more micro level exploration will reveal the users that have an increased or decreased link viewing rate.*\n",
    "\n",
    "> **3. Tools Used**\n",
    "\n",
    "- Python (IPython Notebook), and some of the Python Packages I used are:\n",
    "    - Numpy\n",
    "    - Scipy\n",
    "    - Pandas\n",
    "    - Regular Expression\n",
    "    - SQLAlchemy\n",
    "    - Matplotlib\n",
    "    - Seaborn\n",
    "    - Datetime\n",
    "\n",
    "> **4. Techniques Tried**\n",
    "\n",
    "- Parsing *Apache Access Log* using Regular Expression\n",
    "- Group By aggregations using SQLAlchemy and Pandas\n",
    "- Fraction (rate) calculations\n",
    "- Plotting data\n",
    "- t-test for hypothesis testing\n",
    "\n",
    "> **5. Three Plots that explain data**\n",
    "\n",
    "- **Click Rate Vs Date** plot (below) shows that users link click rate has not changed during the months of January, February and March. It is very obvious from the plot that users are not clicking links during the weekends (Does this suggest that the internet media company is sending emails to users work email address?). [Click Rate Vs Date](#Click-Rate-Vs-Date)\n",
    "\n",
    "- **Number of Articles Sent By Hour** plot (below) shows the sending out pattern of personalized daily digest emails by the internet media company. It can be observed that majority of daily digest emails are sent during first 4 hours of the work time (8 AM to Noon) with most emails sent at 8 AM. The afternoon email sending out activity is very low (Does this suggest that internet media company publishers/employees are not being productive?). [Number of Articles Sent By Hour](#Number-of-Articles-Sent-By-Hour)\n",
    "\n",
    "\n",
    "- **Number of Article Links Clicked By Hour** plot (below) shows the link click pattern of users. It can be observed that users are most active (clicking links) between 9 AM and 11 AM. [Number of Article Links Clicked By Hour](#Number-of-Article-Links-Clicked-By-Hour)\n",
    "\n",
    "\n",
    "> **6. Commercial Recommendation for Business Unit Heads**\n",
    "\n",
    "The internet media company should send out more personalized daily digest emails between 9 AM and 11 AM, because users are most active during this 2 hour window (One possible reason would be users are taking a break from work). This action has potential to increase revenue.\n",
    "\n",
    "> **7. Additional Data and Questions that additional data can help answer**\n",
    "\n",
    "- Data on \"How much time does a user spend on links by topic and type?\"\n",
    "    - Difficult to get because some users may leave the link open for a long time (this can cause outlier problems)\n",
    "    - This data can help in improving recommendations of right content to send to users\n",
    "    \n",
    "- Data on \"When and on which topics/types changes (and other changes) that are being made by the company?\"\n",
    "    - This data can help one to understand user behavior to changes so that improvements to recommendations of right content to send to users can be made.\n",
    "    \n",
    "- I have just barely scratched the surface of current given data. Using this data one can find out what topic/type links a user clicks on (i.e. a user is interested in). Based on this information of user interests and other relevant features, a user similarity score (euclidean or manhattan or cosine distances) can be calculated. Eventually this user similarity score can be used for developing a recommendation system."
   ]
  },
  {
   "cell_type": "code",
   "execution_count": 1,
   "metadata": {
    "collapsed": true
   },
   "outputs": [],
   "source": [
    "%matplotlib inline\n",
    "\n",
    "import numpy as np\n",
    "import pandas as pd\n",
    "import scipy as sp\n",
    "from sqlalchemy import create_engine\n",
    "import sqlite3\n",
    "\n",
    "import re\n",
    "import datetime\n",
    "import matplotlib.pyplot as plt\n",
    "from matplotlib.dates import DayLocator\n",
    "import seaborn as sns\n",
    "#sns.set_style(\"whitegrid\")\n",
    "sns.set_context(\"poster\")"
   ]
  },
  {
   "cell_type": "markdown",
   "metadata": {
    "collapsed": true
   },
   "source": [
    "## Parsing Apache Access Log\n",
    "\n",
    "- Contains user clickstreams: for each click on an article link by a user, there is a row in the log file\n",
    "- File format\n",
    "```python\n",
    "[%t]\"GET /click?article_id= %d1 &user_id=%d2 HTTP/1.0\"%b%d3\n",
    "```\n",
    "- %t = time (EST)\n",
    "- %d1 = article id\n",
    "- %d2 = user id\n",
    "- %b = status code that the server sends the client\n",
    "- %d = byte size of the content returned by server\n",
    "\n",
    "Example of a log line:\n",
    "```\n",
    "[01/Apr/2015:15:25:51] \"GET /click?article_id=16973&user_id=15876 HTTP/1.1\" 200 2495 \n",
    "```\n",
    "\n",
    "[Apache Access Log](https://httpd.apache.org/docs/2.2/logs.html#accesslog)"
   ]
  },
  {
   "cell_type": "code",
   "execution_count": 2,
   "metadata": {
    "collapsed": false
   },
   "outputs": [
    {
     "name": "stdout",
     "output_type": "stream",
     "text": [
      "Match:  ('01/Apr/2015:15:25:51', 'GET', '/click?article_id=16973&user_id=15876', 'HTTP/1.1', '200', '2495')\n",
      "Article User String:  /click?article_id=16973&user_id=15876\n",
      "Article Id:  16973\n",
      "User Id:  15876\n"
     ]
    }
   ],
   "source": [
    "# Test to extract log data using regular expression (http://pythex.org/)\n",
    "log_pattern = '^\\[([\\w:/]+)\\] \"(\\S*) (\\S*) (\\S*)\" (\\d{3}) (\\S+)' \n",
    "\n",
    "s = '[01/Apr/2015:15:25:51] \"GET /click?article_id=16973&user_id=15876 HTTP/1.1\" 200 2495'\n",
    "m = re.search(log_pattern, s)\n",
    "print 'Match: ', m.groups()\n",
    "print 'Article User String: ', m.group(3)\n",
    "print 'Article Id: ', re.findall(r'\\d+', m.group(3))[0]\n",
    "print 'User Id: ', re.findall(r'\\d+', m.group(3))[1]"
   ]
  },
  {
   "cell_type": "code",
   "execution_count": 3,
   "metadata": {
    "collapsed": false
   },
   "outputs": [
    {
     "name": "stdout",
     "output_type": "stream",
     "text": [
      "2015-04-01 15:25:51\n"
     ]
    }
   ],
   "source": [
    "# Apache time format: [day/month/year:hour:minute:second] \n",
    "\n",
    "# Month map\n",
    "month_map = {'Jan': 1, 'Feb': 2, 'Mar':3, 'Apr':4, 'May':5, 'Jun':6, 'Jul':7, 'Aug':8,  'Sep': 9, 'Oct':10, 'Nov': 11, 'Dec': 12}\n",
    "\n",
    "# Function to convert Apache time format to Python datetime object\n",
    "def parse_apache_time(str_):\n",
    "    '''\n",
    "    Args: \n",
    "        str_ : date and time in apache time format\n",
    "    Returns: \n",
    "        datetime: python datetime object ('%Y-%m-%d %H:%M:%S.%f')\n",
    "    '''\n",
    "    Y = int(str_[7:11])\n",
    "    M = int(month_map[str_[3:6]])\n",
    "    D = int(str_[0:2])\n",
    "    h = int(str_[12:14])\n",
    "    m = int(str_[15:17])\n",
    "    s = int(str_[18:20])\n",
    "    return datetime.datetime(Y, M, D, h, m, s)\n",
    "    \n",
    "print parse_apache_time('01/Apr/2015:15:25:51')"
   ]
  },
  {
   "cell_type": "code",
   "execution_count": 4,
   "metadata": {
    "collapsed": false
   },
   "outputs": [
    {
     "name": "stdout",
     "output_type": "stream",
     "text": [
      "Test:  (datetime.datetime(2015, 4, 1, 15, 25, 51), 16973, 15876, 200, 2495)\n"
     ]
    }
   ],
   "source": [
    "log_pattern = '^\\[([\\w:/]+)\\] \"(\\S*) (\\S*) (\\S*)\" (\\d{3}) (\\S+)' \n",
    "\n",
    "def parse_apache_log_line(log_pattern, log_line):\n",
    "    '''\n",
    "    Args:\n",
    "        log_line (str): a line of text in the apache log format\n",
    "        log_pattern: a regular expression pattern\n",
    "    Returns:\n",
    "        tuple of date time, article id, user id, status code, byte size\n",
    "    '''\n",
    "    match = re.search(log_pattern, log_line)\n",
    "    date_time = parse_apache_time(match.group(1))\n",
    "    article_user_str = match.group(3)\n",
    "    # Extract: article id and user id from article_user_str\n",
    "    temp = re.findall(r'\\d+', article_user_str)\n",
    "    article_id = int(temp[0])\n",
    "    user_id = int(temp[1])\n",
    "    status_code = int(match.group(5))\n",
    "    byte_size = int(match.group(6))\n",
    "    return (date_time, article_id, user_id, status_code, byte_size)\n",
    "\n",
    "print 'Test: ', parse_apache_log_line(log_pattern, s)"
   ]
  },
  {
   "cell_type": "code",
   "execution_count": 5,
   "metadata": {
    "collapsed": false
   },
   "outputs": [
    {
     "data": {
      "text/html": [
       "<div style=\"max-height:1000px;max-width:1500px;overflow:auto;\">\n",
       "<table border=\"1\" class=\"dataframe\">\n",
       "  <thead>\n",
       "    <tr style=\"text-align: right;\">\n",
       "      <th></th>\n",
       "      <th>date_time</th>\n",
       "      <th>article_id</th>\n",
       "      <th>user_id</th>\n",
       "      <th>status_code</th>\n",
       "      <th>byte_size</th>\n",
       "    </tr>\n",
       "  </thead>\n",
       "  <tbody>\n",
       "    <tr>\n",
       "      <th>0</th>\n",
       "      <td>2015-01-02 08:07:32</td>\n",
       "      <td> 162</td>\n",
       "      <td>  5475</td>\n",
       "      <td> 200</td>\n",
       "      <td> 4352</td>\n",
       "    </tr>\n",
       "    <tr>\n",
       "      <th>1</th>\n",
       "      <td>2015-01-02 08:08:43</td>\n",
       "      <td> 139</td>\n",
       "      <td> 19550</td>\n",
       "      <td> 200</td>\n",
       "      <td> 3078</td>\n",
       "    </tr>\n",
       "    <tr>\n",
       "      <th>2</th>\n",
       "      <td>2015-01-02 08:09:01</td>\n",
       "      <td>  87</td>\n",
       "      <td>  9408</td>\n",
       "      <td> 200</td>\n",
       "      <td> 2005</td>\n",
       "    </tr>\n",
       "  </tbody>\n",
       "</table>\n",
       "</div>"
      ],
      "text/plain": [
       "            date_time  article_id  user_id  status_code  byte_size\n",
       "0 2015-01-02 08:07:32         162     5475          200       4352\n",
       "1 2015-01-02 08:08:43         139    19550          200       3078\n",
       "2 2015-01-02 08:09:01          87     9408          200       2005"
      ]
     },
     "execution_count": 5,
     "metadata": {},
     "output_type": "execute_result"
    }
   ],
   "source": [
    "# Read access.log and save as *.csv\n",
    "with open(\"data/access.log\", \"r\") as in_:\n",
    "    out_ = []\n",
    "    for line in in_:\n",
    "        out_.append(parse_apache_log_line(log_pattern, line))\n",
    "        \n",
    "df = pd.DataFrame(out_, columns = ['date_time', 'article_id', 'user_id', 'status_code', 'byte_size'])\n",
    "\n",
    "# Uncomment the line below to save as csv\n",
    "#df.to_csv(\"data/accessLog.csv\", index = False)\n",
    "df.head(3)"
   ]
  },
  {
   "cell_type": "code",
   "execution_count": 6,
   "metadata": {
    "collapsed": false
   },
   "outputs": [
    {
     "name": "stdout",
     "output_type": "stream",
     "text": [
      "[200 400]\n"
     ]
    }
   ],
   "source": [
    "print df['status_code'].unique()"
   ]
  },
  {
   "cell_type": "markdown",
   "metadata": {},
   "source": [
    "There are 2 status codes in the clickstream log data:\n",
    "- 200: OK, i.e. the request was received and understood and is being processed\n",
    "- 400: Bad Request, i.e. the server did not understand the request due to bad syntax."
   ]
  },
  {
   "cell_type": "code",
   "execution_count": 7,
   "metadata": {
    "collapsed": false
   },
   "outputs": [
    {
     "name": "stdout",
     "output_type": "stream",
     "text": [
      "             date_time  article_id  user_id  byte_size\n",
      "status_code                                           \n",
      "200            1762015     1762015  1762015    1762015\n",
      "400               8766        8766     8766       8766\n"
     ]
    }
   ],
   "source": [
    "print df.groupby('status_code').count()"
   ]
  },
  {
   "cell_type": "markdown",
   "metadata": {},
   "source": [
    "<font color=red>Number of Bad Requests: 8766</font>"
   ]
  },
  {
   "cell_type": "code",
   "execution_count": 8,
   "metadata": {
    "collapsed": false
   },
   "outputs": [
    {
     "data": {
      "image/png": "[encoded data removed]",
      "text/plain": [
       "<matplotlib.figure.Figure at 0x1024b9850>"
      ]
     },
     "metadata": {},
     "output_type": "display_data"
    }
   ],
   "source": [
    "# Histogram of byte size\n",
    "sns.distplot(df['byte_size']/1000.0, bins = 20, kde = False, rug = False, color = 'r')\n",
    "plt.xlabel('Byte Size (Kb)', fontsize = 16)\n",
    "plt.ylabel('Frequency', fontsize = 16)\n",
    "plt.tick_params(axis = 'both', which = 'major', labelsize = 14)"
   ]
  },
  {
   "cell_type": "code",
   "execution_count": 9,
   "metadata": {
    "collapsed": false
   },
   "outputs": [
    {
     "data": {
      "image/png": "[encoded data removed]",
      "text/plain": [
       "<matplotlib.figure.Figure at 0x109f90590>"
      ]
     },
     "metadata": {},
     "output_type": "display_data"
    }
   ],
   "source": [
    "# Histogram of user id\n",
    "sns.distplot(df['user_id'], bins = 100, kde = False, rug = False, color = 'g')\n",
    "plt.xlabel('User Ids', fontsize = 16)\n",
    "plt.ylabel('Frequency', fontsize = 16)\n",
    "plt.tick_params(axis = 'both', which = 'major', labelsize = 14)"
   ]
  },
  {
   "cell_type": "code",
   "execution_count": 10,
   "metadata": {
    "collapsed": false
   },
   "outputs": [
    {
     "data": {
      "text/html": [
       "<div style=\"max-height:1000px;max-width:1500px;overflow:auto;\">\n",
       "<table border=\"1\" class=\"dataframe\">\n",
       "  <thead>\n",
       "    <tr style=\"text-align: right;\">\n",
       "      <th></th>\n",
       "      <th>date_time</th>\n",
       "      <th>article_id</th>\n",
       "      <th>user_id</th>\n",
       "    </tr>\n",
       "  </thead>\n",
       "  <tbody>\n",
       "    <tr>\n",
       "      <th>0</th>\n",
       "      <td>2015-01-02 08:07:32</td>\n",
       "      <td> 162</td>\n",
       "      <td>  5475</td>\n",
       "    </tr>\n",
       "    <tr>\n",
       "      <th>1</th>\n",
       "      <td>2015-01-02 08:08:43</td>\n",
       "      <td> 139</td>\n",
       "      <td> 19550</td>\n",
       "    </tr>\n",
       "    <tr>\n",
       "      <th>2</th>\n",
       "      <td>2015-01-02 08:09:01</td>\n",
       "      <td>  87</td>\n",
       "      <td>  9408</td>\n",
       "    </tr>\n",
       "  </tbody>\n",
       "</table>\n",
       "</div>"
      ],
      "text/plain": [
       "            date_time  article_id  user_id\n",
       "0 2015-01-02 08:07:32         162     5475\n",
       "1 2015-01-02 08:08:43         139    19550\n",
       "2 2015-01-02 08:09:01          87     9408"
      ]
     },
     "execution_count": 10,
     "metadata": {},
     "output_type": "execute_result"
    }
   ],
   "source": [
    "# Delete 'status_code' and 'byte_size' for the current analysis\n",
    "del df['status_code']\n",
    "del df['byte_size']\n",
    "df.head(3)"
   ]
  },
  {
   "cell_type": "code",
   "execution_count": 11,
   "metadata": {
    "collapsed": false
   },
   "outputs": [
    {
     "name": "stdout",
     "output_type": "stream",
     "text": [
      "2015-01-02 08:07:32\n",
      "2015-04-01 15:25:51\n"
     ]
    }
   ],
   "source": [
    "print df['date_time'].min()\n",
    "print df['date_time'].max()"
   ]
  },
  {
   "cell_type": "markdown",
   "metadata": {},
   "source": [
    "## SQLite DB\n",
    "\n",
    "- **users**\n",
    "- **topics**\n",
    "- **types**\n",
    "- **articles**\n",
    "- **email_content**"
   ]
  },
  {
   "cell_type": "code",
   "execution_count": 12,
   "metadata": {
    "collapsed": false
   },
   "outputs": [],
   "source": [
    "# Initialie database\n",
    "db = create_engine('sqlite:///data/contentDiscovery.db')"
   ]
  },
  {
   "cell_type": "markdown",
   "metadata": {},
   "source": [
    "#### Populating SQLite DB with Pandas"
   ]
  },
  {
   "cell_type": "code",
   "execution_count": null,
   "metadata": {
    "collapsed": false
   },
   "outputs": [],
   "source": [
    "df.to_sql(\"logs\", db, if_exists = \"append\", index = False)"
   ]
  },
  {
   "cell_type": "code",
   "execution_count": 13,
   "metadata": {
    "collapsed": false
   },
   "outputs": [
    {
     "name": "stdout",
     "output_type": "stream",
     "text": [
      "Number of users:  20000\n"
     ]
    },
    {
     "data": {
      "text/html": [
       "<div style=\"max-height:1000px;max-width:1500px;overflow:auto;\">\n",
       "<table border=\"1\" class=\"dataframe\">\n",
       "  <thead>\n",
       "    <tr style=\"text-align: right;\">\n",
       "      <th></th>\n",
       "      <th>user_id</th>\n",
       "      <th>email</th>\n",
       "    </tr>\n",
       "  </thead>\n",
       "  <tbody>\n",
       "    <tr>\n",
       "      <th>19997</th>\n",
       "      <td> 19998</td>\n",
       "      <td>       james.rush@xmssl.com</td>\n",
       "    </tr>\n",
       "    <tr>\n",
       "      <th>19998</th>\n",
       "      <td> 19999</td>\n",
       "      <td>      charles.lee@cxnqx.com</td>\n",
       "    </tr>\n",
       "    <tr>\n",
       "      <th>19999</th>\n",
       "      <td> 20000</td>\n",
       "      <td> arthur.alexander@zgtec.com</td>\n",
       "    </tr>\n",
       "  </tbody>\n",
       "</table>\n",
       "</div>"
      ],
      "text/plain": [
       "       user_id                       email\n",
       "19997    19998        james.rush@xmssl.com\n",
       "19998    19999       charles.lee@cxnqx.com\n",
       "19999    20000  arthur.alexander@zgtec.com"
      ]
     },
     "execution_count": 13,
     "metadata": {},
     "output_type": "execute_result"
    }
   ],
   "source": [
    "# users table\n",
    "users_df = pd.read_sql_query('SELECT * FROM users', db)\n",
    "print 'Number of users: ', users_df.shape[0]\n",
    "users_df.tail(3)"
   ]
  },
  {
   "cell_type": "code",
   "execution_count": 14,
   "metadata": {
    "collapsed": false
   },
   "outputs": [
    {
     "name": "stdout",
     "output_type": "stream",
     "text": [
      "Number of topics:  106\n"
     ]
    },
    {
     "data": {
      "text/html": [
       "<div style=\"max-height:1000px;max-width:1500px;overflow:auto;\">\n",
       "<table border=\"1\" class=\"dataframe\">\n",
       "  <thead>\n",
       "    <tr style=\"text-align: right;\">\n",
       "      <th></th>\n",
       "      <th>topic_id</th>\n",
       "      <th>name</th>\n",
       "    </tr>\n",
       "  </thead>\n",
       "  <tbody>\n",
       "    <tr>\n",
       "      <th>0</th>\n",
       "      <td> 1</td>\n",
       "      <td> Advertising</td>\n",
       "    </tr>\n",
       "    <tr>\n",
       "      <th>1</th>\n",
       "      <td> 2</td>\n",
       "      <td>    Auditing</td>\n",
       "    </tr>\n",
       "    <tr>\n",
       "      <th>2</th>\n",
       "      <td> 3</td>\n",
       "      <td>       Banks</td>\n",
       "    </tr>\n",
       "  </tbody>\n",
       "</table>\n",
       "</div>"
      ],
      "text/plain": [
       "   topic_id         name\n",
       "0         1  Advertising\n",
       "1         2     Auditing\n",
       "2         3        Banks"
      ]
     },
     "execution_count": 14,
     "metadata": {},
     "output_type": "execute_result"
    }
   ],
   "source": [
    "# topics table\n",
    "topics_df = pd.read_sql_query('SELECT * FROM topics', db)\n",
    "print 'Number of topics: ', topics_df.shape[0]\n",
    "topics_df.head(3)"
   ]
  },
  {
   "cell_type": "code",
   "execution_count": 15,
   "metadata": {
    "collapsed": false
   },
   "outputs": [
    {
     "name": "stdout",
     "output_type": "stream",
     "text": [
      "Number of types:  49\n"
     ]
    },
    {
     "data": {
      "text/html": [
       "<div style=\"max-height:1000px;max-width:1500px;overflow:auto;\">\n",
       "<table border=\"1\" class=\"dataframe\">\n",
       "  <thead>\n",
       "    <tr style=\"text-align: right;\">\n",
       "      <th></th>\n",
       "      <th>type_id</th>\n",
       "      <th>name</th>\n",
       "    </tr>\n",
       "  </thead>\n",
       "  <tbody>\n",
       "    <tr>\n",
       "      <th>46</th>\n",
       "      <td> 47</td>\n",
       "      <td>       Video</td>\n",
       "    </tr>\n",
       "    <tr>\n",
       "      <th>47</th>\n",
       "      <td> 48</td>\n",
       "      <td>     Webinar</td>\n",
       "    </tr>\n",
       "    <tr>\n",
       "      <th>48</th>\n",
       "      <td> 49</td>\n",
       "      <td> White paper</td>\n",
       "    </tr>\n",
       "  </tbody>\n",
       "</table>\n",
       "</div>"
      ],
      "text/plain": [
       "    type_id         name\n",
       "46       47        Video\n",
       "47       48      Webinar\n",
       "48       49  White paper"
      ]
     },
     "execution_count": 15,
     "metadata": {},
     "output_type": "execute_result"
    }
   ],
   "source": [
    "# types table\n",
    "types_df = pd.read_sql_query('SELECT * FROM types', db)\n",
    "print 'Number of types: ', types_df.shape[0]\n",
    "types_df.tail(3)"
   ]
  },
  {
   "cell_type": "code",
   "execution_count": 16,
   "metadata": {
    "collapsed": false
   },
   "outputs": [
    {
     "name": "stdout",
     "output_type": "stream",
     "text": [
      "Number of articles:  17029\n"
     ]
    },
    {
     "data": {
      "text/html": [
       "<div style=\"max-height:1000px;max-width:1500px;overflow:auto;\">\n",
       "<table border=\"1\" class=\"dataframe\">\n",
       "  <thead>\n",
       "    <tr style=\"text-align: right;\">\n",
       "      <th></th>\n",
       "      <th>article_id</th>\n",
       "      <th>author_id</th>\n",
       "      <th>topic_id</th>\n",
       "      <th>type_id</th>\n",
       "      <th>submission_time</th>\n",
       "    </tr>\n",
       "  </thead>\n",
       "  <tbody>\n",
       "    <tr>\n",
       "      <th>17026</th>\n",
       "      <td> 17027</td>\n",
       "      <td> 15226</td>\n",
       "      <td> 90</td>\n",
       "      <td> 38</td>\n",
       "      <td> 2015-03-31 21:53:15.405462</td>\n",
       "    </tr>\n",
       "    <tr>\n",
       "      <th>17027</th>\n",
       "      <td> 17028</td>\n",
       "      <td> 15497</td>\n",
       "      <td> 77</td>\n",
       "      <td>  1</td>\n",
       "      <td> 2015-03-31 22:30:17.132310</td>\n",
       "    </tr>\n",
       "    <tr>\n",
       "      <th>17028</th>\n",
       "      <td> 17029</td>\n",
       "      <td>  4057</td>\n",
       "      <td> 96</td>\n",
       "      <td> 47</td>\n",
       "      <td> 2015-03-31 22:39:51.649115</td>\n",
       "    </tr>\n",
       "  </tbody>\n",
       "</table>\n",
       "</div>"
      ],
      "text/plain": [
       "       article_id  author_id  topic_id  type_id             submission_time\n",
       "17026       17027      15226        90       38  2015-03-31 21:53:15.405462\n",
       "17027       17028      15497        77        1  2015-03-31 22:30:17.132310\n",
       "17028       17029       4057        96       47  2015-03-31 22:39:51.649115"
      ]
     },
     "execution_count": 16,
     "metadata": {},
     "output_type": "execute_result"
    }
   ],
   "source": [
    "# articles table\n",
    "articles_df = pd.read_sql_query('SELECT * FROM articles', db)\n",
    "print 'Number of articles: ', articles_df.shape[0]\n",
    "articles_df.tail(3)"
   ]
  },
  {
   "cell_type": "code",
   "execution_count": 17,
   "metadata": {
    "collapsed": false
   },
   "outputs": [
    {
     "data": {
      "text/html": [
       "<div style=\"max-height:1000px;max-width:1500px;overflow:auto;\">\n",
       "<table border=\"1\" class=\"dataframe\">\n",
       "  <thead>\n",
       "    <tr style=\"text-align: right;\">\n",
       "      <th></th>\n",
       "      <th>content_id</th>\n",
       "      <th>email_id</th>\n",
       "      <th>user_id</th>\n",
       "      <th>article_id</th>\n",
       "      <th>send_time</th>\n",
       "    </tr>\n",
       "  </thead>\n",
       "  <tbody>\n",
       "    <tr>\n",
       "      <th>0</th>\n",
       "      <td> 1</td>\n",
       "      <td> 1</td>\n",
       "      <td> 11460</td>\n",
       "      <td>  66</td>\n",
       "      <td> 2015-01-02 08:06:20.070850</td>\n",
       "    </tr>\n",
       "    <tr>\n",
       "      <th>1</th>\n",
       "      <td> 2</td>\n",
       "      <td> 1</td>\n",
       "      <td> 11460</td>\n",
       "      <td> 135</td>\n",
       "      <td> 2015-01-02 08:06:20.070850</td>\n",
       "    </tr>\n",
       "    <tr>\n",
       "      <th>2</th>\n",
       "      <td> 3</td>\n",
       "      <td> 1</td>\n",
       "      <td> 11460</td>\n",
       "      <td> 175</td>\n",
       "      <td> 2015-01-02 08:06:20.070850</td>\n",
       "    </tr>\n",
       "  </tbody>\n",
       "</table>\n",
       "</div>"
      ],
      "text/plain": [
       "   content_id  email_id  user_id  article_id                   send_time\n",
       "0           1         1    11460          66  2015-01-02 08:06:20.070850\n",
       "1           2         1    11460         135  2015-01-02 08:06:20.070850\n",
       "2           3         1    11460         175  2015-01-02 08:06:20.070850"
      ]
     },
     "execution_count": 17,
     "metadata": {},
     "output_type": "execute_result"
    }
   ],
   "source": [
    "# email content table - takes time use limit to check the contents\n",
    "email_df = pd.read_sql_query('SELECT * FROM email_content LIMIT 10', db)\n",
    "email_df.head(3)"
   ]
  },
  {
   "cell_type": "code",
   "execution_count": 18,
   "metadata": {
    "collapsed": false
   },
   "outputs": [
    {
     "data": {
      "text/html": [
       "<div style=\"max-height:1000px;max-width:1500px;overflow:auto;\">\n",
       "<table border=\"1\" class=\"dataframe\">\n",
       "  <thead>\n",
       "    <tr style=\"text-align: right;\">\n",
       "      <th></th>\n",
       "      <th>date_time</th>\n",
       "      <th>article_id</th>\n",
       "      <th>user_id</th>\n",
       "    </tr>\n",
       "  </thead>\n",
       "  <tbody>\n",
       "    <tr>\n",
       "      <th>0</th>\n",
       "      <td> 2015-01-02 08:07:32.000000</td>\n",
       "      <td> 162</td>\n",
       "      <td>  5475</td>\n",
       "    </tr>\n",
       "    <tr>\n",
       "      <th>1</th>\n",
       "      <td> 2015-01-02 08:08:43.000000</td>\n",
       "      <td> 139</td>\n",
       "      <td> 19550</td>\n",
       "    </tr>\n",
       "    <tr>\n",
       "      <th>2</th>\n",
       "      <td> 2015-01-02 08:09:01.000000</td>\n",
       "      <td>  87</td>\n",
       "      <td>  9408</td>\n",
       "    </tr>\n",
       "  </tbody>\n",
       "</table>\n",
       "</div>"
      ],
      "text/plain": [
       "                    date_time  article_id  user_id\n",
       "0  2015-01-02 08:07:32.000000         162     5475\n",
       "1  2015-01-02 08:08:43.000000         139    19550\n",
       "2  2015-01-02 08:09:01.000000          87     9408"
      ]
     },
     "execution_count": 18,
     "metadata": {},
     "output_type": "execute_result"
    }
   ],
   "source": [
    "# log table - takes time use limit to check the contents\n",
    "log_df = pd.read_sql_query('SELECT * FROM logs LIMIT 10', db)\n",
    "log_df.head(3)"
   ]
  },
  {
   "cell_type": "code",
   "execution_count": null,
   "metadata": {
    "collapsed": false
   },
   "outputs": [],
   "source": [
    "len(pd.read_sql_query('SELECT DISTINCT article_id FROM logs', db))"
   ]
  },
  {
   "cell_type": "code",
   "execution_count": null,
   "metadata": {
    "collapsed": false
   },
   "outputs": [],
   "source": [
    "len(pd.read_sql_query('SELECT DISTINCT article_id FROM email_content', db))"
   ]
  },
  {
   "cell_type": "code",
   "execution_count": null,
   "metadata": {
    "collapsed": false
   },
   "outputs": [],
   "source": [
    "len(pd.read_sql_query('SELECT DISTINCT content_id FROM email_content', db))"
   ]
  },
  {
   "cell_type": "code",
   "execution_count": null,
   "metadata": {
    "collapsed": false
   },
   "outputs": [],
   "source": [
    "len(pd.read_sql_query('SELECT DISTINCT email_id FROM email_content', db))"
   ]
  },
  {
   "cell_type": "markdown",
   "metadata": {},
   "source": [
    "- Number of unique article_id in logs table: 25683\n",
    "- Number of unique article_id in email_content table: 16982\n",
    "- Number of unique content_id in email_content table: 10738006\n",
    "- Number of unique email_id in email_content table: 1058436"
   ]
  },
  {
   "cell_type": "code",
   "execution_count": 19,
   "metadata": {
    "collapsed": false
   },
   "outputs": [
    {
     "data": {
      "text/html": [
       "<div style=\"max-height:1000px;max-width:1500px;overflow:auto;\">\n",
       "<table border=\"1\" class=\"dataframe\">\n",
       "  <thead>\n",
       "    <tr style=\"text-align: right;\">\n",
       "      <th></th>\n",
       "      <th>date</th>\n",
       "    </tr>\n",
       "  </thead>\n",
       "  <tbody>\n",
       "    <tr>\n",
       "      <th>0</th>\n",
       "      <td> 2015-01-02</td>\n",
       "    </tr>\n",
       "    <tr>\n",
       "      <th>1</th>\n",
       "      <td> 2015-01-02</td>\n",
       "    </tr>\n",
       "    <tr>\n",
       "      <th>2</th>\n",
       "      <td> 2015-01-02</td>\n",
       "    </tr>\n",
       "  </tbody>\n",
       "</table>\n",
       "</div>"
      ],
      "text/plain": [
       "         date\n",
       "0  2015-01-02\n",
       "1  2015-01-02\n",
       "2  2015-01-02"
      ]
     },
     "execution_count": 19,
     "metadata": {},
     "output_type": "execute_result"
    }
   ],
   "source": [
    "# SQLite date: https://www.sqlite.org/lang_datefunc.html\n",
    "pd.read_sql_query('SELECT DATE(send_time) as date FROM email_content LIMIT 3', db)"
   ]
  },
  {
   "cell_type": "markdown",
   "metadata": {},
   "source": [
    "## Sent and Click Count"
   ]
  },
  {
   "cell_type": "code",
   "execution_count": 20,
   "metadata": {
    "collapsed": false
   },
   "outputs": [
    {
     "data": {
      "text/html": [
       "<div style=\"max-height:1000px;max-width:1500px;overflow:auto;\">\n",
       "<table border=\"1\" class=\"dataframe\">\n",
       "  <thead>\n",
       "    <tr style=\"text-align: right;\">\n",
       "      <th></th>\n",
       "      <th>user_id</th>\n",
       "      <th>date</th>\n",
       "      <th>send_count</th>\n",
       "    </tr>\n",
       "  </thead>\n",
       "  <tbody>\n",
       "    <tr>\n",
       "      <th>0</th>\n",
       "      <td> 1</td>\n",
       "      <td> 2015-01-02</td>\n",
       "      <td>  9</td>\n",
       "    </tr>\n",
       "    <tr>\n",
       "      <th>1</th>\n",
       "      <td> 1</td>\n",
       "      <td> 2015-01-05</td>\n",
       "      <td>  9</td>\n",
       "    </tr>\n",
       "    <tr>\n",
       "      <th>2</th>\n",
       "      <td> 1</td>\n",
       "      <td> 2015-01-07</td>\n",
       "      <td> 12</td>\n",
       "    </tr>\n",
       "  </tbody>\n",
       "</table>\n",
       "</div>"
      ],
      "text/plain": [
       "   user_id        date  send_count\n",
       "0        1  2015-01-02           9\n",
       "1        1  2015-01-05           9\n",
       "2        1  2015-01-07          12"
      ]
     },
     "execution_count": 20,
     "metadata": {},
     "output_type": "execute_result"
    }
   ],
   "source": [
    "sent_df = pd.read_sql_query('SELECT user_id, DATE(send_time) AS date, COUNT(article_id) as send_count \\\n",
    "                                FROM email_content GROUP BY user_id, date', db)\n",
    "sent_df.head(3)"
   ]
  },
  {
   "cell_type": "code",
   "execution_count": 21,
   "metadata": {
    "collapsed": false
   },
   "outputs": [
    {
     "name": "stdout",
     "output_type": "stream",
     "text": [
      "(1058436, 3)\n",
      "63\n"
     ]
    }
   ],
   "source": [
    "print sent_df.shape\n",
    "print len(sent_df['date'].unique())"
   ]
  },
  {
   "cell_type": "code",
   "execution_count": 22,
   "metadata": {
    "collapsed": false
   },
   "outputs": [
    {
     "data": {
      "text/html": [
       "<div style=\"max-height:1000px;max-width:1500px;overflow:auto;\">\n",
       "<table border=\"1\" class=\"dataframe\">\n",
       "  <thead>\n",
       "    <tr style=\"text-align: right;\">\n",
       "      <th></th>\n",
       "      <th>user_id</th>\n",
       "      <th>date</th>\n",
       "      <th>click_count</th>\n",
       "    </tr>\n",
       "  </thead>\n",
       "  <tbody>\n",
       "    <tr>\n",
       "      <th>0</th>\n",
       "      <td> 1</td>\n",
       "      <td> 2015-01-02</td>\n",
       "      <td> 1</td>\n",
       "    </tr>\n",
       "    <tr>\n",
       "      <th>1</th>\n",
       "      <td> 1</td>\n",
       "      <td> 2015-01-05</td>\n",
       "      <td> 2</td>\n",
       "    </tr>\n",
       "    <tr>\n",
       "      <th>2</th>\n",
       "      <td> 1</td>\n",
       "      <td> 2015-01-07</td>\n",
       "      <td> 1</td>\n",
       "    </tr>\n",
       "  </tbody>\n",
       "</table>\n",
       "</div>"
      ],
      "text/plain": [
       "   user_id        date  click_count\n",
       "0        1  2015-01-02            1\n",
       "1        1  2015-01-05            2\n",
       "2        1  2015-01-07            1"
      ]
     },
     "execution_count": 22,
     "metadata": {},
     "output_type": "execute_result"
    }
   ],
   "source": [
    "click_df = pd.read_sql_query('SELECT user_id, DATE(date_time) AS date, COUNT(article_id) as click_count \\\n",
    "                                FROM logs GROUP BY user_id, date', db)\n",
    "click_df.head(3)"
   ]
  },
  {
   "cell_type": "code",
   "execution_count": 23,
   "metadata": {
    "collapsed": false
   },
   "outputs": [
    {
     "name": "stdout",
     "output_type": "stream",
     "text": [
      "(858625, 3)\n",
      "78\n"
     ]
    }
   ],
   "source": [
    "print click_df.shape\n",
    "print len(click_df['date'].unique())"
   ]
  },
  {
   "cell_type": "code",
   "execution_count": 24,
   "metadata": {
    "collapsed": false
   },
   "outputs": [
    {
     "name": "stdout",
     "output_type": "stream",
     "text": [
      "<type 'unicode'>\n",
      "<type 'unicode'>\n"
     ]
    }
   ],
   "source": [
    "print type(sent_df['date'][0])\n",
    "print type(click_df['date'][0])"
   ]
  },
  {
   "cell_type": "code",
   "execution_count": 25,
   "metadata": {
    "collapsed": false
   },
   "outputs": [
    {
     "data": {
      "text/plain": [
       "[u'2015-01-31',\n",
       " u'2015-01-03',\n",
       " u'2015-01-24',\n",
       " u'2015-01-17',\n",
       " u'2015-02-28',\n",
       " u'2015-04-01',\n",
       " u'2015-01-10',\n",
       " u'2015-02-21',\n",
       " u'2015-03-21',\n",
       " u'2015-02-14',\n",
       " u'2015-01-18',\n",
       " u'2015-02-07',\n",
       " u'2015-03-28',\n",
       " u'2015-03-14',\n",
       " u'2015-03-07']"
      ]
     },
     "execution_count": 25,
     "metadata": {},
     "output_type": "execute_result"
    }
   ],
   "source": [
    "# Clicked next day\n",
    "# 6451 did not match - because did not click the same day as send date\n",
    "a = sent_df['date'].unique()\n",
    "b = click_df['date'].unique()\n",
    "[i for i in b if i not in a]"
   ]
  },
  {
   "cell_type": "code",
   "execution_count": 26,
   "metadata": {
    "collapsed": false
   },
   "outputs": [
    {
     "data": {
      "text/html": [
       "<div style=\"max-height:1000px;max-width:1500px;overflow:auto;\">\n",
       "<table border=\"1\" class=\"dataframe\">\n",
       "  <thead>\n",
       "    <tr style=\"text-align: right;\">\n",
       "      <th></th>\n",
       "      <th>user_id</th>\n",
       "      <th>date</th>\n",
       "      <th>send_count</th>\n",
       "      <th>click_count</th>\n",
       "    </tr>\n",
       "  </thead>\n",
       "  <tbody>\n",
       "    <tr>\n",
       "      <th>0</th>\n",
       "      <td> 1</td>\n",
       "      <td> 2015-01-02</td>\n",
       "      <td>  9</td>\n",
       "      <td> 1</td>\n",
       "    </tr>\n",
       "    <tr>\n",
       "      <th>1</th>\n",
       "      <td> 1</td>\n",
       "      <td> 2015-01-05</td>\n",
       "      <td>  9</td>\n",
       "      <td> 2</td>\n",
       "    </tr>\n",
       "    <tr>\n",
       "      <th>2</th>\n",
       "      <td> 1</td>\n",
       "      <td> 2015-01-07</td>\n",
       "      <td> 12</td>\n",
       "      <td> 1</td>\n",
       "    </tr>\n",
       "  </tbody>\n",
       "</table>\n",
       "</div>"
      ],
      "text/plain": [
       "   user_id        date  send_count  click_count\n",
       "0        1  2015-01-02           9            1\n",
       "1        1  2015-01-05           9            2\n",
       "2        1  2015-01-07          12            1"
      ]
     },
     "execution_count": 26,
     "metadata": {},
     "output_type": "execute_result"
    }
   ],
   "source": [
    "# Same day clicks\n",
    "sent_click_df = pd.merge(sent_df, click_df, how = 'left', left_on = ['user_id', 'date'], \n",
    "                        right_on = ['user_id', 'date'])\n",
    "sent_click_df.head(3)"
   ]
  },
  {
   "cell_type": "code",
   "execution_count": 27,
   "metadata": {
    "collapsed": false
   },
   "outputs": [
    {
     "data": {
      "text/html": [
       "<div style=\"max-height:1000px;max-width:1500px;overflow:auto;\">\n",
       "<table border=\"1\" class=\"dataframe\">\n",
       "  <thead>\n",
       "    <tr style=\"text-align: right;\">\n",
       "      <th></th>\n",
       "      <th>date</th>\n",
       "    </tr>\n",
       "  </thead>\n",
       "  <tbody>\n",
       "    <tr>\n",
       "      <th>0</th>\n",
       "      <td>2015-01-01</td>\n",
       "    </tr>\n",
       "    <tr>\n",
       "      <th>1</th>\n",
       "      <td>2015-01-02</td>\n",
       "    </tr>\n",
       "    <tr>\n",
       "      <th>2</th>\n",
       "      <td>2015-01-03</td>\n",
       "    </tr>\n",
       "  </tbody>\n",
       "</table>\n",
       "</div>"
      ],
      "text/plain": [
       "        date\n",
       "0 2015-01-01\n",
       "1 2015-01-02\n",
       "2 2015-01-03"
      ]
     },
     "execution_count": 27,
     "metadata": {},
     "output_type": "execute_result"
    }
   ],
   "source": [
    "d = pd.date_range(start = '2015-01-01', end = '2015-04-01')\n",
    "dates = pd.DataFrame({'date': d})\n",
    "dates.head(3)"
   ]
  },
  {
   "cell_type": "code",
   "execution_count": 28,
   "metadata": {
    "collapsed": false
   },
   "outputs": [
    {
     "name": "stdout",
     "output_type": "stream",
     "text": [
      "<class 'pandas.tslib.Timestamp'>\n"
     ]
    }
   ],
   "source": [
    "print type(dates['date'][0])"
   ]
  },
  {
   "cell_type": "code",
   "execution_count": 29,
   "metadata": {
    "collapsed": false
   },
   "outputs": [
    {
     "data": {
      "text/html": [
       "<div style=\"max-height:1000px;max-width:1500px;overflow:auto;\">\n",
       "<table border=\"1\" class=\"dataframe\">\n",
       "  <thead>\n",
       "    <tr style=\"text-align: right;\">\n",
       "      <th></th>\n",
       "      <th>date</th>\n",
       "      <th>send_count</th>\n",
       "      <th>click_count</th>\n",
       "      <th>rate</th>\n",
       "    </tr>\n",
       "  </thead>\n",
       "  <tbody>\n",
       "    <tr>\n",
       "      <th>0</th>\n",
       "      <td>2015-01-02</td>\n",
       "      <td> 209160</td>\n",
       "      <td> 35356</td>\n",
       "      <td> 0.169038</td>\n",
       "    </tr>\n",
       "    <tr>\n",
       "      <th>1</th>\n",
       "      <td>2015-01-05</td>\n",
       "      <td> 187213</td>\n",
       "      <td> 29789</td>\n",
       "      <td> 0.159118</td>\n",
       "    </tr>\n",
       "    <tr>\n",
       "      <th>2</th>\n",
       "      <td>2015-01-06</td>\n",
       "      <td> 168548</td>\n",
       "      <td> 28018</td>\n",
       "      <td> 0.166232</td>\n",
       "    </tr>\n",
       "  </tbody>\n",
       "</table>\n",
       "</div>"
      ],
      "text/plain": [
       "        date  send_count  click_count      rate\n",
       "0 2015-01-02      209160        35356  0.169038\n",
       "1 2015-01-05      187213        29789  0.159118\n",
       "2 2015-01-06      168548        28018  0.166232"
      ]
     },
     "execution_count": 29,
     "metadata": {},
     "output_type": "execute_result"
    }
   ],
   "source": [
    "clicks = sent_click_df[['date', 'send_count', 'click_count']].groupby('date').sum().reset_index()\n",
    "clicks['rate'] = clicks['click_count']/(clicks['send_count'])\n",
    "clicks['date'] = clicks['date'].map(lambda t: pd.to_datetime(t))\n",
    "clicks.head(3)"
   ]
  },
  {
   "cell_type": "code",
   "execution_count": 30,
   "metadata": {
    "collapsed": false
   },
   "outputs": [
    {
     "data": {
      "text/html": [
       "<div style=\"max-height:1000px;max-width:1500px;overflow:auto;\">\n",
       "<table border=\"1\" class=\"dataframe\">\n",
       "  <thead>\n",
       "    <tr style=\"text-align: right;\">\n",
       "      <th></th>\n",
       "      <th>date</th>\n",
       "      <th>send_count</th>\n",
       "      <th>click_count</th>\n",
       "      <th>rate</th>\n",
       "    </tr>\n",
       "  </thead>\n",
       "  <tbody>\n",
       "    <tr>\n",
       "      <th>0</th>\n",
       "      <td>2015-01-01</td>\n",
       "      <td>    NaN</td>\n",
       "      <td>   NaN</td>\n",
       "      <td> 0.000000</td>\n",
       "    </tr>\n",
       "    <tr>\n",
       "      <th>1</th>\n",
       "      <td>2015-01-02</td>\n",
       "      <td> 209160</td>\n",
       "      <td> 35356</td>\n",
       "      <td> 0.169038</td>\n",
       "    </tr>\n",
       "    <tr>\n",
       "      <th>2</th>\n",
       "      <td>2015-01-03</td>\n",
       "      <td>    NaN</td>\n",
       "      <td>   NaN</td>\n",
       "      <td> 0.000000</td>\n",
       "    </tr>\n",
       "  </tbody>\n",
       "</table>\n",
       "</div>"
      ],
      "text/plain": [
       "        date  send_count  click_count      rate\n",
       "0 2015-01-01         NaN          NaN  0.000000\n",
       "1 2015-01-02      209160        35356  0.169038\n",
       "2 2015-01-03         NaN          NaN  0.000000"
      ]
     },
     "execution_count": 30,
     "metadata": {},
     "output_type": "execute_result"
    }
   ],
   "source": [
    "click_rate = pd.merge(dates, clicks, how = 'left', on = 'date')\n",
    "click_rate['rate'].fillna(0, inplace = True)\n",
    "click_rate.head(3)"
   ]
  },
  {
   "cell_type": "code",
   "execution_count": 31,
   "metadata": {
    "collapsed": false
   },
   "outputs": [
    {
     "data": {
      "text/plain": [
       "pandas.tslib.Timestamp"
      ]
     },
     "execution_count": 31,
     "metadata": {},
     "output_type": "execute_result"
    }
   ],
   "source": [
    "type(click_rate['date'][0])"
   ]
  },
  {
   "cell_type": "code",
   "execution_count": 32,
   "metadata": {
    "collapsed": true
   },
   "outputs": [],
   "source": [
    "click_rate['date'] = click_rate['date'].apply(lambda t: datetime.date(t.year,t.month,t.day))"
   ]
  },
  {
   "cell_type": "code",
   "execution_count": 33,
   "metadata": {
    "collapsed": false
   },
   "outputs": [
    {
     "data": {
      "text/plain": [
       "datetime.date"
      ]
     },
     "execution_count": 33,
     "metadata": {},
     "output_type": "execute_result"
    }
   ],
   "source": [
    "type(click_rate['date'][0])"
   ]
  },
  {
   "cell_type": "code",
   "execution_count": 34,
   "metadata": {
    "collapsed": false
   },
   "outputs": [
    {
     "name": "stdout",
     "output_type": "stream",
     "text": [
      "2015-01-01\n"
     ]
    },
    {
     "data": {
      "text/plain": [
       "datetime.date(2015, 4, 1)"
      ]
     },
     "execution_count": 34,
     "metadata": {},
     "output_type": "execute_result"
    }
   ],
   "source": [
    "print click_rate['date'].min()\n",
    "click_rate['date'].max()"
   ]
  },
  {
   "cell_type": "markdown",
   "metadata": {},
   "source": [
    "#### Click Rate Vs Date"
   ]
  },
  {
   "cell_type": "code",
   "execution_count": 35,
   "metadata": {
    "collapsed": false,
    "scrolled": false
   },
   "outputs": [
    {
     "data": {
      "image/png": "[encoded data removed]",
      "text/plain": [
       "<matplotlib.figure.Figure at 0x1344d1290>"
      ]
     },
     "metadata": {},
     "output_type": "display_data"
    }
   ],
   "source": [
    "# Click Rate Vs Date\n",
    "from matplotlib.dates import DayLocator\n",
    "\n",
    "fig, ax = plt.subplots(1, 1,figsize=(20, 10))\n",
    "plt.plot(click_rate['date'], click_rate['rate'], color = 'g')\n",
    "plt.xlabel('Date', fontsize = 20)\n",
    "plt.ylabel('Click Rate', fontsize = 20)\n",
    "plt.title('Click Rate Vs Date', fontsize = 22)\n",
    "\n",
    "# X axis time settings\n",
    "plt.xticks(rotation = 45)\n",
    "plt.xlim(datetime.date(2015, 1, 3), datetime.date(2015, 4, 1))\n",
    "ax.xaxis.set_major_locator(DayLocator(bymonthday = range(1,32), interval = 3))\n",
    "\n",
    "plt.tick_params(axis = 'both', which = 'major', labelsize = 14)"
   ]
  },
  {
   "cell_type": "markdown",
   "metadata": {
    "collapsed": true
   },
   "source": [
    "## Monthly Click Rate"
   ]
  },
  {
   "cell_type": "code",
   "execution_count": 36,
   "metadata": {
    "collapsed": false
   },
   "outputs": [
    {
     "data": {
      "text/html": [
       "<div style=\"max-height:1000px;max-width:1500px;overflow:auto;\">\n",
       "<table border=\"1\" class=\"dataframe\">\n",
       "  <thead>\n",
       "    <tr style=\"text-align: right;\">\n",
       "      <th></th>\n",
       "      <th>user_id</th>\n",
       "      <th>month</th>\n",
       "      <th>send_count</th>\n",
       "    </tr>\n",
       "  </thead>\n",
       "  <tbody>\n",
       "    <tr>\n",
       "      <th>0</th>\n",
       "      <td> 1</td>\n",
       "      <td> 01</td>\n",
       "      <td> 148</td>\n",
       "    </tr>\n",
       "    <tr>\n",
       "      <th>1</th>\n",
       "      <td> 1</td>\n",
       "      <td> 02</td>\n",
       "      <td> 174</td>\n",
       "    </tr>\n",
       "    <tr>\n",
       "      <th>2</th>\n",
       "      <td> 1</td>\n",
       "      <td> 03</td>\n",
       "      <td> 192</td>\n",
       "    </tr>\n",
       "  </tbody>\n",
       "</table>\n",
       "</div>"
      ],
      "text/plain": [
       "   user_id month  send_count\n",
       "0        1    01         148\n",
       "1        1    02         174\n",
       "2        1    03         192"
      ]
     },
     "execution_count": 36,
     "metadata": {},
     "output_type": "execute_result"
    }
   ],
   "source": [
    "sent_month = pd.read_sql_query('SELECT user_id, STRFTIME(\"%m\", send_time) AS month, COUNT(article_id) as send_count \\\n",
    "                                FROM email_content GROUP BY user_id, month', db)\n",
    "sent_month.head(3)"
   ]
  },
  {
   "cell_type": "code",
   "execution_count": 37,
   "metadata": {
    "collapsed": false
   },
   "outputs": [
    {
     "data": {
      "text/html": [
       "<div style=\"max-height:1000px;max-width:1500px;overflow:auto;\">\n",
       "<table border=\"1\" class=\"dataframe\">\n",
       "  <thead>\n",
       "    <tr style=\"text-align: right;\">\n",
       "      <th></th>\n",
       "      <th>user_id</th>\n",
       "      <th>month</th>\n",
       "      <th>click_count</th>\n",
       "    </tr>\n",
       "  </thead>\n",
       "  <tbody>\n",
       "    <tr>\n",
       "      <th>0</th>\n",
       "      <td> 1</td>\n",
       "      <td> 01</td>\n",
       "      <td> 21</td>\n",
       "    </tr>\n",
       "    <tr>\n",
       "      <th>1</th>\n",
       "      <td> 1</td>\n",
       "      <td> 02</td>\n",
       "      <td> 22</td>\n",
       "    </tr>\n",
       "    <tr>\n",
       "      <th>2</th>\n",
       "      <td> 1</td>\n",
       "      <td> 03</td>\n",
       "      <td> 30</td>\n",
       "    </tr>\n",
       "  </tbody>\n",
       "</table>\n",
       "</div>"
      ],
      "text/plain": [
       "   user_id month  click_count\n",
       "0        1    01           21\n",
       "1        1    02           22\n",
       "2        1    03           30"
      ]
     },
     "execution_count": 37,
     "metadata": {},
     "output_type": "execute_result"
    }
   ],
   "source": [
    "click_month = pd.read_sql_query('SELECT user_id, STRFTIME(\"%m\", date_time) AS month, COUNT(article_id) as click_count \\\n",
    "                                FROM logs GROUP BY user_id, month', db)\n",
    "click_month.head(3)"
   ]
  },
  {
   "cell_type": "code",
   "execution_count": 38,
   "metadata": {
    "collapsed": false
   },
   "outputs": [
    {
     "data": {
      "text/html": [
       "<div style=\"max-height:1000px;max-width:1500px;overflow:auto;\">\n",
       "<table border=\"1\" class=\"dataframe\">\n",
       "  <thead>\n",
       "    <tr style=\"text-align: right;\">\n",
       "      <th></th>\n",
       "      <th>user_id</th>\n",
       "      <th>month</th>\n",
       "      <th>send_count</th>\n",
       "      <th>click_count</th>\n",
       "    </tr>\n",
       "  </thead>\n",
       "  <tbody>\n",
       "    <tr>\n",
       "      <th>0</th>\n",
       "      <td> 1</td>\n",
       "      <td> 01</td>\n",
       "      <td> 148</td>\n",
       "      <td> 21</td>\n",
       "    </tr>\n",
       "    <tr>\n",
       "      <th>1</th>\n",
       "      <td> 1</td>\n",
       "      <td> 02</td>\n",
       "      <td> 174</td>\n",
       "      <td> 22</td>\n",
       "    </tr>\n",
       "    <tr>\n",
       "      <th>2</th>\n",
       "      <td> 1</td>\n",
       "      <td> 03</td>\n",
       "      <td> 192</td>\n",
       "      <td> 30</td>\n",
       "    </tr>\n",
       "  </tbody>\n",
       "</table>\n",
       "</div>"
      ],
      "text/plain": [
       "   user_id month  send_count  click_count\n",
       "0        1    01         148           21\n",
       "1        1    02         174           22\n",
       "2        1    03         192           30"
      ]
     },
     "execution_count": 38,
     "metadata": {},
     "output_type": "execute_result"
    }
   ],
   "source": [
    "sent_click_month = pd.merge(sent_month, click_month, how = 'left', left_on = ['user_id', 'month'], \n",
    "                        right_on = ['user_id', 'month'])\n",
    "sent_click_month.head(3)"
   ]
  },
  {
   "cell_type": "code",
   "execution_count": 39,
   "metadata": {
    "collapsed": false
   },
   "outputs": [
    {
     "data": {
      "text/html": [
       "<div style=\"max-height:1000px;max-width:1500px;overflow:auto;\">\n",
       "<table border=\"1\" class=\"dataframe\">\n",
       "  <thead>\n",
       "    <tr style=\"text-align: right;\">\n",
       "      <th></th>\n",
       "      <th>month</th>\n",
       "      <th>send_count</th>\n",
       "      <th>click_count</th>\n",
       "      <th>rate</th>\n",
       "    </tr>\n",
       "  </thead>\n",
       "  <tbody>\n",
       "    <tr>\n",
       "      <th>0</th>\n",
       "      <td> 01</td>\n",
       "      <td> 3618751</td>\n",
       "      <td> 599838</td>\n",
       "      <td> 0.165758</td>\n",
       "    </tr>\n",
       "    <tr>\n",
       "      <th>1</th>\n",
       "      <td> 02</td>\n",
       "      <td> 3388585</td>\n",
       "      <td> 556067</td>\n",
       "      <td> 0.164100</td>\n",
       "    </tr>\n",
       "    <tr>\n",
       "      <th>2</th>\n",
       "      <td> 03</td>\n",
       "      <td> 3730670</td>\n",
       "      <td> 614476</td>\n",
       "      <td> 0.164709</td>\n",
       "    </tr>\n",
       "  </tbody>\n",
       "</table>\n",
       "</div>"
      ],
      "text/plain": [
       "  month  send_count  click_count      rate\n",
       "0    01     3618751       599838  0.165758\n",
       "1    02     3388585       556067  0.164100\n",
       "2    03     3730670       614476  0.164709"
      ]
     },
     "execution_count": 39,
     "metadata": {},
     "output_type": "execute_result"
    }
   ],
   "source": [
    "month_click_rate = sent_click_month[['month', 'send_count', 'click_count']].groupby('month').sum().reset_index()\n",
    "month_click_rate['rate'] = month_click_rate['click_count']/month_click_rate['send_count']\n",
    "month_click_rate.head(3)"
   ]
  },
  {
   "cell_type": "markdown",
   "metadata": {},
   "source": [
    "### Daily Click Rate - Reduntant calculation"
   ]
  },
  {
   "cell_type": "code",
   "execution_count": 40,
   "metadata": {
    "collapsed": false
   },
   "outputs": [
    {
     "data": {
      "text/html": [
       "<div style=\"max-height:1000px;max-width:1500px;overflow:auto;\">\n",
       "<table border=\"1\" class=\"dataframe\">\n",
       "  <thead>\n",
       "    <tr style=\"text-align: right;\">\n",
       "      <th></th>\n",
       "      <th>month</th>\n",
       "      <th>day</th>\n",
       "      <th>send_count</th>\n",
       "    </tr>\n",
       "  </thead>\n",
       "  <tbody>\n",
       "    <tr>\n",
       "      <th>0</th>\n",
       "      <td> 01</td>\n",
       "      <td> 02</td>\n",
       "      <td> 209160</td>\n",
       "    </tr>\n",
       "    <tr>\n",
       "      <th>1</th>\n",
       "      <td> 01</td>\n",
       "      <td> 05</td>\n",
       "      <td> 187213</td>\n",
       "    </tr>\n",
       "    <tr>\n",
       "      <th>2</th>\n",
       "      <td> 01</td>\n",
       "      <td> 06</td>\n",
       "      <td> 168548</td>\n",
       "    </tr>\n",
       "  </tbody>\n",
       "</table>\n",
       "</div>"
      ],
      "text/plain": [
       "  month day  send_count\n",
       "0    01  02      209160\n",
       "1    01  05      187213\n",
       "2    01  06      168548"
      ]
     },
     "execution_count": 40,
     "metadata": {},
     "output_type": "execute_result"
    }
   ],
   "source": [
    "sent_month_day = pd.read_sql_query('SELECT STRFTIME(\"%m\", send_time) AS month, STRFTIME(\"%d\", send_time) AS day, COUNT(article_id) as send_count \\\n",
    "                                FROM email_content GROUP BY month, day', db)\n",
    "sent_month_day.head(3)"
   ]
  },
  {
   "cell_type": "code",
   "execution_count": 41,
   "metadata": {
    "collapsed": false
   },
   "outputs": [
    {
     "data": {
      "text/html": [
       "<div style=\"max-height:1000px;max-width:1500px;overflow:auto;\">\n",
       "<table border=\"1\" class=\"dataframe\">\n",
       "  <thead>\n",
       "    <tr style=\"text-align: right;\">\n",
       "      <th></th>\n",
       "      <th>month</th>\n",
       "      <th>day</th>\n",
       "      <th>click_count</th>\n",
       "    </tr>\n",
       "  </thead>\n",
       "  <tbody>\n",
       "    <tr>\n",
       "      <th>0</th>\n",
       "      <td> 01</td>\n",
       "      <td> 02</td>\n",
       "      <td> 35356</td>\n",
       "    </tr>\n",
       "    <tr>\n",
       "      <th>1</th>\n",
       "      <td> 01</td>\n",
       "      <td> 03</td>\n",
       "      <td>   482</td>\n",
       "    </tr>\n",
       "    <tr>\n",
       "      <th>2</th>\n",
       "      <td> 01</td>\n",
       "      <td> 05</td>\n",
       "      <td> 29789</td>\n",
       "    </tr>\n",
       "  </tbody>\n",
       "</table>\n",
       "</div>"
      ],
      "text/plain": [
       "  month day  click_count\n",
       "0    01  02        35356\n",
       "1    01  03          482\n",
       "2    01  05        29789"
      ]
     },
     "execution_count": 41,
     "metadata": {},
     "output_type": "execute_result"
    }
   ],
   "source": [
    "click_month_day = pd.read_sql_query('SELECT STRFTIME(\"%m\", date_time) AS month, STRFTIME(\"%d\", date_time) AS day, COUNT(article_id) as click_count \\\n",
    "                                FROM logs GROUP BY month, day', db)\n",
    "click_month_day.head(3)"
   ]
  },
  {
   "cell_type": "code",
   "execution_count": 42,
   "metadata": {
    "collapsed": false
   },
   "outputs": [
    {
     "data": {
      "text/html": [
       "<div style=\"max-height:1000px;max-width:1500px;overflow:auto;\">\n",
       "<table border=\"1\" class=\"dataframe\">\n",
       "  <thead>\n",
       "    <tr style=\"text-align: right;\">\n",
       "      <th></th>\n",
       "      <th>month</th>\n",
       "      <th>day</th>\n",
       "      <th>send_count</th>\n",
       "      <th>click_count</th>\n",
       "      <th>rate</th>\n",
       "    </tr>\n",
       "  </thead>\n",
       "  <tbody>\n",
       "    <tr>\n",
       "      <th>0</th>\n",
       "      <td> 01</td>\n",
       "      <td> 02</td>\n",
       "      <td> 209160</td>\n",
       "      <td> 35356</td>\n",
       "      <td> 0.169038</td>\n",
       "    </tr>\n",
       "    <tr>\n",
       "      <th>1</th>\n",
       "      <td> 01</td>\n",
       "      <td> 05</td>\n",
       "      <td> 187213</td>\n",
       "      <td> 29789</td>\n",
       "      <td> 0.159118</td>\n",
       "    </tr>\n",
       "    <tr>\n",
       "      <th>2</th>\n",
       "      <td> 01</td>\n",
       "      <td> 06</td>\n",
       "      <td> 168548</td>\n",
       "      <td> 28142</td>\n",
       "      <td> 0.166967</td>\n",
       "    </tr>\n",
       "  </tbody>\n",
       "</table>\n",
       "</div>"
      ],
      "text/plain": [
       "  month day  send_count  click_count      rate\n",
       "0    01  02      209160        35356  0.169038\n",
       "1    01  05      187213        29789  0.159118\n",
       "2    01  06      168548        28142  0.166967"
      ]
     },
     "execution_count": 42,
     "metadata": {},
     "output_type": "execute_result"
    }
   ],
   "source": [
    "sent_click_day = pd.merge(sent_month_day, click_month_day, how = 'left', \\\n",
    "                         on = ['month', 'day'])\n",
    "sent_click_day['rate'] = sent_click_day['click_count']/sent_click_day['send_count']\n",
    "sent_click_day.head(3)"
   ]
  },
  {
   "cell_type": "code",
   "execution_count": 43,
   "metadata": {
    "collapsed": false
   },
   "outputs": [],
   "source": [
    "day_click_rate = sent_click_day[['month', 'day', 'rate']].groupby(['month', 'day']).sum().reset_index()\n",
    "jan_rate = day_click_rate[day_click_rate['month'] == '01']\n",
    "mar_rate = day_click_rate[day_click_rate['month'] == '03']"
   ]
  },
  {
   "cell_type": "markdown",
   "metadata": {
    "collapsed": true
   },
   "source": [
    "#### t-Test Comparing January click rates to March click rates\n",
    "\n",
    "Two-sided test for the null hypothesis that 2 independent samples (here I have assumed that the 2 samples are independent) have identical expected rate ($E[rate]$)"
   ]
  },
  {
   "cell_type": "code",
   "execution_count": 44,
   "metadata": {
    "collapsed": false
   },
   "outputs": [
    {
     "name": "stdout",
     "output_type": "stream",
     "text": [
      "t-Statistic:  0.752735291122\n",
      "p-value:  0.45620901575\n"
     ]
    }
   ],
   "source": [
    "t_test = sp.stats.ttest_ind(jan_rate['rate'], mar_rate['rate'], axis = 0, equal_var = False)\n",
    "print 't-Statistic: ', t_test[0]\n",
    "print 'p-value: ', t_test[1]"
   ]
  },
  {
   "cell_type": "markdown",
   "metadata": {
    "collapsed": true
   },
   "source": [
    "$\\text{p-value} > \\alpha = 0.05$, thus this suggests that the two rates (January rate and March rate) have identical expected rate. \n",
    "$$E[rate_{January}] = E[rate_{March}]$$\n",
    "\n",
    "**The test suggests that the likelihood (or fraction or rate) of a user viewing a link they receive has not changed over the three months. However this result is based on aggregating rates of all users. A more micro level exploration will reveal the users that have an increased or decreased link viewing rate.**"
   ]
  },
  {
   "cell_type": "markdown",
   "metadata": {
    "collapsed": true
   },
   "source": [
    "## Month and Hour (Sent and Click Plots)"
   ]
  },
  {
   "cell_type": "code",
   "execution_count": 45,
   "metadata": {
    "collapsed": false
   },
   "outputs": [
    {
     "data": {
      "text/html": [
       "<div style=\"max-height:1000px;max-width:1500px;overflow:auto;\">\n",
       "<table border=\"1\" class=\"dataframe\">\n",
       "  <thead>\n",
       "    <tr style=\"text-align: right;\">\n",
       "      <th></th>\n",
       "      <th>month</th>\n",
       "      <th>hour</th>\n",
       "      <th>send_count</th>\n",
       "    </tr>\n",
       "  </thead>\n",
       "  <tbody>\n",
       "    <tr>\n",
       "      <th>0</th>\n",
       "      <td> 01</td>\n",
       "      <td> 08</td>\n",
       "      <td> 1086699</td>\n",
       "    </tr>\n",
       "    <tr>\n",
       "      <th>1</th>\n",
       "      <td> 01</td>\n",
       "      <td> 09</td>\n",
       "      <td>  847207</td>\n",
       "    </tr>\n",
       "    <tr>\n",
       "      <th>2</th>\n",
       "      <td> 01</td>\n",
       "      <td> 10</td>\n",
       "      <td>  498413</td>\n",
       "    </tr>\n",
       "  </tbody>\n",
       "</table>\n",
       "</div>"
      ],
      "text/plain": [
       "  month hour  send_count\n",
       "0    01   08     1086699\n",
       "1    01   09      847207\n",
       "2    01   10      498413"
      ]
     },
     "execution_count": 45,
     "metadata": {},
     "output_type": "execute_result"
    }
   ],
   "source": [
    "sent_hour_df = pd.read_sql_query('SELECT STRFTIME(\"%m\", send_time) AS month, STRFTIME(\"%H\", send_time) as hour, COUNT(article_id) as send_count \\\n",
    "                                FROM email_content GROUP BY month, hour', db)\n",
    "sent_hour_df.head(3)"
   ]
  },
  {
   "cell_type": "code",
   "execution_count": 46,
   "metadata": {
    "collapsed": false
   },
   "outputs": [],
   "source": [
    "sent_hour_counts = sent_hour_df.pivot(index = 'hour', columns = 'month', values = 'send_count')\n",
    "sent_hour_counts.columns = ['January', 'February', 'March']"
   ]
  },
  {
   "cell_type": "markdown",
   "metadata": {},
   "source": [
    "#### Number of Articles Sent By Hour"
   ]
  },
  {
   "cell_type": "code",
   "execution_count": 47,
   "metadata": {
    "collapsed": false
   },
   "outputs": [
    {
     "data": {
      "text/plain": [
       "<matplotlib.text.Text at 0x1344b2090>"
      ]
     },
     "execution_count": 47,
     "metadata": {},
     "output_type": "execute_result"
    },
    {
     "data": {
      "image/png": "[encoded data removed]",
      "text/plain": [
       "<matplotlib.figure.Figure at 0x1344d9090>"
      ]
     },
     "metadata": {},
     "output_type": "display_data"
    }
   ],
   "source": [
    "sent_hour_counts.plot()\n",
    "plt.ylabel('Number of Articles Sent')\n",
    "plt.xlabel('Hour')\n",
    "plt.title('Number of Articles Sent By Hour', fontsize = 20)"
   ]
  },
  {
   "cell_type": "code",
   "execution_count": 48,
   "metadata": {
    "collapsed": false
   },
   "outputs": [
    {
     "data": {
      "text/html": [
       "<div style=\"max-height:1000px;max-width:1500px;overflow:auto;\">\n",
       "<table border=\"1\" class=\"dataframe\">\n",
       "  <thead>\n",
       "    <tr style=\"text-align: right;\">\n",
       "      <th></th>\n",
       "      <th>month</th>\n",
       "      <th>hour</th>\n",
       "      <th>click_count</th>\n",
       "    </tr>\n",
       "  </thead>\n",
       "  <tbody>\n",
       "    <tr>\n",
       "      <th>0</th>\n",
       "      <td> 01</td>\n",
       "      <td> 00</td>\n",
       "      <td> 2647</td>\n",
       "    </tr>\n",
       "    <tr>\n",
       "      <th>1</th>\n",
       "      <td> 01</td>\n",
       "      <td> 01</td>\n",
       "      <td> 1892</td>\n",
       "    </tr>\n",
       "    <tr>\n",
       "      <th>2</th>\n",
       "      <td> 01</td>\n",
       "      <td> 02</td>\n",
       "      <td> 1414</td>\n",
       "    </tr>\n",
       "  </tbody>\n",
       "</table>\n",
       "</div>"
      ],
      "text/plain": [
       "  month hour  click_count\n",
       "0    01   00         2647\n",
       "1    01   01         1892\n",
       "2    01   02         1414"
      ]
     },
     "execution_count": 48,
     "metadata": {},
     "output_type": "execute_result"
    }
   ],
   "source": [
    "click_hour_df = pd.read_sql_query('SELECT STRFTIME(\"%m\", date_time) AS month, STRFTIME(\"%H\", date_time) AS hour, COUNT(article_id) as click_count \\\n",
    "                                FROM logs GROUP BY month, hour', db)\n",
    "click_hour_df.head(3)"
   ]
  },
  {
   "cell_type": "code",
   "execution_count": 49,
   "metadata": {
    "collapsed": false
   },
   "outputs": [],
   "source": [
    "click_hour_counts = click_hour_df.pivot(index = 'hour', columns = 'month', values = 'click_count')\n",
    "del click_hour_counts['04']\n",
    "click_hour_counts.columns = ['January', 'February', 'March']"
   ]
  },
  {
   "cell_type": "markdown",
   "metadata": {},
   "source": [
    "#### Number of Article Links Clicked By Hour"
   ]
  },
  {
   "cell_type": "code",
   "execution_count": 50,
   "metadata": {
    "collapsed": false
   },
   "outputs": [
    {
     "data": {
      "text/plain": [
       "<matplotlib.text.Text at 0x12f8cf050>"
      ]
     },
     "execution_count": 50,
     "metadata": {},
     "output_type": "execute_result"
    },
    {
     "data": {
      "image/png": "[encoded data removed]",
      "text/plain": [
       "<matplotlib.figure.Figure at 0x134631fd0>"
      ]
     },
     "metadata": {},
     "output_type": "display_data"
    }
   ],
   "source": [
    "click_hour_counts.plot()\n",
    "plt.ylabel('Number of Article Links Clicked')\n",
    "plt.xlabel('Hour')\n",
    "plt.axvline(x = 8, color = '#fe9929', linewidth = 2)\n",
    "plt.text(8.25, 5000, '8 AM', fontsize = 16)\n",
    "plt.axvline(x = 17, color = '#fe9929', linewidth = 2)\n",
    "plt.text(17.25, 5000, '5 PM', fontsize = 16)\n",
    "plt.title('Number of Article Links Clicked By Hour', fontsize = 20)"
   ]
  },
  {
   "cell_type": "markdown",
   "metadata": {
    "collapsed": true
   },
   "source": [
    "> ## Testing Analysis Ideas (in the cells below)"
   ]
  },
  {
   "cell_type": "markdown",
   "metadata": {},
   "source": [
    "```python\n",
    "sent_click = pd.read_sql_query('''SELECT send.user_id AS user_id,\n",
    "           send.date AS send_date,\n",
    "           click.date AS click_date,\n",
    "           send.count AS send_count,\n",
    "           click.count AS click_count\n",
    "      FROM (\n",
    "            SELECT user_id, DATE(send_time) AS date,\n",
    "                   COUNT(article_id) AS count\n",
    "              FROM email_content\n",
    "             GROUP BY user_id, date\n",
    "           ) send\n",
    "      \n",
    "      LEFT JOIN (\n",
    "            SELECT user_id, DATE(date_time) AS date,\n",
    "                   COUNT(article_id) AS count\n",
    "              FROM logs\n",
    "             GROUP BY user_id, date\n",
    "           ) click\n",
    "        ON send.user_id = click.user_id\n",
    "        AND send.send_date = click.click_date''', db)\n",
    "        ```"
   ]
  },
  {
   "cell_type": "markdown",
   "metadata": {},
   "source": [
    "### Testing with user_id between 1 and 11"
   ]
  },
  {
   "cell_type": "code",
   "execution_count": null,
   "metadata": {
    "collapsed": false
   },
   "outputs": [],
   "source": [
    "temp_email = pd.read_sql_query('SELECT user_id, article_id, DATE(send_time) \\\n",
    "                                AS date FROM email_content WHERE user_id = 1', db)\n",
    "temp_email.head(3)"
   ]
  },
  {
   "cell_type": "code",
   "execution_count": null,
   "metadata": {
    "collapsed": false
   },
   "outputs": [],
   "source": [
    "a = temp_email.groupby(['user_id', 'date']).count().reset_index()"
   ]
  },
  {
   "cell_type": "code",
   "execution_count": null,
   "metadata": {
    "collapsed": false
   },
   "outputs": [],
   "source": [
    "temp_log = pd.read_sql_query('SELECT user_id, article_id, DATE(date_time) \\\n",
    "                                AS date FROM logs WHERE user_id = 1', db)\n",
    "temp_log.head(3)"
   ]
  },
  {
   "cell_type": "code",
   "execution_count": null,
   "metadata": {
    "collapsed": false
   },
   "outputs": [],
   "source": [
    "b = temp_log.groupby(['user_id', 'date']).count().reset_index()"
   ]
  },
  {
   "cell_type": "code",
   "execution_count": null,
   "metadata": {
    "collapsed": false
   },
   "outputs": [],
   "source": [
    "pd.merge(a, b, how = 'left', on = ['user_id', 'date'])"
   ]
  },
  {
   "cell_type": "code",
   "execution_count": null,
   "metadata": {
    "collapsed": true
   },
   "outputs": [],
   "source": [
    "temp_email = pd.read_sql_query('SELECT * FROM email_content WHERE user_id \\\n",
    "                                BETWEEN 1 AND 11', db)\n",
    "\n",
    "temp_log = pd.read_sql_query('SELECT * FROM logs WHERE user_id \\\n",
    "                                BETWEEN 1 AND 11', db)"
   ]
  },
  {
   "cell_type": "code",
   "execution_count": null,
   "metadata": {
    "collapsed": false
   },
   "outputs": [],
   "source": [
    "temp_email.head(3)"
   ]
  },
  {
   "cell_type": "code",
   "execution_count": null,
   "metadata": {
    "collapsed": false
   },
   "outputs": [],
   "source": [
    "temp_email[temp_email['email_id'] == 3309].head(3)"
   ]
  },
  {
   "cell_type": "code",
   "execution_count": null,
   "metadata": {
    "collapsed": false
   },
   "outputs": [],
   "source": [
    "#re.findall(r'\\d{4}-\\d{2}-\\d{2}', temp_email['send_time'][0])[0]\n",
    "#re.search(r'\\d{4}-\\d{2}-\\d{2}', temp_email['send_time'][0]).group(0)"
   ]
  },
  {
   "cell_type": "code",
   "execution_count": null,
   "metadata": {
    "collapsed": false
   },
   "outputs": [],
   "source": [
    "temp_email['send_time'] = temp_email['send_time'].map(lambda t: pd.to_datetime(t))\n",
    "type(temp_email['send_time'][0])"
   ]
  },
  {
   "cell_type": "code",
   "execution_count": null,
   "metadata": {
    "collapsed": false
   },
   "outputs": [],
   "source": [
    "temp_log.head(3)"
   ]
  },
  {
   "cell_type": "code",
   "execution_count": null,
   "metadata": {
    "collapsed": false
   },
   "outputs": [],
   "source": [
    "temp_log[temp_log['user_id'] == 1]"
   ]
  },
  {
   "cell_type": "code",
   "execution_count": null,
   "metadata": {
    "collapsed": false
   },
   "outputs": [],
   "source": [
    "temp = pd.merge(temp_email, temp_log, on = ['user_id', 'article_id'])\n",
    "temp = pd.merge(temp, articles_df, on = 'article_id', suffixes = ('_left', '_right'))\n",
    "temp.head(3)"
   ]
  },
  {
   "cell_type": "code",
   "execution_count": null,
   "metadata": {
    "collapsed": false
   },
   "outputs": [],
   "source": [
    "del temp['content_id']\n",
    "del temp['email_id']\n",
    "del temp['author_id']\n",
    "del temp['submission_time']\n",
    "temp.head(3)"
   ]
  },
  {
   "cell_type": "code",
   "execution_count": null,
   "metadata": {
    "collapsed": false
   },
   "outputs": [],
   "source": [
    "print pd.to_datetime(temp['send_time'][0])\n",
    "print pd.to_datetime(temp['date_time'][0])"
   ]
  },
  {
   "cell_type": "code",
   "execution_count": null,
   "metadata": {
    "collapsed": false
   },
   "outputs": [],
   "source": [
    "temp['date_time'] = temp['date_time'].map(lambda t: pd.to_datetime(t))\n",
    "temp['send_time'] = temp['send_time'].map(lambda t: pd.to_datetime(t))"
   ]
  },
  {
   "cell_type": "code",
   "execution_count": null,
   "metadata": {
    "collapsed": true
   },
   "outputs": [],
   "source": [
    "temp['time_diff'] = temp['date_time'] - temp['send_time']"
   ]
  },
  {
   "cell_type": "code",
   "execution_count": null,
   "metadata": {
    "collapsed": false
   },
   "outputs": [],
   "source": [
    "temp['time_diff'][0]/np.timedelta64(1, 's')"
   ]
  },
  {
   "cell_type": "code",
   "execution_count": null,
   "metadata": {
    "collapsed": false
   },
   "outputs": [],
   "source": [
    "temp.head(3)"
   ]
  },
  {
   "cell_type": "code",
   "execution_count": null,
   "metadata": {
    "collapsed": false,
    "scrolled": false
   },
   "outputs": [],
   "source": [
    "print type(temp['send_time'][0])\n",
    "print type(temp['date_time'][0])\n",
    "print temp['date_time'][0].second"
   ]
  },
  {
   "cell_type": "code",
   "execution_count": null,
   "metadata": {
    "collapsed": false
   },
   "outputs": [],
   "source": [
    "len(temp['date_time'].map(lambda t: int(str(t.month)+str(t.day))).unique())"
   ]
  },
  {
   "cell_type": "code",
   "execution_count": null,
   "metadata": {
    "collapsed": false
   },
   "outputs": [],
   "source": [
    "temp['date_time'].map(lambda t: t.month).unique()"
   ]
  }
 ],
 "metadata": {
  "kernelspec": {
   "display_name": "Python 2",
   "language": "python",
   "name": "python2"
  },
  "language_info": {
   "codemirror_mode": {
    "name": "ipython",
    "version": 2
   },
   "file_extension": ".py",
   "mimetype": "text/x-python",
   "name": "python",
   "nbconvert_exporter": "python",
   "pygments_lexer": "ipython2",
   "version": "2.7.11"
  }
 },
 "nbformat": 4,
 "nbformat_minor": 0
}
