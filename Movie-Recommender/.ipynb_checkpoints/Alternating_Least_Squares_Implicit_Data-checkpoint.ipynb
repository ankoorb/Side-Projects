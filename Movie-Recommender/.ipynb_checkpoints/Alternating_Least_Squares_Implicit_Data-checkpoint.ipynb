{
 "cells": [
  {
   "cell_type": "markdown",
   "metadata": {},
   "source": [
    "### Collaborative Filtering (Implicit Feedback Data): Alternating Least Squares\n",
    "\n",
    "- [**Collaborative Filtering for Implicit Feedback Datasets**](http://yifanhu.net/PUB/cf.pdf)\n",
    "- [Large-Scale Parallel Collaborative Filtering for the Netflix Prize](http://www.grappa.univ-lille3.fr/~mary/cours/stats/centrale/reco/paper/MatrixFactorizationALS.pdf)\n",
    "- [Blog Post by Bugra](http://bugra.github.io/work/notes/2014-04-19/alternating-least-squares-method-for-collaborative-filtering/)"
   ]
  },
  {
   "cell_type": "markdown",
   "metadata": {},
   "source": [
    "**Notations**\n",
    "- $r_{ui}$: rating score of item $i$ rated by user $u$\n",
    "- $m$: number of users\n",
    "- $n$: number of items\n",
    "- $p_{ui}$: preference of user $u$ to item $i$\n",
    "$$p_{ui} = \\Big\\{\\begin{array}{ll}\n",
    "            1 \\text{ if } r_{ui}>0\\\\\n",
    "            0 \\text{ if } r_{ui}=0\n",
    "         \\end{array}$$\n",
    "    - If a user $u$ consumed item $i$ i.e. $(r_{ui} > 0)$, then this indicates that user $u$ likes item $i$ i.e. $(p_{ui} = 1)$\n",
    "    - If a user $u$ never consumed item $i$ i.e. $(r_{ui} = 0)$, then this indicates that user $u$ does not prefer item $i$ i.e. $(p_{ui} = 0)$. Zero values are associated with low confidence.\n",
    "    - Never using an item can stem from various reasons, for example: (1) User might be unaware of the existance of item; (2) User bought item as gift for someone despite not liking item; and few other reasons. Thus there is different confidence levels among items indicated to be preferred by the user\n",
    "- $c_{ui}$: Measures our confidence in observing $p_{ui}$\n",
    "    - $c_{ui} = 1 + \\alpha * r_{ui}$: Implies minimal confidence in $p_{ui}$ for every user-item pair, but as more evidence for positive preference is observed, our confidence in $p_{ui} = 1$ increases accordingly\n",
    "    - $c_{ui} = 1 + \\alpha * log(1 + r_{ui}/\\epsilon)$\n",
    "- Each user and each movie has a feature vector\n",
    "    - $x_u \\in \\mathbb{R}^f$: User feature vector\n",
    "    - $y_i \\in \\mathbb{R}^f$: Item feature vector\n",
    "- Preferences are assumed to be the inner product of $x_u$ and $y_i$:\n",
    "$$p_{ui} = x_{u}^T.y_i$$\n",
    "- User features vectors and item feature vector can be computed by minimizing the cost or error function:\n",
    "$$E = C = \\sum_{u,i}c_{ui}(p_{ui}-x_{u}^T.y_i)^2 + \\lambda (\\sum_u ||x_u||^2 + \\sum_i ||y_i||^2)$$\n",
    "- Cost function has $m.n$ terms. If $m.n$ is very large then using Stochastic Gradient Descent will be very computationally expensive. When either user-factor or item-factor are fixed the cost function becomes quadratic, thus its global minimum can be computed using Alternating Least Squares optimization process"
   ]
  },
  {
   "cell_type": "markdown",
   "metadata": {},
   "source": [
    "**Minimizing Cost Function** ([Reference](http://math.stackexchange.com/questions/1072451/analytic-solution-for-matrix-factorization-using-alternating-least-squares))\n",
    "- Differentiating $E$ with respect to vector $x_u$:\n",
    "$$\\frac{\\partial E}{\\partial x_u} = -2 \\sum_{i}c_{ui}(p_{ui}-x_{u}^Ty_i)y_i + 2 \\lambda x_u$$\n",
    "$$\\frac{\\partial E}{\\partial x_u} = -2 \\sum_{i}c_{ui}(p_{ui}-y_{i}^Tx_u)y_i + 2 \\lambda x_u$$\n",
    "$$\\frac{\\partial E}{\\partial x_u} = -2 \\sum_{i}y_ic_{ui}p_{ui} + 2 \\sum_{i}y_{i}^Tc^{ui}y_ix_u + 2 \\lambda x_u$$\n",
    "$$\\frac{\\partial E}{\\partial x_u} = -2 Y^TC^up(u) + 2 Y^TC^uYx_u + 2 \\lambda x_u$$\n",
    "Setting $\\frac{\\partial E}{\\partial x_u} = 0$ and rearranging equation: $(Y^TC^uY + \\lambda I)x_u = Y^TC^up(u)$\n",
    "$$x_u = (Y^TC^uY + \\lambda I)^{-1}Y^TC^up(u)$$\n",
    "\n",
    "Similarly:\n",
    "$$y_i = (X^TC^iX + \\lambda I)^{-1}X^TC^ip(i)$$"
   ]
  },
  {
   "cell_type": "markdown",
   "metadata": {},
   "source": [
    "#### Algorithm\n",
    "\n",
    "1. Initialize item-factor matrix $Y_{n\\times f}$: small random numbers for the matrix entries\n",
    "2. Recompute all user factors (fix $Y$ and solve $X$ by minimizing cost function)\n",
    "    - Compute $Y^TY$ matrix of size $f \\times f$\n",
    "    - For each user $u$ define the diagonal $n \\times n$ matrix $C^u$ where $C_{ii}^u = c_{ui}$ and vector $p(u) \\in \\mathbb{R}^n$ that contains the $p_{ui}$ values\n",
    "    - The analytic expression for $x_u$ that minimizes the cost function is:\n",
    "    $$x_u = (Y^TC^uY + \\lambda I)^{-1}Y^TC^up(u)$$\n",
    "    - $Y^TC^uY $ is computationally intensive and can be expressed as: $$Y^TC^uY = Y^TY + Y^T(C^u-I)Y$$\n",
    "    - This step generates $X_{m\\times f}$ matrix\n",
    "3. Recompute all item-factors (fix $X$ and solve $Y$ by minimizing cost function)\n",
    "    - Compute $X^TX$ matrix of size $f \\times f$\n",
    "    - For each item $i$ define the diagonal $m \\times m$ matrix $C^i$ where $C_{uu}^i = c_{ui}$ and vector $p(i) \\in \\mathbb{R}^m$ that contains all preferences for $i$\n",
    "    - The analytic expression for $y_i$ that minimizes the cost function is:\n",
    "    $$y_i = (X^TC^iX + \\lambda I)^{-1}X^TC^ip(i)$$\n",
    "    - $X^TC^iX$ is computationally intensive and can be expressed as follows: $$X^TC^iX = X^TX + X^T(C^i-I)X$$\n",
    "    - This step generates $Y_{n\\times f}$ matrix\n",
    "4. Repeat steps (2) and (3) until a stopping criterion is satisfied\n",
    "\n",
    "**Predicted preference of user $u$ for item $i$ is given by:**  $\\hat{p}_{ui} = x_{u}^T.y_i$"
   ]
  },
  {
   "cell_type": "markdown",
   "metadata": {},
   "source": [
    "#### Cosine Similarity\n",
    "\n",
    "- Mathematically the cosine similarity is expressed as:\n",
    "$$x = [x_1, x_2, ..., x_m]$$\n",
    "$$y = [y_1, y_2, ..., y_m]$$\n",
    "$$cosine(x, y) = \\frac{\\sum_{i=1}^{m}x_iy_i}{\\sqrt{\\sum_{i=1}^{m}x_i}\\sqrt{\\sum_{i=1}^{m}y_i}} = \\frac{\\langle x,y \\rangle}{||x||_2||y||_2}$$"
   ]
  },
  {
   "cell_type": "code",
   "execution_count": 1,
   "metadata": {
    "collapsed": true
   },
   "outputs": [],
   "source": [
    "# Imports\n",
    "import pandas as pd\n",
    "import numpy as np\n",
    "import time\n",
    "\n",
    "%matplotlib inline  \n",
    "import matplotlib.pyplot as plt\n",
    "import seaborn as sns"
   ]
  },
  {
   "cell_type": "code",
   "execution_count": 2,
   "metadata": {
    "collapsed": false
   },
   "outputs": [
    {
     "name": "stdout",
     "output_type": "stream",
     "text": [
      "R: \n",
      "[[2 0 1 3 0]\n",
      " [0 0 3 2 3]\n",
      " [1 1 2 0 4]\n",
      " [4 0 2 1 2]]\n",
      "m:  4\n",
      "n:  5\n",
      "f:  3\n",
      "lambda:  5\n",
      "P: \n",
      "[[1 0 1 1 0]\n",
      " [0 0 1 1 1]\n",
      " [1 1 1 0 1]\n",
      " [1 0 1 1 1]]\n",
      "C: \n",
      "[[ 51   1  26  76   1]\n",
      " [  1   1  76  51  76]\n",
      " [ 26  26  51   1 101]\n",
      " [101   1  51  26  51]]\n"
     ]
    }
   ],
   "source": [
    "# Generate toy data\n",
    "np.random.seed(3)\n",
    "R = np.random.randint(5, size=(4, 5))\n",
    "m = R.shape[0]\n",
    "n = R.shape[1]\n",
    "f = 3\n",
    "lambda_ = 5\n",
    "print 'R: \\n', R\n",
    "print 'm: ', m\n",
    "print 'n: ', n\n",
    "print 'f: ', f\n",
    "print 'lambda: ', lambda_\n",
    "# User Preference\n",
    "P = (R > 0).astype(int)\n",
    "# Our Confidence\n",
    "alpha = 25\n",
    "C = 1 + alpha * R\n",
    "print 'P: \\n', P\n",
    "print 'C: \\n', C"
   ]
  },
  {
   "cell_type": "code",
   "execution_count": 3,
   "metadata": {
    "collapsed": false
   },
   "outputs": [
    {
     "name": "stdout",
     "output_type": "stream",
     "text": [
      "[[ 0.06762549  0.05908628  0.00239819]\n",
      " [ 0.05588541  0.02592524  0.04151012]\n",
      " [ 0.02835251  0.06931379  0.04404537]\n",
      " [ 0.01568677  0.0544649   0.07803148]\n",
      " [ 0.03063635  0.02219579  0.03879713]]\n"
     ]
    }
   ],
   "source": [
    "# 1. Initialize item-factor matrix Y\n",
    "Y = np.random.rand(n, f) * 0.1\n",
    "print Y"
   ]
  },
  {
   "cell_type": "code",
   "execution_count": 4,
   "metadata": {
    "collapsed": false
   },
   "outputs": [
    {
     "name": "stdout",
     "output_type": "stream",
     "text": [
      "YT.Y: \n",
      "[[ 0.00968491  0.00894418  0.00614345]\n",
      " [ 0.00894418  0.01242679  0.00938192]\n",
      " [ 0.00614345  0.00938192  0.01126296]]\n"
     ]
    }
   ],
   "source": [
    "# 2. Fix Y and solve X\n",
    "YT_Y = Y.T.dot(Y)\n",
    "print 'YT.Y: \\n', YT_Y"
   ]
  },
  {
   "cell_type": "code",
   "execution_count": 5,
   "metadata": {
    "collapsed": false
   },
   "outputs": [
    {
     "name": "stdout",
     "output_type": "stream",
     "text": [
      "(3,) [ 5.37826003  8.95489149  7.19787948]\n",
      "(3,) [  5.28317893   9.73243809  10.27563511]\n",
      "(3,) [ 7.75153297  7.9870777   7.30643967]\n",
      "(3,) [ 10.24646256  12.05079049   6.49600277]\n",
      "X: \n",
      "[[ 0.898431    1.47992011  1.17198304]\n",
      " [ 0.86911214  1.55797826  1.6603912 ]\n",
      " [ 1.31636846  1.3374394   1.24583394]\n",
      " [ 1.61828839  1.89450164  1.04873779]]\n"
     ]
    }
   ],
   "source": [
    "X = np.zeros((m, f), dtype=np.float)\n",
    "for u in range(m):\n",
    "    Cu = np.diag(C[u,:])\n",
    "    I = np.eye(Cu.shape[0], Cu.shape[1])\n",
    "    pu = P[u,:]\n",
    "    YT_Cu_Y = YT_Y + Y.T.dot(Cu - I).dot(Y)\n",
    "    YT_Cu_pu = Y.T.dot(Cu).dot(pu)\n",
    "    print YT_Cu_pu.shape, YT_Cu_pu\n",
    "    inv_part = YT_Cu_Y + lambda_ * np.eye(YT_Cu_Y.shape[0], YT_Cu_Y.shape[1])\n",
    "    inv = np.linalg.inv(inv_part)\n",
    "    X_u = inv.dot(YT_Cu_pu)\n",
    "    X[u,:] = X_u\n",
    "\n",
    "print 'X: \\n', X"
   ]
  },
  {
   "cell_type": "code",
   "execution_count": 6,
   "metadata": {
    "collapsed": false
   },
   "outputs": [
    {
     "name": "stdout",
     "output_type": "stream",
     "text": [
      "Y: \n",
      "[[ 0.07209007  0.25596242  0.40533722]\n",
      " [ 0.33795331  0.1006186   0.22873913]\n",
      " [ 0.20601345  0.19983135  0.32390225]\n",
      " [ 0.03130831  0.40846147  0.23297007]\n",
      " [ 0.29159004  0.09706638  0.35978464]]\n"
     ]
    }
   ],
   "source": [
    "# 3. Fix X and solve Y\n",
    "XT_X = X.T.dot(X)\n",
    "\n",
    "for i in range(n):\n",
    "    Ci = np.diag(C.T[i,:])\n",
    "    I = np.eye(Ci.shape[0], Ci.shape[1])\n",
    "    pi = P.T[i,:]\n",
    "    XT_Ci_X = XT_X + X.T.dot(Ci - I).dot(X)\n",
    "    XT_Ci_pi = X.T.dot(Ci).dot(pi)\n",
    "    inv_part = XT_Ci_X + lambda_ * np.eye(XT_Ci_X.shape[0], XT_Ci_X.shape[1])\n",
    "    inv = np.linalg.inv(inv_part)\n",
    "    Y_i = inv.dot(XT_Ci_pi)\n",
    "    Y[i,:] = Y_i\n",
    "\n",
    "print 'Y: \\n', Y"
   ]
  },
  {
   "cell_type": "code",
   "execution_count": 7,
   "metadata": {
    "collapsed": false
   },
   "outputs": [],
   "source": [
    "# 4. Repeat steps 2 and 3 until criteria is satisfied"
   ]
  },
  {
   "cell_type": "code",
   "execution_count": 8,
   "metadata": {
    "collapsed": false
   },
   "outputs": [
    {
     "name": "stdout",
     "output_type": "stream",
     "text": [
      "[[ 0.91862024  0.7206136   0.86043125  0.90565566  0.82728552]\n",
      " [ 1.1344566   0.83027736  1.02818614  1.05040598  1.00203501]\n",
      " [ 0.94221419  0.86441333  0.94198035  0.87774775  0.96189225]\n",
      " [ 1.02667622  0.9774154   1.05165853  1.06882131  1.03308895]]\n"
     ]
    }
   ],
   "source": [
    "# Preference prediction\n",
    "P_hat = X.dot(Y.T)\n",
    "print P_hat"
   ]
  },
  {
   "cell_type": "markdown",
   "metadata": {},
   "source": [
    "### ALS Class"
   ]
  },
  {
   "cell_type": "code",
   "execution_count": 9,
   "metadata": {
    "collapsed": false
   },
   "outputs": [],
   "source": [
    "# Alternating Least Squares Class (Implicit data)\n",
    "class ALS(object):\n",
    "    \"\"\"\n",
    "    Alternating Least Squares Collaborative Filtering for Implicit Feedback Data\n",
    "    \n",
    "    Implicit Feedback: Data (like clicks, etc.) is proxy of user preference\n",
    "\n",
    "    Algorithm based on: \"Collaborative Filtering for Implicit Feedback Datasets\" paper\n",
    "                         by Yifan Hu, Yehuda Koren, Chris Volinsky\n",
    "    \n",
    "    Paper source: http://yifanhu.net/PUB/cf.pdf \n",
    "    \"\"\"\n",
    "\n",
    "    def __init__(self, R, f=5, lambda_=0.5, n_iter=10, alpha=10):\n",
    "        \"\"\"\n",
    "        Inputs:\n",
    "            R: user-item ranking matrix (size: m x n), where m = # of users, n = # of items\n",
    "            f: # of features\n",
    "            lambda_: regularization parameter\n",
    "            n_iter: # of iterations\n",
    "            alpha: rate of increase in confudence\n",
    "        \"\"\"\n",
    "        # Inputs\n",
    "        self.R = R\n",
    "        self.f = f\n",
    "        self.lambda_ = lambda_\n",
    "        self.n_iter = n_iter\n",
    "        self.alpha = alpha\n",
    "\n",
    "        # Derived inputs\n",
    "        self.m = R.shape[0] # number of users\n",
    "        self.n = R.shape[1] # number of items\n",
    "\n",
    "        # Preference and Confidence when user-factor fixed\n",
    "        self.P = (self.R > 0).astype(int) # User preference (implicit)\n",
    "        self.C = 1 + self.alpha * self.R # Our confidence\n",
    "\n",
    "        # Preference and Confidence when item-factor fixed\n",
    "        self.PT = self.P.T\n",
    "        self.CT = self.C.T\n",
    "    \n",
    "    def train(self):\n",
    "        \"\"\"\n",
    "        Train model using Alternating Least Squares algorithm\n",
    "        \"\"\"\n",
    "        # 0. Initialize user-factor matrix X (size: m x f)\n",
    "        self.X = np.random.rand(self.m, self.f) * 0.1\n",
    "        \n",
    "        # 1. Initialize item-factor matrix Y (size: n x f)\n",
    "        self.Y = np.random.rand(self.n, self.f) * 0.1\n",
    "\n",
    "        for iteration in xrange(self.n_iter):\n",
    "            # Start time\n",
    "            start = time.time()\n",
    "\n",
    "            # 2. Fix item-factor matrix and solve for user-factor matrix\n",
    "            self.X = self.alternating_least_squares(self.Y, self.X, self.C, self.P)\n",
    "\n",
    "            # 3. Fix user-factor matrix (use transpose of C and P) and solve for item-factor matrix\n",
    "            self.Y = self.alternating_least_squares(self.X, self.Y, self.C.T, self.P.T)\n",
    "            \n",
    "            # End time\n",
    "            end = time.time()\n",
    "            print 'Iteration {} finished in {} seconds'.format(iteration, end-start)\n",
    "\n",
    "            # Print\n",
    "            if (iteration % 5) == 0:\n",
    "                print 'Iteration: {} finished'.format(iteration)\n",
    "\n",
    "\n",
    "    def alternating_least_squares(self, fixed, update, C_, P_):\n",
    "        \"\"\"\n",
    "        Alternating Least Squares step\n",
    "        Inputs: \n",
    "            fixed: user-factor or item-factor matrix\n",
    "            update: item-factor or user-factor matrix\n",
    "            C_: Confidence matrix (use transpose when user-factor matrix is fixed)\n",
    "            P_: User preference matrix (use transpose when user-factor matrix is fixed)\n",
    "        Output: Updated user-factor or item-factor matrix\n",
    "        \"\"\"\n",
    "        X = update\n",
    "        Y = fixed\n",
    "        # Compute: Y'Y matrix of size f x f\n",
    "        YT_Y = Y.T.dot(Y) \n",
    "        # For each user \n",
    "        for u in xrange(X.shape[0]): \n",
    "            # Define diagonal matrix C^u of size n x n\n",
    "            Cu = np.diag(C_[u,:]) \n",
    "            # Define vector p(u) of size n\n",
    "            pu = P_[u,:] \n",
    "            # Compute: Y'.C^u.p(u)\n",
    "            YT_Cu_pu = Y.T.dot(Cu).dot(pu)\n",
    "            # Compute: Y'.C^u.Y\n",
    "            YT_Cu_Y = YT_Y + Y.T.dot(Cu - np.eye(Cu.shape[0])).dot(Y)\n",
    "            # Compute: (Y'.C^u.Y + lambda_.I)^-1\n",
    "            inv = np.linalg.inv(YT_Cu_Y + self.lambda_ * np.eye(YT_Cu_Y.shape[0]))\n",
    "            # Compute: Xu\n",
    "            X_u = inv.dot(YT_Cu_pu)\n",
    "            # update user-factor\n",
    "            X[u,:] = X_u \n",
    "        return X\n",
    "    \n",
    "    def predict(self):\n",
    "        \"\"\"\n",
    "        P_hat = XT.Y\n",
    "        \"\"\"\n",
    "        P_hat = self.X.dot(self.Y.T)\n",
    "        return P_hat\n",
    "\n",
    "    def mean_squared_error(self):\n",
    "        \"\"\"\n",
    "        Calculate mean squared error\n",
    "        \"\"\"\n",
    "        P_hat = self.predict()\n",
    "        mse = ((self.P.flatten() - P_hat.flatten())**2).mean() \n",
    "        return mse"
   ]
  },
  {
   "cell_type": "code",
   "execution_count": 10,
   "metadata": {
    "collapsed": false
   },
   "outputs": [
    {
     "name": "stdout",
     "output_type": "stream",
     "text": [
      "Iteration 0 finished in 0.00293207168579 seconds\n",
      "Iteration: 0 finished\n",
      "Iteration 1 finished in 0.00145387649536 seconds\n",
      "Iteration 2 finished in 0.000892877578735 seconds\n",
      "Iteration 3 finished in 0.000886917114258 seconds\n",
      "Iteration 4 finished in 0.000884056091309 seconds\n",
      "Iteration 5 finished in 0.00110292434692 seconds\n",
      "Iteration: 5 finished\n",
      "Iteration 6 finished in 0.0010039806366 seconds\n",
      "Iteration 7 finished in 0.000953912734985 seconds\n",
      "Iteration 8 finished in 0.000964879989624 seconds\n",
      "Iteration 9 finished in 0.00143599510193 seconds\n"
     ]
    },
    {
     "data": {
      "text/plain": [
       "0.015088466164848319"
      ]
     },
     "execution_count": 10,
     "metadata": {},
     "output_type": "execute_result"
    }
   ],
   "source": [
    "# Test on toy data\n",
    "toy = ALS(R)\n",
    "toy.train()\n",
    "toy.predict()\n",
    "toy.mean_squared_error()"
   ]
  },
  {
   "cell_type": "code",
   "execution_count": 11,
   "metadata": {
    "collapsed": false
   },
   "outputs": [
    {
     "name": "stdout",
     "output_type": "stream",
     "text": [
      "Iteration: 0 finished\n",
      "Iteration: 5 finished\n",
      "Iteration: 10 finished\n",
      "Iteration: 15 finished\n",
      "Iteration: 20 finished\n",
      "Iteration: 25 finished\n",
      "Iteration: 30 finished\n",
      "Iteration: 35 finished\n",
      "Iteration: 40 finished\n",
      "Iteration: 45 finished\n",
      "[[ 0.99735161  0.15541809  0.10778953  0.98923651  0.99052177]\n",
      " [ 0.98970984  1.00231138  0.99448377  1.00036171  0.99585903]\n",
      " [ 0.99536674  1.000515    0.9987989   1.00038404  0.99626768]\n",
      " [ 0.99895566  1.0019918   0.98306432  0.98231502  1.00174335]\n",
      " [ 0.13931706  0.99942529  0.99533193  0.99717023  0.21393183]\n",
      " [ 0.99458579  0.9916303   0.21759155  0.99830071  0.15943089]\n",
      " [ 0.30776818  0.99684909  1.00346692  0.99818656  0.97639884]\n",
      " [ 0.99532376  1.00059298  1.00114138  1.00038878  0.99636929]\n",
      " [ 0.99449873  0.98144394  0.98876634  0.15061646  0.99820278]\n",
      " [ 0.99845652  0.99833024  0.99801508  0.15182277  0.99825041]]\n",
      "[[1 0 0 1 1]\n",
      " [1 1 1 1 1]\n",
      " [1 1 1 1 1]\n",
      " [1 1 1 1 1]\n",
      " [0 1 1 1 0]\n",
      " [1 1 0 1 0]\n",
      " [0 1 1 1 1]\n",
      " [1 1 1 1 1]\n",
      " [1 1 1 0 1]\n",
      " [1 1 1 0 1]]\n"
     ]
    }
   ],
   "source": [
    "# Test ALS import\n",
    "import als\n",
    "R = np.random.randint(5, size=(10, 5))\n",
    "cf = als.ALS(R)\n",
    "cf.train()\n",
    "print cf.predict()\n",
    "print cf.P"
   ]
  },
  {
   "cell_type": "code",
   "execution_count": 12,
   "metadata": {
    "collapsed": true
   },
   "outputs": [],
   "source": [
    "def train_test_data_split(data, size=3):\n",
    "    \"\"\"\n",
    "    Function to split ratings or preferences data \n",
    "    into training and testing set\n",
    "    input: \n",
    "        data: numpy array\n",
    "        size: size of sample\n",
    "    \"\"\"\n",
    "    # Training data\n",
    "    train = data.copy()\n",
    "    # Testing data: Create empty numpy array\n",
    "    test = np.empty(data.shape)\n",
    "    for u in xrange(data.shape[0]):\n",
    "        # Generate random sample from 1-D array\n",
    "        col_idx = np.random.choice(data[u,:].nonzero()[0], size=size, replace=False)\n",
    "        # Replace training data col_idx values by 0\n",
    "        train[u, col_idx] = 0.0\n",
    "        # Replace empty test data col_idx by sampled values\n",
    "        test[u, col_idx] = data[u, col_idx]\n",
    "    \n",
    "    return train, test"
   ]
  },
  {
   "cell_type": "code",
   "execution_count": 13,
   "metadata": {
    "collapsed": false
   },
   "outputs": [
    {
     "name": "stdout",
     "output_type": "stream",
     "text": [
      "Iteration: 0 finished\n",
      "Iteration: 5 finished\n",
      "Iteration: 10 finished\n",
      "Iteration: 15 finished\n",
      "0.208383454257\n",
      "0.208383454257 0.443875876618\n"
     ]
    }
   ],
   "source": [
    "R = np.random.randint(5, size=(10, 10))\n",
    "train, test = train_test_data_split(R, size=2)\n",
    "\n",
    "import als\n",
    "cf_train = als.ALS(train, f=200, lambda_=150, n_iter=20, alpha=40)\n",
    "cf_train.train()\n",
    "cf_train.predict()\n",
    "print cf_train.mean_squared_error()\n",
    "\n",
    "cf_test = als.ALS(test)\n",
    "P_test = cf_test.P\n",
    "train_mse = cf_train.mean_squared_error()\n",
    "test_mse = (((P_test - cf_train.predict()).flatten())**2).mean()\n",
    "print train_mse, test_mse"
   ]
  },
  {
   "cell_type": "markdown",
   "metadata": {},
   "source": [
    "### Music Recommendation: last.fm Data\n",
    "\n",
    "- **[last.fm](http://www.lastfm.com)**\n",
    "- [last.fm Data](http://grouplens.org/datasets/hetrec-2011/) \n",
    "```bash\n",
    "curl -O http://files.grouplens.org/datasets/hetrec2011/hetrec2011-lastfm-2k.zip\n",
    "```\n",
    "\n",
    "**MacBook Air Overheats!**"
   ]
  },
  {
   "cell_type": "code",
   "execution_count": null,
   "metadata": {
    "collapsed": true
   },
   "outputs": [],
   "source": [
    "# Column names\n",
    "artists_cols = ['artist_id', 'name', 'url', 'picture_url']\n",
    "tags_cols = ['tag_id', 'tag_value']\n",
    "user_artists_cols = ['user_id', 'artist_id', 'weight']\n",
    "user_friends_cols = ['user_id', 'friend_id']\n",
    "user_tagged_artists_time_cols = ['user_id', 'artist_id', 'tag_id', 'timestamp']\n",
    "user_tagged_artists_cols = ['user_id', 'artist_id', 'tag_id', 'day', 'month', 'year']"
   ]
  },
  {
   "cell_type": "code",
   "execution_count": null,
   "metadata": {
    "collapsed": false
   },
   "outputs": [],
   "source": [
    "# Read data files\n",
    "artists = pd.read_csv('data/artists.dat', sep='\\t', names=artists_cols, skiprows=1)\n",
    "tags = pd.read_csv('data/tags.dat', sep='\\t', names=tags_cols, skiprows=1)\n",
    "user_artists = pd.read_csv('data/user_artists.dat', sep='\\t', names=user_artists_cols, skiprows=1)\n",
    "user_friends = pd.read_csv('data/user_friends.dat', sep='\\t', names=user_friends_cols, skiprows=1)\n",
    "user_tagged_artists_time = pd.read_csv('data/user_taggedartists-timestamps.dat', sep='\\t', names=user_tagged_artists_time_cols, skiprows=1)\n",
    "user_tagged_artists = pd.read_csv('data/user_taggedartists.dat', sep='\\t', names=user_tagged_artists_cols, skiprows=1)"
   ]
  },
  {
   "cell_type": "code",
   "execution_count": null,
   "metadata": {
    "collapsed": false
   },
   "outputs": [],
   "source": [
    "# Check: artists\n",
    "artists.head(3)"
   ]
  },
  {
   "cell_type": "code",
   "execution_count": null,
   "metadata": {
    "collapsed": false
   },
   "outputs": [],
   "source": [
    "# Check: tags\n",
    "tags.head(3)"
   ]
  },
  {
   "cell_type": "code",
   "execution_count": null,
   "metadata": {
    "collapsed": false
   },
   "outputs": [],
   "source": [
    "# Check: user_artists\n",
    "user_artists.head(3)"
   ]
  },
  {
   "cell_type": "code",
   "execution_count": null,
   "metadata": {
    "collapsed": false
   },
   "outputs": [],
   "source": [
    "# Check: users_friends\n",
    "user_friends.head(3)"
   ]
  },
  {
   "cell_type": "code",
   "execution_count": null,
   "metadata": {
    "collapsed": false
   },
   "outputs": [],
   "source": [
    "# Check: user_tagged_artists_time\n",
    "user_tagged_artists_time.head(3)"
   ]
  },
  {
   "cell_type": "code",
   "execution_count": null,
   "metadata": {
    "collapsed": false
   },
   "outputs": [],
   "source": [
    "# Check: user_tagged_artists\n",
    "user_tagged_artists.head(3)"
   ]
  },
  {
   "cell_type": "code",
   "execution_count": null,
   "metadata": {
    "collapsed": false
   },
   "outputs": [],
   "source": [
    "# Dataframe dimensions\n",
    "print 'Artists Dimensions: {} x {}'.format(artists.shape[0], artists.shape[1])\n",
    "print 'Users-Artists Dimensions: {} x {}'.format(user_artists.shape[0], user_artists.shape[1])"
   ]
  },
  {
   "cell_type": "code",
   "execution_count": null,
   "metadata": {
    "collapsed": false
   },
   "outputs": [],
   "source": [
    "# Unique artists and users\n",
    "print 'Number of unique artists: ', len(user_artists['artist_id'].unique())\n",
    "print 'Number of unique users: ', len(user_artists['user_id'].unique())"
   ]
  },
  {
   "cell_type": "code",
   "execution_count": null,
   "metadata": {
    "collapsed": false
   },
   "outputs": [],
   "source": [
    "# Pivot user_artist dataframe\n",
    "df = user_artists.pivot(index='user_id', columns='artist_id', values='weight')\n",
    "df.head(3)"
   ]
  },
  {
   "cell_type": "code",
   "execution_count": null,
   "metadata": {
    "collapsed": false
   },
   "outputs": [],
   "source": [
    "# Fill NaN with 0\n",
    "df = df.fillna(0)\n",
    "df.head(3)"
   ]
  },
  {
   "cell_type": "code",
   "execution_count": null,
   "metadata": {
    "collapsed": false
   },
   "outputs": [],
   "source": [
    "# Remove multinidex\n",
    "df.reset_index(level=1, drop=True, inplace=True)\n",
    "df.head(3)"
   ]
  },
  {
   "cell_type": "code",
   "execution_count": null,
   "metadata": {
    "collapsed": false
   },
   "outputs": [],
   "source": [
    "# Split data\n",
    "train, test = train_test_data_split(df.values, size=1)"
   ]
  },
  {
   "cell_type": "code",
   "execution_count": null,
   "metadata": {
    "collapsed": true
   },
   "outputs": [],
   "source": [
    "# Train\n",
    "cf_train = ALS(train, f=200, lambda_=150, n_iter=10, alpha=40)\n",
    "cf_train.train()"
   ]
  },
  {
   "cell_type": "markdown",
   "metadata": {
    "collapsed": true
   },
   "source": [
    "### Movie Recommendation: MovieLens 100K Data\n",
    "\n",
    "- [MovieLens Data](http://grouplens.org/datasets/movielens/)\n",
    "```bash\n",
    "!curl -O http://files.grouplens.org/datasets/movielens/ml-100k.zip\n",
    "```"
   ]
  },
  {
   "cell_type": "code",
   "execution_count": 14,
   "metadata": {
    "collapsed": false
   },
   "outputs": [],
   "source": [
    "# Column names\n",
    "user_cols = ['user_id', 'age', 'gender', 'occupation', 'zip_code']\n",
    "item_cols = ['movie_id', 'title', 'release_date', 'video_release_date', 'imdb_url', 'unknown', 'action', 'adventure', 'animation', 'childrens', 'comedy', 'crime', 'documentary', 'drama', 'fantasy', 'film_noir', 'horror', 'musical', 'mystery', 'romance', 'scifi', 'thriller', 'war', 'western']                                                               \n",
    "ratings_cols = ['user_id', 'movie_id', 'rating', 'timestamp']"
   ]
  },
  {
   "cell_type": "code",
   "execution_count": 15,
   "metadata": {
    "collapsed": false
   },
   "outputs": [],
   "source": [
    "# Reading data files\n",
    "ratings = pd.read_csv('data/u.data', sep='\\t', names=ratings_cols)\n",
    "users = pd.read_csv('data/u.user', sep = '|', names = user_cols)\n",
    "movies = pd.read_csv('data/u.item', sep = '|', names = item_cols)"
   ]
  },
  {
   "cell_type": "code",
   "execution_count": 16,
   "metadata": {
    "collapsed": false
   },
   "outputs": [
    {
     "data": {
      "text/html": [
       "<div>\n",
       "<table border=\"1\" class=\"dataframe\">\n",
       "  <thead>\n",
       "    <tr style=\"text-align: right;\">\n",
       "      <th></th>\n",
       "      <th>user_id</th>\n",
       "      <th>movie_id</th>\n",
       "      <th>rating</th>\n",
       "      <th>timestamp</th>\n",
       "    </tr>\n",
       "  </thead>\n",
       "  <tbody>\n",
       "    <tr>\n",
       "      <th>0</th>\n",
       "      <td>196</td>\n",
       "      <td>242</td>\n",
       "      <td>3</td>\n",
       "      <td>881250949</td>\n",
       "    </tr>\n",
       "    <tr>\n",
       "      <th>1</th>\n",
       "      <td>186</td>\n",
       "      <td>302</td>\n",
       "      <td>3</td>\n",
       "      <td>891717742</td>\n",
       "    </tr>\n",
       "    <tr>\n",
       "      <th>2</th>\n",
       "      <td>22</td>\n",
       "      <td>377</td>\n",
       "      <td>1</td>\n",
       "      <td>878887116</td>\n",
       "    </tr>\n",
       "  </tbody>\n",
       "</table>\n",
       "</div>"
      ],
      "text/plain": [
       "   user_id  movie_id  rating  timestamp\n",
       "0      196       242       3  881250949\n",
       "1      186       302       3  891717742\n",
       "2       22       377       1  878887116"
      ]
     },
     "execution_count": 16,
     "metadata": {},
     "output_type": "execute_result"
    }
   ],
   "source": [
    "# Check: ratings\n",
    "ratings.head(3)"
   ]
  },
  {
   "cell_type": "code",
   "execution_count": 17,
   "metadata": {
    "collapsed": false
   },
   "outputs": [
    {
     "data": {
      "text/html": [
       "<div>\n",
       "<table border=\"1\" class=\"dataframe\">\n",
       "  <thead>\n",
       "    <tr style=\"text-align: right;\">\n",
       "      <th></th>\n",
       "      <th>user_id</th>\n",
       "      <th>age</th>\n",
       "      <th>gender</th>\n",
       "      <th>occupation</th>\n",
       "      <th>zip_code</th>\n",
       "    </tr>\n",
       "  </thead>\n",
       "  <tbody>\n",
       "    <tr>\n",
       "      <th>0</th>\n",
       "      <td>1</td>\n",
       "      <td>24</td>\n",
       "      <td>M</td>\n",
       "      <td>technician</td>\n",
       "      <td>85711</td>\n",
       "    </tr>\n",
       "    <tr>\n",
       "      <th>1</th>\n",
       "      <td>2</td>\n",
       "      <td>53</td>\n",
       "      <td>F</td>\n",
       "      <td>other</td>\n",
       "      <td>94043</td>\n",
       "    </tr>\n",
       "    <tr>\n",
       "      <th>2</th>\n",
       "      <td>3</td>\n",
       "      <td>23</td>\n",
       "      <td>M</td>\n",
       "      <td>writer</td>\n",
       "      <td>32067</td>\n",
       "    </tr>\n",
       "  </tbody>\n",
       "</table>\n",
       "</div>"
      ],
      "text/plain": [
       "   user_id  age gender  occupation zip_code\n",
       "0        1   24      M  technician    85711\n",
       "1        2   53      F       other    94043\n",
       "2        3   23      M      writer    32067"
      ]
     },
     "execution_count": 17,
     "metadata": {},
     "output_type": "execute_result"
    }
   ],
   "source": [
    "# Check: users\n",
    "users.head(3)"
   ]
  },
  {
   "cell_type": "code",
   "execution_count": 18,
   "metadata": {
    "collapsed": false
   },
   "outputs": [
    {
     "data": {
      "text/html": [
       "<div>\n",
       "<table border=\"1\" class=\"dataframe\">\n",
       "  <thead>\n",
       "    <tr style=\"text-align: right;\">\n",
       "      <th></th>\n",
       "      <th>movie_id</th>\n",
       "      <th>title</th>\n",
       "      <th>release_date</th>\n",
       "      <th>video_release_date</th>\n",
       "      <th>imdb_url</th>\n",
       "      <th>unknown</th>\n",
       "      <th>action</th>\n",
       "      <th>adventure</th>\n",
       "      <th>animation</th>\n",
       "      <th>childrens</th>\n",
       "      <th>...</th>\n",
       "      <th>fantasy</th>\n",
       "      <th>film_noir</th>\n",
       "      <th>horror</th>\n",
       "      <th>musical</th>\n",
       "      <th>mystery</th>\n",
       "      <th>romance</th>\n",
       "      <th>scifi</th>\n",
       "      <th>thriller</th>\n",
       "      <th>war</th>\n",
       "      <th>western</th>\n",
       "    </tr>\n",
       "  </thead>\n",
       "  <tbody>\n",
       "    <tr>\n",
       "      <th>0</th>\n",
       "      <td>1</td>\n",
       "      <td>Toy Story (1995)</td>\n",
       "      <td>01-Jan-1995</td>\n",
       "      <td>NaN</td>\n",
       "      <td>http://us.imdb.com/M/title-exact?Toy%20Story%2...</td>\n",
       "      <td>0</td>\n",
       "      <td>0</td>\n",
       "      <td>0</td>\n",
       "      <td>1</td>\n",
       "      <td>1</td>\n",
       "      <td>...</td>\n",
       "      <td>0</td>\n",
       "      <td>0</td>\n",
       "      <td>0</td>\n",
       "      <td>0</td>\n",
       "      <td>0</td>\n",
       "      <td>0</td>\n",
       "      <td>0</td>\n",
       "      <td>0</td>\n",
       "      <td>0</td>\n",
       "      <td>0</td>\n",
       "    </tr>\n",
       "    <tr>\n",
       "      <th>1</th>\n",
       "      <td>2</td>\n",
       "      <td>GoldenEye (1995)</td>\n",
       "      <td>01-Jan-1995</td>\n",
       "      <td>NaN</td>\n",
       "      <td>http://us.imdb.com/M/title-exact?GoldenEye%20(...</td>\n",
       "      <td>0</td>\n",
       "      <td>1</td>\n",
       "      <td>1</td>\n",
       "      <td>0</td>\n",
       "      <td>0</td>\n",
       "      <td>...</td>\n",
       "      <td>0</td>\n",
       "      <td>0</td>\n",
       "      <td>0</td>\n",
       "      <td>0</td>\n",
       "      <td>0</td>\n",
       "      <td>0</td>\n",
       "      <td>0</td>\n",
       "      <td>1</td>\n",
       "      <td>0</td>\n",
       "      <td>0</td>\n",
       "    </tr>\n",
       "    <tr>\n",
       "      <th>2</th>\n",
       "      <td>3</td>\n",
       "      <td>Four Rooms (1995)</td>\n",
       "      <td>01-Jan-1995</td>\n",
       "      <td>NaN</td>\n",
       "      <td>http://us.imdb.com/M/title-exact?Four%20Rooms%...</td>\n",
       "      <td>0</td>\n",
       "      <td>0</td>\n",
       "      <td>0</td>\n",
       "      <td>0</td>\n",
       "      <td>0</td>\n",
       "      <td>...</td>\n",
       "      <td>0</td>\n",
       "      <td>0</td>\n",
       "      <td>0</td>\n",
       "      <td>0</td>\n",
       "      <td>0</td>\n",
       "      <td>0</td>\n",
       "      <td>0</td>\n",
       "      <td>1</td>\n",
       "      <td>0</td>\n",
       "      <td>0</td>\n",
       "    </tr>\n",
       "  </tbody>\n",
       "</table>\n",
       "<p>3 rows × 24 columns</p>\n",
       "</div>"
      ],
      "text/plain": [
       "   movie_id              title release_date  video_release_date  \\\n",
       "0         1   Toy Story (1995)  01-Jan-1995                 NaN   \n",
       "1         2   GoldenEye (1995)  01-Jan-1995                 NaN   \n",
       "2         3  Four Rooms (1995)  01-Jan-1995                 NaN   \n",
       "\n",
       "                                            imdb_url  unknown  action  \\\n",
       "0  http://us.imdb.com/M/title-exact?Toy%20Story%2...        0       0   \n",
       "1  http://us.imdb.com/M/title-exact?GoldenEye%20(...        0       1   \n",
       "2  http://us.imdb.com/M/title-exact?Four%20Rooms%...        0       0   \n",
       "\n",
       "   adventure  animation  childrens   ...     fantasy  film_noir  horror  \\\n",
       "0          0          1          1   ...           0          0       0   \n",
       "1          1          0          0   ...           0          0       0   \n",
       "2          0          0          0   ...           0          0       0   \n",
       "\n",
       "   musical  mystery  romance  scifi  thriller  war  western  \n",
       "0        0        0        0      0         0    0        0  \n",
       "1        0        0        0      0         1    0        0  \n",
       "2        0        0        0      0         1    0        0  \n",
       "\n",
       "[3 rows x 24 columns]"
      ]
     },
     "execution_count": 18,
     "metadata": {},
     "output_type": "execute_result"
    }
   ],
   "source": [
    "# Check: movies\n",
    "movies.head(3)"
   ]
  },
  {
   "cell_type": "code",
   "execution_count": 19,
   "metadata": {
    "collapsed": false
   },
   "outputs": [
    {
     "name": "stdout",
     "output_type": "stream",
     "text": [
      "Ratings Dimensions: 100000 x 4\n",
      "Users Dimensions: 943 x 5\n",
      "Movies Dimensions: 1682 x 24\n"
     ]
    }
   ],
   "source": [
    "# Dataframe dimensions\n",
    "print 'Ratings Dimensions: {} x {}'.format(ratings.shape[0], ratings.shape[1])\n",
    "print 'Users Dimensions: {} x {}'.format(users.shape[0], users.shape[1])\n",
    "print 'Movies Dimensions: {} x {}'.format(movies.shape[0], movies.shape[1])"
   ]
  },
  {
   "cell_type": "code",
   "execution_count": 20,
   "metadata": {
    "collapsed": false
   },
   "outputs": [
    {
     "data": {
      "text/html": [
       "<div>\n",
       "<table border=\"1\" class=\"dataframe\">\n",
       "  <thead>\n",
       "    <tr style=\"text-align: right;\">\n",
       "      <th>movie_id</th>\n",
       "      <th>1</th>\n",
       "      <th>2</th>\n",
       "      <th>3</th>\n",
       "      <th>4</th>\n",
       "      <th>5</th>\n",
       "      <th>6</th>\n",
       "      <th>7</th>\n",
       "      <th>8</th>\n",
       "      <th>9</th>\n",
       "      <th>10</th>\n",
       "      <th>...</th>\n",
       "      <th>1673</th>\n",
       "      <th>1674</th>\n",
       "      <th>1675</th>\n",
       "      <th>1676</th>\n",
       "      <th>1677</th>\n",
       "      <th>1678</th>\n",
       "      <th>1679</th>\n",
       "      <th>1680</th>\n",
       "      <th>1681</th>\n",
       "      <th>1682</th>\n",
       "    </tr>\n",
       "    <tr>\n",
       "      <th>user_id</th>\n",
       "      <th></th>\n",
       "      <th></th>\n",
       "      <th></th>\n",
       "      <th></th>\n",
       "      <th></th>\n",
       "      <th></th>\n",
       "      <th></th>\n",
       "      <th></th>\n",
       "      <th></th>\n",
       "      <th></th>\n",
       "      <th></th>\n",
       "      <th></th>\n",
       "      <th></th>\n",
       "      <th></th>\n",
       "      <th></th>\n",
       "      <th></th>\n",
       "      <th></th>\n",
       "      <th></th>\n",
       "      <th></th>\n",
       "      <th></th>\n",
       "      <th></th>\n",
       "    </tr>\n",
       "  </thead>\n",
       "  <tbody>\n",
       "    <tr>\n",
       "      <th>1</th>\n",
       "      <td>5.0</td>\n",
       "      <td>3.0</td>\n",
       "      <td>4.0</td>\n",
       "      <td>3.0</td>\n",
       "      <td>3.0</td>\n",
       "      <td>5.0</td>\n",
       "      <td>4.0</td>\n",
       "      <td>1.0</td>\n",
       "      <td>5.0</td>\n",
       "      <td>3.0</td>\n",
       "      <td>...</td>\n",
       "      <td>NaN</td>\n",
       "      <td>NaN</td>\n",
       "      <td>NaN</td>\n",
       "      <td>NaN</td>\n",
       "      <td>NaN</td>\n",
       "      <td>NaN</td>\n",
       "      <td>NaN</td>\n",
       "      <td>NaN</td>\n",
       "      <td>NaN</td>\n",
       "      <td>NaN</td>\n",
       "    </tr>\n",
       "    <tr>\n",
       "      <th>2</th>\n",
       "      <td>4.0</td>\n",
       "      <td>NaN</td>\n",
       "      <td>NaN</td>\n",
       "      <td>NaN</td>\n",
       "      <td>NaN</td>\n",
       "      <td>NaN</td>\n",
       "      <td>NaN</td>\n",
       "      <td>NaN</td>\n",
       "      <td>NaN</td>\n",
       "      <td>2.0</td>\n",
       "      <td>...</td>\n",
       "      <td>NaN</td>\n",
       "      <td>NaN</td>\n",
       "      <td>NaN</td>\n",
       "      <td>NaN</td>\n",
       "      <td>NaN</td>\n",
       "      <td>NaN</td>\n",
       "      <td>NaN</td>\n",
       "      <td>NaN</td>\n",
       "      <td>NaN</td>\n",
       "      <td>NaN</td>\n",
       "    </tr>\n",
       "    <tr>\n",
       "      <th>3</th>\n",
       "      <td>NaN</td>\n",
       "      <td>NaN</td>\n",
       "      <td>NaN</td>\n",
       "      <td>NaN</td>\n",
       "      <td>NaN</td>\n",
       "      <td>NaN</td>\n",
       "      <td>NaN</td>\n",
       "      <td>NaN</td>\n",
       "      <td>NaN</td>\n",
       "      <td>NaN</td>\n",
       "      <td>...</td>\n",
       "      <td>NaN</td>\n",
       "      <td>NaN</td>\n",
       "      <td>NaN</td>\n",
       "      <td>NaN</td>\n",
       "      <td>NaN</td>\n",
       "      <td>NaN</td>\n",
       "      <td>NaN</td>\n",
       "      <td>NaN</td>\n",
       "      <td>NaN</td>\n",
       "      <td>NaN</td>\n",
       "    </tr>\n",
       "  </tbody>\n",
       "</table>\n",
       "<p>3 rows × 1682 columns</p>\n",
       "</div>"
      ],
      "text/plain": [
       "movie_id  1     2     3     4     5     6     7     8     9     10    ...   \\\n",
       "user_id                                                               ...    \n",
       "1          5.0   3.0   4.0   3.0   3.0   5.0   4.0   1.0   5.0   3.0  ...    \n",
       "2          4.0   NaN   NaN   NaN   NaN   NaN   NaN   NaN   NaN   2.0  ...    \n",
       "3          NaN   NaN   NaN   NaN   NaN   NaN   NaN   NaN   NaN   NaN  ...    \n",
       "\n",
       "movie_id  1673  1674  1675  1676  1677  1678  1679  1680  1681  1682  \n",
       "user_id                                                               \n",
       "1          NaN   NaN   NaN   NaN   NaN   NaN   NaN   NaN   NaN   NaN  \n",
       "2          NaN   NaN   NaN   NaN   NaN   NaN   NaN   NaN   NaN   NaN  \n",
       "3          NaN   NaN   NaN   NaN   NaN   NaN   NaN   NaN   NaN   NaN  \n",
       "\n",
       "[3 rows x 1682 columns]"
      ]
     },
     "execution_count": 20,
     "metadata": {},
     "output_type": "execute_result"
    }
   ],
   "source": [
    "# Pivot ratings dataframe\n",
    "df = ratings.pivot(index='user_id', columns='movie_id', values='rating')\n",
    "df.head(3)"
   ]
  },
  {
   "cell_type": "code",
   "execution_count": 21,
   "metadata": {
    "collapsed": false
   },
   "outputs": [
    {
     "data": {
      "text/html": [
       "<div>\n",
       "<table border=\"1\" class=\"dataframe\">\n",
       "  <thead>\n",
       "    <tr style=\"text-align: right;\">\n",
       "      <th>movie_id</th>\n",
       "      <th>1</th>\n",
       "      <th>2</th>\n",
       "      <th>3</th>\n",
       "      <th>4</th>\n",
       "      <th>5</th>\n",
       "      <th>6</th>\n",
       "      <th>7</th>\n",
       "      <th>8</th>\n",
       "      <th>9</th>\n",
       "      <th>10</th>\n",
       "      <th>...</th>\n",
       "      <th>1673</th>\n",
       "      <th>1674</th>\n",
       "      <th>1675</th>\n",
       "      <th>1676</th>\n",
       "      <th>1677</th>\n",
       "      <th>1678</th>\n",
       "      <th>1679</th>\n",
       "      <th>1680</th>\n",
       "      <th>1681</th>\n",
       "      <th>1682</th>\n",
       "    </tr>\n",
       "    <tr>\n",
       "      <th>user_id</th>\n",
       "      <th></th>\n",
       "      <th></th>\n",
       "      <th></th>\n",
       "      <th></th>\n",
       "      <th></th>\n",
       "      <th></th>\n",
       "      <th></th>\n",
       "      <th></th>\n",
       "      <th></th>\n",
       "      <th></th>\n",
       "      <th></th>\n",
       "      <th></th>\n",
       "      <th></th>\n",
       "      <th></th>\n",
       "      <th></th>\n",
       "      <th></th>\n",
       "      <th></th>\n",
       "      <th></th>\n",
       "      <th></th>\n",
       "      <th></th>\n",
       "      <th></th>\n",
       "    </tr>\n",
       "  </thead>\n",
       "  <tbody>\n",
       "    <tr>\n",
       "      <th>1</th>\n",
       "      <td>5.0</td>\n",
       "      <td>3.0</td>\n",
       "      <td>4.0</td>\n",
       "      <td>3.0</td>\n",
       "      <td>3.0</td>\n",
       "      <td>5.0</td>\n",
       "      <td>4.0</td>\n",
       "      <td>1.0</td>\n",
       "      <td>5.0</td>\n",
       "      <td>3.0</td>\n",
       "      <td>...</td>\n",
       "      <td>0.0</td>\n",
       "      <td>0.0</td>\n",
       "      <td>0.0</td>\n",
       "      <td>0.0</td>\n",
       "      <td>0.0</td>\n",
       "      <td>0.0</td>\n",
       "      <td>0.0</td>\n",
       "      <td>0.0</td>\n",
       "      <td>0.0</td>\n",
       "      <td>0.0</td>\n",
       "    </tr>\n",
       "    <tr>\n",
       "      <th>2</th>\n",
       "      <td>4.0</td>\n",
       "      <td>0.0</td>\n",
       "      <td>0.0</td>\n",
       "      <td>0.0</td>\n",
       "      <td>0.0</td>\n",
       "      <td>0.0</td>\n",
       "      <td>0.0</td>\n",
       "      <td>0.0</td>\n",
       "      <td>0.0</td>\n",
       "      <td>2.0</td>\n",
       "      <td>...</td>\n",
       "      <td>0.0</td>\n",
       "      <td>0.0</td>\n",
       "      <td>0.0</td>\n",
       "      <td>0.0</td>\n",
       "      <td>0.0</td>\n",
       "      <td>0.0</td>\n",
       "      <td>0.0</td>\n",
       "      <td>0.0</td>\n",
       "      <td>0.0</td>\n",
       "      <td>0.0</td>\n",
       "    </tr>\n",
       "    <tr>\n",
       "      <th>3</th>\n",
       "      <td>0.0</td>\n",
       "      <td>0.0</td>\n",
       "      <td>0.0</td>\n",
       "      <td>0.0</td>\n",
       "      <td>0.0</td>\n",
       "      <td>0.0</td>\n",
       "      <td>0.0</td>\n",
       "      <td>0.0</td>\n",
       "      <td>0.0</td>\n",
       "      <td>0.0</td>\n",
       "      <td>...</td>\n",
       "      <td>0.0</td>\n",
       "      <td>0.0</td>\n",
       "      <td>0.0</td>\n",
       "      <td>0.0</td>\n",
       "      <td>0.0</td>\n",
       "      <td>0.0</td>\n",
       "      <td>0.0</td>\n",
       "      <td>0.0</td>\n",
       "      <td>0.0</td>\n",
       "      <td>0.0</td>\n",
       "    </tr>\n",
       "  </tbody>\n",
       "</table>\n",
       "<p>3 rows × 1682 columns</p>\n",
       "</div>"
      ],
      "text/plain": [
       "movie_id  1     2     3     4     5     6     7     8     9     10    ...   \\\n",
       "user_id                                                               ...    \n",
       "1          5.0   3.0   4.0   3.0   3.0   5.0   4.0   1.0   5.0   3.0  ...    \n",
       "2          4.0   0.0   0.0   0.0   0.0   0.0   0.0   0.0   0.0   2.0  ...    \n",
       "3          0.0   0.0   0.0   0.0   0.0   0.0   0.0   0.0   0.0   0.0  ...    \n",
       "\n",
       "movie_id  1673  1674  1675  1676  1677  1678  1679  1680  1681  1682  \n",
       "user_id                                                               \n",
       "1          0.0   0.0   0.0   0.0   0.0   0.0   0.0   0.0   0.0   0.0  \n",
       "2          0.0   0.0   0.0   0.0   0.0   0.0   0.0   0.0   0.0   0.0  \n",
       "3          0.0   0.0   0.0   0.0   0.0   0.0   0.0   0.0   0.0   0.0  \n",
       "\n",
       "[3 rows x 1682 columns]"
      ]
     },
     "execution_count": 21,
     "metadata": {},
     "output_type": "execute_result"
    }
   ],
   "source": [
    "# Fill NaN with 0\n",
    "df = df.fillna(0)\n",
    "df.head(3)"
   ]
  },
  {
   "cell_type": "code",
   "execution_count": 22,
   "metadata": {
    "collapsed": false
   },
   "outputs": [
    {
     "data": {
      "text/html": [
       "<div>\n",
       "<table border=\"1\" class=\"dataframe\">\n",
       "  <thead>\n",
       "    <tr style=\"text-align: right;\">\n",
       "      <th>movie_id</th>\n",
       "      <th>1</th>\n",
       "      <th>2</th>\n",
       "      <th>3</th>\n",
       "      <th>4</th>\n",
       "      <th>5</th>\n",
       "      <th>6</th>\n",
       "      <th>7</th>\n",
       "      <th>8</th>\n",
       "      <th>9</th>\n",
       "      <th>10</th>\n",
       "      <th>...</th>\n",
       "      <th>1673</th>\n",
       "      <th>1674</th>\n",
       "      <th>1675</th>\n",
       "      <th>1676</th>\n",
       "      <th>1677</th>\n",
       "      <th>1678</th>\n",
       "      <th>1679</th>\n",
       "      <th>1680</th>\n",
       "      <th>1681</th>\n",
       "      <th>1682</th>\n",
       "    </tr>\n",
       "  </thead>\n",
       "  <tbody>\n",
       "    <tr>\n",
       "      <th>0</th>\n",
       "      <td>5.0</td>\n",
       "      <td>3.0</td>\n",
       "      <td>4.0</td>\n",
       "      <td>3.0</td>\n",
       "      <td>3.0</td>\n",
       "      <td>5.0</td>\n",
       "      <td>4.0</td>\n",
       "      <td>1.0</td>\n",
       "      <td>5.0</td>\n",
       "      <td>3.0</td>\n",
       "      <td>...</td>\n",
       "      <td>0.0</td>\n",
       "      <td>0.0</td>\n",
       "      <td>0.0</td>\n",
       "      <td>0.0</td>\n",
       "      <td>0.0</td>\n",
       "      <td>0.0</td>\n",
       "      <td>0.0</td>\n",
       "      <td>0.0</td>\n",
       "      <td>0.0</td>\n",
       "      <td>0.0</td>\n",
       "    </tr>\n",
       "    <tr>\n",
       "      <th>1</th>\n",
       "      <td>4.0</td>\n",
       "      <td>0.0</td>\n",
       "      <td>0.0</td>\n",
       "      <td>0.0</td>\n",
       "      <td>0.0</td>\n",
       "      <td>0.0</td>\n",
       "      <td>0.0</td>\n",
       "      <td>0.0</td>\n",
       "      <td>0.0</td>\n",
       "      <td>2.0</td>\n",
       "      <td>...</td>\n",
       "      <td>0.0</td>\n",
       "      <td>0.0</td>\n",
       "      <td>0.0</td>\n",
       "      <td>0.0</td>\n",
       "      <td>0.0</td>\n",
       "      <td>0.0</td>\n",
       "      <td>0.0</td>\n",
       "      <td>0.0</td>\n",
       "      <td>0.0</td>\n",
       "      <td>0.0</td>\n",
       "    </tr>\n",
       "    <tr>\n",
       "      <th>2</th>\n",
       "      <td>0.0</td>\n",
       "      <td>0.0</td>\n",
       "      <td>0.0</td>\n",
       "      <td>0.0</td>\n",
       "      <td>0.0</td>\n",
       "      <td>0.0</td>\n",
       "      <td>0.0</td>\n",
       "      <td>0.0</td>\n",
       "      <td>0.0</td>\n",
       "      <td>0.0</td>\n",
       "      <td>...</td>\n",
       "      <td>0.0</td>\n",
       "      <td>0.0</td>\n",
       "      <td>0.0</td>\n",
       "      <td>0.0</td>\n",
       "      <td>0.0</td>\n",
       "      <td>0.0</td>\n",
       "      <td>0.0</td>\n",
       "      <td>0.0</td>\n",
       "      <td>0.0</td>\n",
       "      <td>0.0</td>\n",
       "    </tr>\n",
       "  </tbody>\n",
       "</table>\n",
       "<p>3 rows × 1682 columns</p>\n",
       "</div>"
      ],
      "text/plain": [
       "movie_id  1     2     3     4     5     6     7     8     9     10    ...   \\\n",
       "0          5.0   3.0   4.0   3.0   3.0   5.0   4.0   1.0   5.0   3.0  ...    \n",
       "1          4.0   0.0   0.0   0.0   0.0   0.0   0.0   0.0   0.0   2.0  ...    \n",
       "2          0.0   0.0   0.0   0.0   0.0   0.0   0.0   0.0   0.0   0.0  ...    \n",
       "\n",
       "movie_id  1673  1674  1675  1676  1677  1678  1679  1680  1681  1682  \n",
       "0          0.0   0.0   0.0   0.0   0.0   0.0   0.0   0.0   0.0   0.0  \n",
       "1          0.0   0.0   0.0   0.0   0.0   0.0   0.0   0.0   0.0   0.0  \n",
       "2          0.0   0.0   0.0   0.0   0.0   0.0   0.0   0.0   0.0   0.0  \n",
       "\n",
       "[3 rows x 1682 columns]"
      ]
     },
     "execution_count": 22,
     "metadata": {},
     "output_type": "execute_result"
    }
   ],
   "source": [
    "# Remove multinidex\n",
    "df.reset_index(level=1, drop=True, inplace=True)\n",
    "df.head(3)"
   ]
  },
  {
   "cell_type": "code",
   "execution_count": 23,
   "metadata": {
    "collapsed": true
   },
   "outputs": [],
   "source": [
    "# Split data\n",
    "train, test = train_test_data_split(df.values, size=10)"
   ]
  },
  {
   "cell_type": "code",
   "execution_count": 24,
   "metadata": {
    "collapsed": false
   },
   "outputs": [
    {
     "name": "stdout",
     "output_type": "stream",
     "text": [
      "Iteration 0 finished in 264.204795122 seconds\n",
      "Iteration: 0 finished\n",
      "Iteration 1 finished in 253.880979061 seconds\n",
      "Iteration 2 finished in 284.837605 seconds\n",
      "Iteration 3 finished in 292.751945019 seconds\n",
      "Iteration 4 finished in 305.931890011 seconds\n",
      "Iteration 5 finished in 288.410207033 seconds\n",
      "Iteration: 5 finished\n",
      "Iteration 6 finished in 292.188296795 seconds\n",
      "Iteration 7 finished in 313.642348051 seconds\n",
      "Iteration 8 finished in 282.791094065 seconds\n",
      "Iteration 9 finished in 283.776102066 seconds\n"
     ]
    }
   ],
   "source": [
    "# ALS: train\n",
    "cf_train = ALS(train, f=200, lambda_=150, n_iter=10, alpha=40)\n",
    "cf_train.train()"
   ]
  },
  {
   "cell_type": "code",
   "execution_count": 356,
   "metadata": {
    "collapsed": false
   },
   "outputs": [
    {
     "name": "stdout",
     "output_type": "stream",
     "text": [
      "Training RMSE:  0.376504771204\n",
      "Testing RMSE:  0.435572109491\n"
     ]
    }
   ],
   "source": [
    "# ALS: test\n",
    "cf_test = als.ALS(test)\n",
    "P_test = cf_test.P\n",
    "train_mse = cf_train.mean_squared_error()\n",
    "test_mse = (((P_test - cf_train.predict()).flatten())**2).mean()\n",
    "print 'Training RMSE: ', np.sqrt(train_mse)\n",
    "print 'Testing RMSE: ', np.sqrt(test_mse)"
   ]
  },
  {
   "cell_type": "code",
   "execution_count": 26,
   "metadata": {
    "collapsed": false
   },
   "outputs": [
    {
     "name": "stdout",
     "output_type": "stream",
     "text": [
      "Iteration 0 finished in 286.542154074 seconds\n",
      "Iteration: 0 finished\n",
      "Iteration 1 finished in 284.339003801 seconds\n",
      "Iteration 2 finished in 280.470848083 seconds\n",
      "Iteration 3 finished in 267.441421986 seconds\n",
      "Iteration 4 finished in 266.843573809 seconds\n",
      "Iteration 5 finished in 266.393877983 seconds\n",
      "Iteration: 5 finished\n",
      "Iteration 6 finished in 266.13207078 seconds\n",
      "Iteration 7 finished in 266.171216011 seconds\n",
      "Iteration 8 finished in 265.779719114 seconds\n",
      "Iteration 9 finished in 265.388378859 seconds\n",
      "Iteration 10 finished in 266.022147894 seconds\n",
      "Iteration: 10 finished\n",
      "Iteration 11 finished in 258.995100021 seconds\n",
      "Iteration 12 finished in 266.111457109 seconds\n",
      "Iteration 13 finished in 267.261534929 seconds\n",
      "Iteration 14 finished in 266.813631773 seconds\n",
      "0.148698572397\n"
     ]
    }
   ],
   "source": [
    "# ALS: data (No hyperparameter optimization as it takes long time to train)\n",
    "cf = ALS(df.values, f=200, lambda_=150, n_iter=15, alpha=40)\n",
    "cf.train()\n",
    "cf.predict()\n",
    "print cf.mean_squared_error()"
   ]
  },
  {
   "cell_type": "code",
   "execution_count": 357,
   "metadata": {
    "collapsed": false
   },
   "outputs": [
    {
     "data": {
      "text/plain": [
       "0.38561453862224027"
      ]
     },
     "execution_count": 357,
     "metadata": {},
     "output_type": "execute_result"
    }
   ],
   "source": [
    "np.sqrt(cf.mean_squared_error())"
   ]
  },
  {
   "cell_type": "markdown",
   "metadata": {},
   "source": [
    "#### MSE = 0.149 obtained (this is good enough for demo web app)\n",
    "#### RMSE = 0.385 obtained (this is good enough for demo web app)"
   ]
  },
  {
   "cell_type": "code",
   "execution_count": 28,
   "metadata": {
    "collapsed": false
   },
   "outputs": [
    {
     "name": "stdout",
     "output_type": "stream",
     "text": [
      "(943, 200)\n",
      "(1682, 200)\n"
     ]
    }
   ],
   "source": [
    "# user-factor and item-factor matrix size\n",
    "print cf.X.shape\n",
    "print cf.Y.shape"
   ]
  },
  {
   "cell_type": "code",
   "execution_count": 73,
   "metadata": {
    "collapsed": true
   },
   "outputs": [],
   "source": [
    "# Save: item-factor matrix\n",
    "np.save('data/item_feature', cf.Y, allow_pickle=True, fix_imports=True)"
   ]
  },
  {
   "cell_type": "code",
   "execution_count": 368,
   "metadata": {
    "collapsed": true
   },
   "outputs": [],
   "source": [
    "# item-item cosine similarity\n",
    "from sklearn.metrics.pairwise import cosine_similarity\n",
    "movie_similarity = cosine_similarity(cf.Y)"
   ]
  },
  {
   "cell_type": "code",
   "execution_count": 369,
   "metadata": {
    "collapsed": false
   },
   "outputs": [],
   "source": [
    "# Get the indices of movies sorted in ascending order\n",
    "movie_index = np.argsort(movie_similarity)"
   ]
  },
  {
   "cell_type": "code",
   "execution_count": 370,
   "metadata": {
    "collapsed": false
   },
   "outputs": [
    {
     "name": "stdout",
     "output_type": "stream",
     "text": [
      "(1682, 5)\n"
     ]
    }
   ],
   "source": [
    "# Top 5 similar movie indices\n",
    "top_5_movie_idx = movie_index[:, movie_index.shape[1]-6:movie_index.shape[1]-1]\n",
    "print top_5_movie_idx.shape"
   ]
  },
  {
   "cell_type": "code",
   "execution_count": 54,
   "metadata": {
    "collapsed": false
   },
   "outputs": [
    {
     "name": "stdout",
     "output_type": "stream",
     "text": [
      "[[   0]\n",
      " [   1]\n",
      " [   2]\n",
      " ..., \n",
      " [1677]\n",
      " [1680]\n",
      " [1681]]\n"
     ]
    }
   ],
   "source": [
    "# Sorted similar movie index start from 0 while movie index start from 1: add 1 to top_5_movie_idx\n",
    "print movie_index[:, movie_index.shape[1]-1:]"
   ]
  },
  {
   "cell_type": "code",
   "execution_count": 56,
   "metadata": {
    "collapsed": false
   },
   "outputs": [],
   "source": [
    "# Final top 5 similar movie indices\n",
    "top_5_movie_idx = top_5_movie_idx + 1"
   ]
  },
  {
   "cell_type": "code",
   "execution_count": 65,
   "metadata": {
    "collapsed": false
   },
   "outputs": [],
   "source": [
    "# Cleaning movie titles\n",
    "movies['new_title'] = movies['title'].apply(lambda s: s[:-7])"
   ]
  },
  {
   "cell_type": "code",
   "execution_count": 67,
   "metadata": {
    "collapsed": false
   },
   "outputs": [
    {
     "data": {
      "text/html": [
       "<div>\n",
       "<table border=\"1\" class=\"dataframe\">\n",
       "  <thead>\n",
       "    <tr style=\"text-align: right;\">\n",
       "      <th></th>\n",
       "      <th>movie_id</th>\n",
       "      <th>old_title</th>\n",
       "      <th>title</th>\n",
       "    </tr>\n",
       "  </thead>\n",
       "  <tbody>\n",
       "    <tr>\n",
       "      <th>0</th>\n",
       "      <td>1</td>\n",
       "      <td>Toy Story (1995)</td>\n",
       "      <td>Toy Story</td>\n",
       "    </tr>\n",
       "    <tr>\n",
       "      <th>1</th>\n",
       "      <td>2</td>\n",
       "      <td>GoldenEye (1995)</td>\n",
       "      <td>GoldenEye</td>\n",
       "    </tr>\n",
       "    <tr>\n",
       "      <th>2</th>\n",
       "      <td>3</td>\n",
       "      <td>Four Rooms (1995)</td>\n",
       "      <td>Four Rooms</td>\n",
       "    </tr>\n",
       "  </tbody>\n",
       "</table>\n",
       "</div>"
      ],
      "text/plain": [
       "   movie_id          old_title       title\n",
       "0         1   Toy Story (1995)   Toy Story\n",
       "1         2   GoldenEye (1995)   GoldenEye\n",
       "2         3  Four Rooms (1995)  Four Rooms"
      ]
     },
     "execution_count": 67,
     "metadata": {},
     "output_type": "execute_result"
    }
   ],
   "source": [
    "movie_info = pd.read_csv('data/movie_info.csv')\n",
    "movie_info.head(3)"
   ]
  },
  {
   "cell_type": "code",
   "execution_count": 72,
   "metadata": {
    "collapsed": false
   },
   "outputs": [
    {
     "data": {
      "text/html": [
       "<div>\n",
       "<table border=\"1\" class=\"dataframe\">\n",
       "  <thead>\n",
       "    <tr style=\"text-align: right;\">\n",
       "      <th></th>\n",
       "      <th>movie_id</th>\n",
       "      <th>old_title</th>\n",
       "      <th>title</th>\n",
       "      <th>clean_title</th>\n",
       "    </tr>\n",
       "  </thead>\n",
       "  <tbody>\n",
       "    <tr>\n",
       "      <th>1679</th>\n",
       "      <td>1680</td>\n",
       "      <td>Sliding Doors (1998)</td>\n",
       "      <td>Sliding Doors</td>\n",
       "      <td>sliding doors</td>\n",
       "    </tr>\n",
       "    <tr>\n",
       "      <th>1680</th>\n",
       "      <td>1681</td>\n",
       "      <td>You So Crazy (1994)</td>\n",
       "      <td>You So Crazy</td>\n",
       "      <td>you so crazy</td>\n",
       "    </tr>\n",
       "    <tr>\n",
       "      <th>1681</th>\n",
       "      <td>1682</td>\n",
       "      <td>Scream of Stone (Schrei aus Stein) (1991)</td>\n",
       "      <td>Scream of Stone</td>\n",
       "      <td>scream of stone</td>\n",
       "    </tr>\n",
       "  </tbody>\n",
       "</table>\n",
       "</div>"
      ],
      "text/plain": [
       "      movie_id                                  old_title            title  \\\n",
       "1679      1680                       Sliding Doors (1998)    Sliding Doors   \n",
       "1680      1681                        You So Crazy (1994)     You So Crazy   \n",
       "1681      1682  Scream of Stone (Schrei aus Stein) (1991)  Scream of Stone   \n",
       "\n",
       "          clean_title  \n",
       "1679    sliding doors  \n",
       "1680     you so crazy  \n",
       "1681  scream of stone  "
      ]
     },
     "execution_count": 72,
     "metadata": {},
     "output_type": "execute_result"
    }
   ],
   "source": [
    "# Lower case the movie titles\n",
    "movie_info['clean_title'] = movie_info['title'].apply(lambda s: str(s).lower())\n",
    "movie_info.tail(3)"
   ]
  },
  {
   "cell_type": "markdown",
   "metadata": {},
   "source": [
    "#### Download movie posters from imdb"
   ]
  },
  {
   "cell_type": "code",
   "execution_count": 74,
   "metadata": {
    "collapsed": true
   },
   "outputs": [],
   "source": [
    "# Import library for web-scraping\n",
    "import urllib2\n",
    "from bs4 import BeautifulSoup"
   ]
  },
  {
   "cell_type": "code",
   "execution_count": 135,
   "metadata": {
    "collapsed": false
   },
   "outputs": [
    {
     "name": "stdout",
     "output_type": "stream",
     "text": [
      "https://images-na.ssl-images-amazon.com/images/M/MV5BMDU2ZWJlMjktMTRhMy00ZTA5LWEzNDgtYmNmZTEwZTViZWJkXkEyXkFqcGdeQXVyNDQ2OTk4MzI@._V1_UX182_CR0,0,182,268_AL_.jpg\n"
     ]
    }
   ],
   "source": [
    "# Trial\n",
    "url = movies['imdb_url'][0]\n",
    "html = urllib2.urlopen(url)\n",
    "bsObj = BeautifulSoup(html)\n",
    "for link in bsObj.find('div', {'class': 'poster'}).findAll('img'):\n",
    "    if 'src' in link.attrs:\n",
    "        print link.attrs['src']"
   ]
  },
  {
   "cell_type": "code",
   "execution_count": 136,
   "metadata": {
    "collapsed": false
   },
   "outputs": [
    {
     "data": {
      "text/plain": [
       "True"
      ]
     },
     "execution_count": 136,
     "metadata": {},
     "output_type": "execute_result"
    }
   ],
   "source": [
    "# Check\n",
    "url = 'http://us.imdb.com/Title?Yao+a+yao+yao+dao+waipo+qiao+(1995)'\n",
    "html = urllib2.urlopen(url)\n",
    "bsObj = BeautifulSoup(html)\n",
    "bsObj.find('div', {'class': 'poster'}) == None"
   ]
  },
  {
   "cell_type": "code",
   "execution_count": 143,
   "metadata": {
    "collapsed": true
   },
   "outputs": [],
   "source": [
    "# Function to scrape movie poster url\n",
    "def get_poster_url(url):\n",
    "    try:\n",
    "        html = urllib2.urlopen(url)\n",
    "        bsObj = BeautifulSoup(html)\n",
    "        temp = bsObj.find('div', {'class': 'poster'})\n",
    "        if temp == None:\n",
    "            return 'manual'\n",
    "        else:\n",
    "            links = bsObj.find('div', {'class': 'poster'}).findAll('img')\n",
    "            for link in links:\n",
    "                if 'src' in link.attrs:\n",
    "                    return link.attrs['src']\n",
    "    except:\n",
    "        return 'no link available'"
   ]
  },
  {
   "cell_type": "code",
   "execution_count": 144,
   "metadata": {
    "collapsed": false
   },
   "outputs": [],
   "source": [
    "# Scrape poster urls\n",
    "poster_urls = []\n",
    "for i, url in enumerate(movies['imdb_url']):\n",
    "    poster_urls.append((i+1, get_poster_url(url)))"
   ]
  },
  {
   "cell_type": "code",
   "execution_count": 151,
   "metadata": {
    "collapsed": true
   },
   "outputs": [],
   "source": [
    "# Add poster url info and imdb urls\n",
    "movie_info['poster_info'] = poster_urls\n",
    "movie_info['imdb_url'] = movies['imdb_url']\n",
    "movie_info['poster_url'] = movie_info['poster_info'].apply(lambda t: t[1])\n",
    "movie_info.to_csv('movie_poster_info.csv', index=False)"
   ]
  },
  {
   "cell_type": "code",
   "execution_count": 205,
   "metadata": {
    "collapsed": false
   },
   "outputs": [],
   "source": [
    "# Download images\n",
    "from urllib import urlretrieve\n",
    "\n",
    "def download_image(t):\n",
    "    temp = t[0]\n",
    "    label = 'image/image_' + str(temp) + '.jpg'\n",
    "    url = t[1]\n",
    "    if (url == 'manual') or (url == 'no link available'):\n",
    "        return None \n",
    "    else:\n",
    "        urlretrieve(url, label)"
   ]
  },
  {
   "cell_type": "code",
   "execution_count": 209,
   "metadata": {
    "collapsed": false
   },
   "outputs": [],
   "source": [
    "# Download image\n",
    "for t in poster_urls:\n",
    "    download_image(t)"
   ]
  },
  {
   "cell_type": "code",
   "execution_count": 183,
   "metadata": {
    "collapsed": false
   },
   "outputs": [
    {
     "data": {
      "text/html": [
       "<div>\n",
       "<table border=\"1\" class=\"dataframe\">\n",
       "  <thead>\n",
       "    <tr style=\"text-align: right;\">\n",
       "      <th></th>\n",
       "      <th>movie_id</th>\n",
       "      <th>old_title</th>\n",
       "      <th>title</th>\n",
       "      <th>clean_title</th>\n",
       "      <th>poster_info</th>\n",
       "      <th>imdb_url</th>\n",
       "      <th>poster_url</th>\n",
       "    </tr>\n",
       "  </thead>\n",
       "  <tbody>\n",
       "    <tr>\n",
       "      <th>0</th>\n",
       "      <td>1</td>\n",
       "      <td>Toy Story (1995)</td>\n",
       "      <td>Toy Story</td>\n",
       "      <td>toy story</td>\n",
       "      <td>(1, 'https://images-na.ssl-images-amazon.com/i...</td>\n",
       "      <td>http://us.imdb.com/M/title-exact?Toy%20Story%2...</td>\n",
       "      <td>https://images-na.ssl-images-amazon.com/images...</td>\n",
       "    </tr>\n",
       "    <tr>\n",
       "      <th>1</th>\n",
       "      <td>2</td>\n",
       "      <td>GoldenEye (1995)</td>\n",
       "      <td>GoldenEye</td>\n",
       "      <td>goldeneye</td>\n",
       "      <td>(2, 'https://images-na.ssl-images-amazon.com/i...</td>\n",
       "      <td>http://us.imdb.com/M/title-exact?GoldenEye%20(...</td>\n",
       "      <td>https://images-na.ssl-images-amazon.com/images...</td>\n",
       "    </tr>\n",
       "    <tr>\n",
       "      <th>2</th>\n",
       "      <td>3</td>\n",
       "      <td>Four Rooms (1995)</td>\n",
       "      <td>Four Rooms</td>\n",
       "      <td>four rooms</td>\n",
       "      <td>(3, 'https://images-na.ssl-images-amazon.com/i...</td>\n",
       "      <td>http://us.imdb.com/M/title-exact?Four%20Rooms%...</td>\n",
       "      <td>https://images-na.ssl-images-amazon.com/images...</td>\n",
       "    </tr>\n",
       "  </tbody>\n",
       "</table>\n",
       "</div>"
      ],
      "text/plain": [
       "   movie_id          old_title       title clean_title  \\\n",
       "0         1   Toy Story (1995)   Toy Story   toy story   \n",
       "1         2   GoldenEye (1995)   GoldenEye   goldeneye   \n",
       "2         3  Four Rooms (1995)  Four Rooms  four rooms   \n",
       "\n",
       "                                         poster_info  \\\n",
       "0  (1, 'https://images-na.ssl-images-amazon.com/i...   \n",
       "1  (2, 'https://images-na.ssl-images-amazon.com/i...   \n",
       "2  (3, 'https://images-na.ssl-images-amazon.com/i...   \n",
       "\n",
       "                                            imdb_url  \\\n",
       "0  http://us.imdb.com/M/title-exact?Toy%20Story%2...   \n",
       "1  http://us.imdb.com/M/title-exact?GoldenEye%20(...   \n",
       "2  http://us.imdb.com/M/title-exact?Four%20Rooms%...   \n",
       "\n",
       "                                          poster_url  \n",
       "0  https://images-na.ssl-images-amazon.com/images...  \n",
       "1  https://images-na.ssl-images-amazon.com/images...  \n",
       "2  https://images-na.ssl-images-amazon.com/images...  "
      ]
     },
     "execution_count": 183,
     "metadata": {},
     "output_type": "execute_result"
    }
   ],
   "source": [
    "# Manually added links\n",
    "movie_poster_info = pd.read_csv('data/movie_poster_info.csv')\n",
    "movie_poster_info.head(3)"
   ]
  },
  {
   "cell_type": "code",
   "execution_count": 190,
   "metadata": {
    "collapsed": false
   },
   "outputs": [],
   "source": [
    "# Select movies with manually entered imdb urls\n",
    "mask = ((movie_poster_info['poster_url'] == 'manual') | (movie_poster_info['poster_url'] == 'no link available'))\n",
    "temp = movie_poster_info[mask]"
   ]
  },
  {
   "cell_type": "code",
   "execution_count": 199,
   "metadata": {
    "collapsed": false
   },
   "outputs": [],
   "source": [
    "# Scrape poster urls\n",
    "manual_poster_url = []\n",
    "for i in range(temp.shape[0]):\n",
    "    a = temp.iloc[i,0]\n",
    "    b = temp.iloc[i,5]\n",
    "    manual_poster_url.append((a, get_poster_url(b)))"
   ]
  },
  {
   "cell_type": "code",
   "execution_count": 201,
   "metadata": {
    "collapsed": false
   },
   "outputs": [
    {
     "name": "stderr",
     "output_type": "stream",
     "text": [
      "/Applications/anaconda/lib/python2.7/site-packages/ipykernel/__main__.py:1: SettingWithCopyWarning: \n",
      "A value is trying to be set on a copy of a slice from a DataFrame.\n",
      "Try using .loc[row_indexer,col_indexer] = value instead\n",
      "\n",
      "See the caveats in the documentation: http://pandas.pydata.org/pandas-docs/stable/indexing.html#indexing-view-versus-copy\n",
      "  if __name__ == '__main__':\n"
     ]
    }
   ],
   "source": [
    "temp['manual_poster_url'] = manual_poster_url"
   ]
  },
  {
   "cell_type": "code",
   "execution_count": 202,
   "metadata": {
    "collapsed": false
   },
   "outputs": [
    {
     "data": {
      "text/html": [
       "<div>\n",
       "<table border=\"1\" class=\"dataframe\">\n",
       "  <thead>\n",
       "    <tr style=\"text-align: right;\">\n",
       "      <th></th>\n",
       "      <th>movie_id</th>\n",
       "      <th>old_title</th>\n",
       "      <th>title</th>\n",
       "      <th>clean_title</th>\n",
       "      <th>poster_info</th>\n",
       "      <th>imdb_url</th>\n",
       "      <th>poster_url</th>\n",
       "      <th>manual_poster_url</th>\n",
       "    </tr>\n",
       "  </thead>\n",
       "  <tbody>\n",
       "    <tr>\n",
       "      <th>5</th>\n",
       "      <td>6</td>\n",
       "      <td>Shanghai Triad (Yao a yao yao dao waipo qiao) ...</td>\n",
       "      <td>Shanghai Triad</td>\n",
       "      <td>shanghai triad</td>\n",
       "      <td>(6, 'manual')</td>\n",
       "      <td>http://www.imdb.com/title/tt0115012/</td>\n",
       "      <td>manual</td>\n",
       "      <td>(6, https://images-na.ssl-images-amazon.com/im...</td>\n",
       "    </tr>\n",
       "    <tr>\n",
       "      <th>11</th>\n",
       "      <td>12</td>\n",
       "      <td>Usual Suspects, The (1995)</td>\n",
       "      <td>The Usual Suspects</td>\n",
       "      <td>the usual suspects</td>\n",
       "      <td>(12, 'manual')</td>\n",
       "      <td>http://www.imdb.com/title/tt0114814/</td>\n",
       "      <td>manual</td>\n",
       "      <td>(12, https://images-na.ssl-images-amazon.com/i...</td>\n",
       "    </tr>\n",
       "    <tr>\n",
       "      <th>13</th>\n",
       "      <td>14</td>\n",
       "      <td>Postino, Il (1994)</td>\n",
       "      <td>Il Postino</td>\n",
       "      <td>il postino</td>\n",
       "      <td>(14, 'manual')</td>\n",
       "      <td>http://www.imdb.com/title/tt0110877/</td>\n",
       "      <td>manual</td>\n",
       "      <td>(14, https://images-na.ssl-images-amazon.com/i...</td>\n",
       "    </tr>\n",
       "  </tbody>\n",
       "</table>\n",
       "</div>"
      ],
      "text/plain": [
       "    movie_id                                          old_title  \\\n",
       "5          6  Shanghai Triad (Yao a yao yao dao waipo qiao) ...   \n",
       "11        12                         Usual Suspects, The (1995)   \n",
       "13        14                                 Postino, Il (1994)   \n",
       "\n",
       "                 title         clean_title     poster_info  \\\n",
       "5      Shanghai Triad      shanghai triad    (6, 'manual')   \n",
       "11  The Usual Suspects  the usual suspects  (12, 'manual')   \n",
       "13          Il Postino          il postino  (14, 'manual')   \n",
       "\n",
       "                                imdb_url poster_url  \\\n",
       "5   http://www.imdb.com/title/tt0115012/     manual   \n",
       "11  http://www.imdb.com/title/tt0114814/     manual   \n",
       "13  http://www.imdb.com/title/tt0110877/     manual   \n",
       "\n",
       "                                    manual_poster_url  \n",
       "5   (6, https://images-na.ssl-images-amazon.com/im...  \n",
       "11  (12, https://images-na.ssl-images-amazon.com/i...  \n",
       "13  (14, https://images-na.ssl-images-amazon.com/i...  "
      ]
     },
     "execution_count": 202,
     "metadata": {},
     "output_type": "execute_result"
    }
   ],
   "source": [
    "temp.head(3)"
   ]
  },
  {
   "cell_type": "code",
   "execution_count": 210,
   "metadata": {
    "collapsed": true
   },
   "outputs": [],
   "source": [
    "# Download image\n",
    "for t in manual_poster_url:\n",
    "    download_image(t)"
   ]
  },
  {
   "cell_type": "code",
   "execution_count": 204,
   "metadata": {
    "collapsed": false
   },
   "outputs": [
    {
     "name": "stderr",
     "output_type": "stream",
     "text": [
      "/Applications/anaconda/lib/python2.7/site-packages/ipykernel/__main__.py:1: SettingWithCopyWarning: \n",
      "A value is trying to be set on a copy of a slice from a DataFrame.\n",
      "Try using .loc[row_indexer,col_indexer] = value instead\n",
      "\n",
      "See the caveats in the documentation: http://pandas.pydata.org/pandas-docs/stable/indexing.html#indexing-view-versus-copy\n",
      "  if __name__ == '__main__':\n"
     ]
    }
   ],
   "source": [
    "temp['test'] = temp['manual_poster_url'].apply(lambda t: t[1])\n",
    "temp.to_csv('temp.csv', index=False)"
   ]
  },
  {
   "cell_type": "code",
   "execution_count": 386,
   "metadata": {
    "collapsed": false
   },
   "outputs": [
    {
     "name": "stdout",
     "output_type": "stream",
     "text": [
      "(1682, 11)\n"
     ]
    },
    {
     "data": {
      "text/plain": [
       "array([[  14,  126,  120, ...,  116,  150,    0],\n",
       "       [ 240,  577,  232, ...,  402,  230,    1],\n",
       "       [ 824,  823,  455, ..., 1046,  121,    2],\n",
       "       ..., \n",
       "       [1242, 1433, 1606, ..., 1679, 1678, 1677],\n",
       "       [1111, 1302,  797, ..., 1350, 1671, 1680],\n",
       "       [1207, 1266, 1112, ...,  766, 1596, 1681]])"
      ]
     },
     "execution_count": 386,
     "metadata": {},
     "output_type": "execute_result"
    }
   ],
   "source": [
    "# Top 10 similar movie indices\n",
    "top_10_movie_idx = movie_index[:, movie_index.shape[1]-11:]\n",
    "print top_10_movie_idx.shape\n",
    "top_10_movie_idx"
   ]
  },
  {
   "cell_type": "code",
   "execution_count": 387,
   "metadata": {
    "collapsed": true
   },
   "outputs": [],
   "source": [
    "# Final top 10 similar movie indices\n",
    "top_10_movie_idx = top_10_movie_idx + 1"
   ]
  },
  {
   "cell_type": "code",
   "execution_count": 388,
   "metadata": {
    "collapsed": false
   },
   "outputs": [
    {
     "data": {
      "text/plain": [
       "array([[  15,  127,  121, ...,  117,  151,    1],\n",
       "       [ 241,  578,  233, ...,  403,  231,    2],\n",
       "       [ 825,  824,  456, ..., 1047,  122,    3],\n",
       "       ..., \n",
       "       [1243, 1434, 1607, ..., 1680, 1679, 1678],\n",
       "       [1112, 1303,  798, ..., 1351, 1672, 1681],\n",
       "       [1208, 1267, 1113, ...,  767, 1597, 1682]])"
      ]
     },
     "execution_count": 388,
     "metadata": {},
     "output_type": "execute_result"
    }
   ],
   "source": [
    "top_10_movie_idx"
   ]
  },
  {
   "cell_type": "code",
   "execution_count": 215,
   "metadata": {
    "collapsed": true
   },
   "outputs": [],
   "source": [
    "movie_info.drop(['old_title', 'poster_info', 'imdb_url', 'poster_url'],inplace=True,axis=1)"
   ]
  },
  {
   "cell_type": "code",
   "execution_count": 217,
   "metadata": {
    "collapsed": false
   },
   "outputs": [],
   "source": [
    "movie_info['image_label'] = movie_info['movie_id'].apply(lambda i: 'image_' + str(i) + '.jpg')"
   ]
  },
  {
   "cell_type": "code",
   "execution_count": 219,
   "metadata": {
    "collapsed": false
   },
   "outputs": [],
   "source": [
    "movie_info.to_csv('movie_info_image_label.csv', index=False)"
   ]
  },
  {
   "cell_type": "code",
   "execution_count": 220,
   "metadata": {
    "collapsed": false
   },
   "outputs": [
    {
     "data": {
      "text/html": [
       "<div>\n",
       "<table border=\"1\" class=\"dataframe\">\n",
       "  <thead>\n",
       "    <tr style=\"text-align: right;\">\n",
       "      <th></th>\n",
       "      <th>movie_id</th>\n",
       "      <th>title</th>\n",
       "      <th>clean_title</th>\n",
       "      <th>image_label</th>\n",
       "    </tr>\n",
       "  </thead>\n",
       "  <tbody>\n",
       "    <tr>\n",
       "      <th>0</th>\n",
       "      <td>1</td>\n",
       "      <td>Toy Story</td>\n",
       "      <td>toy story</td>\n",
       "      <td>image_1.jpg</td>\n",
       "    </tr>\n",
       "    <tr>\n",
       "      <th>1</th>\n",
       "      <td>2</td>\n",
       "      <td>GoldenEye</td>\n",
       "      <td>goldeneye</td>\n",
       "      <td>image_2.jpg</td>\n",
       "    </tr>\n",
       "    <tr>\n",
       "      <th>2</th>\n",
       "      <td>3</td>\n",
       "      <td>Four Rooms</td>\n",
       "      <td>four rooms</td>\n",
       "      <td>image_3.jpg</td>\n",
       "    </tr>\n",
       "  </tbody>\n",
       "</table>\n",
       "</div>"
      ],
      "text/plain": [
       "   movie_id       title clean_title  image_label\n",
       "0         1   Toy Story   toy story  image_1.jpg\n",
       "1         2   GoldenEye   goldeneye  image_2.jpg\n",
       "2         3  Four Rooms  four rooms  image_3.jpg"
      ]
     },
     "execution_count": 220,
     "metadata": {},
     "output_type": "execute_result"
    }
   ],
   "source": [
    "movie_info.head(3)"
   ]
  },
  {
   "cell_type": "code",
   "execution_count": 267,
   "metadata": {
    "collapsed": false
   },
   "outputs": [],
   "source": [
    "xxx = []\n",
    "for i in range(11):\n",
    "    idx = top_10_movie_idx[10,:][i]\n",
    "    img = movie_info.iloc[idx-1,3]\n",
    "    lab = movie_info.iloc[idx-1,1]\n",
    "    xxx.append((img, lab))"
   ]
  },
  {
   "cell_type": "code",
   "execution_count": 268,
   "metadata": {
    "collapsed": false
   },
   "outputs": [
    {
     "data": {
      "text/plain": [
       "array([ 15, 127, 121, 222,   7,  50, 276, 181, 117, 151,   1])"
      ]
     },
     "execution_count": 268,
     "metadata": {},
     "output_type": "execute_result"
    }
   ],
   "source": [
    "top_10_movie_idx[0,:]"
   ]
  },
  {
   "cell_type": "code",
   "execution_count": 269,
   "metadata": {
    "collapsed": false
   },
   "outputs": [
    {
     "data": {
      "text/plain": [
       "[('image_79.jpg', 'The Fugitive'),\n",
       " ('image_176.jpg', 'Aliens'),\n",
       " ('image_357.jpg', \"One Flew Over the Cuckoo's Nest\"),\n",
       " ('image_174.jpg', 'Raiders of the Lost Ark'),\n",
       " ('image_28.jpg', 'Apollo 13'),\n",
       " ('image_144.jpg', 'Die Hard'),\n",
       " ('image_210.jpg', 'Indiana Jones and the Last Crusade'),\n",
       " ('image_183.jpg', 'Alien'),\n",
       " ('image_89.jpg', 'Blade Runner'),\n",
       " ('image_22.jpg', 'Braveheart'),\n",
       " ('image_11.jpg', 'Se7en')]"
      ]
     },
     "execution_count": 269,
     "metadata": {},
     "output_type": "execute_result"
    }
   ],
   "source": [
    "xxx"
   ]
  },
  {
   "cell_type": "code",
   "execution_count": 385,
   "metadata": {
    "collapsed": true
   },
   "outputs": [],
   "source": [
    "def helper(i, sim_array, df):\n",
    "    temp = []\n",
    "    for j in range(11):\n",
    "        idx = sim_array[i,:][j]\n",
    "        img = df.iloc[idx-1, 3]\n",
    "        lab = df.iloc[idx-1, 1]\n",
    "        temp.append((img, lab))\n",
    "    return temp"
   ]
  },
  {
   "cell_type": "code",
   "execution_count": 376,
   "metadata": {
    "collapsed": false
   },
   "outputs": [
    {
     "data": {
      "text/plain": [
       "[('image_241.jpg', 'The Last of the Mohicans'),\n",
       " ('image_578.jpg', 'Demolition Man'),\n",
       " ('image_233.jpg', 'Under Siege'),\n",
       " ('image_68.jpg', 'The Crow'),\n",
       " ('image_161.jpg', 'Top Gun'),\n",
       " ('image_550.jpg', 'Die Hard: With a Vengeance'),\n",
       " ('image_29.jpg', 'Batman Forever'),\n",
       " ('image_226.jpg', 'Die Hard 2'),\n",
       " ('image_403.jpg', 'Batman'),\n",
       " ('image_231.jpg', 'Batman Returns')]"
      ]
     },
     "execution_count": 376,
     "metadata": {},
     "output_type": "execute_result"
    }
   ],
   "source": [
    "helper(1, top_10_movie_idx, movie_info)"
   ]
  },
  {
   "cell_type": "code",
   "execution_count": 389,
   "metadata": {
    "collapsed": false
   },
   "outputs": [],
   "source": [
    "MOVIES = {}\n",
    "for i in range(movie_info.shape[0]):\n",
    "    fill = helper(i, top_10_movie_idx, movie_info)\n",
    "    MOVIES[movie_info.iloc[i, 2]] = {\"images\": {\"top_10\": fill[0][0],\n",
    "            \"top_9\": fill[1][0],\n",
    "            \"top_8\": fill[2][0],\n",
    "            \"top_7\": fill[3][0],\n",
    "            \"top_6\": fill[4][0],\n",
    "            \"top_5\": fill[5][0],\n",
    "            \"top_4\": fill[6][0],\n",
    "            \"top_3\": fill[7][0],\n",
    "            \"top_2\": fill[8][0],\n",
    "            \"top_1\": fill[9][0],\n",
    "            \"original\": fill[10][0]}, \n",
    " \"titles\": {\"top_10\": fill[0][1],\n",
    "            \"top_9\": fill[1][1],\n",
    "            \"top_8\": fill[2][1],\n",
    "            \"top_7\": fill[3][1],\n",
    "            \"top_6\": fill[4][1],\n",
    "            \"top_5\": fill[5][1],\n",
    "            \"top_4\": fill[6][1],\n",
    "            \"top_3\": fill[7][1],\n",
    "            \"top_2\": fill[8][1],\n",
    "            \"top_1\": fill[9][1],\n",
    "            \"original\": fill[10][1]}}"
   ]
  },
  {
   "cell_type": "code",
   "execution_count": 377,
   "metadata": {
    "collapsed": true
   },
   "outputs": [],
   "source": [
    "MOVIES = {}\n",
    "for i in range(movie_info.shape[0]):\n",
    "    fill = helper(i, top_10_movie_idx, movie_info)\n",
    "    MOVIES[movie_info.iloc[i, 2]] = {\"images\": {\"top_10\": fill[0][0],\n",
    "            \"top_9\": fill[1][0],\n",
    "            \"top_8\": fill[2][0],\n",
    "            \"top_7\": fill[3][0],\n",
    "            \"top_6\": fill[4][0],\n",
    "            \"top_5\": fill[5][0],\n",
    "            \"top_4\": fill[6][0],\n",
    "            \"top_3\": fill[7][0],\n",
    "            \"top_2\": fill[8][0],\n",
    "            \"top_1\": fill[9][0]}}"
   ]
  },
  {
   "cell_type": "code",
   "execution_count": 390,
   "metadata": {
    "collapsed": false
   },
   "outputs": [
    {
     "data": {
      "text/plain": [
       "{'images': {'original': 'image_1.jpg',\n",
       "  'top_1': 'image_151.jpg',\n",
       "  'top_10': 'image_15.jpg',\n",
       "  'top_2': 'image_117.jpg',\n",
       "  'top_3': 'image_181.jpg',\n",
       "  'top_4': 'image_276.jpg',\n",
       "  'top_5': 'image_50.jpg',\n",
       "  'top_6': 'image_7.jpg',\n",
       "  'top_7': 'image_222.jpg',\n",
       "  'top_8': 'image_121.jpg',\n",
       "  'top_9': 'image_127.jpg'},\n",
       " 'titles': {'original': 'Toy Story',\n",
       "  'top_1': 'Willy Wonka and the Chocolate Factory',\n",
       "  'top_10': \"Mr. Holland's Opus\",\n",
       "  'top_2': 'The Rock',\n",
       "  'top_3': 'Return of the Jedi',\n",
       "  'top_4': 'Leaving Las Vegas',\n",
       "  'top_5': 'Star Wars',\n",
       "  'top_6': 'Twelve Monkeys',\n",
       "  'top_7': 'Star Trek: First Contact',\n",
       "  'top_8': 'Independence Day',\n",
       "  'top_9': 'The Godfather'}}"
      ]
     },
     "execution_count": 390,
     "metadata": {},
     "output_type": "execute_result"
    }
   ],
   "source": [
    "MOVIES['toy story']"
   ]
  },
  {
   "cell_type": "code",
   "execution_count": 379,
   "metadata": {
    "collapsed": true
   },
   "outputs": [],
   "source": [
    "# Save the movie data\n",
    "import pickle\n",
    "\n",
    "# Save the vectorizer vocabulary: 'wb' - write in binary format\n",
    "with open('movies.pkl', 'wb') as output_file:\n",
    "    pickle.dump(MOVIES, output_file)"
   ]
  },
  {
   "cell_type": "code",
   "execution_count": 380,
   "metadata": {
    "collapsed": false
   },
   "outputs": [],
   "source": [
    "# Read the saved data\n",
    "TEST = pickle.load(open(\"model/movies.pkl\", 'rb'))"
   ]
  },
  {
   "cell_type": "code",
   "execution_count": 381,
   "metadata": {
    "collapsed": false
   },
   "outputs": [
    {
     "name": "stdout",
     "output_type": "stream",
     "text": [
      "0\n"
     ]
    }
   ],
   "source": [
    "if 'test' in TEST.keys():\n",
    "    print 1\n",
    "else:\n",
    "    print 0"
   ]
  },
  {
   "cell_type": "code",
   "execution_count": 382,
   "metadata": {
    "collapsed": false
   },
   "outputs": [],
   "source": [
    "def similar_movies(title):\n",
    "\tdata = pickle.load(open(\"model/movies.pkl\", 'rb'))\n",
    "\tif title in data.keys():\n",
    "\t\treturn data[title]\n",
    "\telse:\n",
    "\t\treturn 'movie not in database'"
   ]
  },
  {
   "cell_type": "code",
   "execution_count": 383,
   "metadata": {
    "collapsed": false
   },
   "outputs": [
    {
     "data": {
      "text/plain": [
       "'image_151.jpg'"
      ]
     },
     "execution_count": 383,
     "metadata": {},
     "output_type": "execute_result"
    }
   ],
   "source": [
    "similar_movies('toy story')['images']['top_1']"
   ]
  },
  {
   "cell_type": "code",
   "execution_count": 325,
   "metadata": {
    "collapsed": false
   },
   "outputs": [
    {
     "data": {
      "text/html": [
       "<div>\n",
       "<table border=\"1\" class=\"dataframe\">\n",
       "  <thead>\n",
       "    <tr style=\"text-align: right;\">\n",
       "      <th></th>\n",
       "      <th>movie_id</th>\n",
       "      <th>title</th>\n",
       "      <th>clean_title</th>\n",
       "      <th>image_label</th>\n",
       "    </tr>\n",
       "  </thead>\n",
       "  <tbody>\n",
       "    <tr>\n",
       "      <th>265</th>\n",
       "      <td>266</td>\n",
       "      <td>Kull the Conqueror</td>\n",
       "      <td>kull the conqueror</td>\n",
       "      <td>image_266.jpg</td>\n",
       "    </tr>\n",
       "    <tr>\n",
       "      <th>679</th>\n",
       "      <td>680</td>\n",
       "      <td>Kull the Conqueror</td>\n",
       "      <td>kull the conqueror</td>\n",
       "      <td>image_680.jpg</td>\n",
       "    </tr>\n",
       "  </tbody>\n",
       "</table>\n",
       "</div>"
      ],
      "text/plain": [
       "     movie_id               title         clean_title    image_label\n",
       "265       266  Kull the Conqueror  kull the conqueror  image_266.jpg\n",
       "679       680  Kull the Conqueror  kull the conqueror  image_680.jpg"
      ]
     },
     "execution_count": 325,
     "metadata": {},
     "output_type": "execute_result"
    }
   ],
   "source": [
    "movie_info[movie_info['title'] == 'Kull the Conqueror']"
   ]
  },
  {
   "cell_type": "code",
   "execution_count": 327,
   "metadata": {
    "collapsed": false
   },
   "outputs": [
    {
     "data": {
      "text/plain": [
       "movie_id                 267\n",
       "title                    NaN\n",
       "clean_title              nan\n",
       "image_label    image_267.jpg\n",
       "Name: 266, dtype: object"
      ]
     },
     "execution_count": 327,
     "metadata": {},
     "output_type": "execute_result"
    }
   ],
   "source": [
    "movie_info.ix[266]"
   ]
  },
  {
   "cell_type": "code",
   "execution_count": 326,
   "metadata": {
    "collapsed": false,
    "scrolled": false
   },
   "outputs": [
    {
     "name": "stdout",
     "output_type": "stream",
     "text": [
      "['Kull the Conqueror', nan, 'Chasing Amy', 'The Full Monty', 'Gattaca']\n"
     ]
    }
   ],
   "source": [
    "print list(movie_info['title'][265:270].values)"
   ]
  },
  {
   "cell_type": "code",
   "execution_count": 330,
   "metadata": {
    "collapsed": true
   },
   "outputs": [],
   "source": [
    "# Merging data: movies and ratings\n",
    "movie_ratings = pd.merge(movies, ratings, on = 'movie_id', how = 'inner')\n",
    "# Merging data: movie_ratings and user\n",
    "movieLens = pd.merge(movie_ratings, users, on = 'user_id', how = 'inner')"
   ]
  },
  {
   "cell_type": "code",
   "execution_count": 334,
   "metadata": {
    "collapsed": false
   },
   "outputs": [
    {
     "data": {
      "text/html": [
       "<div>\n",
       "<table border=\"1\" class=\"dataframe\">\n",
       "  <thead>\n",
       "    <tr style=\"text-align: right;\">\n",
       "      <th>gender</th>\n",
       "      <th>movie_id</th>\n",
       "      <th>F</th>\n",
       "      <th>M</th>\n",
       "      <th>rating_diff</th>\n",
       "    </tr>\n",
       "    <tr>\n",
       "      <th>title</th>\n",
       "      <th></th>\n",
       "      <th></th>\n",
       "      <th></th>\n",
       "      <th></th>\n",
       "    </tr>\n",
       "  </thead>\n",
       "  <tbody>\n",
       "    <tr>\n",
       "      <th>Toy Story (1995)</th>\n",
       "      <td>1</td>\n",
       "      <td>3.789916</td>\n",
       "      <td>3.909910</td>\n",
       "      <td>0.119994</td>\n",
       "    </tr>\n",
       "    <tr>\n",
       "      <th>GoldenEye (1995)</th>\n",
       "      <td>2</td>\n",
       "      <td>3.368421</td>\n",
       "      <td>3.178571</td>\n",
       "      <td>-0.189850</td>\n",
       "    </tr>\n",
       "    <tr>\n",
       "      <th>Four Rooms (1995)</th>\n",
       "      <td>3</td>\n",
       "      <td>2.687500</td>\n",
       "      <td>3.108108</td>\n",
       "      <td>0.420608</td>\n",
       "    </tr>\n",
       "    <tr>\n",
       "      <th>Get Shorty (1995)</th>\n",
       "      <td>4</td>\n",
       "      <td>3.400000</td>\n",
       "      <td>3.591463</td>\n",
       "      <td>0.191463</td>\n",
       "    </tr>\n",
       "    <tr>\n",
       "      <th>Copycat (1995)</th>\n",
       "      <td>5</td>\n",
       "      <td>3.772727</td>\n",
       "      <td>3.140625</td>\n",
       "      <td>-0.632102</td>\n",
       "    </tr>\n",
       "  </tbody>\n",
       "</table>\n",
       "</div>"
      ],
      "text/plain": [
       "gender             movie_id         F         M  rating_diff\n",
       "title                                                       \n",
       "Toy Story (1995)          1  3.789916  3.909910     0.119994\n",
       "GoldenEye (1995)          2  3.368421  3.178571    -0.189850\n",
       "Four Rooms (1995)         3  2.687500  3.108108     0.420608\n",
       "Get Shorty (1995)         4  3.400000  3.591463     0.191463\n",
       "Copycat (1995)            5  3.772727  3.140625    -0.632102"
      ]
     },
     "execution_count": 334,
     "metadata": {},
     "output_type": "execute_result"
    }
   ],
   "source": [
    "# Mean rating difference between male and female: Did they rate movies similarly?\n",
    "mean_gender_rating = movieLens.pivot_table(index = ['movie_id','title'], columns = 'gender', values = 'rating', aggfunc = 'mean', fill_value = 0)\n",
    "mean_gender_rating['rating_diff'] = mean_gender_rating['M'] - mean_gender_rating['F']\n",
    "#mean_gender_rating.sort(columns = 'rating_diff', ascending = True).head()\n",
    "mean_gender_rating.reset_index('movie_id', inplace = True)\n",
    "mean_gender_rating.head()"
   ]
  },
  {
   "cell_type": "code",
   "execution_count": 350,
   "metadata": {
    "collapsed": false
   },
   "outputs": [
    {
     "name": "stderr",
     "output_type": "stream",
     "text": [
      "/Applications/anaconda/lib/python2.7/site-packages/ipykernel/__main__.py:2: FutureWarning: order is deprecated, use sort_values(...)\n",
      "  from ipykernel import kernelapp as app\n"
     ]
    }
   ],
   "source": [
    "# 70 most rated movies\n",
    "most_rated = movieLens.groupby('movie_id').size().order(ascending = False)[:75]\n",
    "most_rated_index = most_rated.index"
   ]
  },
  {
   "cell_type": "code",
   "execution_count": 351,
   "metadata": {
    "collapsed": true
   },
   "outputs": [],
   "source": [
    "gender_rating_difference = mean_gender_rating[mean_gender_rating['movie_id'].isin(most_rated_index)]"
   ]
  },
  {
   "cell_type": "code",
   "execution_count": 353,
   "metadata": {
    "collapsed": false
   },
   "outputs": [
    {
     "name": "stderr",
     "output_type": "stream",
     "text": [
      "/Applications/anaconda/lib/python2.7/site-packages/ipykernel/__main__.py:1: FutureWarning: order is deprecated, use sort_values(...)\n",
      "  if __name__ == '__main__':\n"
     ]
    },
    {
     "data": {
      "image/png": "[encoded data removed]",
      "text/plain": [
       "<matplotlib.figure.Figure at 0x1279b47d0>"
      ]
     },
     "metadata": {},
     "output_type": "display_data"
    }
   ],
   "source": [
    "diff = gender_rating_difference['rating_diff'].order()\n",
    "diff.plot(kind = 'barh', figsize = [8, 15])\n",
    "plt.title('Male Vs Female Average Rating Difference (Positive Difference indicate Men favored the movie)', fontsize=16)\n",
    "plt.xlabel('Average Rating Difference', fontsize=16)\n",
    "plt.ylabel('Movie Title', fontsize=16)\n",
    "#plt.savefig(\"out.jpg\", dpi=150)"
   ]
  },
  {
   "cell_type": "code",
   "execution_count": 354,
   "metadata": {
    "collapsed": false
   },
   "outputs": [
    {
     "data": {
      "text/plain": [
       "34.051961823966067"
      ]
     },
     "execution_count": 354,
     "metadata": {},
     "output_type": "execute_result"
    }
   ],
   "source": [
    "np.mean(users['age'])"
   ]
  },
  {
   "cell_type": "code",
   "execution_count": null,
   "metadata": {
    "collapsed": true
   },
   "outputs": [],
   "source": []
  },
  {
   "cell_type": "code",
   "execution_count": null,
   "metadata": {
    "collapsed": true
   },
   "outputs": [],
   "source": []
  },
  {
   "cell_type": "code",
   "execution_count": null,
   "metadata": {
    "collapsed": true
   },
   "outputs": [],
   "source": []
  },
  {
   "cell_type": "code",
   "execution_count": null,
   "metadata": {
    "collapsed": true
   },
   "outputs": [],
   "source": []
  }
 ],
 "metadata": {
  "kernelspec": {
   "display_name": "Python 2",
   "language": "python",
   "name": "python2"
  },
  "language_info": {
   "codemirror_mode": {
    "name": "ipython",
    "version": 2
   },
   "file_extension": ".py",
   "mimetype": "text/x-python",
   "name": "python",
   "nbconvert_exporter": "python",
   "pygments_lexer": "ipython2",
   "version": "2.7.12"
  }
 },
 "nbformat": 4,
 "nbformat_minor": 0
}
