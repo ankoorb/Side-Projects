{
 "cells": [
  {
   "cell_type": "markdown",
   "metadata": {},
   "source": [
    "## Table of Contents\n",
    "\n",
    "* [Part 1 Data Analysis and Simple Model](#Part-1-Data-Analysis-and-Simple-Model)\n",
    "* [Part 2 Web Scraping and Simple n grams](#Part-2-Web-Scraping-and-Simple-n-grams) \n",
    "* [Part 3 Memoizer](#Part-3-Memoizer) "
   ]
  },
  {
   "cell_type": "markdown",
   "metadata": {},
   "source": [
    "### Part 1 Data Analysis and Simple Model \n",
    "\n",
    "---\n",
    "\n",
    "> **1. Methodology**\n",
    "\n",
    "For predicting *ClosePrice* given the housing data attributes here are the steps I followed:\n",
    "1. Exploratory Data Analysis\n",
    "    - Generated initial statistics like: count, mean, standard deviation\n",
    "    - Removed rows where \"ClosePrice\" values were missing\n",
    "    - Removed *outliers* from \"LivingArea\" feature\n",
    "    - Removed *outliers* from \"ListPrice\" feature\n",
    "2. Feature Engineering\n",
    "    - Created new feature \"NumDays\" = \"CloseDate\" - \"ListDate\"\n",
    "    - Created *Dummy Variables* for features: \"Pool\", \"ListingStatus\", and \"DwellingType\"\n",
    "    - Kept (categories - 1) *Dummy Variables* by removing a few - To take care of *Multicollinearity* problem\n",
    "    \n",
    "3. Linear Regression (multi-variable) with ListPrice\n",
    "    - Train-Test split: 70% train and 30% test\n",
    "4. Linear Regression (multi-variable) without ListPrice\n",
    "    - Train-Test split: 70% train and 30% test\n",
    "5. Calculated *term frequency–inverse document frequency* matrix\n",
    "    - tf-idf was computed in Feature Engineering step, however tf-idf was not included in modeling because of storage issues on my Macbook Air\n",
    "\n",
    "\n",
    "I chose multivariable linear regression model because it is simple and easy to interpret.\n",
    "\n",
    "\n",
    "---\n",
    "\n",
    "> **2. Excluding \"ListPrice\"**\n",
    "\n",
    "**Linear model with \"ListPrice\" performs much better** than linear model without \"ListPrice\". For the linear model with \"ListPrice\", I used *t-test* to test the significance the coefficient of \"ListPrice\" and found that it is significant (p-value = 0.0, which is less than alpha = 0.05). Model performance results can be seen in the next section.\n",
    "\n",
    "---\n",
    "\n",
    "> **3. Model Performance and Error Metrics**\n",
    "\n",
    "I used 4 error matrices: Mean Squared Error (MSE), Root Mean squared Error (RMSE), $R^2$, and $\\bar{R^2}$. Please check the table belo:\n",
    "\n",
    "|Metrics   \t|Model with ListPrice   \t|Model without ListPrice   \t| \n",
    "|:-:\t|:-:\t|:-:\t|\n",
    "|   MSE\t|   98653745.6145\t|   7324505212.41\t|   \t\n",
    "|   RMSE\t|   9932.45919269 \t|   85583.3232144\t|  \n",
    "|   $R^2$\t|   0.994663069103\t|   0.603761844691\t|  \n",
    "|    $\\bar{R}^2$*       |    0.999   |    0.894   |    \n",
    "\n",
    "\n",
    "Linear model with ListPrice predicts almost perfectly ($\\bar{R}^2$ = 0.999), however there is a possibility of overfitting and even after removing outliers (conservatively), there are still lot of outliers remaining. Please check the plots for LivingArea and ListPrice (right tailed histograms)\n",
    "\n",
    "Note: * $\\bar{R}^2$ was calculated without intercept\n",
    "\n",
    "---\n",
    "\n",
    "> **4. Model Improvement** \n",
    "\n",
    "The model can be improved by:\n",
    "\n",
    "    - Removing outliers\n",
    "    - Transforming independent variables when their relationship with dependent variable is non-linear\n",
    "    - Perform a k-fold crossvalidation\n",
    "    - Regression with regularization (Lasso, Ridge) to solve overfitting\n",
    "\n",
    "---"
   ]
  },
  {
   "cell_type": "code",
   "execution_count": 1,
   "metadata": {
    "collapsed": true
   },
   "outputs": [],
   "source": [
    "# special IPython command to prepare the notebook for matplotlib\n",
    "%matplotlib inline \n",
    "\n",
    "import numpy as np\n",
    "import pandas as pd\n",
    "import matplotlib.pyplot as plt\n",
    "import seaborn as sns"
   ]
  },
  {
   "cell_type": "code",
   "execution_count": 2,
   "metadata": {
    "collapsed": false
   },
   "outputs": [
    {
     "name": "stdout",
     "output_type": "stream",
     "text": [
      "Simple_Housing_Model.ipynb        data_sci_snippet.csv\r\n",
      "TakeHomeProblem-DataScientist.pdf test.csv\r\n"
     ]
    }
   ],
   "source": [
    "!ls"
   ]
  },
  {
   "cell_type": "code",
   "execution_count": 3,
   "metadata": {
    "collapsed": false
   },
   "outputs": [
    {
     "data": {
      "text/html": [
       "<div style=\"max-height:1000px;max-width:1500px;overflow:auto;\">\n",
       "<table border=\"1\" class=\"dataframe\">\n",
       "  <thead>\n",
       "    <tr style=\"text-align: right;\">\n",
       "      <th></th>\n",
       "      <th>ListingId</th>\n",
       "      <th>LivingArea</th>\n",
       "      <th>NumBedrooms</th>\n",
       "      <th>NumBaths</th>\n",
       "      <th>Pool</th>\n",
       "      <th>ExteriorStories</th>\n",
       "      <th>ListDate</th>\n",
       "      <th>ListPrice</th>\n",
       "      <th>GeoLat</th>\n",
       "      <th>GeoLon</th>\n",
       "      <th>PublicRemarks</th>\n",
       "      <th>CloseDate</th>\n",
       "      <th>ClosePrice</th>\n",
       "      <th>ListingStatus</th>\n",
       "      <th>DwellingType</th>\n",
       "    </tr>\n",
       "  </thead>\n",
       "  <tbody>\n",
       "    <tr>\n",
       "      <th>0</th>\n",
       "      <td> 5077399</td>\n",
       "      <td> 3054</td>\n",
       "      <td> 4</td>\n",
       "      <td> 2.5</td>\n",
       "      <td> Private</td>\n",
       "      <td> 1</td>\n",
       "      <td>2014-03-04</td>\n",
       "      <td> 675000</td>\n",
       "      <td> 33.593239</td>\n",
       "      <td>-111.961056</td>\n",
       "      <td> This property OUTSTANDING offers outdoor livin...</td>\n",
       "      <td>       NaT</td>\n",
       "      <td>    NaN</td>\n",
       "      <td> Cancelled</td>\n",
       "      <td> Single Family - Detached</td>\n",
       "    </tr>\n",
       "    <tr>\n",
       "      <th>1</th>\n",
       "      <td> 5077408</td>\n",
       "      <td> 2230</td>\n",
       "      <td> 4</td>\n",
       "      <td> 2.0</td>\n",
       "      <td> Private</td>\n",
       "      <td> 1</td>\n",
       "      <td>2014-03-01</td>\n",
       "      <td> 475000</td>\n",
       "      <td> 33.650984</td>\n",
       "      <td>-111.963151</td>\n",
       "      <td> Very special home in popular Arabian Views fee...</td>\n",
       "      <td>2014-06-24</td>\n",
       "      <td> 460000</td>\n",
       "      <td>    Closed</td>\n",
       "      <td> Single Family - Detached</td>\n",
       "    </tr>\n",
       "    <tr>\n",
       "      <th>2</th>\n",
       "      <td> 5077486</td>\n",
       "      <td> 1601</td>\n",
       "      <td> 3</td>\n",
       "      <td> 2.0</td>\n",
       "      <td> Private</td>\n",
       "      <td> 1</td>\n",
       "      <td>2014-03-01</td>\n",
       "      <td> 279900</td>\n",
       "      <td> 33.692122</td>\n",
       "      <td>-112.038019</td>\n",
       "      <td> Welcome home to a beautiful remodeled. Single ...</td>\n",
       "      <td>2014-07-15</td>\n",
       "      <td> 279900</td>\n",
       "      <td>    Closed</td>\n",
       "      <td> Single Family - Detached</td>\n",
       "    </tr>\n",
       "  </tbody>\n",
       "</table>\n",
       "</div>"
      ],
      "text/plain": [
       "   ListingId  LivingArea  NumBedrooms  NumBaths     Pool  ExteriorStories  \\\n",
       "0    5077399        3054            4       2.5  Private                1   \n",
       "1    5077408        2230            4       2.0  Private                1   \n",
       "2    5077486        1601            3       2.0  Private                1   \n",
       "\n",
       "    ListDate  ListPrice     GeoLat      GeoLon  \\\n",
       "0 2014-03-04     675000  33.593239 -111.961056   \n",
       "1 2014-03-01     475000  33.650984 -111.963151   \n",
       "2 2014-03-01     279900  33.692122 -112.038019   \n",
       "\n",
       "                                       PublicRemarks  CloseDate  ClosePrice  \\\n",
       "0  This property OUTSTANDING offers outdoor livin...        NaT         NaN   \n",
       "1  Very special home in popular Arabian Views fee... 2014-06-24      460000   \n",
       "2  Welcome home to a beautiful remodeled. Single ... 2014-07-15      279900   \n",
       "\n",
       "  ListingStatus              DwellingType  \n",
       "0     Cancelled  Single Family - Detached  \n",
       "1        Closed  Single Family - Detached  \n",
       "2        Closed  Single Family - Detached  "
      ]
     },
     "execution_count": 3,
     "metadata": {},
     "output_type": "execute_result"
    }
   ],
   "source": [
    "# Read data\n",
    "df = pd.read_csv('data_sci_snippet.csv', parse_dates = [6, 11])\n",
    "df.head(3)"
   ]
  },
  {
   "cell_type": "code",
   "execution_count": 4,
   "metadata": {
    "collapsed": false
   },
   "outputs": [
    {
     "name": "stdout",
     "output_type": "stream",
     "text": [
      "['ListingId' 'LivingArea' 'NumBedrooms' 'NumBaths' 'Pool' 'ExteriorStories'\n",
      " 'ListDate' 'ListPrice' 'GeoLat' 'GeoLon' 'PublicRemarks' 'CloseDate'\n",
      " 'ClosePrice' 'ListingStatus' 'DwellingType']\n"
     ]
    }
   ],
   "source": [
    "print df.columns.values"
   ]
  },
  {
   "cell_type": "markdown",
   "metadata": {},
   "source": [
    "#### Some features to consider while predicting ClosePrice:\n",
    "- Number of days between ListDate and CloseDate\n",
    "- Proximity to Schools\n",
    "- Proximity to Grocery Stores/Shops/Entertainment areas\n",
    "- Proximity to freeway/major arterials\n",
    "- Proximity to Employment centers\n",
    "- Crime rate in the area\n",
    "- Pollution levels\n",
    "- Age of the unit"
   ]
  },
  {
   "cell_type": "code",
   "execution_count": 5,
   "metadata": {
    "collapsed": false
   },
   "outputs": [
    {
     "name": "stdout",
     "output_type": "stream",
     "text": [
      "# of Rows: 57258 and # of Columns: 15\n",
      "# of unique Listing Ids:  57258\n"
     ]
    }
   ],
   "source": [
    "print '# of Rows: {} and # of Columns: {}'.format(df.shape[0], df.shape[1])\n",
    "print '# of unique Listing Ids: ', len(df['ListingId'].unique())"
   ]
  },
  {
   "cell_type": "markdown",
   "metadata": {},
   "source": [
    "## EDA"
   ]
  },
  {
   "cell_type": "code",
   "execution_count": 6,
   "metadata": {
    "collapsed": false
   },
   "outputs": [
    {
     "data": {
      "text/html": [
       "<div style=\"max-height:1000px;max-width:1500px;overflow:auto;\">\n",
       "<table border=\"1\" class=\"dataframe\">\n",
       "  <thead>\n",
       "    <tr style=\"text-align: right;\">\n",
       "      <th></th>\n",
       "      <th>ListingId</th>\n",
       "      <th>LivingArea</th>\n",
       "      <th>NumBedrooms</th>\n",
       "      <th>NumBaths</th>\n",
       "      <th>ExteriorStories</th>\n",
       "      <th>ListPrice</th>\n",
       "      <th>GeoLat</th>\n",
       "      <th>GeoLon</th>\n",
       "      <th>ClosePrice</th>\n",
       "    </tr>\n",
       "  </thead>\n",
       "  <tbody>\n",
       "    <tr>\n",
       "      <th>count</th>\n",
       "      <td>   57258.000000</td>\n",
       "      <td>   57049.000000</td>\n",
       "      <td> 57258.000000</td>\n",
       "      <td> 57258.000000</td>\n",
       "      <td> 57258.000000</td>\n",
       "      <td>    57258.000000</td>\n",
       "      <td> 57159.000000</td>\n",
       "      <td> 57159.000000</td>\n",
       "      <td>   37934.000000</td>\n",
       "    </tr>\n",
       "    <tr>\n",
       "      <th>mean</th>\n",
       "      <td> 5120967.533777</td>\n",
       "      <td>    2239.875998</td>\n",
       "      <td>     3.291802</td>\n",
       "      <td>     2.386840</td>\n",
       "      <td>     1.374480</td>\n",
       "      <td>   289744.089280</td>\n",
       "      <td>    33.509309</td>\n",
       "      <td>  -111.985059</td>\n",
       "      <td>  240640.726314</td>\n",
       "    </tr>\n",
       "    <tr>\n",
       "      <th>std</th>\n",
       "      <td>   25448.785984</td>\n",
       "      <td>   41870.559466</td>\n",
       "      <td>     0.974414</td>\n",
       "      <td>     5.175299</td>\n",
       "      <td>     0.863922</td>\n",
       "      <td>   349387.183416</td>\n",
       "      <td>     0.311303</td>\n",
       "      <td>     0.383118</td>\n",
       "      <td>  197364.706939</td>\n",
       "    </tr>\n",
       "    <tr>\n",
       "      <th>min</th>\n",
       "      <td> 5077399.000000</td>\n",
       "      <td>       0.000000</td>\n",
       "      <td>     0.000000</td>\n",
       "      <td>     0.000000</td>\n",
       "      <td>     1.000000</td>\n",
       "      <td>      750.000000</td>\n",
       "      <td>    30.214099</td>\n",
       "      <td>  -151.064452</td>\n",
       "      <td>       1.000000</td>\n",
       "    </tr>\n",
       "    <tr>\n",
       "      <th>25%</th>\n",
       "      <td> 5098855.250000</td>\n",
       "      <td>    1427.000000</td>\n",
       "      <td>     3.000000</td>\n",
       "      <td>     2.000000</td>\n",
       "      <td>     1.000000</td>\n",
       "      <td>   149900.000000</td>\n",
       "      <td>    33.364152</td>\n",
       "      <td>  -112.195982</td>\n",
       "      <td>  140000.000000</td>\n",
       "    </tr>\n",
       "    <tr>\n",
       "      <th>50%</th>\n",
       "      <td> 5120463.500000</td>\n",
       "      <td>    1837.000000</td>\n",
       "      <td>     3.000000</td>\n",
       "      <td>     2.000000</td>\n",
       "      <td>     1.000000</td>\n",
       "      <td>   215000.000000</td>\n",
       "      <td>    33.489423</td>\n",
       "      <td>  -111.993189</td>\n",
       "      <td>  195000.000000</td>\n",
       "    </tr>\n",
       "    <tr>\n",
       "      <th>75%</th>\n",
       "      <td> 5143011.750000</td>\n",
       "      <td>    2446.000000</td>\n",
       "      <td>     4.000000</td>\n",
       "      <td>     2.500000</td>\n",
       "      <td>     2.000000</td>\n",
       "      <td>   325000.000000</td>\n",
       "      <td>    33.623773</td>\n",
       "      <td>  -111.794199</td>\n",
       "      <td>  280475.000000</td>\n",
       "    </tr>\n",
       "    <tr>\n",
       "      <th>max</th>\n",
       "      <td> 5178286.000000</td>\n",
       "      <td> 9999999.000000</td>\n",
       "      <td>    16.000000</td>\n",
       "      <td>  1047.000000</td>\n",
       "      <td>    23.000000</td>\n",
       "      <td> 16950000.000000</td>\n",
       "      <td>    60.477336</td>\n",
       "      <td>   -95.456786</td>\n",
       "      <td> 5500000.000000</td>\n",
       "    </tr>\n",
       "  </tbody>\n",
       "</table>\n",
       "</div>"
      ],
      "text/plain": [
       "            ListingId      LivingArea   NumBedrooms      NumBaths  \\\n",
       "count    57258.000000    57049.000000  57258.000000  57258.000000   \n",
       "mean   5120967.533777     2239.875998      3.291802      2.386840   \n",
       "std      25448.785984    41870.559466      0.974414      5.175299   \n",
       "min    5077399.000000        0.000000      0.000000      0.000000   \n",
       "25%    5098855.250000     1427.000000      3.000000      2.000000   \n",
       "50%    5120463.500000     1837.000000      3.000000      2.000000   \n",
       "75%    5143011.750000     2446.000000      4.000000      2.500000   \n",
       "max    5178286.000000  9999999.000000     16.000000   1047.000000   \n",
       "\n",
       "       ExteriorStories        ListPrice        GeoLat        GeoLon  \\\n",
       "count     57258.000000     57258.000000  57159.000000  57159.000000   \n",
       "mean          1.374480    289744.089280     33.509309   -111.985059   \n",
       "std           0.863922    349387.183416      0.311303      0.383118   \n",
       "min           1.000000       750.000000     30.214099   -151.064452   \n",
       "25%           1.000000    149900.000000     33.364152   -112.195982   \n",
       "50%           1.000000    215000.000000     33.489423   -111.993189   \n",
       "75%           2.000000    325000.000000     33.623773   -111.794199   \n",
       "max          23.000000  16950000.000000     60.477336    -95.456786   \n",
       "\n",
       "           ClosePrice  \n",
       "count    37934.000000  \n",
       "mean    240640.726314  \n",
       "std     197364.706939  \n",
       "min          1.000000  \n",
       "25%     140000.000000  \n",
       "50%     195000.000000  \n",
       "75%     280475.000000  \n",
       "max    5500000.000000  "
      ]
     },
     "execution_count": 6,
     "metadata": {},
     "output_type": "execute_result"
    }
   ],
   "source": [
    "# Simple Statistics\n",
    "df.describe()\n",
    "# Note: Data is from Phoenix (As per mean GeoLat and mean GeoLon) http://www.darrinward.com/lat-long/"
   ]
  },
  {
   "cell_type": "markdown",
   "metadata": {},
   "source": [
    "- Need to predict ClosePrice\n",
    "- Out of 57258 possible values ClosePrice is missing 19324 values. Drop these rows"
   ]
  },
  {
   "cell_type": "code",
   "execution_count": 7,
   "metadata": {
    "collapsed": false
   },
   "outputs": [],
   "source": [
    "df = df[np.isfinite(df['ClosePrice'])]"
   ]
  },
  {
   "cell_type": "code",
   "execution_count": 8,
   "metadata": {
    "collapsed": false
   },
   "outputs": [
    {
     "data": {
      "text/html": [
       "<div style=\"max-height:1000px;max-width:1500px;overflow:auto;\">\n",
       "<table border=\"1\" class=\"dataframe\">\n",
       "  <thead>\n",
       "    <tr style=\"text-align: right;\">\n",
       "      <th></th>\n",
       "      <th>ListingId</th>\n",
       "      <th>LivingArea</th>\n",
       "      <th>NumBedrooms</th>\n",
       "      <th>NumBaths</th>\n",
       "      <th>ExteriorStories</th>\n",
       "      <th>ListPrice</th>\n",
       "      <th>GeoLat</th>\n",
       "      <th>GeoLon</th>\n",
       "      <th>ClosePrice</th>\n",
       "    </tr>\n",
       "  </thead>\n",
       "  <tbody>\n",
       "    <tr>\n",
       "      <th>count</th>\n",
       "      <td>   37934.000000</td>\n",
       "      <td>   37838.000000</td>\n",
       "      <td> 37934.000000</td>\n",
       "      <td> 37934.000000</td>\n",
       "      <td> 37934.000000</td>\n",
       "      <td>   37934.000000</td>\n",
       "      <td> 37909.000000</td>\n",
       "      <td> 37909.000000</td>\n",
       "      <td>   37934.000000</td>\n",
       "    </tr>\n",
       "    <tr>\n",
       "      <th>mean</th>\n",
       "      <td> 5120492.315337</td>\n",
       "      <td>    2201.140903</td>\n",
       "      <td>     3.241393</td>\n",
       "      <td>     2.294432</td>\n",
       "      <td>     1.335952</td>\n",
       "      <td>  247899.142484</td>\n",
       "      <td>    33.491944</td>\n",
       "      <td>  -112.000680</td>\n",
       "      <td>  240640.726314</td>\n",
       "    </tr>\n",
       "    <tr>\n",
       "      <th>std</th>\n",
       "      <td>   25414.311792</td>\n",
       "      <td>   51405.117468</td>\n",
       "      <td>     0.915405</td>\n",
       "      <td>     5.718883</td>\n",
       "      <td>     0.803313</td>\n",
       "      <td>  212186.180691</td>\n",
       "      <td>     0.245669</td>\n",
       "      <td>     0.293103</td>\n",
       "      <td>  197364.706939</td>\n",
       "    </tr>\n",
       "    <tr>\n",
       "      <th>min</th>\n",
       "      <td> 5077408.000000</td>\n",
       "      <td>       0.000000</td>\n",
       "      <td>     0.000000</td>\n",
       "      <td>     0.000000</td>\n",
       "      <td>     1.000000</td>\n",
       "      <td>    8500.000000</td>\n",
       "      <td>    31.444146</td>\n",
       "      <td>  -114.680805</td>\n",
       "      <td>       1.000000</td>\n",
       "    </tr>\n",
       "    <tr>\n",
       "      <th>25%</th>\n",
       "      <td> 5098393.500000</td>\n",
       "      <td>    1400.000000</td>\n",
       "      <td>     3.000000</td>\n",
       "      <td>     2.000000</td>\n",
       "      <td>     1.000000</td>\n",
       "      <td>  144897.000000</td>\n",
       "      <td>    33.363611</td>\n",
       "      <td>  -112.205246</td>\n",
       "      <td>  140000.000000</td>\n",
       "    </tr>\n",
       "    <tr>\n",
       "      <th>50%</th>\n",
       "      <td> 5119879.000000</td>\n",
       "      <td>    1761.000000</td>\n",
       "      <td>     3.000000</td>\n",
       "      <td>     2.000000</td>\n",
       "      <td>     1.000000</td>\n",
       "      <td>  199900.000000</td>\n",
       "      <td>    33.481969</td>\n",
       "      <td>  -112.007252</td>\n",
       "      <td>  195000.000000</td>\n",
       "    </tr>\n",
       "    <tr>\n",
       "      <th>75%</th>\n",
       "      <td> 5142494.750000</td>\n",
       "      <td>    2277.750000</td>\n",
       "      <td>     4.000000</td>\n",
       "      <td>     2.500000</td>\n",
       "      <td>     2.000000</td>\n",
       "      <td>  289500.000000</td>\n",
       "      <td>    33.617180</td>\n",
       "      <td>  -111.805394</td>\n",
       "      <td>  280475.000000</td>\n",
       "    </tr>\n",
       "    <tr>\n",
       "      <th>max</th>\n",
       "      <td> 5178286.000000</td>\n",
       "      <td> 9999999.000000</td>\n",
       "      <td>    16.000000</td>\n",
       "      <td>  1047.000000</td>\n",
       "      <td>    23.000000</td>\n",
       "      <td> 7400000.000000</td>\n",
       "      <td>    36.775648</td>\n",
       "      <td>  -109.092285</td>\n",
       "      <td> 5500000.000000</td>\n",
       "    </tr>\n",
       "  </tbody>\n",
       "</table>\n",
       "</div>"
      ],
      "text/plain": [
       "            ListingId      LivingArea   NumBedrooms      NumBaths  \\\n",
       "count    37934.000000    37838.000000  37934.000000  37934.000000   \n",
       "mean   5120492.315337     2201.140903      3.241393      2.294432   \n",
       "std      25414.311792    51405.117468      0.915405      5.718883   \n",
       "min    5077408.000000        0.000000      0.000000      0.000000   \n",
       "25%    5098393.500000     1400.000000      3.000000      2.000000   \n",
       "50%    5119879.000000     1761.000000      3.000000      2.000000   \n",
       "75%    5142494.750000     2277.750000      4.000000      2.500000   \n",
       "max    5178286.000000  9999999.000000     16.000000   1047.000000   \n",
       "\n",
       "       ExteriorStories       ListPrice        GeoLat        GeoLon  \\\n",
       "count     37934.000000    37934.000000  37909.000000  37909.000000   \n",
       "mean          1.335952   247899.142484     33.491944   -112.000680   \n",
       "std           0.803313   212186.180691      0.245669      0.293103   \n",
       "min           1.000000     8500.000000     31.444146   -114.680805   \n",
       "25%           1.000000   144897.000000     33.363611   -112.205246   \n",
       "50%           1.000000   199900.000000     33.481969   -112.007252   \n",
       "75%           2.000000   289500.000000     33.617180   -111.805394   \n",
       "max          23.000000  7400000.000000     36.775648   -109.092285   \n",
       "\n",
       "           ClosePrice  \n",
       "count    37934.000000  \n",
       "mean    240640.726314  \n",
       "std     197364.706939  \n",
       "min          1.000000  \n",
       "25%     140000.000000  \n",
       "50%     195000.000000  \n",
       "75%     280475.000000  \n",
       "max    5500000.000000  "
      ]
     },
     "execution_count": 8,
     "metadata": {},
     "output_type": "execute_result"
    }
   ],
   "source": [
    "df.describe()"
   ]
  },
  {
   "cell_type": "code",
   "execution_count": 9,
   "metadata": {
    "collapsed": false
   },
   "outputs": [
    {
     "name": "stdout",
     "output_type": "stream",
     "text": [
      "['ListingId' 'LivingArea' 'NumBedrooms' 'NumBaths' 'Pool' 'ExteriorStories'\n",
      " 'ListDate' 'ListPrice' 'GeoLat' 'GeoLon' 'PublicRemarks' 'CloseDate'\n",
      " 'ClosePrice' 'ListingStatus' 'DwellingType']\n"
     ]
    }
   ],
   "source": [
    "print df.columns.values"
   ]
  },
  {
   "cell_type": "code",
   "execution_count": 10,
   "metadata": {
    "collapsed": false
   },
   "outputs": [
    {
     "name": "stdout",
     "output_type": "stream",
     "text": [
      "Number of Bedrooms:  [0, 1, 2, 3, 4, 5, 6, 7, 8, 16]\n"
     ]
    }
   ],
   "source": [
    "print 'Number of Bedrooms: ', list(np.sort(df['NumBedrooms'].unique()))"
   ]
  },
  {
   "cell_type": "code",
   "execution_count": 11,
   "metadata": {
    "collapsed": false
   },
   "outputs": [
    {
     "name": "stdout",
     "output_type": "stream",
     "text": [
      "Number of Baths:  [0.0, 0.070000000000000007, 0.75, 1.0, 1.25, 1.3400000000000001, 1.5, 1.5700000000000001, 1.7, 1.72, 1.75, 2.0, 2.1000000000000001, 2.25, 2.3300000000000001, 2.5, 2.5299999999999998, 2.6499999999999999, 2.6699999999999999, 2.75, 3.0, 3.25, 3.5, 3.75, 4.0, 4.5, 5.0, 5.5, 6.0, 6.5, 7.0, 7.5, 8.0, 9.0, 10.0, 11.0, 22.0, 25.0, 134.0, 175.0, 205.0, 212.0, 1047.0]\n"
     ]
    }
   ],
   "source": [
    "print 'Number of Baths: ', list(np.sort(df['NumBaths'].unique()))\n",
    "# Outliers: 134 and greater. 1047 is too extreme!"
   ]
  },
  {
   "cell_type": "code",
   "execution_count": 12,
   "metadata": {
    "collapsed": false
   },
   "outputs": [
    {
     "name": "stdout",
     "output_type": "stream",
     "text": [
      "Pool Type:  ['Both Private & Community', 'Community', 'None', 'Private']\n"
     ]
    }
   ],
   "source": [
    "print 'Pool Type: ', list(np.sort(df['Pool'].unique()))"
   ]
  },
  {
   "cell_type": "code",
   "execution_count": 13,
   "metadata": {
    "collapsed": false
   },
   "outputs": [
    {
     "name": "stdout",
     "output_type": "stream",
     "text": [
      "Exterior Stories:  [1.0, 2.0, 3.0, 4.0, 5.0, 6.0, 7.0, 10.0, 11.0, 12.0, 13.0, 14.0, 15.0, 16.0, 17.0, 18.0, 20.0, 21.0, 22.0, 23.0]\n"
     ]
    }
   ],
   "source": [
    "print 'Exterior Stories: ', list(np.sort(df['ExteriorStories'].unique()))"
   ]
  },
  {
   "cell_type": "code",
   "execution_count": 14,
   "metadata": {
    "collapsed": false
   },
   "outputs": [
    {
     "name": "stdout",
     "output_type": "stream",
     "text": [
      "Listing Status:  ['Active', 'Cancelled', 'Closed', 'Expired', 'Pending', 'Temp Off Market']\n"
     ]
    }
   ],
   "source": [
    "print 'Listing Status: ', list(np.sort(df['ListingStatus'].unique()))"
   ]
  },
  {
   "cell_type": "code",
   "execution_count": 15,
   "metadata": {
    "collapsed": false
   },
   "outputs": [
    {
     "name": "stdout",
     "output_type": "stream",
     "text": [
      "Dwelling Type:  ['Apartment Style/Flat', 'Gemini/Twin Home', 'Loft Style', 'Mfg/Mobile Housing', 'Modular/Pre-Fab', 'Patio Home', 'Single Family - Detached', 'Townhouse']\n"
     ]
    }
   ],
   "source": [
    "print 'Dwelling Type: ', list(np.sort(df['DwellingType'].unique()))"
   ]
  },
  {
   "cell_type": "code",
   "execution_count": 16,
   "metadata": {
    "collapsed": false
   },
   "outputs": [
    {
     "name": "stdout",
     "output_type": "stream",
     "text": [
      "Apartment Style/Flat count: 1796\n",
      "Gemini/Twin Home count: 258\n",
      "Loft Style count: 30\n",
      "Mfg/Mobile Housing count: 731\n",
      "Modular/Pre-Fab count: 17\n",
      "Patio Home count: 503\n",
      "Single Family - Detached count: 31999\n",
      "Townhouse count: 2600\n"
     ]
    }
   ],
   "source": [
    "# Get count of dwelling type\n",
    "dwelling_types = list(np.sort(df['DwellingType'].unique()))\n",
    "for dwelling_type in dwelling_types:\n",
    "    temp_df = df[df['DwellingType'] == dwelling_type]\n",
    "    print dwelling_type + ' count: ' + str(temp_df.shape[0])"
   ]
  },
  {
   "cell_type": "code",
   "execution_count": 17,
   "metadata": {
    "collapsed": false
   },
   "outputs": [
    {
     "name": "stdout",
     "output_type": "stream",
     "text": [
      "Apartment Style/Flat average living area: 1071.0424581 and average list price: 149218.801225\n",
      "Gemini/Twin Home average living area: 1424.77906977 and average list price: 125866.069767\n",
      "Loft Style average living area: 1191.5 and average list price: 291860.0\n",
      "Mfg/Mobile Housing average living area: 1336.45530726 and average list price: 95424.506156\n",
      "Modular/Pre-Fab average living area: 589547.705882 and average list price: 524311.470588\n",
      "Patio Home average living area: 1466.83665339 and average list price: 218495.427435\n",
      "Single Family - Detached average living area: 2058.25324126 and average list price: 264916.199162\n",
      "Townhouse average living area: 1360.03008099 and average list price: 164982.535385\n"
     ]
    }
   ],
   "source": [
    "# Get mean area and mean list price by dwelling type\n",
    "dwelling_types = list(np.sort(df['DwellingType'].unique()))\n",
    "for dwelling_type in dwelling_types:\n",
    "    temp_df = df[df['DwellingType'] == dwelling_type]\n",
    "    print dwelling_type + ' average living area: ' + str(temp_df['LivingArea'].mean()) \\\n",
    "    + ' and average list price: ' + str(temp_df['ListPrice'].mean())"
   ]
  },
  {
   "cell_type": "code",
   "execution_count": 18,
   "metadata": {
    "collapsed": false
   },
   "outputs": [
    {
     "name": "stdout",
     "output_type": "stream",
     "text": [
      "Area lows:  [0.0, 1.0, 160.0, 168.0, 246.0, 288.0, 386.0, 390.0, 394.0, 395.0, 396.0, 399.0, 400.0, 402.0, 404.0, 409.0, 413.0, 420.0, 429.0, 442.0]\n",
      "Area highs:  [8735.0, 8822.0, 8861.0, 9320.0, 10059.0, 10322.0, 13055.0, 16267.0, 9999999.0, nan]\n"
     ]
    }
   ],
   "source": [
    "# Living Area outliers\n",
    "temp = df['LivingArea']\n",
    "living_area = np.sort(temp.unique())\n",
    "print 'Area lows: ', list(living_area[:20])\n",
    "print 'Area highs: ', list(living_area[len(living_area)-10:])"
   ]
  },
  {
   "cell_type": "code",
   "execution_count": 19,
   "metadata": {
    "collapsed": false,
    "scrolled": true
   },
   "outputs": [
    {
     "data": {
      "image/png": "[encoded data removed]",
      "text/plain": [
       "<matplotlib.figure.Figure at 0x10270c550>"
      ]
     },
     "metadata": {},
     "output_type": "display_data"
    },
    {
     "data": {
      "image/png": "[encoded data removed]",
      "text/plain": [
       "<matplotlib.figure.Figure at 0x10a4ffc90>"
      ]
     },
     "metadata": {},
     "output_type": "display_data"
    },
    {
     "data": {
      "image/png": "[encoded data removed]",
      "text/plain": [
       "<matplotlib.figure.Figure at 0x107f04310>"
      ]
     },
     "metadata": {},
     "output_type": "display_data"
    },
    {
     "data": {
      "image/png": "[encoded data removed]",
      "text/plain": [
       "<matplotlib.figure.Figure at 0x10a7fc250>"
      ]
     },
     "metadata": {},
     "output_type": "display_data"
    },
    {
     "data": {
      "image/png": "[encoded data removed]",
      "text/plain": [
       "<matplotlib.figure.Figure at 0x10b38eed0>"
      ]
     },
     "metadata": {},
     "output_type": "display_data"
    },
    {
     "data": {
      "image/png": "[encoded data removed]",
      "text/plain": [
       "<matplotlib.figure.Figure at 0x10a92e8d0>"
      ]
     },
     "metadata": {},
     "output_type": "display_data"
    },
    {
     "data": {
      "image/png": "[encoded data removed]",
      "text/plain": [
       "<matplotlib.figure.Figure at 0x10d5e1b50>"
      ]
     },
     "metadata": {},
     "output_type": "display_data"
    },
    {
     "data": {
      "image/png": "[encoded data removed]",
      "text/plain": [
       "<matplotlib.figure.Figure at 0x10d9518d0>"
      ]
     },
     "metadata": {},
     "output_type": "display_data"
    }
   ],
   "source": [
    "# Check Living Area by dwelling type\n",
    "for dwelling_type in dwelling_types:\n",
    "    temp_df = df[df['DwellingType'] == dwelling_type]\n",
    "    plt.figure(figsize = (20, 10))\n",
    "    sns.distplot(temp_df['LivingArea'].dropna(), kde = False, rug = False, color =  '#006d2c')\n",
    "    plt.xlabel('Living Area', fontsize = 16)\n",
    "    plt.ylabel('Frequency', fontsize = 16)\n",
    "    plt.tick_params(axis = 'both', which = 'major', labelsize = 16)\n",
    "    plt.title('Histogram of Living Area by dwelling type: ' + dwelling_type, fontsize = 18)"
   ]
  },
  {
   "cell_type": "code",
   "execution_count": 20,
   "metadata": {
    "collapsed": false
   },
   "outputs": [
    {
     "name": "stdout",
     "output_type": "stream",
     "text": [
      "Dwelling type: Apartment Style/Flat min living area: 395.0 and max living area: 3904.0\n",
      "Dwelling type: Gemini/Twin Home min living area: 718.0 and max living area: 2660.0\n",
      "Dwelling type: Loft Style min living area: 552.0 and max living area: 2268.0\n",
      "Dwelling type: Mfg/Mobile Housing min living area: 0.0 and max living area: 3000.0\n",
      "Dwelling type: Modular/Pre-Fab min living area: 400.0 and max living area: 9999999.0\n",
      "Dwelling type: Patio Home min living area: 616.0 and max living area: 4734.0\n",
      "Dwelling type: Single Family - Detached min living area: 246.0 and max living area: 16267.0\n",
      "Dwelling type: Townhouse min living area: 528.0 and max living area: 8822.0\n"
     ]
    }
   ],
   "source": [
    "for dwelling_type in dwelling_types:\n",
    "    temp_df = df[df['DwellingType'] == dwelling_type]['LivingArea']\n",
    "    min_val = temp_df.min()\n",
    "    max_val = temp_df.max()\n",
    "    print 'Dwelling type: ' + dwelling_type + ' min living area: {} and max living area: {}'.format(min_val, max_val)"
   ]
  },
  {
   "cell_type": "code",
   "execution_count": 21,
   "metadata": {
    "collapsed": false
   },
   "outputs": [
    {
     "data": {
      "text/html": [
       "<div style=\"max-height:1000px;max-width:1500px;overflow:auto;\">\n",
       "<table border=\"1\" class=\"dataframe\">\n",
       "  <thead>\n",
       "    <tr style=\"text-align: right;\">\n",
       "      <th></th>\n",
       "      <th>ListingId</th>\n",
       "      <th>LivingArea</th>\n",
       "      <th>NumBedrooms</th>\n",
       "      <th>NumBaths</th>\n",
       "      <th>ExteriorStories</th>\n",
       "      <th>ListPrice</th>\n",
       "      <th>GeoLat</th>\n",
       "      <th>GeoLon</th>\n",
       "      <th>ClosePrice</th>\n",
       "    </tr>\n",
       "  </thead>\n",
       "  <tbody>\n",
       "    <tr>\n",
       "      <th>count</th>\n",
       "      <td>   37733.000000</td>\n",
       "      <td> 37733.000000</td>\n",
       "      <td> 37733.000000</td>\n",
       "      <td> 37733.000000</td>\n",
       "      <td> 37733.000000</td>\n",
       "      <td>   37733.000000</td>\n",
       "      <td> 37710.000000</td>\n",
       "      <td> 37710.000000</td>\n",
       "      <td>   37733.000000</td>\n",
       "    </tr>\n",
       "    <tr>\n",
       "      <th>mean</th>\n",
       "      <td> 5120531.825193</td>\n",
       "      <td>  1925.563075</td>\n",
       "      <td>     3.237087</td>\n",
       "      <td>     2.286685</td>\n",
       "      <td>     1.335966</td>\n",
       "      <td>  243810.415048</td>\n",
       "      <td>    33.490798</td>\n",
       "      <td>  -112.001345</td>\n",
       "      <td>  237099.365277</td>\n",
       "    </tr>\n",
       "    <tr>\n",
       "      <th>std</th>\n",
       "      <td>   25426.452672</td>\n",
       "      <td>   772.797277</td>\n",
       "      <td>     0.904379</td>\n",
       "      <td>     5.729965</td>\n",
       "      <td>     0.804451</td>\n",
       "      <td>  182396.671798</td>\n",
       "      <td>     0.242886</td>\n",
       "      <td>     0.291206</td>\n",
       "      <td>  173997.063054</td>\n",
       "    </tr>\n",
       "    <tr>\n",
       "      <th>min</th>\n",
       "      <td> 5077408.000000</td>\n",
       "      <td>   395.000000</td>\n",
       "      <td>     0.000000</td>\n",
       "      <td>     0.000000</td>\n",
       "      <td>     1.000000</td>\n",
       "      <td>    8500.000000</td>\n",
       "      <td>    31.444146</td>\n",
       "      <td>  -114.680805</td>\n",
       "      <td>       1.000000</td>\n",
       "    </tr>\n",
       "    <tr>\n",
       "      <th>25%</th>\n",
       "      <td> 5098407.000000</td>\n",
       "      <td>  1400.000000</td>\n",
       "      <td>     3.000000</td>\n",
       "      <td>     2.000000</td>\n",
       "      <td>     1.000000</td>\n",
       "      <td>  144900.000000</td>\n",
       "      <td>    33.363319</td>\n",
       "      <td>  -112.205675</td>\n",
       "      <td>  140000.000000</td>\n",
       "    </tr>\n",
       "    <tr>\n",
       "      <th>50%</th>\n",
       "      <td> 5119928.000000</td>\n",
       "      <td>  1759.000000</td>\n",
       "      <td>     3.000000</td>\n",
       "      <td>     2.000000</td>\n",
       "      <td>     1.000000</td>\n",
       "      <td>  199900.000000</td>\n",
       "      <td>    33.481665</td>\n",
       "      <td>  -112.007857</td>\n",
       "      <td>  195000.000000</td>\n",
       "    </tr>\n",
       "    <tr>\n",
       "      <th>75%</th>\n",
       "      <td> 5142585.000000</td>\n",
       "      <td>  2271.000000</td>\n",
       "      <td>     4.000000</td>\n",
       "      <td>     2.500000</td>\n",
       "      <td>     2.000000</td>\n",
       "      <td>  289000.000000</td>\n",
       "      <td>    33.616921</td>\n",
       "      <td>  -111.805645</td>\n",
       "      <td>  280000.000000</td>\n",
       "    </tr>\n",
       "    <tr>\n",
       "      <th>max</th>\n",
       "      <td> 5178286.000000</td>\n",
       "      <td>  6000.000000</td>\n",
       "      <td>     8.000000</td>\n",
       "      <td>  1047.000000</td>\n",
       "      <td>    23.000000</td>\n",
       "      <td> 4300000.000000</td>\n",
       "      <td>    36.775648</td>\n",
       "      <td>  -109.092285</td>\n",
       "      <td> 4160000.000000</td>\n",
       "    </tr>\n",
       "  </tbody>\n",
       "</table>\n",
       "</div>"
      ],
      "text/plain": [
       "            ListingId    LivingArea   NumBedrooms      NumBaths  \\\n",
       "count    37733.000000  37733.000000  37733.000000  37733.000000   \n",
       "mean   5120531.825193   1925.563075      3.237087      2.286685   \n",
       "std      25426.452672    772.797277      0.904379      5.729965   \n",
       "min    5077408.000000    395.000000      0.000000      0.000000   \n",
       "25%    5098407.000000   1400.000000      3.000000      2.000000   \n",
       "50%    5119928.000000   1759.000000      3.000000      2.000000   \n",
       "75%    5142585.000000   2271.000000      4.000000      2.500000   \n",
       "max    5178286.000000   6000.000000      8.000000   1047.000000   \n",
       "\n",
       "       ExteriorStories       ListPrice        GeoLat        GeoLon  \\\n",
       "count     37733.000000    37733.000000  37710.000000  37710.000000   \n",
       "mean          1.335966   243810.415048     33.490798   -112.001345   \n",
       "std           0.804451   182396.671798      0.242886      0.291206   \n",
       "min           1.000000     8500.000000     31.444146   -114.680805   \n",
       "25%           1.000000   144900.000000     33.363319   -112.205675   \n",
       "50%           1.000000   199900.000000     33.481665   -112.007857   \n",
       "75%           2.000000   289000.000000     33.616921   -111.805645   \n",
       "max          23.000000  4300000.000000     36.775648   -109.092285   \n",
       "\n",
       "           ClosePrice  \n",
       "count    37733.000000  \n",
       "mean    237099.365277  \n",
       "std     173997.063054  \n",
       "min          1.000000  \n",
       "25%     140000.000000  \n",
       "50%     195000.000000  \n",
       "75%     280000.000000  \n",
       "max    4160000.000000  "
      ]
     },
     "execution_count": 21,
     "metadata": {},
     "output_type": "execute_result"
    }
   ],
   "source": [
    "df[(df['LivingArea'] >= 395) & (df['LivingArea'] <= 6000)].describe()"
   ]
  },
  {
   "cell_type": "code",
   "execution_count": 22,
   "metadata": {
    "collapsed": false
   },
   "outputs": [
    {
     "data": {
      "text/plain": [
       "<matplotlib.text.Text at 0x10f58f9d0>"
      ]
     },
     "execution_count": 22,
     "metadata": {},
     "output_type": "execute_result"
    },
    {
     "data": {
      "image/png": "[encoded data removed]",
      "text/plain": [
       "<matplotlib.figure.Figure at 0x132a20c50>"
      ]
     },
     "metadata": {},
     "output_type": "display_data"
    }
   ],
   "source": [
    "temp_df = df[(df['LivingArea'] >= 395) & (df['LivingArea'] <= 6000)]\n",
    "plt.figure(figsize = (20, 10))\n",
    "sns.distplot(temp_df['LivingArea'].dropna(), kde = False, rug = False, color =  '#238b45')\n",
    "plt.xlabel('Living Area', fontsize = 16)\n",
    "#plt.xscale('log')\n",
    "plt.ylabel('Frequency', fontsize = 16)\n",
    "plt.tick_params(axis = 'both', which = 'major', labelsize = 16)\n",
    "plt.title('Histogram of Living Area', fontsize = 18)"
   ]
  },
  {
   "cell_type": "markdown",
   "metadata": {},
   "source": [
    "**Note:** \n",
    "- Living Area Outliers: <font color=red>Need to remove datapoints where LivingArea is less than 395 and LivingArea is greater than 6000. </font> **Right tailed distribution**"
   ]
  },
  {
   "cell_type": "code",
   "execution_count": 23,
   "metadata": {
    "collapsed": true
   },
   "outputs": [],
   "source": [
    "# Remove LivingArea outliers\n",
    "df = df[(df['LivingArea'] >= 395) & (df['LivingArea'] <= 6000)]"
   ]
  },
  {
   "cell_type": "code",
   "execution_count": 24,
   "metadata": {
    "collapsed": false,
    "scrolled": true
   },
   "outputs": [
    {
     "data": {
      "image/png": "[encoded data removed]",
      "text/plain": [
       "<matplotlib.figure.Figure at 0x132f0a290>"
      ]
     },
     "metadata": {},
     "output_type": "display_data"
    },
    {
     "data": {
      "image/png": "[encoded data removed]",
      "text/plain": [
       "<matplotlib.figure.Figure at 0x132ed78d0>"
      ]
     },
     "metadata": {},
     "output_type": "display_data"
    },
    {
     "data": {
      "image/png": "[encoded data removed]",
      "text/plain": [
       "<matplotlib.figure.Figure at 0x132ed7450>"
      ]
     },
     "metadata": {},
     "output_type": "display_data"
    },
    {
     "data": {
      "image/png": "[encoded data removed]",
      "text/plain": [
       "<matplotlib.figure.Figure at 0x132e23b50>"
      ]
     },
     "metadata": {},
     "output_type": "display_data"
    },
    {
     "data": {
      "image/png": "[encoded data removed]",
      "text/plain": [
       "<matplotlib.figure.Figure at 0x10ee39650>"
      ]
     },
     "metadata": {},
     "output_type": "display_data"
    },
    {
     "data": {
      "image/png": "[encoded data removed]",
      "text/plain": [
       "<matplotlib.figure.Figure at 0x10f2788d0>"
      ]
     },
     "metadata": {},
     "output_type": "display_data"
    },
    {
     "data": {
      "image/png": "[encoded data removed]",
      "text/plain": [
       "<matplotlib.figure.Figure at 0x10f3d6990>"
      ]
     },
     "metadata": {},
     "output_type": "display_data"
    },
    {
     "data": {
      "image/png": "[encoded data removed]",
      "text/plain": [
       "<matplotlib.figure.Figure at 0x10f5831d0>"
      ]
     },
     "metadata": {},
     "output_type": "display_data"
    }
   ],
   "source": [
    "# Check ListPrice by dwelling type\n",
    "for dwelling_type in dwelling_types:\n",
    "    temp_df = df[df['DwellingType'] == dwelling_type]\n",
    "    plt.figure(figsize = (20, 10))\n",
    "    sns.distplot(temp_df['ListPrice'].dropna(), kde = False, rug = False, color =  '#3182bd')\n",
    "    plt.xlabel('ListPrice', fontsize = 16)\n",
    "    plt.ylabel('Frequency', fontsize = 16)\n",
    "    plt.tick_params(axis = 'both', which = 'major', labelsize = 16)\n",
    "    plt.title('Histogram of ListPrice by dwelling type: ' + dwelling_type, fontsize = 18)"
   ]
  },
  {
   "cell_type": "code",
   "execution_count": 25,
   "metadata": {
    "collapsed": false
   },
   "outputs": [
    {
     "name": "stdout",
     "output_type": "stream",
     "text": [
      "Dwelling type: Apartment Style/Flat, min list price: 13000.0 and max list price: 2225000.0\n",
      "Dwelling type: Gemini/Twin Home, min list price: 36000.0 and max list price: 540000.0\n",
      "Dwelling type: Loft Style, min list price: 48000.0 and max list price: 998000.0\n",
      "Dwelling type: Mfg/Mobile Housing, min list price: 12500.0 and max list price: 489900.0\n",
      "Dwelling type: Modular/Pre-Fab, min list price: 33500.0 and max list price: 184900.0\n",
      "Dwelling type: Patio Home, min list price: 24900.0 and max list price: 1225000.0\n",
      "Dwelling type: Single Family - Detached, min list price: 8500.0 and max list price: 4300000.0\n",
      "Dwelling type: Townhouse, min list price: 15000.0 and max list price: 1380000.0\n"
     ]
    }
   ],
   "source": [
    "for dwelling_type in dwelling_types:\n",
    "    temp_df = df[df['DwellingType'] == dwelling_type]['ListPrice']\n",
    "    min_val = temp_df.min()\n",
    "    max_val = temp_df.max()\n",
    "    print 'Dwelling type: ' + dwelling_type + ', min list price: {} and max list price: {}'.format(min_val, max_val)"
   ]
  },
  {
   "cell_type": "code",
   "execution_count": 26,
   "metadata": {
    "collapsed": false
   },
   "outputs": [
    {
     "data": {
      "text/html": [
       "<div style=\"max-height:1000px;max-width:1500px;overflow:auto;\">\n",
       "<table border=\"1\" class=\"dataframe\">\n",
       "  <thead>\n",
       "    <tr style=\"text-align: right;\">\n",
       "      <th></th>\n",
       "      <th>ListingId</th>\n",
       "      <th>LivingArea</th>\n",
       "      <th>NumBedrooms</th>\n",
       "      <th>NumBaths</th>\n",
       "      <th>ExteriorStories</th>\n",
       "      <th>ListPrice</th>\n",
       "      <th>GeoLat</th>\n",
       "      <th>GeoLon</th>\n",
       "      <th>ClosePrice</th>\n",
       "    </tr>\n",
       "  </thead>\n",
       "  <tbody>\n",
       "    <tr>\n",
       "      <th>count</th>\n",
       "      <td>   37429.000000</td>\n",
       "      <td> 37429.000000</td>\n",
       "      <td> 37429.000000</td>\n",
       "      <td> 37429.000000</td>\n",
       "      <td> 37429.000000</td>\n",
       "      <td>   37429.000000</td>\n",
       "      <td> 37406.000000</td>\n",
       "      <td> 37406.000000</td>\n",
       "      <td>   37429.000000</td>\n",
       "    </tr>\n",
       "    <tr>\n",
       "      <th>mean</th>\n",
       "      <td> 5120547.880387</td>\n",
       "      <td>  1905.046047</td>\n",
       "      <td>     3.229795</td>\n",
       "      <td>     2.271333</td>\n",
       "      <td>     1.335408</td>\n",
       "      <td>  233897.643939</td>\n",
       "      <td>    33.489646</td>\n",
       "      <td>  -112.002056</td>\n",
       "      <td>  227840.827113</td>\n",
       "    </tr>\n",
       "    <tr>\n",
       "      <th>std</th>\n",
       "      <td>   25421.690319</td>\n",
       "      <td>   737.291746</td>\n",
       "      <td>     0.901125</td>\n",
       "      <td>     5.749919</td>\n",
       "      <td>     0.797514</td>\n",
       "      <td>  140118.705265</td>\n",
       "      <td>     0.242638</td>\n",
       "      <td>     0.292107</td>\n",
       "      <td>  135381.483680</td>\n",
       "    </tr>\n",
       "    <tr>\n",
       "      <th>min</th>\n",
       "      <td> 5077408.000000</td>\n",
       "      <td>   395.000000</td>\n",
       "      <td>     0.000000</td>\n",
       "      <td>     0.000000</td>\n",
       "      <td>     1.000000</td>\n",
       "      <td>   12500.000000</td>\n",
       "      <td>    31.444146</td>\n",
       "      <td>  -114.680805</td>\n",
       "      <td>       1.000000</td>\n",
       "    </tr>\n",
       "    <tr>\n",
       "      <th>25%</th>\n",
       "      <td> 5098417.000000</td>\n",
       "      <td>  1396.000000</td>\n",
       "      <td>     3.000000</td>\n",
       "      <td>     2.000000</td>\n",
       "      <td>     1.000000</td>\n",
       "      <td>  144000.000000</td>\n",
       "      <td>    33.362582</td>\n",
       "      <td>  -112.207268</td>\n",
       "      <td>  140000.000000</td>\n",
       "    </tr>\n",
       "    <tr>\n",
       "      <th>50%</th>\n",
       "      <td> 5119956.000000</td>\n",
       "      <td>  1753.000000</td>\n",
       "      <td>     3.000000</td>\n",
       "      <td>     2.000000</td>\n",
       "      <td>     1.000000</td>\n",
       "      <td>  199000.000000</td>\n",
       "      <td>    33.479995</td>\n",
       "      <td>  -112.010548</td>\n",
       "      <td>  194500.000000</td>\n",
       "    </tr>\n",
       "    <tr>\n",
       "      <th>75%</th>\n",
       "      <td> 5142590.000000</td>\n",
       "      <td>  2253.000000</td>\n",
       "      <td>     4.000000</td>\n",
       "      <td>     2.500000</td>\n",
       "      <td>     2.000000</td>\n",
       "      <td>  285000.000000</td>\n",
       "      <td>    33.616518</td>\n",
       "      <td>  -111.804732</td>\n",
       "      <td>  279000.000000</td>\n",
       "    </tr>\n",
       "    <tr>\n",
       "      <th>max</th>\n",
       "      <td> 5178286.000000</td>\n",
       "      <td>  5973.000000</td>\n",
       "      <td>     8.000000</td>\n",
       "      <td>  1047.000000</td>\n",
       "      <td>    23.000000</td>\n",
       "      <td> 1000000.000000</td>\n",
       "      <td>    36.775648</td>\n",
       "      <td>  -109.092285</td>\n",
       "      <td> 1100000.000000</td>\n",
       "    </tr>\n",
       "  </tbody>\n",
       "</table>\n",
       "</div>"
      ],
      "text/plain": [
       "            ListingId    LivingArea   NumBedrooms      NumBaths  \\\n",
       "count    37429.000000  37429.000000  37429.000000  37429.000000   \n",
       "mean   5120547.880387   1905.046047      3.229795      2.271333   \n",
       "std      25421.690319    737.291746      0.901125      5.749919   \n",
       "min    5077408.000000    395.000000      0.000000      0.000000   \n",
       "25%    5098417.000000   1396.000000      3.000000      2.000000   \n",
       "50%    5119956.000000   1753.000000      3.000000      2.000000   \n",
       "75%    5142590.000000   2253.000000      4.000000      2.500000   \n",
       "max    5178286.000000   5973.000000      8.000000   1047.000000   \n",
       "\n",
       "       ExteriorStories       ListPrice        GeoLat        GeoLon  \\\n",
       "count     37429.000000    37429.000000  37406.000000  37406.000000   \n",
       "mean          1.335408   233897.643939     33.489646   -112.002056   \n",
       "std           0.797514   140118.705265      0.242638      0.292107   \n",
       "min           1.000000    12500.000000     31.444146   -114.680805   \n",
       "25%           1.000000   144000.000000     33.362582   -112.207268   \n",
       "50%           1.000000   199000.000000     33.479995   -112.010548   \n",
       "75%           2.000000   285000.000000     33.616518   -111.804732   \n",
       "max          23.000000  1000000.000000     36.775648   -109.092285   \n",
       "\n",
       "           ClosePrice  \n",
       "count    37429.000000  \n",
       "mean    227840.827113  \n",
       "std     135381.483680  \n",
       "min          1.000000  \n",
       "25%     140000.000000  \n",
       "50%     194500.000000  \n",
       "75%     279000.000000  \n",
       "max    1100000.000000  "
      ]
     },
     "execution_count": 26,
     "metadata": {},
     "output_type": "execute_result"
    }
   ],
   "source": [
    "df[(df['ListPrice'] >= 10000) & (df['ListPrice'] <= 1000000)].describe()"
   ]
  },
  {
   "cell_type": "code",
   "execution_count": 27,
   "metadata": {
    "collapsed": false,
    "scrolled": false
   },
   "outputs": [
    {
     "data": {
      "text/plain": [
       "<matplotlib.text.Text at 0x12e9b2c50>"
      ]
     },
     "execution_count": 27,
     "metadata": {},
     "output_type": "execute_result"
    },
    {
     "data": {
      "image/png": "[encoded data removed]",
      "text/plain": [
       "<matplotlib.figure.Figure at 0x110df3f10>"
      ]
     },
     "metadata": {},
     "output_type": "display_data"
    }
   ],
   "source": [
    "temp_df = df[(df['ListPrice'] >= 10000) & (df['ListPrice'] <= 1000000)]\n",
    "plt.figure(figsize = (20, 10))\n",
    "sns.distplot(temp_df['ListPrice'].dropna(), kde = False, rug = False, color =  '#3182bd')\n",
    "plt.xlabel('ListPrice', fontsize = 16)\n",
    "#plt.xscale('log')\n",
    "plt.ylabel('Frequency', fontsize = 16)\n",
    "plt.tick_params(axis = 'both', which = 'major', labelsize = 16)\n",
    "plt.title('Histogram of ListPrice', fontsize = 18)"
   ]
  },
  {
   "cell_type": "markdown",
   "metadata": {},
   "source": [
    "**Note:** \n",
    "- Living Area Outliers: <font color=red>Need to remove datapoints where ListPrice is less than 10000 and ListPrice is greater than 1000000 </font> **Right tailed distribution**"
   ]
  },
  {
   "cell_type": "code",
   "execution_count": 28,
   "metadata": {
    "collapsed": true
   },
   "outputs": [],
   "source": [
    "df = df[(df['ListPrice'] >= 10000) & (df['ListPrice'] <= 1000000)]"
   ]
  },
  {
   "cell_type": "code",
   "execution_count": 29,
   "metadata": {
    "collapsed": false
   },
   "outputs": [
    {
     "name": "stdout",
     "output_type": "stream",
     "text": [
      "['ListingId' 'LivingArea' 'NumBedrooms' 'NumBaths' 'Pool' 'ExteriorStories'\n",
      " 'ListDate' 'ListPrice' 'GeoLat' 'GeoLon' 'PublicRemarks' 'CloseDate'\n",
      " 'ClosePrice' 'ListingStatus' 'DwellingType']\n"
     ]
    }
   ],
   "source": [
    "print df.columns.values"
   ]
  },
  {
   "cell_type": "code",
   "execution_count": 30,
   "metadata": {
    "collapsed": false
   },
   "outputs": [
    {
     "name": "stdout",
     "output_type": "stream",
     "text": [
      "Active count: 59\n",
      "Cancelled count: 136\n",
      "Closed count: 37106\n",
      "Expired count: 44\n",
      "Pending count: 80\n",
      "Temp Off Market count: 4\n"
     ]
    }
   ],
   "source": [
    "# Get Status count\n",
    "status = list(np.sort(df['ListingStatus'].unique()))\n",
    "for s in status:\n",
    "    temp_df = df[df['ListingStatus'] == s]\n",
    "    print s + ' count: ' + str(temp_df.shape[0])"
   ]
  },
  {
   "cell_type": "markdown",
   "metadata": {},
   "source": [
    "**Observations**  \n",
    "- Why listings with \"Active\" or \"Cancelled\" or \"Expired\" or \"Pending\" or \"Temp Off Market\" status has closeDate?\n",
    "\n",
    "**Hypothesis to ponder**\n",
    "- Does the number of days between \"ListDate\" and \"CloseDate\" explain \"ClosePrice\"?\n",
    "- How is the Phoenix region economy doing during when the property was listed?"
   ]
  },
  {
   "cell_type": "code",
   "execution_count": 31,
   "metadata": {
    "collapsed": false
   },
   "outputs": [
    {
     "data": {
      "text/html": [
       "<div style=\"max-height:1000px;max-width:1500px;overflow:auto;\">\n",
       "<table border=\"1\" class=\"dataframe\">\n",
       "  <thead>\n",
       "    <tr style=\"text-align: right;\">\n",
       "      <th></th>\n",
       "      <th>ListingId</th>\n",
       "      <th>LivingArea</th>\n",
       "      <th>NumBedrooms</th>\n",
       "      <th>NumBaths</th>\n",
       "      <th>Pool</th>\n",
       "      <th>ExteriorStories</th>\n",
       "      <th>ListDate</th>\n",
       "      <th>ListPrice</th>\n",
       "      <th>GeoLat</th>\n",
       "      <th>GeoLon</th>\n",
       "      <th>PublicRemarks</th>\n",
       "      <th>CloseDate</th>\n",
       "      <th>ClosePrice</th>\n",
       "      <th>ListingStatus</th>\n",
       "      <th>DwellingType</th>\n",
       "    </tr>\n",
       "  </thead>\n",
       "  <tbody>\n",
       "    <tr>\n",
       "      <th>18800</th>\n",
       "      <td> 5105361</td>\n",
       "      <td> 2128</td>\n",
       "      <td> 5</td>\n",
       "      <td> 2.5</td>\n",
       "      <td> Community</td>\n",
       "      <td> 2</td>\n",
       "      <td>2014-04-21</td>\n",
       "      <td> 155000</td>\n",
       "      <td> 33.422981</td>\n",
       "      <td>-112.298791</td>\n",
       "      <td> SHORT SALE.  Bank has agreed to accept short s...</td>\n",
       "      <td>2015-02-28</td>\n",
       "      <td> 133100</td>\n",
       "      <td> Temp Off Market</td>\n",
       "      <td> Single Family - Detached</td>\n",
       "    </tr>\n",
       "    <tr>\n",
       "      <th>30738</th>\n",
       "      <td> 5123620</td>\n",
       "      <td> 3460</td>\n",
       "      <td> 5</td>\n",
       "      <td> 3.5</td>\n",
       "      <td>   Private</td>\n",
       "      <td> 2</td>\n",
       "      <td>2014-05-28</td>\n",
       "      <td> 359900</td>\n",
       "      <td> 33.308479</td>\n",
       "      <td>-111.799804</td>\n",
       "      <td> BACK ON MARKET! Your dream home awaits in this...</td>\n",
       "      <td>2014-12-30</td>\n",
       "      <td> 379900</td>\n",
       "      <td> Temp Off Market</td>\n",
       "      <td> Single Family - Detached</td>\n",
       "    </tr>\n",
       "    <tr>\n",
       "      <th>43572</th>\n",
       "      <td> 5143967</td>\n",
       "      <td>  865</td>\n",
       "      <td> 2</td>\n",
       "      <td> 1.0</td>\n",
       "      <td> Community</td>\n",
       "      <td> 1</td>\n",
       "      <td>2014-07-14</td>\n",
       "      <td>  45000</td>\n",
       "      <td> 33.551502</td>\n",
       "      <td>-112.189161</td>\n",
       "      <td> **This is an incredible short sale opportunity...</td>\n",
       "      <td>2014-11-17</td>\n",
       "      <td>  42500</td>\n",
       "      <td> Temp Off Market</td>\n",
       "      <td>                Townhouse</td>\n",
       "    </tr>\n",
       "  </tbody>\n",
       "</table>\n",
       "</div>"
      ],
      "text/plain": [
       "       ListingId  LivingArea  NumBedrooms  NumBaths       Pool  \\\n",
       "18800    5105361        2128            5       2.5  Community   \n",
       "30738    5123620        3460            5       3.5    Private   \n",
       "43572    5143967         865            2       1.0  Community   \n",
       "\n",
       "       ExteriorStories   ListDate  ListPrice     GeoLat      GeoLon  \\\n",
       "18800                2 2014-04-21     155000  33.422981 -112.298791   \n",
       "30738                2 2014-05-28     359900  33.308479 -111.799804   \n",
       "43572                1 2014-07-14      45000  33.551502 -112.189161   \n",
       "\n",
       "                                           PublicRemarks  CloseDate  \\\n",
       "18800  SHORT SALE.  Bank has agreed to accept short s... 2015-02-28   \n",
       "30738  BACK ON MARKET! Your dream home awaits in this... 2014-12-30   \n",
       "43572  **This is an incredible short sale opportunity... 2014-11-17   \n",
       "\n",
       "       ClosePrice    ListingStatus              DwellingType  \n",
       "18800      133100  Temp Off Market  Single Family - Detached  \n",
       "30738      379900  Temp Off Market  Single Family - Detached  \n",
       "43572       42500  Temp Off Market                 Townhouse  "
      ]
     },
     "execution_count": 31,
     "metadata": {},
     "output_type": "execute_result"
    }
   ],
   "source": [
    "df[df['ListingStatus'] == 'Temp Off Market'].head(3)"
   ]
  },
  {
   "cell_type": "code",
   "execution_count": 32,
   "metadata": {
    "collapsed": false
   },
   "outputs": [
    {
     "data": {
      "text/plain": [
       "1    115\n",
       "2    136\n",
       "3     88\n",
       "Name: NumDays, dtype: float64"
      ]
     },
     "execution_count": 32,
     "metadata": {},
     "output_type": "execute_result"
    }
   ],
   "source": [
    "# Create a new feature: NumDays = CloseDate - ListDate\n",
    "df['NumDays'] = df['CloseDate'] - df['ListDate']\n",
    "df['NumDays'] = df['NumDays'].map(lambda d: d/np.timedelta64(1, 'D'))\n",
    "df['NumDays'].head(3)"
   ]
  },
  {
   "cell_type": "code",
   "execution_count": 34,
   "metadata": {
    "collapsed": false
   },
   "outputs": [
    {
     "data": {
      "text/plain": [
       "<matplotlib.text.Text at 0x10f2d7ad0>"
      ]
     },
     "execution_count": 34,
     "metadata": {},
     "output_type": "execute_result"
    },
    {
     "data": {
      "image/png": "[encoded data removed]",
      "text/plain": [
       "<matplotlib.figure.Figure at 0x111096110>"
      ]
     },
     "metadata": {},
     "output_type": "display_data"
    }
   ],
   "source": [
    "plt.figure(figsize = (20, 10))\n",
    "sns.distplot(df['NumDays'].dropna(), kde = False, rug = False, color =  '#3182bd')\n",
    "plt.xlabel('NumDays', fontsize = 16)\n",
    "plt.ylabel('Frequency', fontsize = 16)\n",
    "plt.tick_params(axis = 'both', which = 'major', labelsize = 16)\n",
    "plt.title('Histogram of NumDays', fontsize = 18)\n",
    "\n",
    "# Right tailed distribution"
   ]
  },
  {
   "cell_type": "markdown",
   "metadata": {},
   "source": [
    "**Transform Categorical variables to Binary variables: Dummy Variables**"
   ]
  },
  {
   "cell_type": "code",
   "execution_count": 35,
   "metadata": {
    "collapsed": false
   },
   "outputs": [],
   "source": [
    "# Create dummy variables\n",
    "pool_dummies = pd.get_dummies(df['Pool'])\n",
    "status_dummies = pd.get_dummies(df['ListingStatus'])\n",
    "dwelling_dummies = pd.get_dummies(df['DwellingType'])\n",
    "\n",
    "# Rename columns\n",
    "pool_dummies = pool_dummies.rename(columns = lambda x: 'Pool_' + x.replace(' ', ''))\n",
    "status_dummies = status_dummies.rename(columns = lambda x: 'Status_' + x.replace(' ', ''))\n",
    "dwelling_dummies = dwelling_dummies.rename(columns = lambda x: 'Dweling_' + x.replace(' ', ''))\n",
    "\n",
    "# Add new dummy variables back to the original dataset\n",
    "df = pd.concat([df, pool_dummies, status_dummies, dwelling_dummies], axis=1)"
   ]
  },
  {
   "cell_type": "code",
   "execution_count": 36,
   "metadata": {
    "collapsed": false
   },
   "outputs": [
    {
     "data": {
      "text/html": [
       "<div style=\"max-height:1000px;max-width:1500px;overflow:auto;\">\n",
       "<table border=\"1\" class=\"dataframe\">\n",
       "  <thead>\n",
       "    <tr style=\"text-align: right;\">\n",
       "      <th></th>\n",
       "      <th>ListingId</th>\n",
       "      <th>LivingArea</th>\n",
       "      <th>NumBedrooms</th>\n",
       "      <th>NumBaths</th>\n",
       "      <th>Pool</th>\n",
       "      <th>ExteriorStories</th>\n",
       "      <th>ListDate</th>\n",
       "      <th>ListPrice</th>\n",
       "      <th>GeoLat</th>\n",
       "      <th>GeoLon</th>\n",
       "      <th>...</th>\n",
       "      <th>Status_Pending</th>\n",
       "      <th>Status_TempOffMarket</th>\n",
       "      <th>Dweling_ApartmentStyle/Flat</th>\n",
       "      <th>Dweling_Gemini/TwinHome</th>\n",
       "      <th>Dweling_LoftStyle</th>\n",
       "      <th>Dweling_Mfg/MobileHousing</th>\n",
       "      <th>Dweling_Modular/Pre-Fab</th>\n",
       "      <th>Dweling_PatioHome</th>\n",
       "      <th>Dweling_SingleFamily-Detached</th>\n",
       "      <th>Dweling_Townhouse</th>\n",
       "    </tr>\n",
       "  </thead>\n",
       "  <tbody>\n",
       "    <tr>\n",
       "      <th>1</th>\n",
       "      <td> 5077408</td>\n",
       "      <td> 2230</td>\n",
       "      <td> 4</td>\n",
       "      <td> 2.0</td>\n",
       "      <td> Private</td>\n",
       "      <td> 1</td>\n",
       "      <td>2014-03-01</td>\n",
       "      <td> 475000</td>\n",
       "      <td> 33.650984</td>\n",
       "      <td>-111.963151</td>\n",
       "      <td>...</td>\n",
       "      <td> 0</td>\n",
       "      <td> 0</td>\n",
       "      <td> 0</td>\n",
       "      <td> 0</td>\n",
       "      <td> 0</td>\n",
       "      <td> 0</td>\n",
       "      <td> 0</td>\n",
       "      <td> 0</td>\n",
       "      <td> 1</td>\n",
       "      <td> 0</td>\n",
       "    </tr>\n",
       "    <tr>\n",
       "      <th>2</th>\n",
       "      <td> 5077486</td>\n",
       "      <td> 1601</td>\n",
       "      <td> 3</td>\n",
       "      <td> 2.0</td>\n",
       "      <td> Private</td>\n",
       "      <td> 1</td>\n",
       "      <td>2014-03-01</td>\n",
       "      <td> 279900</td>\n",
       "      <td> 33.692122</td>\n",
       "      <td>-112.038019</td>\n",
       "      <td>...</td>\n",
       "      <td> 0</td>\n",
       "      <td> 0</td>\n",
       "      <td> 0</td>\n",
       "      <td> 0</td>\n",
       "      <td> 0</td>\n",
       "      <td> 0</td>\n",
       "      <td> 0</td>\n",
       "      <td> 0</td>\n",
       "      <td> 1</td>\n",
       "      <td> 0</td>\n",
       "    </tr>\n",
       "    <tr>\n",
       "      <th>3</th>\n",
       "      <td> 5077487</td>\n",
       "      <td> 2440</td>\n",
       "      <td> 4</td>\n",
       "      <td> 2.5</td>\n",
       "      <td>    None</td>\n",
       "      <td> 2</td>\n",
       "      <td>2014-03-01</td>\n",
       "      <td> 229900</td>\n",
       "      <td> 33.647270</td>\n",
       "      <td>-112.251490</td>\n",
       "      <td>...</td>\n",
       "      <td> 0</td>\n",
       "      <td> 0</td>\n",
       "      <td> 0</td>\n",
       "      <td> 0</td>\n",
       "      <td> 0</td>\n",
       "      <td> 0</td>\n",
       "      <td> 0</td>\n",
       "      <td> 0</td>\n",
       "      <td> 1</td>\n",
       "      <td> 0</td>\n",
       "    </tr>\n",
       "  </tbody>\n",
       "</table>\n",
       "<p>3 rows × 34 columns</p>\n",
       "</div>"
      ],
      "text/plain": [
       "   ListingId  LivingArea  NumBedrooms  NumBaths     Pool  ExteriorStories  \\\n",
       "1    5077408        2230            4       2.0  Private                1   \n",
       "2    5077486        1601            3       2.0  Private                1   \n",
       "3    5077487        2440            4       2.5     None                2   \n",
       "\n",
       "    ListDate  ListPrice     GeoLat      GeoLon     ...     Status_Pending  \\\n",
       "1 2014-03-01     475000  33.650984 -111.963151     ...                  0   \n",
       "2 2014-03-01     279900  33.692122 -112.038019     ...                  0   \n",
       "3 2014-03-01     229900  33.647270 -112.251490     ...                  0   \n",
       "\n",
       "  Status_TempOffMarket  Dweling_ApartmentStyle/Flat Dweling_Gemini/TwinHome  \\\n",
       "1                    0                            0                       0   \n",
       "2                    0                            0                       0   \n",
       "3                    0                            0                       0   \n",
       "\n",
       "  Dweling_LoftStyle  Dweling_Mfg/MobileHousing  Dweling_Modular/Pre-Fab  \\\n",
       "1                 0                          0                        0   \n",
       "2                 0                          0                        0   \n",
       "3                 0                          0                        0   \n",
       "\n",
       "   Dweling_PatioHome  Dweling_SingleFamily-Detached  Dweling_Townhouse  \n",
       "1                  0                              1                  0  \n",
       "2                  0                              1                  0  \n",
       "3                  0                              1                  0  \n",
       "\n",
       "[3 rows x 34 columns]"
      ]
     },
     "execution_count": 36,
     "metadata": {},
     "output_type": "execute_result"
    }
   ],
   "source": [
    "df.head(3)"
   ]
  },
  {
   "cell_type": "markdown",
   "metadata": {},
   "source": [
    "### Modeling"
   ]
  },
  {
   "cell_type": "code",
   "execution_count": 37,
   "metadata": {
    "collapsed": false
   },
   "outputs": [
    {
     "data": {
      "text/plain": [
       "array(['ListingId', 'LivingArea', 'NumBedrooms', 'NumBaths', 'Pool',\n",
       "       'ExteriorStories', 'ListDate', 'ListPrice', 'GeoLat', 'GeoLon',\n",
       "       'PublicRemarks', 'CloseDate', 'ClosePrice', 'ListingStatus',\n",
       "       'DwellingType', 'NumDays', 'Pool_BothPrivate&Community',\n",
       "       'Pool_Community', 'Pool_None', 'Pool_Private', 'Status_Active',\n",
       "       'Status_Cancelled', 'Status_Closed', 'Status_Expired',\n",
       "       'Status_Pending', 'Status_TempOffMarket',\n",
       "       'Dweling_ApartmentStyle/Flat', 'Dweling_Gemini/TwinHome',\n",
       "       'Dweling_LoftStyle', 'Dweling_Mfg/MobileHousing',\n",
       "       'Dweling_Modular/Pre-Fab', 'Dweling_PatioHome',\n",
       "       'Dweling_SingleFamily-Detached', 'Dweling_Townhouse'], dtype=object)"
      ]
     },
     "execution_count": 37,
     "metadata": {},
     "output_type": "execute_result"
    }
   ],
   "source": [
    "df.columns.values"
   ]
  },
  {
   "cell_type": "code",
   "execution_count": 38,
   "metadata": {
    "collapsed": false
   },
   "outputs": [
    {
     "data": {
      "text/html": [
       "<div style=\"max-height:1000px;max-width:1500px;overflow:auto;\">\n",
       "<table border=\"1\" class=\"dataframe\">\n",
       "  <thead>\n",
       "    <tr style=\"text-align: right;\">\n",
       "      <th></th>\n",
       "      <th>ListingId</th>\n",
       "      <th>LivingArea</th>\n",
       "      <th>NumBedrooms</th>\n",
       "      <th>NumBaths</th>\n",
       "      <th>Pool</th>\n",
       "      <th>ExteriorStories</th>\n",
       "      <th>ListDate</th>\n",
       "      <th>ListPrice</th>\n",
       "      <th>GeoLat</th>\n",
       "      <th>GeoLon</th>\n",
       "      <th>...</th>\n",
       "      <th>Status_Pending</th>\n",
       "      <th>Status_TempOffMarket</th>\n",
       "      <th>Dweling_ApartmentStyle/Flat</th>\n",
       "      <th>Dweling_Gemini/TwinHome</th>\n",
       "      <th>Dweling_LoftStyle</th>\n",
       "      <th>Dweling_Mfg/MobileHousing</th>\n",
       "      <th>Dweling_Modular/Pre-Fab</th>\n",
       "      <th>Dweling_PatioHome</th>\n",
       "      <th>Dweling_SingleFamily-Detached</th>\n",
       "      <th>Dweling_Townhouse</th>\n",
       "    </tr>\n",
       "  </thead>\n",
       "  <tbody>\n",
       "    <tr>\n",
       "      <th>1</th>\n",
       "      <td> 5077408</td>\n",
       "      <td> 2230</td>\n",
       "      <td> 4</td>\n",
       "      <td> 2.0</td>\n",
       "      <td> Private</td>\n",
       "      <td> 1</td>\n",
       "      <td>2014-03-01</td>\n",
       "      <td> 475000</td>\n",
       "      <td> 33.650984</td>\n",
       "      <td>-111.963151</td>\n",
       "      <td>...</td>\n",
       "      <td> 0</td>\n",
       "      <td> 0</td>\n",
       "      <td> 0</td>\n",
       "      <td> 0</td>\n",
       "      <td> 0</td>\n",
       "      <td> 0</td>\n",
       "      <td> 0</td>\n",
       "      <td> 0</td>\n",
       "      <td> 1</td>\n",
       "      <td> 0</td>\n",
       "    </tr>\n",
       "    <tr>\n",
       "      <th>2</th>\n",
       "      <td> 5077486</td>\n",
       "      <td> 1601</td>\n",
       "      <td> 3</td>\n",
       "      <td> 2.0</td>\n",
       "      <td> Private</td>\n",
       "      <td> 1</td>\n",
       "      <td>2014-03-01</td>\n",
       "      <td> 279900</td>\n",
       "      <td> 33.692122</td>\n",
       "      <td>-112.038019</td>\n",
       "      <td>...</td>\n",
       "      <td> 0</td>\n",
       "      <td> 0</td>\n",
       "      <td> 0</td>\n",
       "      <td> 0</td>\n",
       "      <td> 0</td>\n",
       "      <td> 0</td>\n",
       "      <td> 0</td>\n",
       "      <td> 0</td>\n",
       "      <td> 1</td>\n",
       "      <td> 0</td>\n",
       "    </tr>\n",
       "    <tr>\n",
       "      <th>3</th>\n",
       "      <td> 5077487</td>\n",
       "      <td> 2440</td>\n",
       "      <td> 4</td>\n",
       "      <td> 2.5</td>\n",
       "      <td>    None</td>\n",
       "      <td> 2</td>\n",
       "      <td>2014-03-01</td>\n",
       "      <td> 229900</td>\n",
       "      <td> 33.647270</td>\n",
       "      <td>-112.251490</td>\n",
       "      <td>...</td>\n",
       "      <td> 0</td>\n",
       "      <td> 0</td>\n",
       "      <td> 0</td>\n",
       "      <td> 0</td>\n",
       "      <td> 0</td>\n",
       "      <td> 0</td>\n",
       "      <td> 0</td>\n",
       "      <td> 0</td>\n",
       "      <td> 1</td>\n",
       "      <td> 0</td>\n",
       "    </tr>\n",
       "  </tbody>\n",
       "</table>\n",
       "<p>3 rows × 34 columns</p>\n",
       "</div>"
      ],
      "text/plain": [
       "   ListingId  LivingArea  NumBedrooms  NumBaths     Pool  ExteriorStories  \\\n",
       "1    5077408        2230            4       2.0  Private                1   \n",
       "2    5077486        1601            3       2.0  Private                1   \n",
       "3    5077487        2440            4       2.5     None                2   \n",
       "\n",
       "    ListDate  ListPrice     GeoLat      GeoLon     ...     Status_Pending  \\\n",
       "1 2014-03-01     475000  33.650984 -111.963151     ...                  0   \n",
       "2 2014-03-01     279900  33.692122 -112.038019     ...                  0   \n",
       "3 2014-03-01     229900  33.647270 -112.251490     ...                  0   \n",
       "\n",
       "  Status_TempOffMarket  Dweling_ApartmentStyle/Flat Dweling_Gemini/TwinHome  \\\n",
       "1                    0                            0                       0   \n",
       "2                    0                            0                       0   \n",
       "3                    0                            0                       0   \n",
       "\n",
       "  Dweling_LoftStyle  Dweling_Mfg/MobileHousing  Dweling_Modular/Pre-Fab  \\\n",
       "1                 0                          0                        0   \n",
       "2                 0                          0                        0   \n",
       "3                 0                          0                        0   \n",
       "\n",
       "   Dweling_PatioHome  Dweling_SingleFamily-Detached  Dweling_Townhouse  \n",
       "1                  0                              1                  0  \n",
       "2                  0                              1                  0  \n",
       "3                  0                              1                  0  \n",
       "\n",
       "[3 rows x 34 columns]"
      ]
     },
     "execution_count": 38,
     "metadata": {},
     "output_type": "execute_result"
    }
   ],
   "source": [
    "model_df = df.copy()\n",
    "model_df.reset_index()\n",
    "model_df.head(3)"
   ]
  },
  {
   "cell_type": "code",
   "execution_count": 39,
   "metadata": {
    "collapsed": false
   },
   "outputs": [
    {
     "data": {
      "text/html": [
       "<div style=\"max-height:1000px;max-width:1500px;overflow:auto;\">\n",
       "<table border=\"1\" class=\"dataframe\">\n",
       "  <thead>\n",
       "    <tr style=\"text-align: right;\">\n",
       "      <th></th>\n",
       "      <th>LivingArea</th>\n",
       "      <th>NumBedrooms</th>\n",
       "      <th>NumBaths</th>\n",
       "      <th>ExteriorStories</th>\n",
       "      <th>ListPrice</th>\n",
       "      <th>ClosePrice</th>\n",
       "      <th>NumDays</th>\n",
       "      <th>Pool_BothPrivate&amp;Community</th>\n",
       "      <th>Pool_Community</th>\n",
       "      <th>Pool_Private</th>\n",
       "      <th>...</th>\n",
       "      <th>Status_Closed</th>\n",
       "      <th>Status_Expired</th>\n",
       "      <th>Status_Pending</th>\n",
       "      <th>Dweling_ApartmentStyle/Flat</th>\n",
       "      <th>Dweling_Gemini/TwinHome</th>\n",
       "      <th>Dweling_Mfg/MobileHousing</th>\n",
       "      <th>Dweling_Modular/Pre-Fab</th>\n",
       "      <th>Dweling_PatioHome</th>\n",
       "      <th>Dweling_SingleFamily-Detached</th>\n",
       "      <th>Dweling_Townhouse</th>\n",
       "    </tr>\n",
       "  </thead>\n",
       "  <tbody>\n",
       "    <tr>\n",
       "      <th>1</th>\n",
       "      <td> 2230</td>\n",
       "      <td> 4</td>\n",
       "      <td> 2.0</td>\n",
       "      <td> 1</td>\n",
       "      <td> 475000</td>\n",
       "      <td> 460000</td>\n",
       "      <td> 115</td>\n",
       "      <td> 0</td>\n",
       "      <td> 0</td>\n",
       "      <td> 1</td>\n",
       "      <td>...</td>\n",
       "      <td> 1</td>\n",
       "      <td> 0</td>\n",
       "      <td> 0</td>\n",
       "      <td> 0</td>\n",
       "      <td> 0</td>\n",
       "      <td> 0</td>\n",
       "      <td> 0</td>\n",
       "      <td> 0</td>\n",
       "      <td> 1</td>\n",
       "      <td> 0</td>\n",
       "    </tr>\n",
       "    <tr>\n",
       "      <th>2</th>\n",
       "      <td> 1601</td>\n",
       "      <td> 3</td>\n",
       "      <td> 2.0</td>\n",
       "      <td> 1</td>\n",
       "      <td> 279900</td>\n",
       "      <td> 279900</td>\n",
       "      <td> 136</td>\n",
       "      <td> 0</td>\n",
       "      <td> 0</td>\n",
       "      <td> 1</td>\n",
       "      <td>...</td>\n",
       "      <td> 1</td>\n",
       "      <td> 0</td>\n",
       "      <td> 0</td>\n",
       "      <td> 0</td>\n",
       "      <td> 0</td>\n",
       "      <td> 0</td>\n",
       "      <td> 0</td>\n",
       "      <td> 0</td>\n",
       "      <td> 1</td>\n",
       "      <td> 0</td>\n",
       "    </tr>\n",
       "    <tr>\n",
       "      <th>3</th>\n",
       "      <td> 2440</td>\n",
       "      <td> 4</td>\n",
       "      <td> 2.5</td>\n",
       "      <td> 2</td>\n",
       "      <td> 229900</td>\n",
       "      <td> 228000</td>\n",
       "      <td>  88</td>\n",
       "      <td> 0</td>\n",
       "      <td> 0</td>\n",
       "      <td> 0</td>\n",
       "      <td>...</td>\n",
       "      <td> 1</td>\n",
       "      <td> 0</td>\n",
       "      <td> 0</td>\n",
       "      <td> 0</td>\n",
       "      <td> 0</td>\n",
       "      <td> 0</td>\n",
       "      <td> 0</td>\n",
       "      <td> 0</td>\n",
       "      <td> 1</td>\n",
       "      <td> 0</td>\n",
       "    </tr>\n",
       "  </tbody>\n",
       "</table>\n",
       "<p>3 rows × 22 columns</p>\n",
       "</div>"
      ],
      "text/plain": [
       "   LivingArea  NumBedrooms  NumBaths  ExteriorStories  ListPrice  ClosePrice  \\\n",
       "1        2230            4       2.0                1     475000      460000   \n",
       "2        1601            3       2.0                1     279900      279900   \n",
       "3        2440            4       2.5                2     229900      228000   \n",
       "\n",
       "   NumDays  Pool_BothPrivate&Community  Pool_Community  Pool_Private  \\\n",
       "1      115                           0               0             1   \n",
       "2      136                           0               0             1   \n",
       "3       88                           0               0             0   \n",
       "\n",
       "       ...       Status_Closed  Status_Expired  Status_Pending  \\\n",
       "1      ...                   1               0               0   \n",
       "2      ...                   1               0               0   \n",
       "3      ...                   1               0               0   \n",
       "\n",
       "   Dweling_ApartmentStyle/Flat  Dweling_Gemini/TwinHome  \\\n",
       "1                            0                        0   \n",
       "2                            0                        0   \n",
       "3                            0                        0   \n",
       "\n",
       "   Dweling_Mfg/MobileHousing  Dweling_Modular/Pre-Fab  Dweling_PatioHome  \\\n",
       "1                          0                        0                  0   \n",
       "2                          0                        0                  0   \n",
       "3                          0                        0                  0   \n",
       "\n",
       "   Dweling_SingleFamily-Detached  Dweling_Townhouse  \n",
       "1                              1                  0  \n",
       "2                              1                  0  \n",
       "3                              1                  0  \n",
       "\n",
       "[3 rows x 22 columns]"
      ]
     },
     "execution_count": 39,
     "metadata": {},
     "output_type": "execute_result"
    }
   ],
   "source": [
    "# Delete categorical columns (string columns), dummy column (to avoid multicollinearity), date columns, lat-long data \n",
    "cols_to_del = ['ListingId', 'Pool', 'ListDate', 'GeoLat', 'GeoLon', 'PublicRemarks','CloseDate', \n",
    "               'ListingStatus', 'DwellingType', 'Pool_None', 'Status_TempOffMarket', 'Dweling_LoftStyle']\n",
    "\n",
    "for col in cols_to_del:\n",
    "    del model_df[col]\n",
    "    \n",
    "model_df.head(3)"
   ]
  },
  {
   "cell_type": "markdown",
   "metadata": {},
   "source": [
    "### Linear Regression with \"ListPrice\" covariate"
   ]
  },
  {
   "cell_type": "code",
   "execution_count": 40,
   "metadata": {
    "collapsed": true
   },
   "outputs": [],
   "source": [
    "from sklearn.cross_validation import train_test_split\n",
    "from sklearn.linear_model import LinearRegression"
   ]
  },
  {
   "cell_type": "code",
   "execution_count": 51,
   "metadata": {
    "collapsed": false
   },
   "outputs": [],
   "source": [
    "# Remove Y\n",
    "x_features = list(model_df.columns.values)\n",
    "x_features.remove('ClosePrice')"
   ]
  },
  {
   "cell_type": "code",
   "execution_count": 52,
   "metadata": {
    "collapsed": true
   },
   "outputs": [],
   "source": [
    "X = model_df[x_features].values\n",
    "y = model_df['ClosePrice'].values\n",
    "X_train_with, X_test_with, y_train_with, y_test_with = train_test_split(X, y, test_size = 0.30, random_state = 42)"
   ]
  },
  {
   "cell_type": "code",
   "execution_count": 53,
   "metadata": {
    "collapsed": false
   },
   "outputs": [
    {
     "name": "stdout",
     "output_type": "stream",
     "text": [
      "Residual sum of squares: 98653745.6145\n",
      "Root Mean Squared Error: 9932.45919269\n",
      "Explained variance score: 0.994663069103\n"
     ]
    }
   ],
   "source": [
    "clf_with = LinearRegression()\n",
    "clf_with.fit(X_train_with, y_train_with)\n",
    "\n",
    "# Error Metric: Mean Squared Error or Residual Sum of Squares\n",
    "mse = np.mean((clf_with.predict(X_test_with) - y_test_with)**2)\n",
    "print 'Residual sum of squares: {}'.format(mse)\n",
    "\n",
    "# Error Metric: Root Mean Squared Error \n",
    "rmse = np.sqrt(np.mean((clf_with.predict(X_test_with) - y_test_with)**2))\n",
    "print 'Root Mean Squared Error: {}'.format(rmse)\n",
    "\n",
    "# Error Metric: Explained variance score or\n",
    "ev = clf_with.score(X_test_with, y_test_with)\n",
    "print 'Explained variance score: {}'.format(ev)"
   ]
  },
  {
   "cell_type": "code",
   "execution_count": 54,
   "metadata": {
    "collapsed": false
   },
   "outputs": [
    {
     "name": "stdout",
     "output_type": "stream",
     "text": [
      "Coefficients: \n",
      "[  1.09289865e+00   4.14631846e+02   9.55128374e+00  -8.76362133e+01\n",
      "   9.56709078e-01  -1.36905019e+01   7.62404406e+02   1.23792946e+01\n",
      "   1.31185505e+03  -2.14304238e+04  -2.80156564e+03   8.11456845e+02\n",
      "  -5.48397081e+03   3.21175663e+03  -6.26356486e+03  -7.50802043e+03\n",
      "  -9.25079451e+03  -6.99454691e+03  -7.37037134e+03  -4.98480780e+03\n",
      "  -6.62946046e+03]\n"
     ]
    }
   ],
   "source": [
    "# The coefficients\n",
    "print 'Coefficients: \\n', clf_with.coef_"
   ]
  },
  {
   "cell_type": "code",
   "execution_count": 75,
   "metadata": {
    "collapsed": false
   },
   "outputs": [
    {
     "data": {
      "text/html": [
       "<table class=\"simpletable\">\n",
       "<caption>OLS Regression Results</caption>\n",
       "<tr>\n",
       "  <th>Dep. Variable:</th>            <td>y</td>        <th>  R-squared:         </th>  <td>   0.999</td>  \n",
       "</tr>\n",
       "<tr>\n",
       "  <th>Model:</th>                   <td>OLS</td>       <th>  Adj. R-squared:    </th>  <td>   0.999</td>  \n",
       "</tr>\n",
       "<tr>\n",
       "  <th>Method:</th>             <td>Least Squares</td>  <th>  F-statistic:       </th>  <td>8.907e+05</td> \n",
       "</tr>\n",
       "<tr>\n",
       "  <th>Date:</th>             <td>Sat, 02 Jan 2016</td> <th>  Prob (F-statistic):</th>   <td>  0.00</td>   \n",
       "</tr>\n",
       "<tr>\n",
       "  <th>Time:</th>                 <td>16:52:25</td>     <th>  Log-Likelihood:    </th> <td>-2.7817e+05</td>\n",
       "</tr>\n",
       "<tr>\n",
       "  <th>No. Observations:</th>      <td> 26200</td>      <th>  AIC:               </th>  <td>5.564e+05</td> \n",
       "</tr>\n",
       "<tr>\n",
       "  <th>Df Residuals:</th>          <td> 26179</td>      <th>  BIC:               </th>  <td>5.566e+05</td> \n",
       "</tr>\n",
       "<tr>\n",
       "  <th>Df Model:</th>              <td>    21</td>      <th>                     </th>      <td> </td>     \n",
       "</tr>\n",
       "</table>\n",
       "<table class=\"simpletable\">\n",
       "<tr>\n",
       "   <td></td>      <th>coef</th>     <th>std err</th>      <th>t</th>      <th>P>|t|</th> <th>[95.0% Conf. Int.]</th> \n",
       "</tr>\n",
       "<tr>\n",
       "  <th>x1</th>  <td>    1.0874</td> <td>    0.165</td> <td>    6.577</td> <td> 0.000</td> <td>    0.763     1.411</td>\n",
       "</tr>\n",
       "<tr>\n",
       "  <th>x2</th>  <td>  418.0068</td> <td>  109.511</td> <td>    3.817</td> <td> 0.000</td> <td>  203.360   632.654</td>\n",
       "</tr>\n",
       "<tr>\n",
       "  <th>x3</th>  <td>    9.5567</td> <td>    9.098</td> <td>    1.050</td> <td> 0.294</td> <td>   -8.275    27.388</td>\n",
       "</tr>\n",
       "<tr>\n",
       "  <th>x4</th>  <td>  -78.3163</td> <td>   84.251</td> <td>   -0.930</td> <td> 0.353</td> <td> -243.452    86.820</td>\n",
       "</tr>\n",
       "<tr>\n",
       "  <th>x5</th>  <td>    0.9567</td> <td>    0.001</td> <td> 1396.506</td> <td> 0.000</td> <td>    0.955     0.958</td>\n",
       "</tr>\n",
       "<tr>\n",
       "  <th>x6</th>  <td>  -13.6580</td> <td>    1.049</td> <td>  -13.019</td> <td> 0.000</td> <td>  -15.714   -11.602</td>\n",
       "</tr>\n",
       "<tr>\n",
       "  <th>x7</th>  <td>  765.2430</td> <td>  348.052</td> <td>    2.199</td> <td> 0.028</td> <td>   83.042  1447.444</td>\n",
       "</tr>\n",
       "<tr>\n",
       "  <th>x8</th>  <td>   18.2833</td> <td>  180.891</td> <td>    0.101</td> <td> 0.919</td> <td> -336.272   372.839</td>\n",
       "</tr>\n",
       "<tr>\n",
       "  <th>x9</th>  <td> 1313.5735</td> <td>  164.424</td> <td>    7.989</td> <td> 0.000</td> <td>  991.293  1635.854</td>\n",
       "</tr>\n",
       "<tr>\n",
       "  <th>x10</th> <td>-1.645e+04</td> <td> 2696.410</td> <td>   -6.102</td> <td> 0.000</td> <td>-2.17e+04 -1.12e+04</td>\n",
       "</tr>\n",
       "<tr>\n",
       "  <th>x11</th> <td> 2190.8803</td> <td> 2392.772</td> <td>    0.916</td> <td> 0.360</td> <td>-2499.084  6880.844</td>\n",
       "</tr>\n",
       "<tr>\n",
       "  <th>x12</th> <td> 5793.7425</td> <td> 2205.194</td> <td>    2.627</td> <td> 0.009</td> <td> 1471.442  1.01e+04</td>\n",
       "</tr>\n",
       "<tr>\n",
       "  <th>x13</th> <td> -502.8095</td> <td> 2766.650</td> <td>   -0.182</td> <td> 0.856</td> <td>-5925.594  4919.975</td>\n",
       "</tr>\n",
       "<tr>\n",
       "  <th>x14</th> <td> 8190.3009</td> <td> 2586.781</td> <td>    3.166</td> <td> 0.002</td> <td> 3120.068  1.33e+04</td>\n",
       "</tr>\n",
       "<tr>\n",
       "  <th>x15</th> <td>-5053.5992</td> <td> 2196.913</td> <td>   -2.300</td> <td> 0.021</td> <td>-9359.669  -747.529</td>\n",
       "</tr>\n",
       "<tr>\n",
       "  <th>x16</th> <td>-6283.7911</td> <td> 2316.901</td> <td>   -2.712</td> <td> 0.007</td> <td>-1.08e+04 -1742.538</td>\n",
       "</tr>\n",
       "<tr>\n",
       "  <th>x17</th> <td>-8025.7179</td> <td> 2243.300</td> <td>   -3.578</td> <td> 0.000</td> <td>-1.24e+04 -3628.727</td>\n",
       "</tr>\n",
       "<tr>\n",
       "  <th>x18</th> <td>-5769.6976</td> <td> 3604.835</td> <td>   -1.601</td> <td> 0.109</td> <td>-1.28e+04  1295.976</td>\n",
       "</tr>\n",
       "<tr>\n",
       "  <th>x19</th> <td>-6148.8969</td> <td> 2258.174</td> <td>   -2.723</td> <td> 0.006</td> <td>-1.06e+04 -1722.753</td>\n",
       "</tr>\n",
       "<tr>\n",
       "  <th>x20</th> <td>-3762.5848</td> <td> 2200.778</td> <td>   -1.710</td> <td> 0.087</td> <td>-8076.230   551.060</td>\n",
       "</tr>\n",
       "<tr>\n",
       "  <th>x21</th> <td>-5411.4315</td> <td> 2200.027</td> <td>   -2.460</td> <td> 0.014</td> <td>-9723.604 -1099.259</td>\n",
       "</tr>\n",
       "</table>\n",
       "<table class=\"simpletable\">\n",
       "<tr>\n",
       "  <th>Omnibus:</th>       <td>28063.372</td> <th>  Durbin-Watson:     </th>   <td>   2.001</td>  \n",
       "</tr>\n",
       "<tr>\n",
       "  <th>Prob(Omnibus):</th>  <td> 0.000</td>   <th>  Jarque-Bera (JB):  </th> <td>43845501.658</td>\n",
       "</tr>\n",
       "<tr>\n",
       "  <th>Skew:</th>           <td>-4.372</td>   <th>  Prob(JB):          </th>   <td>    0.00</td>  \n",
       "</tr>\n",
       "<tr>\n",
       "  <th>Kurtosis:</th>       <td>203.218</td>  <th>  Cond. No.          </th>   <td>3.43e+07</td>  \n",
       "</tr>\n",
       "</table>"
      ],
      "text/plain": [
       "<class 'statsmodels.iolib.summary.Summary'>\n",
       "\"\"\"\n",
       "                            OLS Regression Results                            \n",
       "==============================================================================\n",
       "Dep. Variable:                      y   R-squared:                       0.999\n",
       "Model:                            OLS   Adj. R-squared:                  0.999\n",
       "Method:                 Least Squares   F-statistic:                 8.907e+05\n",
       "Date:                Sat, 02 Jan 2016   Prob (F-statistic):               0.00\n",
       "Time:                        16:52:25   Log-Likelihood:            -2.7817e+05\n",
       "No. Observations:               26200   AIC:                         5.564e+05\n",
       "Df Residuals:                   26179   BIC:                         5.566e+05\n",
       "Df Model:                          21                                         \n",
       "==============================================================================\n",
       "                 coef    std err          t      P>|t|      [95.0% Conf. Int.]\n",
       "------------------------------------------------------------------------------\n",
       "x1             1.0874      0.165      6.577      0.000         0.763     1.411\n",
       "x2           418.0068    109.511      3.817      0.000       203.360   632.654\n",
       "x3             9.5567      9.098      1.050      0.294        -8.275    27.388\n",
       "x4           -78.3163     84.251     -0.930      0.353      -243.452    86.820\n",
       "x5             0.9567      0.001   1396.506      0.000         0.955     0.958\n",
       "x6           -13.6580      1.049    -13.019      0.000       -15.714   -11.602\n",
       "x7           765.2430    348.052      2.199      0.028        83.042  1447.444\n",
       "x8            18.2833    180.891      0.101      0.919      -336.272   372.839\n",
       "x9          1313.5735    164.424      7.989      0.000       991.293  1635.854\n",
       "x10        -1.645e+04   2696.410     -6.102      0.000     -2.17e+04 -1.12e+04\n",
       "x11         2190.8803   2392.772      0.916      0.360     -2499.084  6880.844\n",
       "x12         5793.7425   2205.194      2.627      0.009      1471.442  1.01e+04\n",
       "x13         -502.8095   2766.650     -0.182      0.856     -5925.594  4919.975\n",
       "x14         8190.3009   2586.781      3.166      0.002      3120.068  1.33e+04\n",
       "x15        -5053.5992   2196.913     -2.300      0.021     -9359.669  -747.529\n",
       "x16        -6283.7911   2316.901     -2.712      0.007     -1.08e+04 -1742.538\n",
       "x17        -8025.7179   2243.300     -3.578      0.000     -1.24e+04 -3628.727\n",
       "x18        -5769.6976   3604.835     -1.601      0.109     -1.28e+04  1295.976\n",
       "x19        -6148.8969   2258.174     -2.723      0.006     -1.06e+04 -1722.753\n",
       "x20        -3762.5848   2200.778     -1.710      0.087     -8076.230   551.060\n",
       "x21        -5411.4315   2200.027     -2.460      0.014     -9723.604 -1099.259\n",
       "==============================================================================\n",
       "Omnibus:                    28063.372   Durbin-Watson:                   2.001\n",
       "Prob(Omnibus):                  0.000   Jarque-Bera (JB):         43845501.658\n",
       "Skew:                          -4.372   Prob(JB):                         0.00\n",
       "Kurtosis:                     203.218   Cond. No.                     3.43e+07\n",
       "==============================================================================\n",
       "\n",
       "Warnings:\n",
       "[1] The condition number is large, 3.43e+07. This might indicate that there are\n",
       "strong multicollinearity or other numerical problems.\n",
       "\"\"\""
      ]
     },
     "execution_count": 75,
     "metadata": {},
     "output_type": "execute_result"
    }
   ],
   "source": [
    "import statsmodels.formula.api as sm\n",
    "\n",
    "# Without intercept\n",
    "result = sm.OLS(y_train_with, X_train_with).fit()\n",
    "result.summary()"
   ]
  },
  {
   "cell_type": "code",
   "execution_count": 81,
   "metadata": {
    "collapsed": false
   },
   "outputs": [
    {
     "data": {
      "text/plain": [
       "0.0"
      ]
     },
     "execution_count": 81,
     "metadata": {},
     "output_type": "execute_result"
    }
   ],
   "source": [
    "pVals = result.pvalues\n",
    "pVals[4]"
   ]
  },
  {
   "cell_type": "markdown",
   "metadata": {},
   "source": [
    "**p-value** for the coefficient of **ListPrice** = 0.0 i.e. $P(T > |t|) < \\alpha = 0.05$"
   ]
  },
  {
   "cell_type": "markdown",
   "metadata": {},
   "source": [
    "### Linear Regression without \"ListPrice\" covariate"
   ]
  },
  {
   "cell_type": "code",
   "execution_count": 55,
   "metadata": {
    "collapsed": true
   },
   "outputs": [],
   "source": [
    "# Remove Y and ListPrice\n",
    "x_features = list(model_df.columns.values)\n",
    "x_features.remove('ClosePrice')\n",
    "x_features.remove('ListPrice')"
   ]
  },
  {
   "cell_type": "code",
   "execution_count": 56,
   "metadata": {
    "collapsed": true
   },
   "outputs": [],
   "source": [
    "X = model_df[x_features].values\n",
    "y = model_df['ClosePrice'].values\n",
    "X_train, X_test, y_train, y_test = train_test_split(X, y, test_size = 0.30, random_state= 42)"
   ]
  },
  {
   "cell_type": "code",
   "execution_count": 57,
   "metadata": {
    "collapsed": false
   },
   "outputs": [
    {
     "name": "stdout",
     "output_type": "stream",
     "text": [
      "Residual sum of squares: 7324505212.41\n",
      "Root Mean Squared Error: 85583.3232144\n",
      "Explained variance score: 0.603761844691\n"
     ]
    }
   ],
   "source": [
    "clf = LinearRegression()\n",
    "clf.fit(X_train, y_train)\n",
    "\n",
    "# Error Metric: Mean Squared Error or Residual Sum of Squares\n",
    "mse = np.mean((clf.predict(X_test) - y_test)**2)\n",
    "print 'Residual sum of squares: {}'.format(mse)\n",
    "\n",
    "# Error Metric: Root Mean Squared Error \n",
    "rmse = np.sqrt(np.mean((clf.predict(X_test) - y_test)**2))\n",
    "print 'Root Mean Squared Error: {}'.format(rmse)\n",
    "\n",
    "# Error Metric: Explained variance score or\n",
    "ev = clf.score(X_test, y_test)\n",
    "print 'Explained variance score: {}'.format(ev)"
   ]
  },
  {
   "cell_type": "code",
   "execution_count": 58,
   "metadata": {
    "collapsed": false
   },
   "outputs": [
    {
     "name": "stdout",
     "output_type": "stream",
     "text": [
      "Coefficients: \n",
      "[  1.53112371e+02  -3.51654051e+04   8.75750341e+01  -1.02438581e+04\n",
      "   1.36794333e+00   6.71428418e+04   7.67105205e+03   4.94122752e+04\n",
      "  -2.28340394e+04   6.48851163e+03   3.50123058e+04   1.80445739e+03\n",
      "   3.66566116e+04  -1.74103182e+05  -2.41677483e+05  -2.44157245e+05\n",
      "  -2.36526421e+05  -1.63228341e+05  -1.77761594e+05  -1.83063246e+05]\n"
     ]
    }
   ],
   "source": [
    "# The coefficients\n",
    "print 'Coefficients: \\n', clf.coef_"
   ]
  },
  {
   "cell_type": "code",
   "execution_count": 60,
   "metadata": {
    "collapsed": false
   },
   "outputs": [
    {
     "data": {
      "text/html": [
       "<table class=\"simpletable\">\n",
       "<caption>OLS Regression Results</caption>\n",
       "<tr>\n",
       "  <th>Dep. Variable:</th>            <td>y</td>        <th>  R-squared:         </th>  <td>   0.894</td>  \n",
       "</tr>\n",
       "<tr>\n",
       "  <th>Model:</th>                   <td>OLS</td>       <th>  Adj. R-squared:    </th>  <td>   0.894</td>  \n",
       "</tr>\n",
       "<tr>\n",
       "  <th>Method:</th>             <td>Least Squares</td>  <th>  F-statistic:       </th>  <td>1.110e+04</td> \n",
       "</tr>\n",
       "<tr>\n",
       "  <th>Date:</th>             <td>Sat, 02 Jan 2016</td> <th>  Prob (F-statistic):</th>   <td>  0.00</td>   \n",
       "</tr>\n",
       "<tr>\n",
       "  <th>Time:</th>                 <td>16:33:41</td>     <th>  Log-Likelihood:    </th> <td>-3.3482e+05</td>\n",
       "</tr>\n",
       "<tr>\n",
       "  <th>No. Observations:</th>      <td> 26200</td>      <th>  AIC:               </th>  <td>6.697e+05</td> \n",
       "</tr>\n",
       "<tr>\n",
       "  <th>Df Residuals:</th>          <td> 26180</td>      <th>  BIC:               </th>  <td>6.698e+05</td> \n",
       "</tr>\n",
       "<tr>\n",
       "  <th>Df Model:</th>              <td>    20</td>      <th>                     </th>      <td> </td>     \n",
       "</tr>\n",
       "</table>\n",
       "<table class=\"simpletable\">\n",
       "<tr>\n",
       "   <td></td>      <th>coef</th>     <th>std err</th>      <th>t</th>      <th>P>|t|</th> <th>[95.0% Conf. Int.]</th> \n",
       "</tr>\n",
       "<tr>\n",
       "  <th>x1</th>  <td>  153.0340</td> <td>    1.082</td> <td>  141.480</td> <td> 0.000</td> <td>  150.914   155.154</td>\n",
       "</tr>\n",
       "<tr>\n",
       "  <th>x2</th>  <td>-3.508e+04</td> <td>  925.511</td> <td>  -37.906</td> <td> 0.000</td> <td>-3.69e+04 -3.33e+04</td>\n",
       "</tr>\n",
       "<tr>\n",
       "  <th>x3</th>  <td>   87.7889</td> <td>   79.044</td> <td>    1.111</td> <td> 0.267</td> <td>  -67.142   242.720</td>\n",
       "</tr>\n",
       "<tr>\n",
       "  <th>x4</th>  <td>-9963.5936</td> <td>  729.439</td> <td>  -13.659</td> <td> 0.000</td> <td>-1.14e+04 -8533.853</td>\n",
       "</tr>\n",
       "<tr>\n",
       "  <th>x5</th>  <td>    2.3751</td> <td>    9.115</td> <td>    0.261</td> <td> 0.794</td> <td>  -15.490    20.240</td>\n",
       "</tr>\n",
       "<tr>\n",
       "  <th>x6</th>  <td> 6.727e+04</td> <td> 2995.671</td> <td>   22.456</td> <td> 0.000</td> <td> 6.14e+04  7.31e+04</td>\n",
       "</tr>\n",
       "<tr>\n",
       "  <th>x7</th>  <td> 7856.9533</td> <td> 1570.943</td> <td>    5.001</td> <td> 0.000</td> <td> 4777.820  1.09e+04</td>\n",
       "</tr>\n",
       "<tr>\n",
       "  <th>x8</th>  <td> 4.949e+04</td> <td> 1396.826</td> <td>   35.433</td> <td> 0.000</td> <td> 4.68e+04  5.22e+04</td>\n",
       "</tr>\n",
       "<tr>\n",
       "  <th>x9</th>  <td> 1.301e+05</td> <td> 2.34e+04</td> <td>    5.556</td> <td> 0.000</td> <td> 8.42e+04  1.76e+05</td>\n",
       "</tr>\n",
       "<tr>\n",
       "  <th>x10</th> <td> 1.599e+05</td> <td> 2.08e+04</td> <td>    7.697</td> <td> 0.000</td> <td> 1.19e+05  2.01e+05</td>\n",
       "</tr>\n",
       "<tr>\n",
       "  <th>x11</th> <td> 1.881e+05</td> <td> 1.91e+04</td> <td>    9.833</td> <td> 0.000</td> <td> 1.51e+05  2.26e+05</td>\n",
       "</tr>\n",
       "<tr>\n",
       "  <th>x12</th> <td> 1.548e+05</td> <td>  2.4e+04</td> <td>    6.446</td> <td> 0.000</td> <td> 1.08e+05  2.02e+05</td>\n",
       "</tr>\n",
       "<tr>\n",
       "  <th>x13</th> <td> 1.896e+05</td> <td> 2.24e+04</td> <td>    8.447</td> <td> 0.000</td> <td> 1.46e+05  2.34e+05</td>\n",
       "</tr>\n",
       "<tr>\n",
       "  <th>x14</th> <td> -1.37e+05</td> <td> 1.91e+04</td> <td>   -7.186</td> <td> 0.000</td> <td>-1.74e+05 -9.97e+04</td>\n",
       "</tr>\n",
       "<tr>\n",
       "  <th>x15</th> <td>-2.042e+05</td> <td> 2.01e+04</td> <td>  -10.163</td> <td> 0.000</td> <td>-2.44e+05 -1.65e+05</td>\n",
       "</tr>\n",
       "<tr>\n",
       "  <th>x16</th> <td>-2.067e+05</td> <td> 1.95e+04</td> <td>  -10.624</td> <td> 0.000</td> <td>-2.45e+05 -1.69e+05</td>\n",
       "</tr>\n",
       "<tr>\n",
       "  <th>x17</th> <td> -1.99e+05</td> <td> 3.13e+04</td> <td>   -6.359</td> <td> 0.000</td> <td> -2.6e+05 -1.38e+05</td>\n",
       "</tr>\n",
       "<tr>\n",
       "  <th>x18</th> <td>-1.258e+05</td> <td> 1.96e+04</td> <td>   -6.416</td> <td> 0.000</td> <td>-1.64e+05 -8.74e+04</td>\n",
       "</tr>\n",
       "<tr>\n",
       "  <th>x19</th> <td>-1.403e+05</td> <td> 1.91e+04</td> <td>   -7.345</td> <td> 0.000</td> <td>-1.78e+05 -1.03e+05</td>\n",
       "</tr>\n",
       "<tr>\n",
       "  <th>x20</th> <td>-1.458e+05</td> <td> 1.91e+04</td> <td>   -7.633</td> <td> 0.000</td> <td>-1.83e+05 -1.08e+05</td>\n",
       "</tr>\n",
       "</table>\n",
       "<table class=\"simpletable\">\n",
       "<tr>\n",
       "  <th>Omnibus:</th>       <td>7265.030</td> <th>  Durbin-Watson:     </th> <td>   1.986</td> \n",
       "</tr>\n",
       "<tr>\n",
       "  <th>Prob(Omnibus):</th>  <td> 0.000</td>  <th>  Jarque-Bera (JB):  </th> <td>35394.716</td>\n",
       "</tr>\n",
       "<tr>\n",
       "  <th>Skew:</th>           <td> 1.264</td>  <th>  Prob(JB):          </th> <td>    0.00</td> \n",
       "</tr>\n",
       "<tr>\n",
       "  <th>Kurtosis:</th>       <td> 8.102</td>  <th>  Cond. No.          </th> <td>2.57e+05</td> \n",
       "</tr>\n",
       "</table>"
      ],
      "text/plain": [
       "<class 'statsmodels.iolib.summary.Summary'>\n",
       "\"\"\"\n",
       "                            OLS Regression Results                            \n",
       "==============================================================================\n",
       "Dep. Variable:                      y   R-squared:                       0.894\n",
       "Model:                            OLS   Adj. R-squared:                  0.894\n",
       "Method:                 Least Squares   F-statistic:                 1.110e+04\n",
       "Date:                Sat, 02 Jan 2016   Prob (F-statistic):               0.00\n",
       "Time:                        16:33:41   Log-Likelihood:            -3.3482e+05\n",
       "No. Observations:               26200   AIC:                         6.697e+05\n",
       "Df Residuals:                   26180   BIC:                         6.698e+05\n",
       "Df Model:                          20                                         \n",
       "==============================================================================\n",
       "                 coef    std err          t      P>|t|      [95.0% Conf. Int.]\n",
       "------------------------------------------------------------------------------\n",
       "x1           153.0340      1.082    141.480      0.000       150.914   155.154\n",
       "x2         -3.508e+04    925.511    -37.906      0.000     -3.69e+04 -3.33e+04\n",
       "x3            87.7889     79.044      1.111      0.267       -67.142   242.720\n",
       "x4         -9963.5936    729.439    -13.659      0.000     -1.14e+04 -8533.853\n",
       "x5             2.3751      9.115      0.261      0.794       -15.490    20.240\n",
       "x6          6.727e+04   2995.671     22.456      0.000      6.14e+04  7.31e+04\n",
       "x7          7856.9533   1570.943      5.001      0.000      4777.820  1.09e+04\n",
       "x8          4.949e+04   1396.826     35.433      0.000      4.68e+04  5.22e+04\n",
       "x9          1.301e+05   2.34e+04      5.556      0.000      8.42e+04  1.76e+05\n",
       "x10         1.599e+05   2.08e+04      7.697      0.000      1.19e+05  2.01e+05\n",
       "x11         1.881e+05   1.91e+04      9.833      0.000      1.51e+05  2.26e+05\n",
       "x12         1.548e+05    2.4e+04      6.446      0.000      1.08e+05  2.02e+05\n",
       "x13         1.896e+05   2.24e+04      8.447      0.000      1.46e+05  2.34e+05\n",
       "x14         -1.37e+05   1.91e+04     -7.186      0.000     -1.74e+05 -9.97e+04\n",
       "x15        -2.042e+05   2.01e+04    -10.163      0.000     -2.44e+05 -1.65e+05\n",
       "x16        -2.067e+05   1.95e+04    -10.624      0.000     -2.45e+05 -1.69e+05\n",
       "x17         -1.99e+05   3.13e+04     -6.359      0.000      -2.6e+05 -1.38e+05\n",
       "x18        -1.258e+05   1.96e+04     -6.416      0.000     -1.64e+05 -8.74e+04\n",
       "x19        -1.403e+05   1.91e+04     -7.345      0.000     -1.78e+05 -1.03e+05\n",
       "x20        -1.458e+05   1.91e+04     -7.633      0.000     -1.83e+05 -1.08e+05\n",
       "==============================================================================\n",
       "Omnibus:                     7265.030   Durbin-Watson:                   1.986\n",
       "Prob(Omnibus):                  0.000   Jarque-Bera (JB):            35394.716\n",
       "Skew:                           1.264   Prob(JB):                         0.00\n",
       "Kurtosis:                       8.102   Cond. No.                     2.57e+05\n",
       "==============================================================================\n",
       "\n",
       "Warnings:\n",
       "[1] The condition number is large, 2.57e+05. This might indicate that there are\n",
       "strong multicollinearity or other numerical problems.\n",
       "\"\"\""
      ]
     },
     "execution_count": 60,
     "metadata": {},
     "output_type": "execute_result"
    }
   ],
   "source": [
    "# Without intercept\n",
    "result = sm.OLS(y_train, X_train).fit()\n",
    "result.summary()"
   ]
  },
  {
   "cell_type": "code",
   "execution_count": null,
   "metadata": {
    "collapsed": true
   },
   "outputs": [],
   "source": []
  },
  {
   "cell_type": "markdown",
   "metadata": {},
   "source": [
    "---"
   ]
  },
  {
   "cell_type": "markdown",
   "metadata": {},
   "source": [
    "## Feature Engineering - TFIDF\n",
    "\n",
    "```python\n",
    "import re\n",
    "from nltk.corpus import stopwords\n",
    "\n",
    "def remark_to_wordlist(remark):\n",
    "    if type(remark) == str:\n",
    "        # Remove numbers\n",
    "        text = re.sub('[^a-z]', ' ', remark)\n",
    "        # Convert words to lower case\n",
    "        text = text.lower()\n",
    "        # Split into separate words\n",
    "        words = text.split()\n",
    "        # Remove english stopwords\n",
    "        filtered = [w for w in words if w not in stopwords.words('english')]\n",
    "        sentence = ' '.join(filtered)\n",
    "        return sentence\n",
    "    else:\n",
    "        return 'error'\n",
    "        \n",
    "df['remark'] = df['remark'].map(lambda remark: remark_to_wordlist(remark))\n",
    "```"
   ]
  },
  {
   "cell_type": "code",
   "execution_count": null,
   "metadata": {
    "collapsed": true
   },
   "outputs": [],
   "source": [
    "# Ref: http://ankoorb.blogspot.com/2014/12/sentiment-analysis-on-rotten-tomatoes.html\n",
    "\n",
    "import re\n",
    "from nltk.corpus import stopwords\n",
    "\n",
    "from sklearn.feature_extraction.text import CountVectorizer\n",
    "from sklearn.feature_extraction.text import TfidfTransformer"
   ]
  },
  {
   "cell_type": "code",
   "execution_count": null,
   "metadata": {
    "collapsed": false
   },
   "outputs": [],
   "source": [
    "public_remarks = pd.DataFrame(df['PublicRemarks'])"
   ]
  },
  {
   "cell_type": "markdown",
   "metadata": {},
   "source": [
    "> ## Testing TFIDF "
   ]
  },
  {
   "cell_type": "code",
   "execution_count": null,
   "metadata": {
    "collapsed": false
   },
   "outputs": [],
   "source": [
    "a = ['Cream color glazed cabinetry.']\n",
    "b = ['Travertine stone flooring.']\n",
    "c = ['Gorgeous tiled showers.']\n",
    "d = [np.nan]\n",
    "strs = pd.DataFrame([a, b, c, d])\n",
    "strs.columns = ['text']\n",
    "print type(strs['text'][3])\n",
    "\n",
    "# Fill NaN with a string\n",
    "strs.fillna('error', inplace = True)\n",
    "strs.head()"
   ]
  },
  {
   "cell_type": "code",
   "execution_count": null,
   "metadata": {
    "collapsed": false
   },
   "outputs": [],
   "source": [
    "# Tokenize text \n",
    "count_vector = CountVectorizer()\n",
    "counts = count_vector.fit_transform(strs['text'])\n",
    "\n",
    "print counts.shape\n",
    "print len(count_vector.get_feature_names())\n",
    "print count_vector.get_feature_names()\n",
    "\n",
    "# Count Matrix to DataFrame\n",
    "pd.DataFrame(counts.todense())"
   ]
  },
  {
   "cell_type": "code",
   "execution_count": null,
   "metadata": {
    "collapsed": false
   },
   "outputs": [],
   "source": [
    "# Term Frequency times Inverse Document Frequency (tf-idf)\n",
    "# Use fit_transform() method to transform count-matrix to 'tf-idf' representation\n",
    "x = pd.DataFrame(TfidfTransformer().fit_transform(counts).todense())\n",
    "x.head(3)"
   ]
  },
  {
   "cell_type": "code",
   "execution_count": null,
   "metadata": {
    "collapsed": false
   },
   "outputs": [],
   "source": [
    "# Rename columns\n",
    "x.columns = count_vector.get_feature_names()\n",
    "x.head()"
   ]
  },
  {
   "cell_type": "code",
   "execution_count": null,
   "metadata": {
    "collapsed": false
   },
   "outputs": [],
   "source": [
    "public_remarks.fillna('error', inplace = True)"
   ]
  },
  {
   "cell_type": "code",
   "execution_count": null,
   "metadata": {
    "collapsed": true
   },
   "outputs": [],
   "source": [
    "import re\n",
    "from nltk.corpus import stopwords\n",
    "\n",
    "def remark_to_wordlist(remark):\n",
    "    if type(remark) == str:\n",
    "        # Remove numbers\n",
    "        text = re.sub('[^a-z]', ' ', remark)\n",
    "        # Convert words to lower case\n",
    "        text = text.lower()\n",
    "        # Split into separate words\n",
    "        words = text.split()\n",
    "        # Remove english stopwords\n",
    "        filtered = [w for w in words if w not in stopwords.words('english')]\n",
    "        sentence = ' '.join(filtered)\n",
    "        return sentence\n",
    "    else:\n",
    "        return 'error'"
   ]
  },
  {
   "cell_type": "code",
   "execution_count": null,
   "metadata": {
    "collapsed": true
   },
   "outputs": [],
   "source": [
    "# Takes time to run!\n",
    "public_remarks['PublicRemarks'] = public_remarks['PublicRemarks'].map(lambda remark: remark_to_wordlist(remark))"
   ]
  },
  {
   "cell_type": "code",
   "execution_count": null,
   "metadata": {
    "collapsed": false
   },
   "outputs": [],
   "source": [
    "# Tokenize text \n",
    "count_vector = CountVectorizer()\n",
    "counts = count_vector.fit_transform(public_remarks['PublicRemarks'])\n",
    "\n",
    "print counts.shape\n",
    "print len(count_vector.get_feature_names())"
   ]
  },
  {
   "cell_type": "code",
   "execution_count": null,
   "metadata": {
    "collapsed": false
   },
   "outputs": [],
   "source": [
    "# Term Frequency times Inverse Document Frequency (tf-idf)\n",
    "# Use fit_transform() method to transform count-matrix to 'tf-idf' representation\n",
    "public_remarks_tfidf = pd.DataFrame(TfidfTransformer().fit_transform(counts).todense())\n",
    "public_remarks_tfidf.head(3)"
   ]
  },
  {
   "cell_type": "code",
   "execution_count": null,
   "metadata": {
    "collapsed": false
   },
   "outputs": [],
   "source": [
    "# Rename columns\n",
    "public_remarks_tfidf.columns = count_vector.get_feature_names()\n",
    "public_remarks_tfidf.head(3)"
   ]
  },
  {
   "cell_type": "code",
   "execution_count": null,
   "metadata": {
    "collapsed": true
   },
   "outputs": [],
   "source": [
    "# Concatenate dataframe: Not enough storage space on my laptop\n",
    "#df = pd.concat([df, public_remarks_tfidf], axis=1)\n",
    "#print df.shape"
   ]
  },
  {
   "cell_type": "markdown",
   "metadata": {},
   "source": [
    "### Part 2 Web Scraping and Simple n grams\n",
    "\n",
    "scrape [N-gram](https://en.wikipedia.org/wiki/N-gram) wikipedia webpage and generate top 10 3-grams.  \n",
    "\n",
    "Here is the output:\n",
    "\n",
    "**Output:**\n",
    "```python\n",
    "Top: 1  3-gram (with frequency): ((u'an', u'n-gram', u'model'), 5)\n",
    "Top: 2  3-gram (with frequency): ((u'n-gram', u'models', u'are'), 4)\n",
    "Top: 3  3-gram (with frequency): ((u'natural', u'language', u'processing'), 4)\n",
    "Top: 4  3-gram (with frequency): ((u'part', u'of', u'the'), 4)\n",
    "Top: 5  3-gram (with frequency): ((u'of', u'a', u'possible'), 3)\n",
    "Top: 6  3-gram (with frequency): ((u'for', u'sequences', u'of'), 3)\n",
    "Top: 7  3-gram (with frequency): ((u'can', u'also', u'be'), 3)\n",
    "Top: 8  3-gram (with frequency): ((u'be', u'used', u'for'), 3)\n",
    "Top: 9  3-gram (with frequency): ((u'the', u'number', u'of'), 3)\n",
    "Top: 10  3-gram (with frequency): ((u'computational', u'linguistics', u'and'), 3)\n",
    "```"
   ]
  },
  {
   "cell_type": "code",
   "execution_count": 1,
   "metadata": {
    "collapsed": true
   },
   "outputs": [],
   "source": [
    "import urllib2\n",
    "from bs4 import BeautifulSoup\n",
    "\n",
    "# NLTK\n",
    "import nltk\n",
    "from nltk import RegexpTokenizer\n",
    "from nltk import trigrams"
   ]
  },
  {
   "cell_type": "code",
   "execution_count": 2,
   "metadata": {
    "collapsed": false
   },
   "outputs": [
    {
     "name": "stderr",
     "output_type": "stream",
     "text": [
      "/Applications/anaconda/lib/python2.7/site-packages/bs4/__init__.py:166: UserWarning: No parser was explicitly specified, so I'm using the best available HTML parser for this system (\"lxml\"). This usually isn't a problem, but if you run this code on another system, or in a different virtual environment, it may use a different parser and behave differently.\n",
      "\n",
      "To get rid of this warning, change this:\n",
      "\n",
      " BeautifulSoup([your markup])\n",
      "\n",
      "to this:\n",
      "\n",
      " BeautifulSoup([your markup], \"lxml\")\n",
      "\n",
      "  markup_type=markup_type))\n"
     ]
    }
   ],
   "source": [
    "url = 'https://en.wikipedia.org/wiki/N-gram'\n",
    "html = urllib2.urlopen(url)\n",
    "bsObj = BeautifulSoup(html)\n",
    "\n",
    "#print bsObj.prettify().encode('utf-8')"
   ]
  },
  {
   "cell_type": "code",
   "execution_count": 3,
   "metadata": {
    "collapsed": false
   },
   "outputs": [
    {
     "name": "stdout",
     "output_type": "stream",
     "text": [
      "Number of <p> tags: 39\n",
      "------------------------------------------------------------------\n",
      "Text from first <p> tag: \n",
      "In the fields of computational linguistics and probability, an n-gram is a contiguous sequence of n items from a given sequence of text or speech. The items can be phonemes, syllables, letters, words or base pairs according to the application. The n-grams typically are collected from a text or speech corpus. When the items are words, n-grams may also be called shingles.[1]\n",
      "------------------------------------------------------------------\n",
      "Text from last <p> tag: \n",
      "Syntactic n-grams are intended to reflect syntactic structure more faithfully than linear n-grams, and have many of the same applications, especially as features in a Vector Space Model. Syntactic n-grams for certain tasks gives better results than the use of standard n-grams, for example, for authorship attribution.[15]\n"
     ]
    }
   ],
   "source": [
    "# Check <p> tags\n",
    "p = bsObj.findAll('p')\n",
    "print 'Number of <p> tags: {}'.format(len(p))\n",
    "print '------------------------------------------------------------------'\n",
    "print 'Text from first <p> tag: \\n', p[0].get_text()\n",
    "print '------------------------------------------------------------------'\n",
    "print 'Text from last <p> tag: \\n', p[len(p)-1].get_text()"
   ]
  },
  {
   "cell_type": "code",
   "execution_count": 4,
   "metadata": {
    "collapsed": true
   },
   "outputs": [],
   "source": [
    "# Extract all the text from <p> tags\n",
    "text = []\n",
    "p_tags = bsObj.findAll('p')\n",
    "for i in range(len(p_tags)):\n",
    "    text.append(p_tags[i].get_text())"
   ]
  },
  {
   "cell_type": "code",
   "execution_count": 5,
   "metadata": {
    "collapsed": false
   },
   "outputs": [
    {
     "name": "stdout",
     "output_type": "stream",
     "text": [
      "In the fields of computational linguistics and probability, an n-gram is a contiguous sequence of n items from a given sequence of text or speech. The items can be phonemes, syllables, letters, words or base pairs according to the application. The n-\n"
     ]
    }
   ],
   "source": [
    "# Convert list to a string\n",
    "string = ', '.join(text)\n",
    "print string[:250]"
   ]
  },
  {
   "cell_type": "code",
   "execution_count": 6,
   "metadata": {
    "collapsed": false
   },
   "outputs": [
    {
     "name": "stdout",
     "output_type": "stream",
     "text": [
      "First 5 tokens:  [u'In', u'the', u'fields', u'of', u'computational']\n",
      "First 5 tokens (lower case):  [u'in', u'the', u'fields', u'of', u'computational']\n"
     ]
    }
   ],
   "source": [
    "# Tokenize the string\n",
    "\n",
    "#tokens = nltk.wordpunct_tokenize(string) # splits n-gram and removes numbers\n",
    "#print tokens\n",
    "\n",
    "# Use Regular Expression\n",
    "tokenizer = RegexpTokenizer('[a-zA-Z0-9\\-]+')\n",
    "tokens = tokenizer.tokenize(string)\n",
    "print 'First 5 tokens: ', tokens[:5]\n",
    "\n",
    "# Lower case\n",
    "tokens = [token.lower() for token in tokens]\n",
    "print 'First 5 tokens (lower case): ', tokens[:5]"
   ]
  },
  {
   "cell_type": "code",
   "execution_count": 7,
   "metadata": {
    "collapsed": true
   },
   "outputs": [],
   "source": [
    "# Generate 3-grams\n",
    "tri_grams = trigrams(tokens)\n",
    "\n",
    "# Get frequency distribution of 3-grams\n",
    "fdist = nltk.FreqDist(tri_grams)\n",
    "\n",
    "# Get top 10 3-grams\n",
    "top_tri_grams = fdist.most_common(10)"
   ]
  },
  {
   "cell_type": "code",
   "execution_count": 8,
   "metadata": {
    "collapsed": false
   },
   "outputs": [
    {
     "name": "stdout",
     "output_type": "stream",
     "text": [
      "Top: 1  3-gram (with frequency): ((u'an', u'n-gram', u'model'), 5)\n",
      "Top: 2  3-gram (with frequency): ((u'n-gram', u'models', u'are'), 4)\n",
      "Top: 3  3-gram (with frequency): ((u'natural', u'language', u'processing'), 4)\n",
      "Top: 4  3-gram (with frequency): ((u'part', u'of', u'the'), 4)\n",
      "Top: 5  3-gram (with frequency): ((u'of', u'a', u'possible'), 3)\n",
      "Top: 6  3-gram (with frequency): ((u'for', u'sequences', u'of'), 3)\n",
      "Top: 7  3-gram (with frequency): ((u'can', u'also', u'be'), 3)\n",
      "Top: 8  3-gram (with frequency): ((u'be', u'used', u'for'), 3)\n",
      "Top: 9  3-gram (with frequency): ((u'the', u'number', u'of'), 3)\n",
      "Top: 10  3-gram (with frequency): ((u'computational', u'linguistics', u'and'), 3)\n"
     ]
    }
   ],
   "source": [
    "for i, j in enumerate(top_tri_grams):\n",
    "    print 'Top: ' + str(i+1) + '  3-gram (with frequency): ' + str(j)"
   ]
  },
  {
   "cell_type": "markdown",
   "metadata": {},
   "source": [
    "### Part 3 Memoizer\n",
    "\n",
    "Write a function that accepts a single argument function f , and an integer k , and returns a function that behaves the same as f except it caches the last k distinct accessed results of f. \n",
    "\n",
    "\n",
    "For instance, if memoize is the function we’re after, and let mem_f = memoize(f, 2) , then\n",
    "\n",
    "● mem_f(arg1) → f(arg1) is computed and cached  \n",
    "● mem_f(arg1) → f(arg1) is returned from cache  \n",
    "● mem_f(arg2) → f(arg2) is computed and cached  \n",
    "● mem_f(arg3) → f(arg3) is computed and cached, and f(arg1) is evicted  "
   ]
  },
  {
   "cell_type": "code",
   "execution_count": 9,
   "metadata": {
    "collapsed": false
   },
   "outputs": [
    {
     "name": "stdout",
     "output_type": "stream",
     "text": [
      "Output of mem_f(5):  [25]\n",
      "Output of mem_f(15):  [25, 225]\n",
      "Output of mem_f(25):  [225, 625]\n",
      "Output of mem_f(15):  [625, 25]\n"
     ]
    }
   ],
   "source": [
    "def memoize(f, k):\n",
    "    memo = []\n",
    "    def helper(x):\n",
    "        if f(x) not in memo:\n",
    "            memo.append(f(x))\n",
    "            if len(memo) > k:\n",
    "                memo.pop(0)\n",
    "        return memo\n",
    "    return helper\n",
    "\n",
    "def square(n):\n",
    "    '''Calculate square of an int or float'''\n",
    "    return n*n\n",
    "\n",
    "mem_f = memoize(square, 2)\n",
    "\n",
    "# Testing\n",
    "print 'Output of mem_f(5): ', mem_f(5)\n",
    "print 'Output of mem_f(15): ', mem_f(15)\n",
    "print 'Output of mem_f(25): ', mem_f(25)\n",
    "print 'Output of mem_f(15): ', mem_f(5)"
   ]
  },
  {
   "cell_type": "code",
   "execution_count": 10,
   "metadata": {
    "collapsed": false
   },
   "outputs": [
    {
     "name": "stdout",
     "output_type": "stream",
     "text": [
      "[0]\n",
      "[0, 1]\n",
      "[1, 8100]\n",
      "[8100, 1000000]\n",
      "[8100, 1000000]\n"
     ]
    }
   ],
   "source": [
    "# Test when k = 2\n",
    "test_2 = memoize(square, 2)\n",
    "\n",
    "print test_2(0)\n",
    "print test_2(1)\n",
    "print test_2(90)\n",
    "print test_2(1000)\n",
    "print test_2(1000)"
   ]
  },
  {
   "cell_type": "code",
   "execution_count": 11,
   "metadata": {
    "collapsed": false
   },
   "outputs": [
    {
     "name": "stdout",
     "output_type": "stream",
     "text": [
      "[0]\n",
      "[0, 1]\n",
      "[0, 1, 400]\n",
      "[0, 1, 400, 8100]\n",
      "[1, 400, 8100, 32400]\n",
      "[400, 8100, 32400, 1000000]\n"
     ]
    }
   ],
   "source": [
    "# Test when k = 4\n",
    "test_4 = memoize(square, 4)\n",
    "\n",
    "print test_4(0)\n",
    "print test_4(1)\n",
    "print test_4(20)\n",
    "print test_4(90)\n",
    "print test_4(180)\n",
    "print test_4(1000)"
   ]
  },
  {
   "cell_type": "code",
   "execution_count": 12,
   "metadata": {
    "collapsed": false
   },
   "outputs": [
    {
     "name": "stdout",
     "output_type": "stream",
     "text": [
      "[0]\n",
      "[0, 1]\n",
      "[0, 1, 400]\n",
      "[0, 1, 400, 8100]\n",
      "[0, 1, 400, 8100, 32400]\n",
      "[1, 400, 8100, 32400, 490000]\n",
      "[400, 8100, 32400, 490000, 1000000]\n"
     ]
    }
   ],
   "source": [
    "# Test when k = 5\n",
    "test_5 = memoize(square, 5)\n",
    "\n",
    "print test_5(0)\n",
    "print test_5(1)\n",
    "print test_5(20)\n",
    "print test_5(90)\n",
    "print test_5(180)\n",
    "print test_5(700)\n",
    "print test_5(1000)"
   ]
  },
  {
   "cell_type": "code",
   "execution_count": null,
   "metadata": {
    "collapsed": true
   },
   "outputs": [],
   "source": []
  }
 ],
 "metadata": {
  "kernelspec": {
   "display_name": "Python 2",
   "language": "python",
   "name": "python2"
  },
  "language_info": {
   "codemirror_mode": {
    "name": "ipython",
    "version": 2
   },
   "file_extension": ".py",
   "mimetype": "text/x-python",
   "name": "python",
   "nbconvert_exporter": "python",
   "pygments_lexer": "ipython2",
   "version": "2.7.11"
  }
 },
 "nbformat": 4,
 "nbformat_minor": 0
}
