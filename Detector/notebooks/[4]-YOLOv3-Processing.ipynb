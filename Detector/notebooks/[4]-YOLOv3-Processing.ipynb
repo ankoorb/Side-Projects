{
 "cells": [
  {
   "cell_type": "markdown",
   "metadata": {},
   "source": [
    "# Preprocessing Functions"
   ]
  },
  {
   "cell_type": "code",
   "execution_count": 194,
   "metadata": {},
   "outputs": [],
   "source": [
    "import numpy as np\n",
    "\n",
    "\n",
    "def preprocess_true_boxes(true_boxes, input_shape, anchors, n_classes):\n",
    "    \"\"\"\n",
    "    Preprocess true bounding boxes to training input format.\n",
    "    \n",
    "    Reference: https://github.com/qqwweee/keras-yolo3/blob/master/yolo3/model.py\n",
    "    \n",
    "    Parameters\n",
    "    ----------\n",
    "    true_boxes: Numpy array of shape = (N, T, 5), where N: Number of images,\n",
    "        T: Number of maximum objects in an image, and 5 corresponds to absolute\n",
    "        x_min, y_min, x_max, y_max (values relative to input_shape) and number of\n",
    "        classes.\n",
    "    input_shape: list, [height, width] and length = 2. NOTE: height and width are \n",
    "        multiples of 32\n",
    "    anchors: Numpy array of shape = (9, 2), and array is of form [width, height]\n",
    "    n_classes: int, number of classes\n",
    "    \n",
    "    Return\n",
    "    ------\n",
    "    y_true: list of 3 Numpy arrays, [(n, 13, 13, 3, 5 + c), ...]\n",
    "    \"\"\"\n",
    "    # Check: class_id in true_boxes must be less than n_classes\n",
    "    assert (true_boxes[..., 4] < n_classes).all()\n",
    "    \n",
    "    # Create masks for anchors\n",
    "    anchor_mask = [[6, 7, 8], [3, 4, 5], [0, 1, 2]]\n",
    "    \n",
    "    # Number of scales\n",
    "    num_scales = len(anchors) // 3\n",
    "    \n",
    "    # Convert true_boxes values to float and convert input_shape list to numpy array\n",
    "    true_boxes = np.array(true_boxes, dtype=np.float32)\n",
    "    input_shape = np.array(input_shape, dtype=np.int32)\n",
    "    \n",
    "    # Compute the center coordinates of bounding boxes: (x, y) is center of bbox\n",
    "    boxes_xy = (true_boxes[..., 0:2] + true_boxes[..., 2:4]) // 2\n",
    "    \n",
    "    # Compute the width and height of bounding boxes: (w, h)\n",
    "    boxes_wh = true_boxes[..., 2:4] - true_boxes[..., 0:2]  # w = x_max - x_min and ...\n",
    "    \n",
    "    # Normalize box center coordinates and box width and height, values range = [0, 1]\n",
    "    true_boxes[..., 0:2] = boxes_xy / input_shape[::-1]  # (h, w) -> (w, h)\n",
    "    true_boxes[..., 2:4] = boxes_wh / input_shape[::-1]  # (h, w) -> (w, h)\n",
    "    \n",
    "    # Number of images\n",
    "    N = true_boxes.shape[0]\n",
    "    \n",
    "    # Compute grid shapes: [array([13, 13]), array([26, 26]), array([52, 52])] for 416x416\n",
    "    grid_shapes = [input_shape // {0: 32, 1: 16, 2: 8}[s] for s in range(num_scales)]\n",
    "    \n",
    "    # Create a list of zero initialized arrays to store processed ground truth boxes: shape = (N, 13, 13, 3, 5 + C) for 13x13\n",
    "    y_true = [np.zeros((N, grid_shapes[s][0], grid_shapes[s][1], len(anchor_mask[s]), 5 + n_classes), dtype=np.float32) for s in range(num_scales)]\n",
    "    \n",
    "    # Expand dimensions to apply broadcasting\n",
    "    anchors = np.expand_dims(anchors, axis=0)  # (9, 2) -> (1, 9, 2)\n",
    "    \n",
    "    # Anchor max and min values. The idea is to make upper-left corner the origin\n",
    "    anchor_maxes = anchors / 2.0\n",
    "    anchor_mins = - anchor_maxes\n",
    "    \n",
    "    # Mask used to discard rows with zero width values from unnormalized boxes\n",
    "    valid_mask = boxes_wh[..., 0] > 0  # w > 0 -> True and w = 0 -> False\n",
    "    \n",
    "    # Loop over all the images, compute IoU between box and anchor. Get best anchors\n",
    "    # and based on best anchors populate array that was created to store processed\n",
    "    # ground truth boxes in training format\n",
    "    \n",
    "    for b in range(N):\n",
    "        # Discard rows with zero width values from unnormalized boxes\n",
    "        wh = boxes_wh[b, valid_mask[b]]\n",
    "        if len(wh) == 0: continue\n",
    "        \n",
    "        # Expand dimensions to apply broadcasting\n",
    "        wh = np.expand_dims(wh, -2)\n",
    "        \n",
    "        # Unnormalized boxes max and min values. The idea is to make upper-left corner the origin\n",
    "        box_maxes = wh / 2.0\n",
    "        box_mins = - box_maxes\n",
    "    \n",
    "        # Compute IoU between anchors and bounding boxes to find best anchors\n",
    "        intersect_mins = np.maximum(box_mins, anchor_mins)  # Upper left coordinates\n",
    "        intersect_maxes = np.minimum(box_maxes, anchor_maxes)  # Lower right coordinates\n",
    "        intersect_wh = np.maximum(intersect_maxes - intersect_mins, 0)  # Intersection width and height\n",
    "        intersect_area = intersect_wh[..., 0] * intersect_wh[..., 1]  # Intersection area\n",
    "        box_area = wh[..., 0] * wh[..., 1]  # Bbox area\n",
    "        anchor_area = anchors[..., 0] * anchors[..., 1]  # Anchor area\n",
    "        iou = intersect_area / (box_area + anchor_area - intersect_area)\n",
    "        \n",
    "        # Get best anchor for each true bbox\n",
    "        best_anchor = np.argmax(iou, axis=-1)\n",
    "        \n",
    "        # Populating array that was created to store processed ground truth boxes in training format\n",
    "        for idx, anchor_idx in enumerate(best_anchor):\n",
    "            for s in range(num_scales):  # 3 scales\n",
    "                # Choose the corresponding mask, i.e. best anchor in [6, 7, 8] or [3, 4, 5] or [0, 1, 2]\n",
    "                if anchor_idx in anchor_mask[s]:\n",
    "                    i = np.floor(true_boxes[b, idx, 0] * grid_shapes[s][1]).astype('int32')\n",
    "                    j = np.floor(true_boxes[b, idx, 1] * grid_shapes[s][0]).astype('int32')\n",
    "                    k = anchor_mask[s].index(anchor_idx)  # best anchor\n",
    "                    c = true_boxes[b, idx, 4].astype('int32')  # class_id\n",
    "                    # Populate y_true list of arrays, where s: scale, b: image index, i -> y, j -> x of grid(y, x)\n",
    "                    # k: best anchor\n",
    "                    y_true[s][b, j, i, k, 0:4] = true_boxes[b, idx, 0:4]  # Normalized box value\n",
    "                    y_true[s][b, j, i, k, 4] = 1  # score = 1\n",
    "                    y_true[s][b, j, i, k, 5 + c] = 1  # class = 1, and the others = 0 (zero initialized)\n",
    "    \n",
    "    return y_true"
   ]
  },
  {
   "cell_type": "code",
   "execution_count": 195,
   "metadata": {},
   "outputs": [
    {
     "name": "stdout",
     "output_type": "stream",
     "text": [
      "(1, 13, 13, 3, 9)\n",
      "(1, 26, 26, 3, 9)\n",
      "(1, 52, 52, 3, 9)\n"
     ]
    }
   ],
   "source": [
    "# Preprocess true boxes for training\n",
    "input_shape = [416, 416]\n",
    "n_classes = 4\n",
    "anchors = np.array([[10, 13], [16, 30], [33, 23], \n",
    "                    [30, 61], [62, 45], [59, 119], \n",
    "                    [116, 90], [156, 198], [373, 326]])\n",
    "\n",
    "box_format = 'path/to/img1.jpg 50,100,150,200,0 30,50,200,120,3'\n",
    "line = box_format.split()\n",
    "bbox = np.array([np.array(list(map(int, box.split(',')))) for box in line[1:]])\n",
    "true_boxes = np.expand_dims(bbox, axis=0)  # No need to do this as numpy array will be passed\n",
    "\n",
    "y_true = preprocess_true_boxes(true_boxes, input_shape, anchors, n_classes)\n",
    "\n",
    "for arr in y_true:\n",
    "    print(arr.shape)"
   ]
  },
  {
   "cell_type": "code",
   "execution_count": null,
   "metadata": {},
   "outputs": [],
   "source": []
  },
  {
   "cell_type": "markdown",
   "metadata": {},
   "source": [
    "# Scratch"
   ]
  },
  {
   "cell_type": "code",
   "execution_count": 196,
   "metadata": {},
   "outputs": [
    {
     "name": "stdout",
     "output_type": "stream",
     "text": [
      "(9, 2)\n"
     ]
    }
   ],
   "source": [
    "ANCHORS = [[10, 13], [16, 30], [33, 23],\n",
    "          [30, 61], [62, 45], [59, 119],\n",
    "          [116, 90], [156, 198], [373, 326]]\n",
    "\n",
    "anchors = np.array(ANCHORS)\n",
    "print(anchors.shape)"
   ]
  },
  {
   "cell_type": "code",
   "execution_count": 197,
   "metadata": {},
   "outputs": [],
   "source": [
    "input_shape = np.array([416, 416]) # Multiple of 32 -> (height, width)"
   ]
  },
  {
   "cell_type": "code",
   "execution_count": 198,
   "metadata": {},
   "outputs": [
    {
     "name": "stdout",
     "output_type": "stream",
     "text": [
      "['path/to/img1.jpg', '50,100,150,200,0', '30,50,200,120,3']\n"
     ]
    }
   ],
   "source": [
    "box_format = 'path/to/img1.jpg 50,100,150,200,0 30,50,200,120,3'\n",
    "line = box_format.split()\n",
    "print(line)"
   ]
  },
  {
   "cell_type": "code",
   "execution_count": 199,
   "metadata": {},
   "outputs": [
    {
     "name": "stdout",
     "output_type": "stream",
     "text": [
      "[['50', '100', '150', '200', '0'], ['30', '50', '200', '120', '3']]\n"
     ]
    },
    {
     "data": {
      "text/plain": [
       "[1, 4, 9, 16, 25]"
      ]
     },
     "execution_count": 199,
     "metadata": {},
     "output_type": "execute_result"
    }
   ],
   "source": [
    "bbox = [box.split(',') for box in line[1:]]\n",
    "print(bbox)\n",
    "\n",
    "square = lambda x: x * x\n",
    "list(map(square, [1, 2, 3, 4, 5]))"
   ]
  },
  {
   "cell_type": "code",
   "execution_count": 200,
   "metadata": {},
   "outputs": [
    {
     "name": "stdout",
     "output_type": "stream",
     "text": [
      "[[50, 100, 150, 200, 0], [30, 50, 200, 120, 3]]\n"
     ]
    }
   ],
   "source": [
    "bbox = [list(map(int, box.split(','))) for box in line[1:]]\n",
    "print(bbox)"
   ]
  },
  {
   "cell_type": "code",
   "execution_count": 201,
   "metadata": {},
   "outputs": [
    {
     "name": "stdout",
     "output_type": "stream",
     "text": [
      "[[ 50 100 150 200   0]\n",
      " [ 30  50 200 120   3]]\n",
      "(2, 5)\n"
     ]
    }
   ],
   "source": [
    "bbox = np.array([np.array(list(map(int, box.split(',')))) for box in line[1:]])\n",
    "print(bbox)\n",
    "print(bbox.shape)"
   ]
  },
  {
   "cell_type": "code",
   "execution_count": 202,
   "metadata": {},
   "outputs": [
    {
     "data": {
      "text/plain": [
       "(1, 2, 5)"
      ]
     },
     "execution_count": 202,
     "metadata": {},
     "output_type": "execute_result"
    }
   ],
   "source": [
    "# No need to do this as numpy array will be passed\n",
    "true_boxes = np.expand_dims(bbox, axis=0)\n",
    "true_boxes.shape"
   ]
  },
  {
   "cell_type": "code",
   "execution_count": 203,
   "metadata": {},
   "outputs": [],
   "source": [
    "n_classes = 4\n",
    "assert (true_boxes[..., 4] < n_classes).all()  # true_boxes[:,:, 4]"
   ]
  },
  {
   "cell_type": "code",
   "execution_count": 204,
   "metadata": {},
   "outputs": [
    {
     "name": "stdout",
     "output_type": "stream",
     "text": [
      "3\n"
     ]
    }
   ],
   "source": [
    "num_scales = len(anchors) // 3\n",
    "print(num_scales)"
   ]
  },
  {
   "cell_type": "code",
   "execution_count": 205,
   "metadata": {},
   "outputs": [],
   "source": [
    "anchor_mask = [[6, 7, 8], [3, 4, 5], [0, 1, 2]]"
   ]
  },
  {
   "cell_type": "code",
   "execution_count": 206,
   "metadata": {},
   "outputs": [
    {
     "name": "stdout",
     "output_type": "stream",
     "text": [
      "[[[ 50. 100. 150. 200.   0.]\n",
      "  [ 30.  50. 200. 120.   3.]]]\n"
     ]
    }
   ],
   "source": [
    "# Calculate boxes center x and y coordinates\n",
    "true_boxes = np.array(true_boxes, dtype=np.float32)\n",
    "print(true_boxes)"
   ]
  },
  {
   "cell_type": "code",
   "execution_count": 207,
   "metadata": {},
   "outputs": [
    {
     "data": {
      "text/plain": [
       "array([[[ 50., 100.],\n",
       "        [ 30.,  50.]]], dtype=float32)"
      ]
     },
     "execution_count": 207,
     "metadata": {},
     "output_type": "execute_result"
    }
   ],
   "source": [
    "true_boxes[..., 0:2]"
   ]
  },
  {
   "cell_type": "code",
   "execution_count": 208,
   "metadata": {},
   "outputs": [
    {
     "data": {
      "text/plain": [
       "array([[[150., 200.],\n",
       "        [200., 120.]]], dtype=float32)"
      ]
     },
     "execution_count": 208,
     "metadata": {},
     "output_type": "execute_result"
    }
   ],
   "source": [
    "true_boxes[..., 2:4]"
   ]
  },
  {
   "cell_type": "code",
   "execution_count": 209,
   "metadata": {},
   "outputs": [],
   "source": [
    "# Center coordinates of boxes\n",
    "boxes_xy = (true_boxes[..., 0:2] + true_boxes[..., 2:4]) // 2\n",
    "\n",
    "# Width and height of boxes\n",
    "boxes_wh = true_boxes[..., 2:4] - true_boxes[..., 0:2]"
   ]
  },
  {
   "cell_type": "code",
   "execution_count": 210,
   "metadata": {},
   "outputs": [
    {
     "name": "stdout",
     "output_type": "stream",
     "text": [
      "[256 128]\n",
      "[128 256]\n"
     ]
    },
    {
     "data": {
      "text/plain": [
       "array([[[0.78125  , 0.390625 ],\n",
       "        [1.328125 , 0.2734375]]])"
      ]
     },
     "execution_count": 210,
     "metadata": {},
     "output_type": "execute_result"
    }
   ],
   "source": [
    "inshp = np.array([256, 128])\n",
    "print(inshp)\n",
    "print(inshp[::-1])\n",
    "boxes_wh / inshp[::-1]"
   ]
  },
  {
   "cell_type": "code",
   "execution_count": 211,
   "metadata": {},
   "outputs": [],
   "source": [
    "# Normalize box center coordinates and box width and height. Values will be between [0, 1]\n",
    "true_boxes[..., 0:2] = boxes_xy / input_shape[::-1] # WH -> HW\n",
    "true_boxes[..., 2:4] = boxes_xy / input_shape[::-1] # WH -> HW"
   ]
  },
  {
   "cell_type": "code",
   "execution_count": 212,
   "metadata": {},
   "outputs": [
    {
     "name": "stdout",
     "output_type": "stream",
     "text": [
      "1\n"
     ]
    }
   ],
   "source": [
    "N = true_boxes.shape[0]\n",
    "print(N)"
   ]
  },
  {
   "cell_type": "code",
   "execution_count": 213,
   "metadata": {},
   "outputs": [
    {
     "data": {
      "text/plain": [
       "[array([13, 13]), array([26, 26]), array([52, 52])]"
      ]
     },
     "execution_count": 213,
     "metadata": {},
     "output_type": "execute_result"
    }
   ],
   "source": [
    "# Grid shapes\n",
    "grid_shapes = [input_shape // {0: 32, 1: 16, 2: 8}[s] for s in range(num_scales)]\n",
    "grid_shapes"
   ]
  },
  {
   "cell_type": "code",
   "execution_count": 214,
   "metadata": {},
   "outputs": [
    {
     "name": "stdout",
     "output_type": "stream",
     "text": [
      "[\n",
      "\b (1, 13, 13, 3, 9)\n",
      "\b (1, 26, 26, 3, 9)\n",
      "\b (1, 52, 52, 3, 9)\n",
      "]\n"
     ]
    }
   ],
   "source": [
    "# List of zero initialized arrays to store true box\n",
    "y_true = [np.zeros((N, grid_shapes[s][0], grid_shapes[s][1], len(anchor_mask[s]), 5 + n_classes), \n",
    "                   dtype=np.float32) for s in range(num_scales)]\n",
    "\n",
    "print('[')\n",
    "for a in y_true:\n",
    "    print('\\b', a.shape)\n",
    "print(']')\n",
    "\n",
    "# gs x gs x scales x (5 + C)"
   ]
  },
  {
   "cell_type": "code",
   "execution_count": 215,
   "metadata": {},
   "outputs": [
    {
     "name": "stdout",
     "output_type": "stream",
     "text": [
      "(9, 2)\n",
      "(1, 9, 2)\n"
     ]
    },
    {
     "data": {
      "text/plain": [
       "array([[[ 10,  13],\n",
       "        [ 16,  30],\n",
       "        [ 33,  23],\n",
       "        [ 30,  61],\n",
       "        [ 62,  45],\n",
       "        [ 59, 119],\n",
       "        [116,  90],\n",
       "        [156, 198],\n",
       "        [373, 326]]])"
      ]
     },
     "execution_count": 215,
     "metadata": {},
     "output_type": "execute_result"
    }
   ],
   "source": [
    "print(anchors.shape)\n",
    "\n",
    "# Expand dimensions to apply broadcasting\n",
    "anchors = np.expand_dims(anchors, axis=0)\n",
    "print(anchors.shape)\n",
    "anchors"
   ]
  },
  {
   "cell_type": "code",
   "execution_count": 216,
   "metadata": {},
   "outputs": [],
   "source": [
    "# Anchor max and min values\n",
    "anchor_maxes = anchors / 2.0\n",
    "anchor_mins = - anchor_maxes"
   ]
  },
  {
   "cell_type": "code",
   "execution_count": 217,
   "metadata": {},
   "outputs": [
    {
     "data": {
      "text/plain": [
       "(array([[100., 170.]], dtype=float32), array([[100.,  70.]], dtype=float32))"
      ]
     },
     "execution_count": 217,
     "metadata": {},
     "output_type": "execute_result"
    }
   ],
   "source": [
    "boxes_wh[..., 0], boxes_wh[..., 1]"
   ]
  },
  {
   "cell_type": "code",
   "execution_count": 218,
   "metadata": {},
   "outputs": [
    {
     "data": {
      "text/plain": [
       "array([[ True,  True]])"
      ]
     },
     "execution_count": 218,
     "metadata": {},
     "output_type": "execute_result"
    }
   ],
   "source": [
    "valid_mask = boxes_wh[..., 0] > 0\n",
    "valid_mask"
   ]
  },
  {
   "cell_type": "code",
   "execution_count": 219,
   "metadata": {},
   "outputs": [
    {
     "name": "stdout",
     "output_type": "stream",
     "text": [
      "(2, 3, 4)\n",
      "\n",
      "[[False  True False]\n",
      " [ True  True False]]\n",
      "\n",
      "[[0 1 2 3]\n",
      " [1 2 3 4]\n",
      " [0 6 7 8]]\n",
      "[False  True False]\n",
      "[[1 2 3 4]]\n",
      "\n",
      "[[1 1 2 3]\n",
      " [1 2 3 4]\n",
      " [0 6 7 8]]\n",
      "[ True  True False]\n",
      "[[1 1 2 3]\n",
      " [1 2 3 4]]\n",
      "\n",
      "\n",
      "[[1 1 2 3]\n",
      " [1 2 3 4]]\n",
      "\n",
      "[[[1 1 2 3]]\n",
      "\n",
      " [[1 2 3 4]]]\n"
     ]
    }
   ],
   "source": [
    "# Discarding rows with zero width values\n",
    "a = np.array([[[0, 1, 2, 3],\n",
    "               [1, 2, 3, 4],\n",
    "               [0, 6, 7, 8]],\n",
    "              [[1, 1, 2, 3],\n",
    "               [1, 2, 3, 4],\n",
    "               [0, 6, 7, 8]]])\n",
    "\n",
    "print(a.shape)\n",
    "print()\n",
    "\n",
    "vm = a[..., 0] > 0\n",
    "print(vm)\n",
    "print()\n",
    "\n",
    "for i in range(a.shape[0]):\n",
    "    c = a[i, vm[i]]\n",
    "    print(a[i, ...])\n",
    "    print(vm[i])\n",
    "    print(c)\n",
    "    print()\n",
    "    \n",
    "print()\n",
    "print(c)\n",
    "c = np.expand_dims(c, -2)\n",
    "print()\n",
    "print(c)"
   ]
  },
  {
   "cell_type": "code",
   "execution_count": 220,
   "metadata": {},
   "outputs": [
    {
     "name": "stdout",
     "output_type": "stream",
     "text": [
      "(2, 2)\n",
      "2\n"
     ]
    }
   ],
   "source": [
    "b = 0  # From for loop\n",
    "\n",
    "# Discard rows with zero width values from unnormalized boxes\n",
    "wh = boxes_wh[b, valid_mask[b]]\n",
    "print(wh.shape)\n",
    "\n",
    "print(len(wh))\n",
    "# if len(wh) == 0: continue "
   ]
  },
  {
   "cell_type": "code",
   "execution_count": 221,
   "metadata": {},
   "outputs": [
    {
     "name": "stdout",
     "output_type": "stream",
     "text": [
      "(2, 1, 2)\n"
     ]
    },
    {
     "data": {
      "text/plain": [
       "array([[[100., 100.]],\n",
       "\n",
       "       [[170.,  70.]]], dtype=float32)"
      ]
     },
     "execution_count": 221,
     "metadata": {},
     "output_type": "execute_result"
    }
   ],
   "source": [
    "# Expand dimensions to apply broadcasting\n",
    "wh = np.expand_dims(wh, -2)\n",
    "print(wh.shape)\n",
    "wh"
   ]
  },
  {
   "cell_type": "code",
   "execution_count": 222,
   "metadata": {},
   "outputs": [
    {
     "name": "stdout",
     "output_type": "stream",
     "text": [
      "(2, 1, 2)\n"
     ]
    }
   ],
   "source": [
    "# Box max and min width and height\n",
    "box_maxes = wh / 2.0\n",
    "box_mins = -box_maxes\n",
    "print(box_mins.shape)"
   ]
  },
  {
   "cell_type": "code",
   "execution_count": 223,
   "metadata": {},
   "outputs": [
    {
     "data": {
      "text/plain": [
       "array([[[-50., -50.]],\n",
       "\n",
       "       [[-85., -35.]]], dtype=float32)"
      ]
     },
     "execution_count": 223,
     "metadata": {},
     "output_type": "execute_result"
    }
   ],
   "source": [
    "box_mins"
   ]
  },
  {
   "cell_type": "code",
   "execution_count": 224,
   "metadata": {},
   "outputs": [
    {
     "data": {
      "text/plain": [
       "array([[[  -5. ,   -6.5],\n",
       "        [  -8. ,  -15. ],\n",
       "        [ -16.5,  -11.5],\n",
       "        [ -15. ,  -30.5],\n",
       "        [ -31. ,  -22.5],\n",
       "        [ -29.5,  -59.5],\n",
       "        [ -58. ,  -45. ],\n",
       "        [ -78. ,  -99. ],\n",
       "        [-186.5, -163. ]]])"
      ]
     },
     "execution_count": 224,
     "metadata": {},
     "output_type": "execute_result"
    }
   ],
   "source": [
    "anchor_mins"
   ]
  },
  {
   "cell_type": "code",
   "execution_count": 225,
   "metadata": {},
   "outputs": [
    {
     "name": "stdout",
     "output_type": "stream",
     "text": [
      "(2, 9, 2)\n",
      "(2, 9, 2)\n",
      "(2, 9)\n"
     ]
    }
   ],
   "source": [
    "# Bbox and Anchors IoU calculation \n",
    "intersect_mins = np.maximum(box_mins, anchor_mins)\n",
    "print(intersect_mins.shape)\n",
    "intersect_maxes = np.minimum(box_maxes, anchor_maxes)\n",
    "print(intersect_maxes.shape)\n",
    "intersect_wh = np.maximum(intersect_maxes - intersect_mins, 0)\n",
    "intersect_area = intersect_wh[..., 0] * intersect_wh[..., 1]\n",
    "box_area = wh[..., 0] * wh[..., 1]\n",
    "anchor_area = anchors[..., 0] * anchors[..., 1]\n",
    "iou = intersect_area / (box_area + anchor_area - intersect_area)\n",
    "print(iou.shape)"
   ]
  },
  {
   "cell_type": "code",
   "execution_count": 226,
   "metadata": {},
   "outputs": [
    {
     "data": {
      "text/plain": [
       "array([[0.013     , 0.048     , 0.0759    , 0.183     , 0.279     ,\n",
       "        0.53052783, 0.78671329, 0.32375032, 0.08223819],\n",
       "       [0.01092437, 0.04033613, 0.06378151, 0.15378151, 0.23445378,\n",
       "        0.27922385, 0.57102672, 0.34266349, 0.09786345]])"
      ]
     },
     "execution_count": 226,
     "metadata": {},
     "output_type": "execute_result"
    }
   ],
   "source": [
    "iou"
   ]
  },
  {
   "cell_type": "code",
   "execution_count": 227,
   "metadata": {},
   "outputs": [
    {
     "name": "stdout",
     "output_type": "stream",
     "text": [
      "[6 6]\n",
      "[[6, 7, 8], [3, 4, 5], [0, 1, 2]]\n"
     ]
    }
   ],
   "source": [
    "# Find best anchor for each true box\n",
    "best_anchor = np.argmax(iou, axis=-1)\n",
    "print(best_anchor)\n",
    "print(anchor_mask)"
   ]
  },
  {
   "cell_type": "code",
   "execution_count": 228,
   "metadata": {},
   "outputs": [
    {
     "name": "stdout",
     "output_type": "stream",
     "text": [
      "(1, 13, 13, 3, 9)\n",
      "(1, 26, 26, 3, 9)\n",
      "(1, 52, 52, 3, 9)\n"
     ]
    }
   ],
   "source": [
    "for a in y_true:\n",
    "    print(a.shape)"
   ]
  },
  {
   "cell_type": "code",
   "execution_count": 229,
   "metadata": {},
   "outputs": [
    {
     "name": "stdout",
     "output_type": "stream",
     "text": [
      "(1, 2, 5)\n"
     ]
    }
   ],
   "source": [
    "print(true_boxes.shape)"
   ]
  },
  {
   "cell_type": "code",
   "execution_count": 230,
   "metadata": {},
   "outputs": [
    {
     "name": "stdout",
     "output_type": "stream",
     "text": [
      "(2,)\n"
     ]
    }
   ],
   "source": [
    "print(grid_shapes[0].shape)"
   ]
  },
  {
   "cell_type": "code",
   "execution_count": 231,
   "metadata": {},
   "outputs": [
    {
     "name": "stdout",
     "output_type": "stream",
     "text": [
      "[6 6]\n",
      "[[[0.24038461 0.36057693 0.24038461 0.36057693 0.        ]\n",
      "  [0.27644232 0.20432693 0.27644232 0.20432693 3.        ]]]\n"
     ]
    }
   ],
   "source": [
    "print(best_anchor)\n",
    "print(true_boxes)"
   ]
  },
  {
   "cell_type": "code",
   "execution_count": 232,
   "metadata": {},
   "outputs": [
    {
     "name": "stdout",
     "output_type": "stream",
     "text": [
      "b (image index):  0\n",
      "idx:  0\n",
      "anchor_idx:  6\n",
      "scale:  0\n",
      "anchor_mask[s=0]: [6, 7, 8]\n",
      "A: true_boxes[b=0, idx=0, 0]: 0.24038460850715637\n",
      "B: grid_shapes[s=0][1]: 13\n",
      "I -> X = A * B:  3\n",
      "C: true_boxes[b=0, idx=0, 1]: 0.36057692766189575\n",
      "D: grid_shapes[s=0][0]: 13\n",
      "J -> Y = C * D:  4\n",
      "grid(j, i) -> grid(x, y) -> grid(4, 3)\n",
      "anchor_mask[s=0].index(anchor_idx=6): 0\n",
      "c (class id):  0\n",
      "----------------------------------------\n",
      "b (image index):  0\n",
      "idx:  1\n",
      "anchor_idx:  6\n",
      "scale:  0\n",
      "anchor_mask[s=0]: [6, 7, 8]\n",
      "A: true_boxes[b=0, idx=1, 0]: 0.2764423191547394\n",
      "B: grid_shapes[s=0][1]: 13\n",
      "I -> X = A * B:  3\n",
      "C: true_boxes[b=0, idx=1, 1]: 0.20432692766189575\n",
      "D: grid_shapes[s=0][0]: 13\n",
      "J -> Y = C * D:  2\n",
      "grid(j, i) -> grid(x, y) -> grid(2, 3)\n",
      "anchor_mask[s=0].index(anchor_idx=6): 0\n",
      "c (class id):  3\n",
      "----------------------------------------\n"
     ]
    }
   ],
   "source": [
    "# Populate y_true: https://github.com/maiminh1996/YOLOv3-tensorflow/blob/master/utils/yolo_utils.py\n",
    "for idx, anchor_idx in enumerate(best_anchor):\n",
    "    for s in range(num_scales):\n",
    "        if anchor_idx in anchor_mask[s]:\n",
    "            print('b (image index): ', b)\n",
    "            print('idx: ', idx)\n",
    "            print('anchor_idx: ', anchor_idx)\n",
    "            print('scale: ', s)\n",
    "            print('anchor_mask[s={}]: {}'.format(s, anchor_mask[s]))\n",
    "            print('A: true_boxes[b={}, idx={}, 0]: {}'.format(b, idx, true_boxes[b, idx, 0]))\n",
    "            print('B: grid_shapes[s={}][1]: {}'.format(s, grid_shapes[s][1]))\n",
    "            print('I -> X = A * B: ', np.floor(true_boxes[b, idx, 0] * grid_shapes[s][1]).astype('int32'))\n",
    "            print('C: true_boxes[b={}, idx={}, 1]: {}'.format(b, idx, true_boxes[b, idx, 1]))\n",
    "            print('D: grid_shapes[s={}][0]: {}'.format(s, grid_shapes[s][0]))\n",
    "            print('J -> Y = C * D: ', np.floor(true_boxes[b, idx, 1] * grid_shapes[s][0]).astype('int32'))\n",
    "            i = np.floor(true_boxes[b, idx, 0] * grid_shapes[s][1]).astype('int32')\n",
    "            j = np.floor(true_boxes[b, idx, 1] * grid_shapes[s][0]).astype('int32')\n",
    "            print('grid(j, i) -> grid(x, y) -> grid({}, {})'.format(j, i))\n",
    "            print('anchor_mask[s={}].index(anchor_idx={}): {}'.format(s, anchor_idx, anchor_mask[s].index(anchor_idx)))\n",
    "            k = anchor_mask[s].index(anchor_idx) # best anchor\n",
    "            print('c (class id): ', true_boxes[b, idx, 4].astype('int32'))\n",
    "            c = true_boxes[b, idx, 4].astype('int32')\n",
    "            print('----' * 10)\n",
    "            # Populate y_true list of arrays, where s: scale, b: image index, i -> y, j -> x of grid(y, x), k: best anchor\n",
    "            y_true[s][b, j, i, k, 0:4] = true_boxes[b, idx, 0:4]  # Normalized box value\n",
    "            y_true[s][b, j, i, k, 4] = 1  # score = 1\n",
    "            y_true[s][b, j, i, k, 5 + c] = 1  # class = 1, and the others = 0"
   ]
  },
  {
   "cell_type": "code",
   "execution_count": null,
   "metadata": {},
   "outputs": [],
   "source": []
  }
 ],
 "metadata": {
  "kernelspec": {
   "display_name": "Python 3",
   "language": "python",
   "name": "python3"
  },
  "language_info": {
   "codemirror_mode": {
    "name": "ipython",
    "version": 3
   },
   "file_extension": ".py",
   "mimetype": "text/x-python",
   "name": "python",
   "nbconvert_exporter": "python",
   "pygments_lexer": "ipython3",
   "version": "3.5.2"
  }
 },
 "nbformat": 4,
 "nbformat_minor": 2
}
