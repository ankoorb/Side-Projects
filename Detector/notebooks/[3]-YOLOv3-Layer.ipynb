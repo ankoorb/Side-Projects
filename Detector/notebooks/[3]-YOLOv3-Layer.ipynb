{
 "cells": [
  {
   "cell_type": "code",
   "execution_count": 1,
   "metadata": {},
   "outputs": [
    {
     "data": {
      "text/html": [
       "<style>.container { width:100% !important; }</style>"
      ],
      "text/plain": [
       "<IPython.core.display.HTML object>"
      ]
     },
     "metadata": {},
     "output_type": "display_data"
    }
   ],
   "source": [
    "import torch\n",
    "import torch.nn as nn\n",
    "import torch.nn.functional as F\n",
    "\n",
    "import numpy as np\n",
    "\n",
    "from IPython.core.display import display, HTML\n",
    "display(HTML(\"<style>.container { width:100% !important; }</style>\"))"
   ]
  },
  {
   "cell_type": "code",
   "execution_count": 2,
   "metadata": {},
   "outputs": [],
   "source": [
    "class ConvBnLeakyReLU(nn.Module):\n",
    "    \"\"\"\n",
    "    [CONV]-[BN]-[LeakyReLU]\n",
    "    \"\"\"\n",
    "    def __init__(self, inCh, outCh, kernel):\n",
    "        super(ConvBnLeakyReLU, self).__init__()\n",
    "        self.inCh = inCh  # Number of input channels\n",
    "        self.outCh = outCh  # Number of output channels\n",
    "        self.kernel = kernel  # Kernel size\n",
    "        padding = (self.kernel - 1) // 2 \n",
    "        self.conv = nn.Sequential(\n",
    "            nn.Conv2d(self.inCh, self.outCh, kernel, stride=1, padding=padding, bias=False),\n",
    "            nn.BatchNorm2d(outCh),\n",
    "            nn.LeakyReLU(negative_slope=0.1, inplace=True)\n",
    "        )\n",
    "        \n",
    "    def forward(self, x):\n",
    "        return self.conv(x)\n",
    "    \n",
    "\n",
    "class YOLOv3Params():\n",
    "    \"\"\"\n",
    "    Parameters for MobileNetV2\n",
    "    \"\"\"\n",
    "    def __init__(self):\n",
    "        self.n_classes = 4  # Udacity Self-driving car dataset\n",
    "        self.final_channels = 3 * (5 + self.n_classes)\n",
    "        self.class_names = ['car', 'truck', 'pedestrian', 'signal']\n",
    "        self.anchors = [[10, 13], [16, 30], [33, 23], \n",
    "                        [30, 61], [62, 45], [59, 119], \n",
    "                        [116, 90], [156, 198], [373, 326]]\n",
    "        self.mode = \"infer\""
   ]
  },
  {
   "cell_type": "code",
   "execution_count": 3,
   "metadata": {},
   "outputs": [],
   "source": [
    "# http://machinethink.net/blog/object-detection/\n",
    "# Very helpful diagram: https://www.cyberailab.com/home/a-closer-look-at-yolov3\n",
    "# https://github.com/marvis/pytorch-yolo3\n",
    "# https://gitlab.com/EAVISE/lightnet/blob/master/lightnet/network/loss/_regionloss.py"
   ]
  },
  {
   "cell_type": "markdown",
   "metadata": {},
   "source": [
    "### YOLO Layer"
   ]
  },
  {
   "cell_type": "code",
   "execution_count": 4,
   "metadata": {},
   "outputs": [],
   "source": [
    "class YOLOv3Layer(nn.Module):\n",
    "    def __init__(self, params, baseParams):\n",
    "        self.params = params\n",
    "        self.base = base_network(baseParams)  # MobileNetV2\n",
    "        self.base_out_channels = self.base.out_channels  # [256, 512, 1280]\n",
    "        self.n_classes = self.params.n_classes \n",
    "        self.out_channels = 3 * (5 + self.n_classes)  # 3 x (B + C)\n",
    "        self.anchors = np.array(params.anchors)\n",
    "        self.n_layers = len(self.anchors) // 3\n",
    "        self.loss = YOLOLoss(params)\n",
    "        \n",
    "        # Conv layer block for 13x13 feature maps from base network\n",
    "        self.conv_block13 = self._make_conv_block(inCh=self.base_out_channels[-1],\n",
    "                                                  channel_list=[512, 1024],\n",
    "                                                  outCh=self.out_channels)\n",
    "        \n",
    "        # Conv layer block for 26x26 feature maps from base network\n",
    "        self.conv_block26 = self._make_conv_block(inCh=self.base_out_channels[-2] + 256,\n",
    "                                                  channel_list=[256, 512],\n",
    "                                                  outCh=self.out_channels)\n",
    "        \n",
    "        # Conv layer block for 52x52 feature maps from base network\n",
    "        self.conv_block52 = self._make_conv_block(inCh=self.base_out_channels[-3] + 128,\n",
    "                                                  channel_list=[128, 256],\n",
    "                                                  outCh=self.out_channels)\n",
    "        \n",
    "    def _make_conv_block(self, inCh, channel_list, outCh):\n",
    "        \"\"\"Outputs from Base is passed through a few ConvBNReLU layers\"\"\"\n",
    "        modList = nn.ModuleList([\n",
    "            ConvBnLeakyReLU(inCh, channel_list[0], kernel=1),\n",
    "            ConvBnLeakyReLU(channel_list[0], channel_list[1], kernel=3),\n",
    "            ConvBnLeakyReLU(channel_list[1], channel_list[0], kernel=1),\n",
    "            ConvBnLeakyReLU(channel_list[0], channel_list[1], kernel=3),\n",
    "            ConvBnLeakyReLU(channel_list[1], channel_list[0], kernel=1),\n",
    "            ConvBnLeakyReLU(channel_list[0], channel_list[1], kernel=3),\n",
    "        ])\n",
    "        modList.add_module(\"ConvOut\", nn.Conv2d(channel_list[0], outCh, \n",
    "                                                kernel_size=1, stride=1, \n",
    "                                                padding=0, bias=True))\n",
    "        \n",
    "        return modList\n",
    "    \n",
    "    def _route(self, in_feature, conv_block):\n",
    "        for i, conv_module in enumerate(conv_block):\n",
    "            in_feature = conv_module(in_feature)\n",
    "            if i == 4:\n",
    "                route = in_feature\n",
    "        return in_feature, route\n",
    "    \n",
    "    def forward(self, img, label13, label26, label52):\n",
    "        x52, x26, x13 = self.base(img)\n",
    "        \n",
    "        out13, out13_route = self._route(self.conv_block13, x13)  # size: 13x13\n",
    "        \n",
    "        # YOLO branch 1\n",
    "        x26_in = self.conv_block26(out13_route)  # size: 13x13\n",
    "        x26_in = F.interpolate(x26_in, scale_factor=2, mode='nearest')  # size: 13x13 -> 26x26\n",
    "        x26_in = torch.cat([x26_in, x26], dim=1)\n",
    "        out26, out26_route = self._route(self.conv_block26, x26_in)  # size: 26x26\n",
    "        \n",
    "        # YOLO branch 2\n",
    "        x52_in = self.conv_block52(out26_route)  # size: 26x26\n",
    "        x52_in = F.interpolate(x52_in, scale_factor=2, mode='nearest')  # size: 26x26 -> 52x52\n",
    "        x52_in = torch.cat([x52_in, x52], dim=1)\n",
    "        out52, out52_route = self._route(self.conv_block52, x52_in)  # size: 52x52\n",
    "        \n",
    "        # Compute loss\n",
    "        loss = self.loss((out13, out26, out52), (label13, label26, label52))\n",
    "        \n",
    "        return loss"
   ]
  },
  {
   "cell_type": "code",
   "execution_count": null,
   "metadata": {},
   "outputs": [],
   "source": []
  },
  {
   "cell_type": "markdown",
   "metadata": {},
   "source": [
    "### YOLO Layer Scratch"
   ]
  },
  {
   "cell_type": "markdown",
   "metadata": {},
   "source": [
    "Outputs from MobileNetV2\n",
    "\n",
    "```\n",
    "52x52 size feature map:  torch.Size([1, 256, 52, 52])\n",
    "26x26 size feature map:  torch.Size([1, 512, 26, 26])\n",
    "13x13 size feature map:  torch.Size([1, 1280, 13, 13])\n",
    "```"
   ]
  },
  {
   "cell_type": "code",
   "execution_count": 5,
   "metadata": {},
   "outputs": [
    {
     "name": "stdout",
     "output_type": "stream",
     "text": [
      "1\n"
     ]
    }
   ],
   "source": [
    "kernel = 3\n",
    "p = (kernel - 1) // 2\n",
    "print(p)"
   ]
  },
  {
   "cell_type": "code",
   "execution_count": 6,
   "metadata": {},
   "outputs": [],
   "source": [
    "y52 = torch.randn([1, 256, 52, 52])\n",
    "y26 = torch.randn([1, 512, 26, 26])\n",
    "y13 = torch.randn([1, 1280, 13, 13])"
   ]
  },
  {
   "cell_type": "code",
   "execution_count": 7,
   "metadata": {},
   "outputs": [
    {
     "name": "stdout",
     "output_type": "stream",
     "text": [
      "ConvBnLeakyReLU(\n",
      "  (conv): Sequential(\n",
      "    (0): Conv2d(1280, 512, kernel_size=(1, 1), stride=(1, 1), bias=False)\n",
      "    (1): BatchNorm2d(512, eps=1e-05, momentum=0.1, affine=True, track_running_stats=True)\n",
      "    (2): LeakyReLU(negative_slope=0.1, inplace)\n",
      "  )\n",
      ")\n",
      "i: 0 and in13 size: torch.Size([1, 512, 13, 13])\n",
      "i: 1 and in13 size: torch.Size([1, 1024, 13, 13])\n",
      "i: 2 and in13 size: torch.Size([1, 512, 13, 13])\n",
      "i: 3 and in13 size: torch.Size([1, 1024, 13, 13])\n",
      "i: 4 and in13 size: torch.Size([1, 512, 13, 13])\n",
      "i: 5 and in13 size: torch.Size([1, 1024, 13, 13])\n",
      "i: 6 and in13 size: torch.Size([1, 27, 13, 13])\n",
      "torch.Size([1, 27, 13, 13])\n",
      "torch.Size([1, 512, 13, 13])\n"
     ]
    }
   ],
   "source": [
    "# 13 x 13\n",
    "final_channels = 3 * (5 + 4)\n",
    "outCh_list = [256, 512, 1280]\n",
    "\n",
    "inCh = outCh_list[-1]\n",
    "channel_list = [512, 1024]\n",
    "\n",
    "convBlock13 = nn.ModuleList([\n",
    "    ConvBnLeakyReLU(inCh, channel_list[0], 1),\n",
    "    ConvBnLeakyReLU(channel_list[0], channel_list[1], 3),\n",
    "    ConvBnLeakyReLU(channel_list[1], channel_list[0], 1),\n",
    "    ConvBnLeakyReLU(channel_list[0], channel_list[1], 3),\n",
    "    ConvBnLeakyReLU(channel_list[1], channel_list[0], 1),\n",
    "    ConvBnLeakyReLU(channel_list[0], channel_list[1], 3),\n",
    "    ConvBnLeakyReLU(channel_list[1], final_channels, 1),\n",
    "])\n",
    "\n",
    "print(convBlock13[0])\n",
    "\n",
    "in13 = y13\n",
    "for i, conv in enumerate(convBlock13):\n",
    "    in13 = conv(in13)\n",
    "    print('i: {} and in13 size: {}'.format(i, in13.size()))\n",
    "    if i == 4:\n",
    "        out_route13 = in13\n",
    "out13 = in13\n",
    "print(out13.size())\n",
    "print(out_route13.size())"
   ]
  },
  {
   "cell_type": "markdown",
   "metadata": {},
   "source": [
    "```int26 = F.interpolate(in26, scale_factor=2, mode='bilinear', align_corners=False)``` - This seems to not work"
   ]
  },
  {
   "cell_type": "code",
   "execution_count": 8,
   "metadata": {},
   "outputs": [
    {
     "name": "stdout",
     "output_type": "stream",
     "text": [
      "ConvBnLeakyReLU(\n",
      "  (conv): Sequential(\n",
      "    (0): Conv2d(768, 256, kernel_size=(1, 1), stride=(1, 1), bias=False)\n",
      "    (1): BatchNorm2d(256, eps=1e-05, momentum=0.1, affine=True, track_running_stats=True)\n",
      "    (2): LeakyReLU(negative_slope=0.1, inplace)\n",
      "  )\n",
      ")\n",
      "torch.Size([1, 256, 13, 13])\n",
      "after upsample  torch.Size([1, 256, 26, 26])\n",
      "torch.Size([1, 768, 26, 26])\n",
      "i: 0 and in26 size: torch.Size([1, 256, 26, 26])\n",
      "i: 1 and in26 size: torch.Size([1, 512, 26, 26])\n",
      "i: 2 and in26 size: torch.Size([1, 256, 26, 26])\n",
      "i: 3 and in26 size: torch.Size([1, 512, 26, 26])\n",
      "i: 4 and in26 size: torch.Size([1, 256, 26, 26])\n",
      "i: 5 and in26 size: torch.Size([1, 512, 26, 26])\n",
      "i: 6 and in26 size: torch.Size([1, 27, 26, 26])\n",
      "torch.Size([1, 27, 26, 26])\n",
      "torch.Size([1, 256, 26, 26])\n"
     ]
    }
   ],
   "source": [
    "# 26 x 26\n",
    "final_channels = 3 * (5 + 4)\n",
    "outCh_list = [256, 512, 1280]\n",
    "\n",
    "inCh = outCh_list[-2] + 256\n",
    "channel_list = [256, 512]\n",
    "\n",
    "convBlock26 = nn.ModuleList([\n",
    "    ConvBnLeakyReLU(inCh, channel_list[0], 1),\n",
    "    ConvBnLeakyReLU(channel_list[0], channel_list[1], 3),\n",
    "    ConvBnLeakyReLU(channel_list[1], channel_list[0], 1),\n",
    "    ConvBnLeakyReLU(channel_list[0], channel_list[1], 3),\n",
    "    ConvBnLeakyReLU(channel_list[1], channel_list[0], 1),\n",
    "    ConvBnLeakyReLU(channel_list[0], channel_list[1], 3),\n",
    "    ConvBnLeakyReLU(channel_list[1], final_channels, 1),\n",
    "])\n",
    "\n",
    "print(convBlock26[0])\n",
    "\n",
    "conv26 = ConvBnLeakyReLU(inCh=512, outCh=256, kernel=1)\n",
    "in26 = conv26(out_route13)  # 13x13 -[UPSAMPLE: 2x]-> 26x26\n",
    "print(in26.shape)\n",
    "\n",
    "#upsample26 = nn.Upsample(scale_factor=2, mode='bilinear')  # Depr\n",
    "#in26 = upsample26(in26)\n",
    "\n",
    "in26 = F.interpolate(in26, scale_factor=2, mode='nearest')\n",
    "print('after upsample ', in26.shape)\n",
    "\n",
    "in26 = torch.cat([in26, y26], dim=1)  # Concatenate\n",
    "print(in26.shape)\n",
    "\n",
    "for i, conv in enumerate(convBlock26):\n",
    "    in26 = conv(in26)\n",
    "    print('i: {} and in26 size: {}'.format(i, in26.size()))\n",
    "    if i == 4:\n",
    "        out_route26 = in26\n",
    "        \n",
    "out26 = in26\n",
    "print(out26.size())\n",
    "print(out_route26.size())"
   ]
  },
  {
   "cell_type": "code",
   "execution_count": 9,
   "metadata": {},
   "outputs": [
    {
     "name": "stdout",
     "output_type": "stream",
     "text": [
      "ConvBnLeakyReLU(\n",
      "  (conv): Sequential(\n",
      "    (0): Conv2d(384, 128, kernel_size=(1, 1), stride=(1, 1), bias=False)\n",
      "    (1): BatchNorm2d(128, eps=1e-05, momentum=0.1, affine=True, track_running_stats=True)\n",
      "    (2): LeakyReLU(negative_slope=0.1, inplace)\n",
      "  )\n",
      ")\n",
      "torch.Size([1, 128, 26, 26])\n",
      "torch.Size([1, 128, 52, 52])\n",
      "torch.Size([1, 384, 52, 52])\n",
      "i: 0 and in52 size: torch.Size([1, 128, 52, 52])\n",
      "i: 1 and in52 size: torch.Size([1, 256, 52, 52])\n",
      "i: 2 and in52 size: torch.Size([1, 128, 52, 52])\n",
      "i: 3 and in52 size: torch.Size([1, 256, 52, 52])\n",
      "i: 4 and in52 size: torch.Size([1, 128, 52, 52])\n",
      "i: 5 and in52 size: torch.Size([1, 256, 52, 52])\n",
      "i: 6 and in52 size: torch.Size([1, 27, 52, 52])\n",
      "torch.Size([1, 27, 52, 52])\n",
      "Ignored!  torch.Size([1, 128, 52, 52])\n"
     ]
    }
   ],
   "source": [
    "# 52 x 52\n",
    "final_channels = 3 * (5 + 4)\n",
    "outCh_list = [256, 512, 1280]\n",
    "\n",
    "inCh = outCh_list[-3] + 128\n",
    "channel_list = [128, 256]\n",
    "\n",
    "convBlock52 = nn.ModuleList([\n",
    "    ConvBnLeakyReLU(inCh, channel_list[0], 1),\n",
    "    ConvBnLeakyReLU(channel_list[0], channel_list[1], 3),\n",
    "    ConvBnLeakyReLU(channel_list[1], channel_list[0], 1),\n",
    "    ConvBnLeakyReLU(channel_list[0], channel_list[1], 3),\n",
    "    ConvBnLeakyReLU(channel_list[1], channel_list[0], 1),\n",
    "    ConvBnLeakyReLU(channel_list[0], channel_list[1], 3),\n",
    "    ConvBnLeakyReLU(channel_list[1], final_channels, 1),\n",
    "])\n",
    "\n",
    "print(convBlock52[0])\n",
    "\n",
    "conv52 = ConvBnLeakyReLU(inCh=256, outCh=128, kernel=1)\n",
    "in52 = conv52(out_route26)  # 26x26 -[UPSAMPLE: 2x]-> 52x52\n",
    "print(in52.shape)\n",
    "# upsample52 = nn.Upsample(scale_factor=2, mode='bilinear')\n",
    "# in52 = upsample52(in52)\n",
    "in52 = F.interpolate(in52, scale_factor=2, mode='nearest')\n",
    "print(in52.shape)\n",
    "\n",
    "in52 = torch.cat([in52, y52], dim=1)  # Concatenate\n",
    "print(in52.shape)\n",
    "\n",
    "for i, conv in enumerate(convBlock52):\n",
    "    in52 = conv(in52)\n",
    "    print('i: {} and in52 size: {}'.format(i, in52.size()))\n",
    "    if i == 4:\n",
    "        out_route52 = in52\n",
    "        \n",
    "out52 = in52\n",
    "print(out52.size())\n",
    "print('Ignored! ', out_route52.size())"
   ]
  },
  {
   "cell_type": "code",
   "execution_count": null,
   "metadata": {},
   "outputs": [],
   "source": []
  }
 ],
 "metadata": {
  "kernelspec": {
   "display_name": "Python 3",
   "language": "python",
   "name": "python3"
  },
  "language_info": {
   "codemirror_mode": {
    "name": "ipython",
    "version": 3
   },
   "file_extension": ".py",
   "mimetype": "text/x-python",
   "name": "python",
   "nbconvert_exporter": "python",
   "pygments_lexer": "ipython3",
   "version": "3.5.2"
  }
 },
 "nbformat": 4,
 "nbformat_minor": 2
}
