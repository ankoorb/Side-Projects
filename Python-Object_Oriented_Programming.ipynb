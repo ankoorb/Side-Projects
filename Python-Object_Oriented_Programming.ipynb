{
 "cells": [
  {
   "cell_type": "markdown",
   "metadata": {},
   "source": [
    "## <font color = '#20B2AA'>Notes: Object Oriented Programming in Python 2.7</font>"
   ]
  },
  {
   "cell_type": "markdown",
   "metadata": {},
   "source": [
    "<div class = 'alert alert-info'>\n",
    "\n",
    "## Object Oriented Programming Terminology\n",
    "\n",
    "**Class -** A user defined prototype for an *object* that defines a set of attributes that characterize any object of the class. The attributes are data members (class variables and instance variables) and methods, accessed via **.** notation. Class is a sort of template; a guide for the way an object should be structured. Example: Class named \"Person\" with \"age\" and \"name\" attributes, and an instance (an object) of class \"Person\" would be a single person.\n",
    "\n",
    "**Object -** A unique instance of a data structure that is defined by its class. An object comprises both data members (class variables and instance variables) and methods. Each object belongs to a class and inherits the properties of that class, but acts individually to the other objects of that class.\n",
    "\n",
    "**Instance -** An individual object of a certain class\n",
    "\n",
    "**Method -** A special kind of function that is defined in a class definition. A method always has to have an argument called **self** between *( )*\n",
    "\n",
    "**Class Variable -** A variable that is shared by all instances of a class. Class variables are defined within a class but outside of the class's methods.\n",
    "\n",
    "**Instance Variable -**  A variable that is defined inside a *method* and belongs only to the current instance of a class\n",
    "\n",
    "**Data Member -** A class variable or an instance variable that holds data associated with a class and its objects\n",
    "\n",
    "**Instantiation -** The creation of an instance of a class\n",
    "\n",
    "**Inheritance -** The transfer of the characteristics of a class to the other classes that are derived from it\n",
    "\n",
    "</div>\n",
    "---"
   ]
  },
  {
   "cell_type": "markdown",
   "metadata": {},
   "source": [
    "### Creating Classes\n",
    "\n",
    "```python\n",
    "class ClassName:\n",
    "    'Documentation string...'\n",
    "    \n",
    "    def __init__(self, arg_1, arg_2):\n",
    "        self.arg_1 = arg_1\n",
    "        self.arg_2 = arg_2\n",
    "    \n",
    "print 'Documentation string:', ClassName.__doc__\n",
    "```"
   ]
  },
  {
   "cell_type": "code",
   "execution_count": 2,
   "metadata": {
    "collapsed": false
   },
   "outputs": [
    {
     "name": "stdout",
     "output_type": "stream",
     "text": [
      "Documentation string for class Car: Common base class for all cars\n"
     ]
    }
   ],
   "source": [
    "# Example-1\n",
    "class Cars:\n",
    "    'Common base class for all cars'\n",
    "    \n",
    "print 'Documentation string for class Car:', Cars.__doc__"
   ]
  },
  {
   "cell_type": "code",
   "execution_count": 3,
   "metadata": {
    "collapsed": false
   },
   "outputs": [],
   "source": [
    "# Example-2\n",
    "class Student:\n",
    "    '''Common base class for all Undergraduate students at University. Students have the following properties:\n",
    "    \n",
    "    Attributes:\n",
    "        name: a string representing the students name\n",
    "        major: a string representing the students major\n",
    "        gpa: a float tracking the students achievement\n",
    "    '''\n",
    "    studentCount = 0 # This is a class variable whose value is shared among all instances of this class\n",
    "    \n",
    "    def __init__(self, name, major, gpa): \n",
    "        # __init__() is a special method, which is called class constructor or initialization method that \n",
    "        # Python calls when you create a new instance of this class\n",
    "        self.name = name\n",
    "        self.major = major\n",
    "        self.gpa= gpa\n",
    "        Student.studentCount += 1\n",
    "        \n",
    "    def displayCount(self):\n",
    "        print 'Total Students: %d' % Student.studentCount\n",
    "        \n",
    "    def displayStudent(self):\n",
    "        print 'Name: ', self.name, ', Major: ', self.major, ', GPA: ', self.gpa\n"
   ]
  },
  {
   "cell_type": "code",
   "execution_count": 4,
   "metadata": {
    "collapsed": false
   },
   "outputs": [],
   "source": [
    "# Example-3\n",
    "class Customer: # Outline to create a Customer object\n",
    "    '''A customer of a bank with a checking account. Customers have the following properties:\n",
    "    Attributes:\n",
    "        name: A string representing the customer's name\n",
    "        balance: A float tracking the current balance of the customer's account\n",
    "    '''\n",
    "    \n",
    "    def __init__(self, name, balance = 0.0): # Creates a new customer\n",
    "        \"\"\"Return a Customer object whose name is 'name' and starting balance is 'balance'\"\"\"\n",
    "        self.name = name\n",
    "        self.balance = balance\n",
    "    \n",
    "    def withdraw(self, amount):\n",
    "        \"\"\"Return the balance remaining after withdrawing 'amount' dollars\"\"\"\n",
    "        if amount > self.balance:\n",
    "            raise RuntimeError('Amount greater than available balance.')\n",
    "        self.balance -= amount\n",
    "        return self.balance\n",
    "    \n",
    "    def deposit(self, amount):\n",
    "        \"\"\"Return the balance remaining after depositing 'amount' dollars\"\"\"\n",
    "        self.balance =+ amount\n",
    "        return self.balance"
   ]
  },
  {
   "cell_type": "code",
   "execution_count": 5,
   "metadata": {
    "collapsed": false
   },
   "outputs": [
    {
     "data": {
      "text/plain": [
       "1449.5"
      ]
     },
     "execution_count": 5,
     "metadata": {},
     "output_type": "execute_result"
    }
   ],
   "source": [
    "# Use the \"Customer\" blueprint to create an new object customer_1\n",
    "customer_1 = Customer('Ankoor', 1500.0) # customer_1 object is known as an 'instance'\n",
    "\n",
    "customer_1.withdraw(50.5) # Method \"withdraw\" defines instruction for withdrawing money"
   ]
  },
  {
   "cell_type": "markdown",
   "metadata": {},
   "source": [
    "```python\n",
    "def withdraw(self, amount):\n",
    "    code\n",
    "```\n",
    "- ```customer_1.withdraw(50.5)``` is just shorthand for ```Customer.withdraw(customer_1, 50.5)```\n",
    "\n",
    "```python \n",
    "__init__ # initialize object\n",
    "```\n",
    "- Do not introduce a new attribute outside of the ```__init__``` method"
   ]
  },
  {
   "cell_type": "code",
   "execution_count": 6,
   "metadata": {
    "collapsed": false
   },
   "outputs": [
    {
     "name": "stdout",
     "output_type": "stream",
     "text": [
      "Happy birthday to you\n",
      "I don't want to get sued\n",
      "So I'll stop right there\n"
     ]
    }
   ],
   "source": [
    "# Example-4\n",
    "class Song(object):\n",
    "    \n",
    "    def __init__(self, lyrics):\n",
    "        self.lyrics = lyrics\n",
    "    \n",
    "    def sing_me_a_song(self):\n",
    "        for line in self.lyrics:\n",
    "            print line\n",
    "            \n",
    "happy_bday = Song([\"Happy birthday to you\", \"I don't want to get sued\",\n",
    "                   \"So I'll stop right there\"])\n",
    "\n",
    "happy_bday.sing_me_a_song()  "
   ]
  },
  {
   "cell_type": "markdown",
   "metadata": {},
   "source": [
    "### Creating Instance Objects\n",
    "```python\n",
    "instance_Object = ClassName(arg_1, arg_2)\n",
    "```"
   ]
  },
  {
   "cell_type": "code",
   "execution_count": 7,
   "metadata": {
    "collapsed": false
   },
   "outputs": [
    {
     "name": "stdout",
     "output_type": "stream",
     "text": [
      "<__main__.Student instance at 0x1043b2320> <type 'instance'>\n"
     ]
    }
   ],
   "source": [
    "student = Student('Ankoor', 'Engineering', 3.8)\n",
    "print student, type(student)"
   ]
  },
  {
   "cell_type": "markdown",
   "metadata": {},
   "source": [
    "### Accessing Attributes\n",
    "\n",
    "Object's attributes are accessed using the dot operator with object.\n",
    "\n",
    "```python\n",
    "instance_Object.<tab> # Type . and press tab to view object's attributes and available methods\n",
    "ClassName.<tab> # Type . and press tab to view available methods and class variables\n",
    "instance_Object.__class__.ClassObjectAttribute\n",
    "```"
   ]
  },
  {
   "cell_type": "code",
   "execution_count": 8,
   "metadata": {
    "collapsed": false
   },
   "outputs": [
    {
     "name": "stdout",
     "output_type": "stream",
     "text": [
      "Ankoor Engineering 3.8\n",
      "Name:  Ankoor , Major:  Engineering , GPA:  3.8\n",
      "None\n",
      "Total Students: 1\n",
      "None\n",
      "1\n"
     ]
    }
   ],
   "source": [
    "print student.name, student.major, student.gpa\n",
    "print student.displayStudent()\n",
    "print student.displayCount()\n",
    "print student.__class__.studentCount # Class object attribute"
   ]
  },
  {
   "cell_type": "markdown",
   "metadata": {},
   "source": [
    "### Adding / Removing / Modifying attributes of classes and objects\n",
    "\n",
    "```python\n",
    "instance_Object.New_Attribute = value # Add a new attribute\n",
    "instance_Object.New_Attribute = new_value # Modify an attribute\n",
    "del instance_Object.New_Attribute # Remove an attribute\n",
    "```"
   ]
  },
  {
   "cell_type": "code",
   "execution_count": 9,
   "metadata": {
    "collapsed": false
   },
   "outputs": [
    {
     "name": "stdout",
     "output_type": "stream",
     "text": [
      "MS\n",
      "PhD\n"
     ]
    }
   ],
   "source": [
    "student.degree = 'MS' # Add attribute\n",
    "print student.degree\n",
    "student.degree = 'PhD' # Modify attribute\n",
    "print student.degree\n",
    "del student.degree # Remove attribute\n",
    "#print student.degree # AttributeError"
   ]
  },
  {
   "cell_type": "markdown",
   "metadata": {},
   "source": [
    "### Functions to access attributes\n",
    "\n",
    "- Access the attribute of object\n",
    "```python\n",
    "getattr(obj, name[, default])\n",
    "```\n",
    "- Check if an attribute exists or not\n",
    "```python\n",
    "hasattr(obj, name)\n",
    "```\n",
    "- Set an attribute (if attribute does not exist: attribute would be created)\n",
    "```python\n",
    "setattr(obj, name, value)\n",
    "```\n",
    "- Delete an attribute\n",
    "```python\n",
    "delattr(obj, name)\n",
    "```"
   ]
  },
  {
   "cell_type": "code",
   "execution_count": 10,
   "metadata": {
    "collapsed": false
   },
   "outputs": [
    {
     "name": "stdout",
     "output_type": "stream",
     "text": [
      "True\n",
      "Ankoor\n",
      "None\n",
      "None\n"
     ]
    }
   ],
   "source": [
    "print hasattr(student, 'gpa')\n",
    "print getattr(student, 'name')\n",
    "print setattr(student, 'degree', 'PhD')\n",
    "print delattr(student, 'degree')"
   ]
  },
  {
   "cell_type": "markdown",
   "metadata": {},
   "source": [
    "### Built-in Class Attributes (access via . notation)\n",
    "\n",
    "- Class documentation string or none, if undefined: ```__doc__```\n",
    "- Dictionary containing the class's namespace: ```__dict__```\n",
    "- Class name: ```__name__```\n",
    "- Module name in which the class is defined. This attribute is ```__main__``` in interactive mode: ```__module__```\n",
    "- A possibly empty tuple containing the base classes, in the order of their occurance in the base class list: ```__bases__```"
   ]
  },
  {
   "cell_type": "code",
   "execution_count": 11,
   "metadata": {
    "collapsed": false
   },
   "outputs": [
    {
     "name": "stdout",
     "output_type": "stream",
     "text": [
      "Student.__doc__ : Common base class for all Undergraduate students at University. Students have the following properties:\n",
      "    \n",
      "    Attributes:\n",
      "        name: a string representing the students name\n",
      "        major: a string representing the students major\n",
      "        gpa: a float tracking the students achievement\n",
      "    \n",
      "Student.__name__ : Student\n",
      "Student.__module__ : __main__\n",
      "Student.__bases__ : ()\n",
      "Student.__dict__ : {'__module__': '__main__', 'displayCount': <function displayCount at 0x10438f8c0>, 'displayStudent': <function displayStudent at 0x10438f500>, 'studentCount': 1, '__doc__': 'Common base class for all Undergraduate students at University. Students have the following properties:\\n    \\n    Attributes:\\n        name: a string representing the students name\\n        major: a string representing the students major\\n        gpa: a float tracking the students achievement\\n    ', '__init__': <function __init__ at 0x10438fb90>}\n"
     ]
    }
   ],
   "source": [
    "print 'Student.__doc__ :', Student.__doc__\n",
    "print 'Student.__name__ :', Student.__name__\n",
    "print 'Student.__module__ :', Student.__module__\n",
    "print 'Student.__bases__ :', Student.__bases__\n",
    "print 'Student.__dict__ :', Student.__dict__"
   ]
  },
  {
   "cell_type": "markdown",
   "metadata": {},
   "source": [
    "### Class Inheritance\n",
    "\n",
    "Instead of starting from scratch, create a class by deriving it from a pre-existing class by listing the *parent class* in parentheses after the new class name.  \n",
    "\n",
    "The child class inherits the attributes of its parent class. A child class can also override data members and methods from the parent\n",
    "\n",
    "```python\n",
    "class SubClassName(ParentClass_1[, ParentClass_2, ...]):\n",
    "    'Documentation string...'\n",
    "```"
   ]
  },
  {
   "cell_type": "code",
   "execution_count": 12,
   "metadata": {
    "collapsed": false
   },
   "outputs": [
    {
     "name": "stdout",
     "output_type": "stream",
     "text": [
      "Calling Child Constructor\n",
      "Calling Child method\n",
      "Calling Parent method\n",
      "Parent Attribute:  2\n"
     ]
    }
   ],
   "source": [
    "class Parent: # Define Parent class\n",
    "    parent_Attribute = 1\n",
    "    def __init__(self):\n",
    "        print 'Calling Parent Constructor'\n",
    "        \n",
    "    def parentMethod(self):\n",
    "        print 'Calling Parent method'\n",
    "        \n",
    "    def setAttribute(self, attribute):\n",
    "        Parent.parent_Attribute = attribute\n",
    "        \n",
    "    def getAttribute(self):\n",
    "        print 'Parent Attribute: ', Parent.parent_Attribute\n",
    "        \n",
    "class Child(Parent): # Define Child class\n",
    "    def __init__(self):\n",
    "        print 'Calling Child Constructor'\n",
    "        \n",
    "    def childMethod(self):\n",
    "        print 'Calling Child method'\n",
    "        \n",
    "# -------------------------------------------------------------#\n",
    "c = Child() # Instance of Child\n",
    "c.childMethod() # Child calls its method\n",
    "c.parentMethod() # Child calls Parent's method\n",
    "c.setAttribute(2) # Child calls Parent's method\n",
    "c.getAttribute() # Child calls Parent's method   "
   ]
  },
  {
   "cell_type": "code",
   "execution_count": 13,
   "metadata": {
    "collapsed": true
   },
   "outputs": [],
   "source": [
    "class Vehicle(object):\n",
    "    \"\"\"A vehicle for sale by Car Dealership.\n",
    "\n",
    "    Attributes:\n",
    "        wheels: An integer representing the number of wheels the vehicle has.\n",
    "        miles: The integral number of miles driven on the vehicle.\n",
    "        make: The make of the vehicle as a string.\n",
    "        model: The model of the vehicle as a string.\n",
    "        year: The integral year the vehicle was built.\n",
    "        sold_on: The date the vehicle was sold.\n",
    "    \"\"\"\n",
    "\n",
    "    base_sale_price = 0\n",
    "\n",
    "    def __init__(self, wheels, miles, make, model, year, sold_on):\n",
    "        \"\"\"Return a new Vehicle object.\"\"\"\n",
    "        self.wheels = wheels\n",
    "        self.miles = miles\n",
    "        self.make = make\n",
    "        self.model = model\n",
    "        self.year = year\n",
    "        self.sold_on = sold_on\n",
    "\n",
    "\n",
    "    def sale_price(self):\n",
    "        \"\"\"Return the sale price for this vehicle as a float amount.\"\"\"\n",
    "        if self.sold_on is not None:\n",
    "            return 0.0  # Already sold\n",
    "        return 5000.0 * self.wheels\n",
    "\n",
    "    def purchase_price(self):\n",
    "        \"\"\"Return the price for which we would pay to purchase the vehicle.\"\"\"\n",
    "        if self.sold_on is None:\n",
    "            return 0.0  # Not yet sold\n",
    "        return self.base_sale_price - (.10 * self.miles)\n",
    "\n",
    "# Now make \"Car\" and \"Truck\" class inherit from the \"Vehicle\" class\n",
    "class Car(Vehicle):\n",
    "\n",
    "    def __init__(self, wheels, miles, make, model, year, sold_on):\n",
    "        \"\"\"Return a new Car object.\"\"\"\n",
    "        self.wheels = wheels\n",
    "        self.miles = miles\n",
    "        self.make = make\n",
    "        self.model = model\n",
    "        self.year = year\n",
    "        self.sold_on = sold_on\n",
    "        self.base_sale_price = 8000\n",
    "\n",
    "class Truck(Vehicle):\n",
    "\n",
    "    def __init__(self, wheels, miles, make, model, year, sold_on):\n",
    "        \"\"\"Return a new Truck object.\"\"\"\n",
    "        self.wheels = wheels\n",
    "        self.miles = miles\n",
    "        self.make = make\n",
    "        self.model = model\n",
    "        self.year = year\n",
    "        self.sold_on = sold_on\n",
    "        self.base_sale_price = 10000"
   ]
  },
  {
   "cell_type": "markdown",
   "metadata": {},
   "source": [
    "### Polymorphism"
   ]
  },
  {
   "cell_type": "code",
   "execution_count": 14,
   "metadata": {
    "collapsed": false
   },
   "outputs": [
    {
     "name": "stdout",
     "output_type": "stream",
     "text": [
      "Meow!\n",
      "Woof!\n"
     ]
    }
   ],
   "source": [
    "class Animal:\n",
    "    def __init__(self, name = ''):\n",
    "        self.name = name\n",
    "        \n",
    "    def talk(self):\n",
    "        pass # \n",
    "    \n",
    "class Cat(Animal):\n",
    "    def talk(self):\n",
    "        print 'Meow!'\n",
    "        \n",
    "class Dog(Animal):\n",
    "    def talk(self):\n",
    "        print 'Woof!'\n",
    "        \n",
    "a = Animal()\n",
    "a.talk()\n",
    "\n",
    "c = Cat('Snoops')\n",
    "c.talk()\n",
    "\n",
    "d = Dog('Harry')\n",
    "d.talk()"
   ]
  },
  {
   "cell_type": "code",
   "execution_count": 15,
   "metadata": {
    "collapsed": false
   },
   "outputs": [],
   "source": [
    "class Vector:\n",
    "    def __init__(self, a, b):\n",
    "        self.a = a\n",
    "        self.b = b\n",
    "        \n",
    "    def __str__(self): # Printable string representation\n",
    "        return 'Vector (%d, %d)' % (self.a, self.b)\n",
    "    \n",
    "    # Define __add__ method in Vector class to perform vector addition\n",
    "    def __add__(self, other):\n",
    "        return Vector(self.a + other.a, self.b + other.b)"
   ]
  },
  {
   "cell_type": "code",
   "execution_count": 16,
   "metadata": {
    "collapsed": false
   },
   "outputs": [
    {
     "name": "stdout",
     "output_type": "stream",
     "text": [
      "Vector (7, 4)\n"
     ]
    }
   ],
   "source": [
    "v1 = Vector(3, 9)\n",
    "v2 = Vector(4, -5)\n",
    "print v1 + v2"
   ]
  },
  {
   "cell_type": "markdown",
   "metadata": {},
   "source": [
    "### Data Encapsulation  \n",
    "\n",
    "An object's attributes may or may not be visible outside the class definition. Name attributes with a *double underscore* prefix and these attributes are not directly visible to outsiders. Protected attributes with a *single underscore* prefix can be accessed from outside.\n",
    "\n",
    "```Note: Access hidden attributes: object._className__attributeName```"
   ]
  },
  {
   "cell_type": "code",
   "execution_count": 17,
   "metadata": {
    "collapsed": false
   },
   "outputs": [
    {
     "name": "stdout",
     "output_type": "stream",
     "text": [
      "11\n",
      "12\n",
      "12\n"
     ]
    }
   ],
   "source": [
    "class JustCounter:\n",
    "    __secretCount = 10\n",
    "    \n",
    "    def count(self):\n",
    "        self.__secretCount += 1\n",
    "        print self.__secretCount\n",
    "        \n",
    "counter = JustCounter()\n",
    "counter.count()\n",
    "counter.count()\n",
    "#print counter.__secretCount # Returns AttributeError\n",
    "print counter._JustCounter__secretCount"
   ]
  },
  {
   "cell_type": "code",
   "execution_count": 18,
   "metadata": {
    "collapsed": false
   },
   "outputs": [
    {
     "name": "stdout",
     "output_type": "stream",
     "text": [
      "10\n",
      "-15\n",
      "100\n"
     ]
    }
   ],
   "source": [
    "class Encapsulation(object):\n",
    "    def __init__(self, x, y, z):\n",
    "        self.public = x\n",
    "        self._protected = y\n",
    "        self.__private = z\n",
    "        \n",
    "temp = Encapsulation(10, -15, 100)\n",
    "print temp.public\n",
    "print temp._protected\n",
    "#print temp.__private # Returns AttributeError\n",
    "print temp._Encapsulation__private"
   ]
  },
  {
   "cell_type": "markdown",
   "metadata": {},
   "source": [
    "### Bounded and Unbounded Method Calls"
   ]
  },
  {
   "cell_type": "code",
   "execution_count": 19,
   "metadata": {
    "collapsed": false
   },
   "outputs": [
    {
     "name": "stdout",
     "output_type": "stream",
     "text": [
      "<type 'instance'>\n",
      "-----------------------Bounded method call------------------------\n",
      "Methods\n",
      "-----------------------Unbounded method call----------------------\n",
      "Methods\n"
     ]
    }
   ],
   "source": [
    "class Methods:\n",
    "    def __init__(self):\n",
    "        self.name = 'Methods'\n",
    "        \n",
    "    def getName(self):\n",
    "        return self.name\n",
    "    \n",
    "m = Methods()\n",
    "print type(m)\n",
    "print '-----------------------Bounded method call------------------------'\n",
    "print m.getName() # Bounded method call: Python interpreter automatically pairs the 'm' instance with the self parameter\n",
    "print '-----------------------Unbounded method call----------------------'\n",
    "print Methods.getName(m) # Unbounded method call: Instance object is explicitly given to the method \"getName()\""
   ]
  },
  {
   "cell_type": "markdown",
   "metadata": {},
   "source": [
    "### Methods"
   ]
  },
  {
   "cell_type": "code",
   "execution_count": 20,
   "metadata": {
    "collapsed": false
   },
   "outputs": [
    {
     "name": "stdout",
     "output_type": "stream",
     "text": [
      "<type 'instance'>\n",
      "1\n",
      "100\n",
      "31428.5714286\n"
     ]
    }
   ],
   "source": [
    "class Circle:\n",
    "    \n",
    "    pi = 22.0/7 # Class Object Attribute\n",
    "    \n",
    "    def __init__(self, radius = 1):\n",
    "        self.radius = radius\n",
    "        \n",
    "    def area(self):\n",
    "        return self.radius * self.radius * Circle.pi\n",
    "    \n",
    "    def diameter(self):\n",
    "        return self.radius * 2\n",
    "    \n",
    "    def setRadius(self, radius):\n",
    "        self.radius = radius\n",
    "        \n",
    "    def getRadius(self):\n",
    "        return self.radius\n",
    "    \n",
    "c = Circle() # Create an instance of class Circle\n",
    "print type(c)\n",
    "\n",
    "print c.getRadius()\n",
    "c.setRadius(100)\n",
    "print c.getRadius() \n",
    "print c.area()"
   ]
  },
  {
   "cell_type": "markdown",
   "metadata": {},
   "source": [
    "### Special Methods\n",
    "\n",
    "```__repr__``` is used to return a representation of the object in string form"
   ]
  },
  {
   "cell_type": "code",
   "execution_count": 21,
   "metadata": {
    "collapsed": false
   },
   "outputs": [
    {
     "name": "stdout",
     "output_type": "stream",
     "text": [
      "A book is created\n",
      "Title: To Kill a Mockingbird, Author: Harper Lee, Pages: 324\n",
      "324\n",
      "A book is destroyed\n"
     ]
    }
   ],
   "source": [
    "# __str__, __len__, __del__ example\n",
    "class Book:\n",
    "    def __init__(self, title, author, pages): # __init__ creates a new instance of a Book class\n",
    "        self.title = title\n",
    "        self.author = author\n",
    "        self.pages = pages\n",
    "        print 'A book is created'\n",
    "        \n",
    "    def __str__(self):\n",
    "        return 'Title: %s, Author: %s, Pages: %s' % (self.title, self.author, self.pages)\n",
    "    \n",
    "    def __len__(self):\n",
    "        return self.pages\n",
    "    \n",
    "    def __del__(self): # del deletes an object by calling __del__\n",
    "        print 'A book is destroyed'\n",
    "        \n",
    "book = Book('To Kill a Mockingbird', 'Harper Lee', 324)\n",
    "\n",
    "print book # print calls __str__() method\n",
    "print len(book) # len() function invokes the __len__() method\n",
    "del book"
   ]
  },
  {
   "cell_type": "code",
   "execution_count": 22,
   "metadata": {
    "collapsed": false
   },
   "outputs": [
    {
     "name": "stdout",
     "output_type": "stream",
     "text": [
      "[-1, -13, 12]\n",
      "[5, 5, -2]\n"
     ]
    }
   ],
   "source": [
    "# __add__(), __sub__() method and repr\n",
    "class Vector:\n",
    "    def __init__(self, data):\n",
    "        self.data = data\n",
    "        \n",
    "    def __str__(self):\n",
    "        return repr(self.data)\n",
    "    \n",
    "    def __add__(self, other): # __add__() method is called when 2 vectors are added with + operator\n",
    "        data = []\n",
    "        for i in range(len(self.data)):\n",
    "            data.append(self.data[i] + other.data[i])\n",
    "        return Vector(data)\n",
    "    \n",
    "    def __sub__(self, other): # __sub__() method is called when 2 vectors are added with - operator\n",
    "        data = []\n",
    "        for i in range(len(self.data)):\n",
    "            data.append(self.data[i] - other.data[i])\n",
    "        return Vector(data)\n",
    "    \n",
    "x = Vector([2, -4, 5])\n",
    "y = Vector([-3, -9, 7])\n",
    "\n",
    "print x + y\n",
    "print x - y"
   ]
  },
  {
   "cell_type": "markdown",
   "metadata": {
    "collapsed": false
   },
   "source": [
    "### Static Methods  \n",
    "- ```Class attributes``` are attributes that are set at the *class-level*, as opposed to the *instance-level*. ```Normal attributes``` are introduced in the ```__init__``` method.\n",
    "- ```Static methods``` do not have access to ```self``` and are methods that work without requiring an instance to be present"
   ]
  },
  {
   "cell_type": "code",
   "execution_count": 23,
   "metadata": {
    "collapsed": false
   },
   "outputs": [
    {
     "name": "stdout",
     "output_type": "stream",
     "text": [
      "4\n",
      "4\n"
     ]
    }
   ],
   "source": [
    "class Car(object):\n",
    "    wheels = 4\n",
    "    \n",
    "    def __init__(self, make, model):\n",
    "        self.make = make\n",
    "        self.model = model\n",
    "    \n",
    "    @staticmethod # Static method decorator\n",
    "    def make_car_sound(): \n",
    "        print 'VRrooomm!'\n",
    "        \n",
    "prius = Car('Toyota', 'Prius')\n",
    "\n",
    "print prius.wheels\n",
    "print Car.wheels"
   ]
  },
  {
   "cell_type": "markdown",
   "metadata": {},
   "source": [
    "### Class Methods"
   ]
  },
  {
   "cell_type": "code",
   "execution_count": 24,
   "metadata": {
    "collapsed": false
   },
   "outputs": [],
   "source": [
    "class Vehicle:\n",
    "    \n",
    "    @classmethod\n",
    "    def is_motorcycle(cls):\n",
    "        return cls.wheels == 2"
   ]
  },
  {
   "cell_type": "markdown",
   "metadata": {},
   "source": [
    "Note:\n",
    "\n",
    "- Check ```os.walk()```"
   ]
  },
  {
   "cell_type": "markdown",
   "metadata": {},
   "source": [
    "## Python Object Oriented Programming Concepts\n",
    "\n",
    "---\n",
    "### 1. Classes and Instances\n",
    "- Classes: Allows us to logically group data (attributes) and functions (methods) in a way that is easy to reuse and also easy to build upon.\n",
    "- Instance Variables: Contain data that is unique to each instance"
   ]
  },
  {
   "cell_type": "code",
   "execution_count": 25,
   "metadata": {
    "collapsed": false
   },
   "outputs": [
    {
     "name": "stdout",
     "output_type": "stream",
     "text": [
      "<__main__.Employee instance at 0x1043d8ef0>\n",
      "<__main__.Employee instance at 0x1043d8f80>\n",
      "ankoor@company.com\n",
      "priel@company.com\n"
     ]
    }
   ],
   "source": [
    "# Class as a blueprint to create each employee at a company\n",
    "\n",
    "class Employee:\n",
    "    pass\n",
    "\n",
    "emp_1 = Employee()\n",
    "emp_2 = Employee()\n",
    "\n",
    "print emp_1\n",
    "print emp_2\n",
    "\n",
    "# Manually set attributes (error prone)\n",
    "\n",
    "# Instance Variables: Each instances have attributes that are unique to them\n",
    "emp_1.name = 'Ankoor'\n",
    "emp_1.email = 'ankoor@company.com'\n",
    "emp_1.salary = 50000\n",
    "\n",
    "emp_2.name = 'Priel'\n",
    "emp_2.email = 'priel@company.com'\n",
    "emp_2.salary = 60000\n",
    "\n",
    "print emp_1.email\n",
    "print emp_2.email"
   ]
  },
  {
   "cell_type": "code",
   "execution_count": 26,
   "metadata": {
    "collapsed": false
   },
   "outputs": [
    {
     "name": "stdout",
     "output_type": "stream",
     "text": [
      "ankoor@company.com\n",
      "priel@company.com\n",
      "Manual: Ankoor Bhagat\n",
      "Automatic:  Ankoor Bhagat\n",
      "Calling method on Class:  Priel Schmalbach\n"
     ]
    }
   ],
   "source": [
    "# Automatically set attributes: Constructor or __init__ method\n",
    "class Employee:\n",
    "    \n",
    "    # Creating method within a class: First argument is instance called self\n",
    "    def __init__(self, name, surname, salary):\n",
    "        self.name = name\n",
    "        self.surname = surname\n",
    "        self.email = name.lower() + '@company.com'\n",
    "        self.salary = salary\n",
    "        \n",
    "    # Method to print full name\n",
    "    def fullname(self):\n",
    "        return '{} {}'.format(self.name, self.surname)\n",
    "\n",
    "# Create instances of Employee class and pass in values\n",
    "emp_1 = Employee('Ankoor', 'Bhagat', 50000)\n",
    "emp_2 = Employee('Priel', 'Schmalbach', 60000)\n",
    "\n",
    "print emp_1.email\n",
    "print emp_2.email\n",
    "\n",
    "# Display full name: Manually outside the class\n",
    "print 'Manual: {} {}'.format(emp_1.name, emp_1.surname)\n",
    "\n",
    "# Display full name: Automatically after creating a method\n",
    "print 'Automatic: ', emp_1.fullname()\n",
    "print 'Calling method on Class: ', Employee.fullname(emp_2)"
   ]
  },
  {
   "cell_type": "markdown",
   "metadata": {},
   "source": [
    "---\n",
    "### 2. Class Variables\n",
    "- Class variables are variables that are shared among all instances of a class. Class variables are same for each instance."
   ]
  },
  {
   "cell_type": "code",
   "execution_count": 27,
   "metadata": {
    "collapsed": false
   },
   "outputs": [
    {
     "name": "stdout",
     "output_type": "stream",
     "text": [
      "Salary:  50000\n",
      "Salary after raise:  52000\n"
     ]
    }
   ],
   "source": [
    "# Example: Raise amount is not class variable\n",
    "class Employee:\n",
    "    \n",
    "    # Creating method within a class: First argument is instance called self\n",
    "    def __init__(self, name, surname, salary):\n",
    "        self.name = name\n",
    "        self.surname = surname\n",
    "        self.email = name.lower() + '@company.com'\n",
    "        self.salary = salary\n",
    "        \n",
    "    # Method to print full name\n",
    "    def fullname(self):\n",
    "        return '{} {}'.format(self.name, self.surname)\n",
    "    \n",
    "    def apply_raise(self):\n",
    "        self.salary = int(self.salary * 1.04)\n",
    "        \n",
    "        \n",
    "# Create instances of Employee class and pass in values\n",
    "emp_1 = Employee('Ankoor', 'Bhagat', 50000)\n",
    "emp_2 = Employee('Priel', 'Schmalbach', 60000)\n",
    "\n",
    "print 'Salary: ', emp_1.salary\n",
    "\n",
    "emp_1.apply_raise()\n",
    "print 'Salary after raise: ', emp_1.salary"
   ]
  },
  {
   "cell_type": "code",
   "execution_count": 28,
   "metadata": {
    "collapsed": false
   },
   "outputs": [
    {
     "name": "stdout",
     "output_type": "stream",
     "text": [
      "Accessing Class Variable from Class:  1.04\n",
      "Accessing Class Variable from Instance (Emp-1):  1.04\n",
      "Accessing Class Variable from Instance (Emp-2):  1.04\n",
      "--------------------------------------------------\n",
      "Instance namespace:  {'salary': 50000, 'surname': 'Bhagat', 'name': 'Ankoor', 'email': 'ankoor@company.com'}\n",
      "--------------------------------------------------\n",
      "Class namespace:  {'__module__': '__main__', 'num_employees': 2, '__init__': <function __init__ at 0x10438fe60>, 'raise_amount': 1.04, 'fullname': <function fullname at 0x1043d1938>, '__doc__': None, 'apply_raise': <function apply_raise at 0x1043d1c08>}\n",
      "--------------------------------------------------\n",
      "Accessing Class Variable from Class:  1.05\n",
      "Accessing Class Variable from Instance (Emp-1):  1.05\n",
      "Accessing Class Variable from Instance (Emp-2):  1.05\n",
      "--------------------------------------------------\n",
      "Accessing Class Variable from Class:  1.05\n",
      "Accessing Class Variable from Instance (Emp-1):  1.03\n",
      "Accessing Class Variable from Instance (Emp-2):  1.05\n",
      "Instance namespace:  {'salary': 50000, 'raise_amount': 1.03, 'surname': 'Bhagat', 'name': 'Ankoor', 'email': 'ankoor@company.com'}\n",
      "Number of employees:  2\n"
     ]
    }
   ],
   "source": [
    "# It would be nice to access the raise amount (4%) or update raise amount\n",
    "\n",
    "# Example: Raise amount is class variable\n",
    "class Employee:\n",
    "    \n",
    "    # Class Variables\n",
    "    raise_amount = 1.04\n",
    "    num_employees = 0\n",
    "    \n",
    "    # Creating method within a class: First argument is instance called self\n",
    "    def __init__(self, name, surname, salary):\n",
    "        self.name = name\n",
    "        self.surname = surname\n",
    "        self.email = name.lower() + '@company.com'\n",
    "        self.salary = salary\n",
    "        \n",
    "        # Increment count by 1\n",
    "        Employee.num_employees += 1 # No need to use self\n",
    "        \n",
    "    # Method to print full name\n",
    "    def fullname(self):\n",
    "        return '{} {}'.format(self.name, self.surname)\n",
    "    \n",
    "    def apply_raise(self):\n",
    "        # Accessing Class Variable from Instance\n",
    "        self.salary = int(self.salary * self.raise_amount)\n",
    "        \n",
    "        \n",
    "# Create instances of Employee class and pass in values\n",
    "emp_1 = Employee('Ankoor', 'Bhagat', 50000)\n",
    "emp_2 = Employee('Priel', 'Schmalbach', 60000)\n",
    "\n",
    "print 'Accessing Class Variable from Class: ', Employee.raise_amount\n",
    "print 'Accessing Class Variable from Instance (Emp-1): ', emp_1.raise_amount\n",
    "print 'Accessing Class Variable from Instance (Emp-2): ', emp_2.raise_amount\n",
    "print '----------' * 5\n",
    "\n",
    "# Printing namespace of instances and class\n",
    "print 'Instance namespace: ', emp_1.__dict__ # Does not contain \"raise amount\"\n",
    "print '----------' * 5\n",
    "print 'Class namespace: ', Employee.__dict__ # Contains \"raise amount\"\n",
    "print '----------' * 5\n",
    "\n",
    "# Changing \"raise amount\" from class\n",
    "Employee.raise_amount = 1.05\n",
    "\n",
    "print 'Accessing Class Variable from Class: ', Employee.raise_amount\n",
    "print 'Accessing Class Variable from Instance (Emp-1): ', emp_1.raise_amount\n",
    "print 'Accessing Class Variable from Instance (Emp-2): ', emp_2.raise_amount\n",
    "print '----------' * 5\n",
    "\n",
    "# Changing \"raise amount\" from instance\n",
    "emp_1.raise_amount = 1.03 # Only changes for Emp-1 and creates attribute \n",
    "print 'Accessing Class Variable from Class: ', Employee.raise_amount\n",
    "print 'Accessing Class Variable from Instance (Emp-1): ', emp_1.raise_amount\n",
    "print 'Accessing Class Variable from Instance (Emp-2): ', emp_2.raise_amount\n",
    "\n",
    "# Now Emp-1 namespace contains \"raise amount\"\n",
    "print 'Instance namespace: ', emp_1.__dict__ \n",
    "\n",
    "# Number of employees\n",
    "print 'Number of employees: ', Employee.num_employees"
   ]
  },
  {
   "cell_type": "markdown",
   "metadata": {},
   "source": [
    "---\n",
    "### 3. Class Methods & Static Methods\n",
    "- Regular Methods in a Class: Automatically takes the instance (self) as the first argument\n",
    "- Class Methods: Automatically takes the class (cls) as the first argument. Add a decorator called **`@classmethod`**\n",
    "- Static Methods: Behave just like regular functions and does not take either instance or class as the first argument. Add a decorator called **`@staticmethod`**"
   ]
  },
  {
   "cell_type": "code",
   "execution_count": 29,
   "metadata": {
    "collapsed": false
   },
   "outputs": [
    {
     "name": "stdout",
     "output_type": "stream",
     "text": [
      "Accessing Class Variable from Class:  1.04\n",
      "Accessing Class Variable from Instance (Emp-1):  1.04\n",
      "Accessing Class Variable from Instance (Emp-2):  1.04\n",
      "--------------------------------------------------\n",
      "After Setting raise amount\n",
      "Accessing Class Variable from Class:  1.07\n",
      "Accessing Class Variable from Instance (Emp-1):  1.07\n",
      "Accessing Class Variable from Instance (Emp-2):  1.07\n"
     ]
    }
   ],
   "source": [
    "# Class Method\n",
    "class Employee:\n",
    "    \n",
    "    # Class Variables\n",
    "    raise_amount = 1.04\n",
    "    num_employees = 0\n",
    "    \n",
    "    # Creating method within a class: First argument is instance called self\n",
    "    def __init__(self, name, surname, salary):\n",
    "        self.name = name\n",
    "        self.surname = surname\n",
    "        self.email = name.lower() + '@company.com'\n",
    "        self.salary = salary\n",
    "        \n",
    "        # Increment count by 1\n",
    "        Employee.num_employees += 1 # No need to use self\n",
    "        \n",
    "    # Method to print full name\n",
    "    def fullname(self):\n",
    "        return '{} {}'.format(self.name, self.surname)\n",
    "    \n",
    "    def apply_raise(self):\n",
    "        # Accessing Class Variable from Instance\n",
    "        self.salary = int(self.salary * self.raise_amount)\n",
    "        \n",
    "    # Class method: First argument is class called cls\n",
    "    @classmethod # Class method decorator\n",
    "    def set_raise_amount(cls, amount):\n",
    "        cls.raise_amount = amount\n",
    "    \n",
    "# Create instances of Employee class and pass in values\n",
    "emp_1 = Employee('Ankoor', 'Bhagat', 50000)\n",
    "emp_2 = Employee('Priel', 'Schmalbach', 60000)\n",
    "\n",
    "print 'Accessing Class Variable from Class: ', Employee.raise_amount\n",
    "print 'Accessing Class Variable from Instance (Emp-1): ', emp_1.raise_amount\n",
    "print 'Accessing Class Variable from Instance (Emp-2): ', emp_2.raise_amount\n",
    "print '----------' * 5\n",
    "\n",
    "# Set raise amount\n",
    "Employee.set_raise_amount(1.07) # Equivalent to: Employee.raise_amount = 1.07\n",
    "\n",
    "print 'After Setting raise amount'\n",
    "print 'Accessing Class Variable from Class: ', Employee.raise_amount\n",
    "print 'Accessing Class Variable from Instance (Emp-1): ', emp_1.raise_amount\n",
    "print 'Accessing Class Variable from Instance (Emp-2): ', emp_2.raise_amount"
   ]
  },
  {
   "cell_type": "markdown",
   "metadata": {},
   "source": [
    "**Class methods as alternative constructors**"
   ]
  },
  {
   "cell_type": "code",
   "execution_count": 30,
   "metadata": {
    "collapsed": false
   },
   "outputs": [
    {
     "name": "stdout",
     "output_type": "stream",
     "text": [
      "ankoor@company.com\n",
      "50000\n"
     ]
    }
   ],
   "source": [
    "# Specific usecase where data is in form of a string\n",
    "emp_str_1 = 'Ankoor-Bhagat-50000'\n",
    "emp_str_2 = 'Matt-Redmond-55000'\n",
    "emp_str_3 = 'Priel-Schmalbach-60000'\n",
    "\n",
    "# Constantly need to parse string to create a new employe: A tedious task\n",
    "name, surname, salary = emp_str_1.split('-')\n",
    "new_emp_1 = Employee(name, surname, salary)\n",
    "print new_emp_1.email\n",
    "print new_emp_1.salary"
   ]
  },
  {
   "cell_type": "code",
   "execution_count": 31,
   "metadata": {
    "collapsed": false
   },
   "outputs": [
    {
     "name": "stdout",
     "output_type": "stream",
     "text": [
      "matt@company.com\n",
      "55000\n"
     ]
    }
   ],
   "source": [
    "# Example: Class method as alternative Constructor\n",
    "class Employee:\n",
    "    \n",
    "    # Class Variables\n",
    "    raise_amount = 1.04\n",
    "    num_employees = 0\n",
    "    \n",
    "    # Creating method within a class: First argument is instance called self\n",
    "    def __init__(self, name, surname, salary):\n",
    "        self.name = name\n",
    "        self.surname = surname\n",
    "        self.email = name.lower() + '@company.com'\n",
    "        self.salary = salary\n",
    "        \n",
    "        # Increment count by 1\n",
    "        Employee.num_employees += 1 # No need to use self\n",
    "        \n",
    "    # Method to print full name\n",
    "    def fullname(self):\n",
    "        return '{} {}'.format(self.name, self.surname)\n",
    "    \n",
    "    def apply_raise(self):\n",
    "        # Accessing Class Variable from Instance\n",
    "        self.salary = int(self.salary * self.raise_amount)\n",
    "        \n",
    "    # Class method: First argument is class called cls\n",
    "    @classmethod # Class method decorator\n",
    "    def set_raise_amount(cls, amount):\n",
    "        cls.raise_amount = amount\n",
    "        \n",
    "    # Class method as alternative Constructor\n",
    "    @classmethod\n",
    "    def from_string(cls, emp_str):\n",
    "        name, surname, salary = emp_str.split('-')\n",
    "        return cls(name, surname, salary)\n",
    "    \n",
    "emp_str_1 = 'Ankoor-Bhagat-50000'\n",
    "emp_str_2 = 'Matt-Redmond-55000'\n",
    "emp_str_3 = 'Priel-Schmalbach-60000'\n",
    "\n",
    "new_emp_1 = Employee.from_string(emp_str_1)\n",
    "new_emp_2 = Employee.from_string(emp_str_2)\n",
    "new_emp_3 = Employee.from_string(emp_str_3)\n",
    "\n",
    "print new_emp_2.email\n",
    "print new_emp_2.salary"
   ]
  },
  {
   "cell_type": "markdown",
   "metadata": {},
   "source": [
    "**Static Methods** - Behaves just like a regular functions"
   ]
  },
  {
   "cell_type": "code",
   "execution_count": 32,
   "metadata": {
    "collapsed": false
   },
   "outputs": [
    {
     "name": "stdout",
     "output_type": "stream",
     "text": [
      "Workday:  True\n"
     ]
    }
   ],
   "source": [
    "# Example: Static method\n",
    "class Employee:\n",
    "    \n",
    "    # Class Variables\n",
    "    raise_amount = 1.04\n",
    "    num_employees = 0\n",
    "    \n",
    "    # Creating method within a class: First argument is instance called self\n",
    "    def __init__(self, name, surname, salary):\n",
    "        self.name = name\n",
    "        self.surname = surname\n",
    "        self.email = name.lower() + '@company.com'\n",
    "        self.salary = salary\n",
    "        \n",
    "        # Increment count by 1\n",
    "        Employee.num_employees += 1 # No need to use self\n",
    "        \n",
    "    # Method to print full name\n",
    "    def fullname(self):\n",
    "        return '{} {}'.format(self.name, self.surname)\n",
    "    \n",
    "    def apply_raise(self):\n",
    "        # Accessing Class Variable from Instance\n",
    "        self.salary = int(self.salary * self.raise_amount)\n",
    "        \n",
    "    # Class method: First argument is class called cls\n",
    "    @classmethod # Class method decorator\n",
    "    def set_raise_amount(cls, amount):\n",
    "        cls.raise_amount = amount\n",
    "        \n",
    "    # Class method as alternative Constructor\n",
    "    @classmethod\n",
    "    def from_string(cls, emp_str):\n",
    "        name, surname, salary = emp_str.split('-')\n",
    "        return cls(name, surname, salary)\n",
    "    \n",
    "    # Static method: \n",
    "    # Example: A function that takes date and returns whether or not if date is a workday \n",
    "    @staticmethod\n",
    "    def is_workday(day):\n",
    "        if (day.weekday()) == 5 or (day.weekday() == 6):\n",
    "            return False\n",
    "        else:\n",
    "            return True\n",
    "            \n",
    "# Use static method\n",
    "import datetime\n",
    "test_date = datetime.date(2017, 2, 20)\n",
    "print 'Workday: ', Employee.is_workday(test_date)"
   ]
  },
  {
   "cell_type": "markdown",
   "metadata": {},
   "source": [
    "---\n",
    "### 4. Inheritance & Creating Subclasses\n",
    "- Inheritance allows us to inherit attributes and methods from a parent class. This is useful because we can create sub-classes and get all the functionality of the parent class and can override or create new functionality without affecting the parent class\n",
    "- Multiple Inheritance in Subclass: **`super(Subclass, self).__init__(Parent Class args)`** where Parent class is \"new style class\" i.e. `class Parent(object):`"
   ]
  },
  {
   "cell_type": "code",
   "execution_count": 33,
   "metadata": {
    "collapsed": false
   },
   "outputs": [
    {
     "name": "stdout",
     "output_type": "stream",
     "text": [
      "ankoor@company.com\n",
      "priel@company.com\n",
      "--------------------------------------------------\n",
      "Help on class Developer in module __main__:\n",
      "\n",
      "class Developer(Employee)\n",
      " |  Methods inherited from Employee:\n",
      " |  \n",
      " |  __init__(self, name, surname, salary)\n",
      " |      # Creating method within a class: First argument is instance called self\n",
      " |  \n",
      " |  apply_raise(self)\n",
      " |  \n",
      " |  fullname(self)\n",
      " |      # Method to print full name\n",
      " |  \n",
      " |  ----------------------------------------------------------------------\n",
      " |  Data and other attributes inherited from Employee:\n",
      " |  \n",
      " |  raise_amount = 1.04\n",
      "\n",
      "None\n"
     ]
    }
   ],
   "source": [
    "# Example: Inheritance and Subclasses\n",
    "\n",
    "# Parent Class\n",
    "class Employee:\n",
    "    \n",
    "    # Class Variables\n",
    "    raise_amount = 1.04\n",
    "    \n",
    "    # Creating method within a class: First argument is instance called self\n",
    "    def __init__(self, name, surname, salary):\n",
    "        self.name = name\n",
    "        self.surname = surname\n",
    "        self.email = name.lower() + '@company.com'\n",
    "        self.salary = salary\n",
    "        \n",
    "    # Method to print full name\n",
    "    def fullname(self):\n",
    "        return '{} {}'.format(self.name, self.surname)\n",
    "    \n",
    "    def apply_raise(self):\n",
    "        # Accessing Class Variable from Instance\n",
    "        self.salary = int(self.salary * self.raise_amount)\n",
    "        \n",
    "# Create different types of employees: Developers and Managers       \n",
    "class Developer(Employee):\n",
    "    pass\n",
    "\n",
    "# Create instances of Developer class and pass in values\n",
    "# dev_1 = Employees('Ankoor', 'Bhagat', 50000)\n",
    "# dev_2 = Employees('Priel', 'Schmalbach', 60000)\n",
    "dev_1 = Developer('Ankoor', 'Bhagat', 50000)\n",
    "dev_2 = Developer('Priel', 'Schmalbach', 60000)\n",
    "\n",
    "print dev_1.email\n",
    "print dev_2.email\n",
    "print '----------' * 5\n",
    "\n",
    "print help(Developer)"
   ]
  },
  {
   "cell_type": "code",
   "execution_count": 36,
   "metadata": {
    "collapsed": false
   },
   "outputs": [
    {
     "name": "stdout",
     "output_type": "stream",
     "text": [
      "50000\n",
      "55000\n",
      "--------------------------------------------------\n",
      "50000\n",
      "52000\n"
     ]
    }
   ],
   "source": [
    "# Example: Customizing subclass\n",
    "\n",
    "# Parent Class\n",
    "class Employee:\n",
    "    \n",
    "    # Class Variables\n",
    "    raise_amount = 1.04\n",
    "    \n",
    "    # Creating method within a class: First argument is instance called self\n",
    "    def __init__(self, name, surname, salary):\n",
    "        self.name = name\n",
    "        self.surname = surname\n",
    "        self.email = name.lower() + '@company.com'\n",
    "        self.salary = salary\n",
    "        \n",
    "    # Method to print full name\n",
    "    def fullname(self):\n",
    "        return '{} {}'.format(self.name, self.surname)\n",
    "    \n",
    "    def apply_raise(self):\n",
    "        # Accessing Class Variable from Instance\n",
    "        self.salary = int(self.salary * self.raise_amount)\n",
    "        \n",
    "# Subclasses: Overriding attribute\n",
    "class Developer(Employee):\n",
    "    \n",
    "    # Change raise amount\n",
    "    raise_amount = 1.10\n",
    "    \n",
    "\n",
    "# Create instances of Developer class and pass in values\n",
    "dev_1 = Developer('Ankoor', 'Bhagat', 50000)\n",
    "emp_1 = Employee('Ankoor', 'Bhagat', 50000)\n",
    "\n",
    "print dev_1.salary\n",
    "dev_1.apply_raise()\n",
    "print dev_1.salary\n",
    "print '----------' * 5\n",
    "print emp_1.salary \n",
    "emp_1.apply_raise()\n",
    "print emp_1.salary"
   ]
  },
  {
   "cell_type": "code",
   "execution_count": 52,
   "metadata": {
    "collapsed": false
   },
   "outputs": [
    {
     "name": "stdout",
     "output_type": "stream",
     "text": [
      "Python\n",
      "C++\n",
      "--------------------------------------------------\n",
      "ankoor@company.com\n",
      "priel@company.com\n",
      "--------------------------------------------------\n",
      "Matt Redmond\n",
      "-> Ankoor Bhagat\n",
      "None\n",
      "--------------------------------------------------\n",
      "-> Ankoor Bhagat\n",
      "-> Priel Schmalbach\n",
      "None\n",
      "--------------------------------------------------\n",
      "-> Priel Schmalbach\n",
      "None\n"
     ]
    }
   ],
   "source": [
    "# Example: Customizing subclass to handle more attributes\n",
    "\n",
    "# Parent Class\n",
    "class Employee(object): # object --> New Style Class to use super()\n",
    "    \n",
    "    # Class Variables\n",
    "    raise_amount = 1.04\n",
    "    \n",
    "    # Creating method within a class: First argument is instance called self\n",
    "    def __init__(self, name, surname, salary):\n",
    "        self.name = name\n",
    "        self.surname = surname\n",
    "        self.email = name.lower() + '@company.com'\n",
    "        self.salary = salary\n",
    "        \n",
    "    # Method to print full name\n",
    "    def fullname(self):\n",
    "        return '{} {}'.format(self.name, self.surname)\n",
    "    \n",
    "    def apply_raise(self):\n",
    "        # Accessing Class Variable from Instance\n",
    "        self.salary = int(self.salary * self.raise_amount)\n",
    "        \n",
    "# Subclasses: More attribute\n",
    "class Developer(Employee):\n",
    "    \n",
    "    # Change raise amount\n",
    "    raise_amount = 1.07\n",
    "    \n",
    "    def __init__(self, name, surname, salary, prog_lang):\n",
    "        super(Developer, self).__init__(name, surname, salary)\n",
    "        # Other way:\n",
    "        #Employee.__init__(self, name, surname, salary)\n",
    "        \n",
    "        self.prog_lang = prog_lang\n",
    "\n",
    "class Manager(Employee):\n",
    "    \n",
    "    # A manager supervises a bunch of employees. Bad idea to pass empty list so use None instead\n",
    "    def __init__(self, name, surname, salary, employees=None): \n",
    "        super(Manager, self).__init__(name, surname, salary)\n",
    "        if employees is None:\n",
    "            self.employees = []\n",
    "        else:\n",
    "            self.employees = employees\n",
    "            \n",
    "    # Method to add employee\n",
    "    def add_employee(self, emp):\n",
    "        if emp not in self.employees:\n",
    "            self.employees.append(emp)\n",
    "            \n",
    "    # Method to remove employee\n",
    "    def remove_employee(self, emp):\n",
    "        if emp in self.employees:\n",
    "            self.employees.remove(emp)\n",
    "            \n",
    "    # Print supervised employees\n",
    "    def print_employees(self):\n",
    "        for emp in self.employees:\n",
    "            print '->', emp.fullname() # Method from parent class \n",
    "        \n",
    "# Create instances of Developer class and pass in values\n",
    "dev_1 = Developer('Ankoor', 'Bhagat', 55000, 'Python')\n",
    "dev_2 = Developer('Priel', 'Schmalbach', 60000, 'C++')\n",
    "mgr_1 = Manager('Matt', 'Redmond', 65000, [dev_1])\n",
    "\n",
    "print dev_1.prog_lang\n",
    "print dev_2.prog_lang\n",
    "print '----------' * 5\n",
    "print dev_1.email\n",
    "print dev_2.email\n",
    "print '----------' * 5\n",
    "print mgr_1.fullname()\n",
    "print mgr_1.print_employees() # Print employees\n",
    "print '----------' * 5\n",
    "mgr_1.add_employee(dev_2) # Add employee\n",
    "print mgr_1.print_employees() # Print employees\n",
    "print '----------' * 5\n",
    "mgr_1.remove_employee(dev_1) # Remove employee\n",
    "print mgr_1.print_employees() # Print employees"
   ]
  },
  {
   "cell_type": "markdown",
   "metadata": {},
   "source": [
    "- **`isinstance()`** - Tells if an `object` is an instance of a `class`\n",
    "- **`issubclass()`** - Tells if a `class` is a subclass of another"
   ]
  },
  {
   "cell_type": "code",
   "execution_count": 56,
   "metadata": {
    "collapsed": false
   },
   "outputs": [
    {
     "name": "stdout",
     "output_type": "stream",
     "text": [
      "True\n",
      "True\n",
      "False\n",
      "--------------------------------------------------\n",
      "True\n",
      "True\n",
      "False\n"
     ]
    }
   ],
   "source": [
    "# isinstance()\n",
    "print isinstance(mgr_1, Manager)\n",
    "print isinstance(mgr_1, Employee)\n",
    "print isinstance(mgr_1, Developer)\n",
    "print '----------' * 5\n",
    "\n",
    "# issubclass()\n",
    "print issubclass(Developer, Employee)\n",
    "print issubclass(Manager, Employee)\n",
    "print issubclass(Developer, Manager)"
   ]
  },
  {
   "cell_type": "markdown",
   "metadata": {},
   "source": [
    "---\n",
    "### 5. Special (magic and double underscore) Methods \n",
    "- Allows to emulate some built in behavior in Python\n",
    "- Implement operator overloading\n",
    "- Special methods allows us to change some of built in behavior and operations. The special methods are always surrounded by ``double underscores`` \n",
    "- `__repr__`\n",
    "- `__str__`\n",
    "- `__add__`\n",
    "- `__len__`"
   ]
  },
  {
   "cell_type": "code",
   "execution_count": 61,
   "metadata": {
    "collapsed": false
   },
   "outputs": [
    {
     "name": "stdout",
     "output_type": "stream",
     "text": [
      "3\n",
      "ab\n",
      "Depending on what object you are working with addition has different behavior\n",
      "<__main__.Employee instance at 0x104518638>\n"
     ]
    }
   ],
   "source": [
    "# Example\n",
    "print 1 + 2 # Integers get added\n",
    "print 'a' + 'b' # Strings get concatenated\n",
    "print \"\"\"Depending on what object you are working with addition has different behavior\"\"\"\n",
    "print emp_1 # Need to print something more user friendly instead of vague object"
   ]
  },
  {
   "cell_type": "code",
   "execution_count": 78,
   "metadata": {
    "collapsed": false
   },
   "outputs": [
    {
     "name": "stdout",
     "output_type": "stream",
     "text": [
      "Employee ('Ankoor', 'Bhagat', '50000')\n",
      "Ankoor Bhagat - ankoor@company.com\n",
      "--------------------------------------------------\n",
      "Ankoor Bhagat - ankoor@company.com\n",
      "Priel Schmalbach - priel@company.com\n",
      "--------------------------------------------------\n",
      "Employee ('Ankoor', 'Bhagat', '50000')\n",
      "Ankoor Bhagat - ankoor@company.com\n"
     ]
    }
   ],
   "source": [
    "# Special Methods Example\n",
    "class Employee:\n",
    "    \n",
    "    # Class Variables\n",
    "    raise_amount = 1.04\n",
    "    \n",
    "    # Creating method within a class: First argument is instance called self\n",
    "    def __init__(self, name, surname, salary):\n",
    "        self.name = name\n",
    "        self.surname = surname\n",
    "        self.email = name.lower() + '@company.com'\n",
    "        self.salary = salary\n",
    "       \n",
    "    # Method to print full name\n",
    "    def fullname(self):\n",
    "        return '{} {}'.format(self.name, self.surname)\n",
    "    \n",
    "    def apply_raise(self):\n",
    "        # Accessing Class Variable from Instance\n",
    "        self.salary = int(self.salary * self.raise_amount)\n",
    "        \n",
    "    # Special method __repr__: unambiguous representation of object \n",
    "    def __repr__(self):\n",
    "        return \"Employee ('{}', '{}', '{}')\".format(self.name, self.surname, self.salary)\n",
    "    \n",
    "    # Special method __str__: Readable representation of object for display\n",
    "    def __str__(self):\n",
    "        return '{} - {}'.format(self.fullname(), self.email)\n",
    "        \n",
    "        \n",
    "# Create instances of Employee class and pass in values\n",
    "emp_1 = Employee('Ankoor', 'Bhagat', 50000)\n",
    "emp_2 = Employee('Priel', 'Schmalbach', 60000)\n",
    "\n",
    "print repr(emp_1) # <__main__.Employee instance at 0x1045ca878>\n",
    "print str(emp_1) # <__main__.Employee instance at 0x1045ca878>\n",
    "print '----------' * 5\n",
    "\n",
    "print emp_1 # __str__ commented -> Output: Employee ('Ankoor', 'Bhagat', '50000')\n",
    "print emp_2\n",
    "print '----------' * 5\n",
    "\n",
    "# Directly calling special methods\n",
    "print emp_1.__repr__()\n",
    "print emp_1.__str__()"
   ]
  },
  {
   "cell_type": "code",
   "execution_count": 80,
   "metadata": {
    "collapsed": false
   },
   "outputs": [
    {
     "name": "stdout",
     "output_type": "stream",
     "text": [
      "3\n",
      "3\n",
      "--------------------------------------------------\n",
      "ab\n",
      "ab\n"
     ]
    }
   ],
   "source": [
    "# Special methods for arithmetic\n",
    "print 1 + 2\n",
    "print int.__add__(1, 2)\n",
    "print '----------' * 5\n",
    "\n",
    "print 'a' + 'b'\n",
    "print str.__add__('a', 'b')"
   ]
  },
  {
   "cell_type": "code",
   "execution_count": 85,
   "metadata": {
    "collapsed": false
   },
   "outputs": [
    {
     "name": "stdout",
     "output_type": "stream",
     "text": [
      "4\n",
      "4\n"
     ]
    }
   ],
   "source": [
    "# Other method\n",
    "print len('test')\n",
    "print 'test'.__len__()"
   ]
  },
  {
   "cell_type": "markdown",
   "metadata": {},
   "source": [
    "### Customizing how addition works for object by creating `__add__` method"
   ]
  },
  {
   "cell_type": "code",
   "execution_count": 86,
   "metadata": {
    "collapsed": false
   },
   "outputs": [
    {
     "name": "stdout",
     "output_type": "stream",
     "text": [
      "110000\n",
      "13\n"
     ]
    }
   ],
   "source": [
    "# Calculate total salary by adding employees together\n",
    "class Employee:\n",
    "    \n",
    "    # Class Variables\n",
    "    raise_amount = 1.04\n",
    "    \n",
    "    # Creating method within a class: First argument is instance called self\n",
    "    def __init__(self, name, surname, salary):\n",
    "        self.name = name\n",
    "        self.surname = surname\n",
    "        self.email = name.lower() + '@company.com'\n",
    "        self.salary = salary\n",
    "       \n",
    "    # Method to print full name\n",
    "    def fullname(self):\n",
    "        return '{} {}'.format(self.name, self.surname)\n",
    "    \n",
    "    def apply_raise(self):\n",
    "        # Accessing Class Variable from Instance\n",
    "        self.salary = int(self.salary * self.raise_amount)\n",
    "        \n",
    "    # Special method __repr__: unambiguous representation of object \n",
    "    def __repr__(self):\n",
    "        return \"Employee ('{}', '{}', '{}')\".format(self.name, self.surname, self.salary)\n",
    "    \n",
    "    # Special method __str__: Readable representation of object for display\n",
    "    def __str__(self):\n",
    "        return '{} - {}'.format(self.fullname(), self.email)\n",
    "    \n",
    "    # Customizing __add__ method\n",
    "    # Ref: https://docs.python.org/2/reference/datamodel.html#emulating-numeric-types\n",
    "    def __add__(self, other):\n",
    "        return self.salary + other.salary\n",
    "    \n",
    "    # Length of object: __len__ method\n",
    "    def __len__(self):\n",
    "        return len(self.fullname())\n",
    "        \n",
    "# Create instances of Employee class and pass in values\n",
    "emp_1 = Employee('Ankoor', 'Bhagat', 50000)\n",
    "emp_2 = Employee('Priel', 'Schmalbach', 60000)\n",
    "\n",
    "# Total salary by adding employees together\n",
    "print emp_1 + emp_2\n",
    "\n",
    "# Length\n",
    "print len(emp_1)"
   ]
  },
  {
   "cell_type": "markdown",
   "metadata": {},
   "source": [
    "---\n",
    "### 6. Property Decorators: Getters, Setters and Deleters\n",
    "- Property decorators allows us to give our Class attributes: Getter, Setter and Deleters functionality\n",
    "- Property decorator allows us to define a method that we can access like an attribute"
   ]
  },
  {
   "cell_type": "code",
   "execution_count": 90,
   "metadata": {
    "collapsed": false
   },
   "outputs": [
    {
     "name": "stdout",
     "output_type": "stream",
     "text": [
      "Ankoor\n",
      "ankoor@company.com\n",
      "Ankoor Bhagat\n",
      "--------------------------------------------------\n",
      "Priel\n",
      "ankoor@company.com\n",
      "Priel Bhagat\n"
     ]
    }
   ],
   "source": [
    "class Employee:\n",
    "    \n",
    "    # Creating method within a class: First argument is instance called self\n",
    "    def __init__(self, name, surname):\n",
    "        self.name = name\n",
    "        self.surname = surname\n",
    "        self.email = name.lower() + '@company.com'\n",
    "        \n",
    "    # Method to print full name\n",
    "    def fullname(self):\n",
    "        return '{} {}'.format(self.name, self.surname)\n",
    "\n",
    "# Create instances of Employee class and pass in values\n",
    "emp_1 = Employee('Ankoor', 'Bhagat')\n",
    "\n",
    "print emp_1.name\n",
    "print emp_1.email\n",
    "print emp_1.fullname()\n",
    "print '----------' * 5\n",
    "\n",
    "# Update name\n",
    "emp_1.name = 'Priel'\n",
    "\n",
    "print emp_1.name\n",
    "print emp_1.email # Email did not change\n",
    "print emp_1.fullname() # Surname did not change"
   ]
  },
  {
   "cell_type": "code",
   "execution_count": 96,
   "metadata": {
    "collapsed": false
   },
   "outputs": [
    {
     "name": "stdout",
     "output_type": "stream",
     "text": [
      "Ankoor\n",
      "Ankoor@company.com\n",
      "Ankoor Bhagat\n",
      "--------------------------------------------------\n",
      "Priel\n",
      "Priel@company.com\n",
      "Priel Bhagat\n"
     ]
    }
   ],
   "source": [
    "# Property Decorator example\n",
    "class Employee:\n",
    "    \n",
    "    # Creating method within a class: First argument is instance called self\n",
    "    def __init__(self, name, surname):\n",
    "        self.name = name\n",
    "        self.surname = surname\n",
    "        \n",
    "    # Method to print full name\n",
    "    def fullname(self):\n",
    "        return '{} {}'.format(self.name, self.surname)\n",
    "    \n",
    "    # Property decorator\n",
    "    @property\n",
    "    def email(self):\n",
    "        return '{}@company.com'.format(self.name)\n",
    "    \n",
    "    \n",
    "# Create instances of Employee class and pass in values\n",
    "emp_1 = Employee('Ankoor', 'Bhagat')\n",
    "\n",
    "print emp_1.name\n",
    "print emp_1.email # Need to change this to .email()...lot of changes\n",
    "print emp_1.fullname()\n",
    "print '----------' * 5\n",
    "\n",
    "# Update name\n",
    "emp_1.name = 'Priel'\n",
    "\n",
    "print emp_1.name\n",
    "print emp_1.email \n",
    "print emp_1.fullname() # Surname did not change"
   ]
  },
  {
   "cell_type": "code",
   "execution_count": 111,
   "metadata": {
    "collapsed": false
   },
   "outputs": [
    {
     "name": "stdout",
     "output_type": "stream",
     "text": [
      "Ankoor\n",
      "Ankoor@company.com\n",
      "Ankoor Bhagat\n",
      "--------------------------------------------------\n",
      "Priel\n",
      "Priel@company.com\n",
      "Priel Schmalbach\n",
      "--------------------------------------------------\n",
      "Delete name\n",
      "None\n",
      "None@company.com\n",
      "None None\n"
     ]
    }
   ],
   "source": [
    "# Setter: Property Decorator example\n",
    "class Employee(object):\n",
    "    \n",
    "    # Creating method within a class: First argument is instance called self\n",
    "    def __init__(self, name, surname):\n",
    "        self.name = name\n",
    "        self.surname = surname\n",
    "        \n",
    "    # Property decorator - Getter\n",
    "    @property\n",
    "    def email(self):\n",
    "        return '{}@company.com'.format(self.name)\n",
    "        \n",
    "    # Property decorator: Setter and Deleter\n",
    "    @property\n",
    "    def fullname(self):\n",
    "        return '{} {}'.format(self.name, self.surname)\n",
    "    \n",
    "    # Setter \n",
    "    @fullname.setter\n",
    "    def fullname(self, name_str):\n",
    "        name, surname = name_str.split(' ')\n",
    "        self.name = name\n",
    "        self.surname = surname\n",
    "        \n",
    "    # Deleter\n",
    "    @fullname.deleter\n",
    "    def fullname(self):\n",
    "        print 'Delete name'\n",
    "        self.name = None\n",
    "        self.surname = None\n",
    "    \n",
    "    \n",
    "# Create instances of Employee class and pass in values\n",
    "emp_1 = Employee('Ankoor', 'Bhagat')\n",
    "\n",
    "print emp_1.name\n",
    "print emp_1.email # Need to change this to .email()...lot of changes\n",
    "print emp_1.fullname\n",
    "print '----------' * 5\n",
    "\n",
    "# Setter example\n",
    "emp_1.fullname = 'Priel Schmalbach'\n",
    "\n",
    "print emp_1.name\n",
    "print emp_1.email\n",
    "print emp_1.fullname\n",
    "print '----------' * 5\n",
    "\n",
    "# Deleter example\n",
    "del emp_1.fullname\n",
    "\n",
    "print emp_1.name\n",
    "print emp_1.email\n",
    "print emp_1.fullname"
   ]
  },
  {
   "cell_type": "code",
   "execution_count": null,
   "metadata": {
    "collapsed": true
   },
   "outputs": [],
   "source": []
  },
  {
   "cell_type": "markdown",
   "metadata": {
    "collapsed": true
   },
   "source": [
    "## OOP (interactivepython.org)"
   ]
  },
  {
   "cell_type": "code",
   "execution_count": 88,
   "metadata": {
    "collapsed": false
   },
   "outputs": [
    {
     "name": "stdout",
     "output_type": "stream",
     "text": [
      "13/12\n",
      "False\n"
     ]
    }
   ],
   "source": [
    "def gcd(m, n): # Euclid’s Algorithm to find greatest common divisor\n",
    "    while m%n != 0:\n",
    "        old_m = m\n",
    "        old_n = n\n",
    "        m = old_n\n",
    "        n = old_m%old_n\n",
    "    return n\n",
    "\n",
    "class Fraction(object):\n",
    "    \n",
    "    # Constructor: defines the way in which data objects are created\n",
    "    def __init__(self, top, bottom):\n",
    "        self.num = top\n",
    "        self.den = bottom\n",
    "    def __str__(self): \n",
    "        return str(self.num) +'/'+ str(self.den)\n",
    "    def __add__(self, other):\n",
    "        newNum = self.num * other.den + self.den * other.num\n",
    "        newDen = self.den * other.den\n",
    "        common = gcd(newNum, newDen)\n",
    "        return Fraction(newNum//common, newDen//common)\n",
    "    def __eq__(self, other): # __eq__ method compares 2 object and return true if their values are same\n",
    "        firstNum = self.num * other.den\n",
    "        secondNum = other.num * self.den\n",
    "        return firstNum == secondNum\n",
    "\n",
    "f1 = Fraction(30, 90)\n",
    "f2 = Fraction(60, 80)\n",
    "print f1 + f2\n",
    "print f1 == f2"
   ]
  },
  {
   "cell_type": "code",
   "execution_count": null,
   "metadata": {
    "collapsed": true
   },
   "outputs": [],
   "source": []
  }
 ],
 "metadata": {
  "kernelspec": {
   "display_name": "Python 2",
   "language": "python",
   "name": "python2"
  },
  "language_info": {
   "codemirror_mode": {
    "name": "ipython",
    "version": 2
   },
   "file_extension": ".py",
   "mimetype": "text/x-python",
   "name": "python",
   "nbconvert_exporter": "python",
   "pygments_lexer": "ipython2",
   "version": "2.7.12"
  }
 },
 "nbformat": 4,
 "nbformat_minor": 0
}
